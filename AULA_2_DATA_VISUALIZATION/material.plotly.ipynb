{
 "cells": [
  {
   "cell_type": "markdown",
   "metadata": {},
   "source": [
    "# Aula 2 - Visualização de Dados\n",
    "\n",
    "## Autor: Rodrigo Borges\n",
    "## Data: 14/05/2020"
   ]
  },
  {
   "cell_type": "markdown",
   "metadata": {},
   "source": [
    "## Parte 3 - biblioteca Plotly "
   ]
  },
  {
   "cell_type": "markdown",
   "metadata": {},
   "source": [
    "<font color=blue><b> Biblioteca Pandas </b></font><br>\n",
    " https://pandas.pydata.org/docs/\n",
    " \n",
    " https://pandas.pydata.org/pandas-docs/version/0.15/visualization.html"
   ]
  },
  {
   "cell_type": "markdown",
   "metadata": {},
   "source": [
    "<font color=blue><b> Biblioteca Plotly </b></font><br>\n",
    "\n",
    "Biblioteca de front-end para DS e ML\n",
    "https://plotly.com/\n",
    "https://plot.ly\n",
    "\n",
    "\n",
    "Artigo sobre Plotly:\n",
    "https://www.statworx.com/blog/plotly-an-interactive-charting-library/\n",
    "\n",
    "\n",
    "Artigo sobre Visualização de Dados\n",
    "https://www.statworx.com/blog/basic-rules-for-good-looking-slides-and-dashboards/"
   ]
  },
  {
   "cell_type": "markdown",
   "metadata": {},
   "source": [
    "<font color=blue><b> Arquitetura </b></font><br>\n",
    "\n",
    "<img src=\"https://www.statworx.com/wp-content/uploads/plotly-structure-chart-infographik-1024x576.png\" alt=\"Simply Easy Learning\" width=\"800\" height=\"800\">\n",
    "\n"
   ]
  },
  {
   "cell_type": "code",
   "execution_count": 5,
   "metadata": {},
   "outputs": [
    {
     "name": "stdout",
     "output_type": "stream",
     "text": [
      "Collecting cufflinks\n",
      "  Downloading cufflinks-0.17.3.tar.gz (81 kB)\n",
      "\u001b[K     |████████████████████████████████| 81 kB 320 kB/s eta 0:00:01\n",
      "\u001b[?25hRequirement already satisfied: numpy>=1.9.2 in /home/rba/anaconda3/lib/python3.7/site-packages (from cufflinks) (1.18.1)\n",
      "Requirement already satisfied: pandas>=0.19.2 in /home/rba/anaconda3/lib/python3.7/site-packages (from cufflinks) (1.0.1)\n",
      "Requirement already satisfied: plotly>=4.1.1 in /home/rba/anaconda3/lib/python3.7/site-packages (from cufflinks) (4.5.4)\n",
      "Requirement already satisfied: six>=1.9.0 in /home/rba/anaconda3/lib/python3.7/site-packages (from cufflinks) (1.14.0)\n",
      "Collecting colorlover>=0.2.1\n",
      "  Downloading colorlover-0.3.0-py3-none-any.whl (8.9 kB)\n",
      "Requirement already satisfied: setuptools>=34.4.1 in /home/rba/anaconda3/lib/python3.7/site-packages (from cufflinks) (45.2.0.post20200210)\n",
      "Requirement already satisfied: ipython>=5.3.0 in /home/rba/anaconda3/lib/python3.7/site-packages (from cufflinks) (7.12.0)\n",
      "Requirement already satisfied: ipywidgets>=7.0.0 in /home/rba/anaconda3/lib/python3.7/site-packages (from cufflinks) (7.5.1)\n",
      "Requirement already satisfied: python-dateutil>=2.6.1 in /home/rba/anaconda3/lib/python3.7/site-packages (from pandas>=0.19.2->cufflinks) (2.8.1)\n",
      "Requirement already satisfied: pytz>=2017.2 in /home/rba/anaconda3/lib/python3.7/site-packages (from pandas>=0.19.2->cufflinks) (2019.3)\n",
      "Requirement already satisfied: retrying>=1.3.3 in /home/rba/anaconda3/lib/python3.7/site-packages (from plotly>=4.1.1->cufflinks) (1.3.3)\n",
      "Requirement already satisfied: prompt-toolkit!=3.0.0,!=3.0.1,<3.1.0,>=2.0.0 in /home/rba/anaconda3/lib/python3.7/site-packages (from ipython>=5.3.0->cufflinks) (3.0.3)\n",
      "Requirement already satisfied: pickleshare in /home/rba/anaconda3/lib/python3.7/site-packages (from ipython>=5.3.0->cufflinks) (0.7.5)\n",
      "Requirement already satisfied: traitlets>=4.2 in /home/rba/anaconda3/lib/python3.7/site-packages (from ipython>=5.3.0->cufflinks) (4.3.3)\n",
      "Requirement already satisfied: pygments in /home/rba/anaconda3/lib/python3.7/site-packages (from ipython>=5.3.0->cufflinks) (2.5.2)\n",
      "Requirement already satisfied: pexpect; sys_platform != \"win32\" in /home/rba/anaconda3/lib/python3.7/site-packages (from ipython>=5.3.0->cufflinks) (4.8.0)\n",
      "Requirement already satisfied: jedi>=0.10 in /home/rba/anaconda3/lib/python3.7/site-packages (from ipython>=5.3.0->cufflinks) (0.14.1)\n",
      "Requirement already satisfied: backcall in /home/rba/anaconda3/lib/python3.7/site-packages (from ipython>=5.3.0->cufflinks) (0.1.0)\n",
      "Requirement already satisfied: decorator in /home/rba/anaconda3/lib/python3.7/site-packages (from ipython>=5.3.0->cufflinks) (4.4.1)\n",
      "Requirement already satisfied: nbformat>=4.2.0 in /home/rba/anaconda3/lib/python3.7/site-packages (from ipywidgets>=7.0.0->cufflinks) (5.0.4)\n",
      "Requirement already satisfied: widgetsnbextension~=3.5.0 in /home/rba/anaconda3/lib/python3.7/site-packages (from ipywidgets>=7.0.0->cufflinks) (3.5.1)\n",
      "Requirement already satisfied: ipykernel>=4.5.1 in /home/rba/anaconda3/lib/python3.7/site-packages (from ipywidgets>=7.0.0->cufflinks) (5.1.4)\n",
      "Requirement already satisfied: wcwidth in /home/rba/anaconda3/lib/python3.7/site-packages (from prompt-toolkit!=3.0.0,!=3.0.1,<3.1.0,>=2.0.0->ipython>=5.3.0->cufflinks) (0.1.8)\n",
      "Requirement already satisfied: ipython-genutils in /home/rba/anaconda3/lib/python3.7/site-packages (from traitlets>=4.2->ipython>=5.3.0->cufflinks) (0.2.0)\n",
      "Requirement already satisfied: ptyprocess>=0.5 in /home/rba/anaconda3/lib/python3.7/site-packages (from pexpect; sys_platform != \"win32\"->ipython>=5.3.0->cufflinks) (0.6.0)\n",
      "Requirement already satisfied: parso>=0.5.0 in /home/rba/anaconda3/lib/python3.7/site-packages (from jedi>=0.10->ipython>=5.3.0->cufflinks) (0.5.2)\n",
      "Requirement already satisfied: jsonschema!=2.5.0,>=2.4 in /home/rba/anaconda3/lib/python3.7/site-packages (from nbformat>=4.2.0->ipywidgets>=7.0.0->cufflinks) (3.2.0)\n",
      "Requirement already satisfied: jupyter-core in /home/rba/anaconda3/lib/python3.7/site-packages (from nbformat>=4.2.0->ipywidgets>=7.0.0->cufflinks) (4.6.1)\n",
      "Requirement already satisfied: notebook>=4.4.1 in /home/rba/anaconda3/lib/python3.7/site-packages (from widgetsnbextension~=3.5.0->ipywidgets>=7.0.0->cufflinks) (6.0.3)\n",
      "Requirement already satisfied: jupyter-client in /home/rba/anaconda3/lib/python3.7/site-packages (from ipykernel>=4.5.1->ipywidgets>=7.0.0->cufflinks) (5.3.4)\n",
      "Requirement already satisfied: tornado>=4.2 in /home/rba/anaconda3/lib/python3.7/site-packages (from ipykernel>=4.5.1->ipywidgets>=7.0.0->cufflinks) (6.0.3)\n",
      "Requirement already satisfied: pyrsistent>=0.14.0 in /home/rba/anaconda3/lib/python3.7/site-packages (from jsonschema!=2.5.0,>=2.4->nbformat>=4.2.0->ipywidgets>=7.0.0->cufflinks) (0.15.7)\n",
      "Requirement already satisfied: attrs>=17.4.0 in /home/rba/anaconda3/lib/python3.7/site-packages (from jsonschema!=2.5.0,>=2.4->nbformat>=4.2.0->ipywidgets>=7.0.0->cufflinks) (19.3.0)\n",
      "Requirement already satisfied: importlib-metadata; python_version < \"3.8\" in /home/rba/anaconda3/lib/python3.7/site-packages (from jsonschema!=2.5.0,>=2.4->nbformat>=4.2.0->ipywidgets>=7.0.0->cufflinks) (1.5.0)\n",
      "Requirement already satisfied: nbconvert in /home/rba/anaconda3/lib/python3.7/site-packages (from notebook>=4.4.1->widgetsnbextension~=3.5.0->ipywidgets>=7.0.0->cufflinks) (5.6.1)\n",
      "Requirement already satisfied: jinja2 in /home/rba/anaconda3/lib/python3.7/site-packages (from notebook>=4.4.1->widgetsnbextension~=3.5.0->ipywidgets>=7.0.0->cufflinks) (2.11.1)\n",
      "Requirement already satisfied: terminado>=0.8.1 in /home/rba/anaconda3/lib/python3.7/site-packages (from notebook>=4.4.1->widgetsnbextension~=3.5.0->ipywidgets>=7.0.0->cufflinks) (0.8.3)\n",
      "Requirement already satisfied: pyzmq>=17 in /home/rba/anaconda3/lib/python3.7/site-packages (from notebook>=4.4.1->widgetsnbextension~=3.5.0->ipywidgets>=7.0.0->cufflinks) (18.1.1)\n",
      "Requirement already satisfied: Send2Trash in /home/rba/anaconda3/lib/python3.7/site-packages (from notebook>=4.4.1->widgetsnbextension~=3.5.0->ipywidgets>=7.0.0->cufflinks) (1.5.0)\n",
      "Requirement already satisfied: prometheus-client in /home/rba/anaconda3/lib/python3.7/site-packages (from notebook>=4.4.1->widgetsnbextension~=3.5.0->ipywidgets>=7.0.0->cufflinks) (0.7.1)\n",
      "Requirement already satisfied: zipp>=0.5 in /home/rba/anaconda3/lib/python3.7/site-packages (from importlib-metadata; python_version < \"3.8\"->jsonschema!=2.5.0,>=2.4->nbformat>=4.2.0->ipywidgets>=7.0.0->cufflinks) (2.2.0)\n",
      "Requirement already satisfied: defusedxml in /home/rba/anaconda3/lib/python3.7/site-packages (from nbconvert->notebook>=4.4.1->widgetsnbextension~=3.5.0->ipywidgets>=7.0.0->cufflinks) (0.6.0)\n",
      "Requirement already satisfied: entrypoints>=0.2.2 in /home/rba/anaconda3/lib/python3.7/site-packages (from nbconvert->notebook>=4.4.1->widgetsnbextension~=3.5.0->ipywidgets>=7.0.0->cufflinks) (0.3)\n",
      "Requirement already satisfied: bleach in /home/rba/anaconda3/lib/python3.7/site-packages (from nbconvert->notebook>=4.4.1->widgetsnbextension~=3.5.0->ipywidgets>=7.0.0->cufflinks) (3.1.0)\n",
      "Requirement already satisfied: testpath in /home/rba/anaconda3/lib/python3.7/site-packages (from nbconvert->notebook>=4.4.1->widgetsnbextension~=3.5.0->ipywidgets>=7.0.0->cufflinks) (0.4.4)\n",
      "Requirement already satisfied: mistune<2,>=0.8.1 in /home/rba/anaconda3/lib/python3.7/site-packages (from nbconvert->notebook>=4.4.1->widgetsnbextension~=3.5.0->ipywidgets>=7.0.0->cufflinks) (0.8.4)\n",
      "Requirement already satisfied: pandocfilters>=1.4.1 in /home/rba/anaconda3/lib/python3.7/site-packages (from nbconvert->notebook>=4.4.1->widgetsnbextension~=3.5.0->ipywidgets>=7.0.0->cufflinks) (1.4.2)\n",
      "Requirement already satisfied: MarkupSafe>=0.23 in /home/rba/anaconda3/lib/python3.7/site-packages (from jinja2->notebook>=4.4.1->widgetsnbextension~=3.5.0->ipywidgets>=7.0.0->cufflinks) (1.1.1)\n",
      "Requirement already satisfied: webencodings in /home/rba/anaconda3/lib/python3.7/site-packages (from bleach->nbconvert->notebook>=4.4.1->widgetsnbextension~=3.5.0->ipywidgets>=7.0.0->cufflinks) (0.5.1)\n",
      "Building wheels for collected packages: cufflinks\n",
      "  Building wheel for cufflinks (setup.py) ... \u001b[?25ldone\n",
      "\u001b[?25h  Created wheel for cufflinks: filename=cufflinks-0.17.3-py3-none-any.whl size=67921 sha256=32144677fa37fca2765ece44636afe68f691c9a9d4eaed9579e4fa8cae30bf89\n",
      "  Stored in directory: /home/rba/.cache/pip/wheels/e1/27/13/3fe67fa7ea7be444b831d117220b3b586b872c9acd4df480d0\n",
      "Successfully built cufflinks\n"
     ]
    },
    {
     "name": "stdout",
     "output_type": "stream",
     "text": [
      "Installing collected packages: colorlover, cufflinks\n",
      "Successfully installed colorlover-0.3.0 cufflinks-0.17.3\n",
      "Requirement already satisfied: plotly in /home/rba/anaconda3/lib/python3.7/site-packages (4.5.4)\n",
      "Requirement already satisfied: retrying>=1.3.3 in /home/rba/anaconda3/lib/python3.7/site-packages (from plotly) (1.3.3)\n",
      "Requirement already satisfied: six in /home/rba/anaconda3/lib/python3.7/site-packages (from plotly) (1.14.0)\n"
     ]
    }
   ],
   "source": [
    "# instalando o plotly\n",
    "# Cufflinks conecta o pandas ao plot.ly`\n",
    "# Instalação do Plot.ly e Cufflinks`\n",
    "\n",
    "!pip install cufflinks\n",
    "!pip install plotly"
   ]
  },
  {
   "cell_type": "markdown",
   "metadata": {},
   "source": [
    "## Importando o cufflinks e o plot.ly`"
   ]
  },
  {
   "cell_type": "code",
   "execution_count": 1,
   "metadata": {},
   "outputs": [],
   "source": [
    "import cufflinks as cf\n",
    "from plotly.offline import plot, iplot\n",
    "import pandas as pd\n",
    "import numpy as np"
   ]
  },
  {
   "cell_type": "code",
   "execution_count": 2,
   "metadata": {},
   "outputs": [
    {
     "data": {
      "text/html": [
       "<div>\n",
       "<style scoped>\n",
       "    .dataframe tbody tr th:only-of-type {\n",
       "        vertical-align: middle;\n",
       "    }\n",
       "\n",
       "    .dataframe tbody tr th {\n",
       "        vertical-align: top;\n",
       "    }\n",
       "\n",
       "    .dataframe thead th {\n",
       "        text-align: right;\n",
       "    }\n",
       "</style>\n",
       "<table border=\"1\" class=\"dataframe\">\n",
       "  <thead>\n",
       "    <tr style=\"text-align: right;\">\n",
       "      <th></th>\n",
       "      <th>A</th>\n",
       "      <th>B</th>\n",
       "      <th>C</th>\n",
       "      <th>D</th>\n",
       "    </tr>\n",
       "  </thead>\n",
       "  <tbody>\n",
       "    <tr>\n",
       "      <th>0</th>\n",
       "      <td>-1.391551</td>\n",
       "      <td>-1.806314</td>\n",
       "      <td>1.298236</td>\n",
       "      <td>-0.683334</td>\n",
       "    </tr>\n",
       "    <tr>\n",
       "      <th>1</th>\n",
       "      <td>-0.251868</td>\n",
       "      <td>-0.767951</td>\n",
       "      <td>0.154271</td>\n",
       "      <td>-1.186518</td>\n",
       "    </tr>\n",
       "    <tr>\n",
       "      <th>2</th>\n",
       "      <td>0.957923</td>\n",
       "      <td>-0.874292</td>\n",
       "      <td>1.021347</td>\n",
       "      <td>0.744036</td>\n",
       "    </tr>\n",
       "    <tr>\n",
       "      <th>3</th>\n",
       "      <td>0.602927</td>\n",
       "      <td>0.307014</td>\n",
       "      <td>1.232636</td>\n",
       "      <td>-0.472444</td>\n",
       "    </tr>\n",
       "    <tr>\n",
       "      <th>4</th>\n",
       "      <td>0.416449</td>\n",
       "      <td>1.166525</td>\n",
       "      <td>-0.228952</td>\n",
       "      <td>-0.372640</td>\n",
       "    </tr>\n",
       "  </tbody>\n",
       "</table>\n",
       "</div>"
      ],
      "text/plain": [
       "          A         B         C         D\n",
       "0 -1.391551 -1.806314  1.298236 -0.683334\n",
       "1 -0.251868 -0.767951  0.154271 -1.186518\n",
       "2  0.957923 -0.874292  1.021347  0.744036\n",
       "3  0.602927  0.307014  1.232636 -0.472444\n",
       "4  0.416449  1.166525 -0.228952 -0.372640"
      ]
     },
     "execution_count": 2,
     "metadata": {},
     "output_type": "execute_result"
    }
   ],
   "source": [
    "df = pd.DataFrame(np.random.randn(100,4), columns=['A','B','C','D'])\n",
    "df.head()"
   ]
  },
  {
   "cell_type": "code",
   "execution_count": 3,
   "metadata": {},
   "outputs": [
    {
     "data": {
      "text/html": [
       "\n",
       "        <iframe\n",
       "            width=\"100%\"\n",
       "            height=\"525px\"\n",
       "            src=\"https://plotly.com/~rborges11/3.embed\"\n",
       "            frameborder=\"0\"\n",
       "            allowfullscreen\n",
       "        ></iframe>\n",
       "        "
      ],
      "text/plain": [
       "<IPython.lib.display.IFrame at 0x7f433401ef50>"
      ]
     },
     "execution_count": 3,
     "metadata": {},
     "output_type": "execute_result"
    }
   ],
   "source": [
    "df.iplot()"
   ]
  },
  {
   "cell_type": "code",
   "execution_count": 4,
   "metadata": {},
   "outputs": [
    {
     "data": {
      "text/html": [
       "        <script type=\"text/javascript\">\n",
       "        window.PlotlyConfig = {MathJaxConfig: 'local'};\n",
       "        if (window.MathJax) {MathJax.Hub.Config({SVG: {font: \"STIX-Web\"}});}\n",
       "        if (typeof require !== 'undefined') {\n",
       "        require.undef(\"plotly\");\n",
       "        requirejs.config({\n",
       "            paths: {\n",
       "                'plotly': ['https://cdn.plot.ly/plotly-latest.min']\n",
       "            }\n",
       "        });\n",
       "        require(['plotly'], function(Plotly) {\n",
       "            window._Plotly = Plotly;\n",
       "        });\n",
       "        }\n",
       "        </script>\n",
       "        "
      ]
     },
     "metadata": {},
     "output_type": "display_data"
    }
   ],
   "source": [
    "cf.go_offline()"
   ]
  },
  {
   "cell_type": "code",
   "execution_count": 5,
   "metadata": {},
   "outputs": [
    {
     "data": {
      "application/vnd.plotly.v1+json": {
       "config": {
        "linkText": "Export to plotly.com",
        "plotlyServerURL": "https://plotly.com",
        "showLink": true
       },
       "data": [
        {
         "line": {
          "color": "rgba(255, 153, 51, 1.0)",
          "dash": "solid",
          "shape": "linear",
          "width": 1.3
         },
         "mode": "lines",
         "name": "A",
         "text": "",
         "type": "scatter",
         "x": [
          0,
          1,
          2,
          3,
          4,
          5,
          6,
          7,
          8,
          9,
          10,
          11,
          12,
          13,
          14,
          15,
          16,
          17,
          18,
          19,
          20,
          21,
          22,
          23,
          24,
          25,
          26,
          27,
          28,
          29,
          30,
          31,
          32,
          33,
          34,
          35,
          36,
          37,
          38,
          39,
          40,
          41,
          42,
          43,
          44,
          45,
          46,
          47,
          48,
          49,
          50,
          51,
          52,
          53,
          54,
          55,
          56,
          57,
          58,
          59,
          60,
          61,
          62,
          63,
          64,
          65,
          66,
          67,
          68,
          69,
          70,
          71,
          72,
          73,
          74,
          75,
          76,
          77,
          78,
          79,
          80,
          81,
          82,
          83,
          84,
          85,
          86,
          87,
          88,
          89,
          90,
          91,
          92,
          93,
          94,
          95,
          96,
          97,
          98,
          99
         ],
         "y": [
          -1.3915514466454946,
          -0.25186847805576157,
          0.9579228727741338,
          0.6029271487268496,
          0.416448674464561,
          0.34063531233394767,
          -0.08459004387470692,
          0.713619317860425,
          1.7908137198587653,
          -0.07774446546417446,
          0.7818861612515148,
          -0.08045802462218049,
          -1.3925376997334935,
          -0.25889123457565444,
          -1.2380068464047667,
          -1.6796053268216884,
          1.1389527186859345,
          -2.15319053603754,
          0.24225207650860273,
          0.5323379650228895,
          -0.2096440229785707,
          0.21953657917641956,
          -1.0938795941576012,
          -0.10577547603312083,
          0.6384250404551687,
          -0.2721945316885118,
          3.265738204544427,
          0.3766017189657574,
          0.33886279379065204,
          1.2190050065519333,
          0.3104100087786091,
          0.26952115201931115,
          -2.3923810892739246,
          0.8770803830120577,
          0.6561754993661268,
          -1.2310665672205874,
          -1.1856641101789074,
          0.41805322561991626,
          -0.9247175847838351,
          0.23277995300774626,
          0.4067275700600627,
          -1.428613771269792,
          1.4839020736203505,
          0.7633645943548794,
          2.7756705575375586,
          -0.46463372800975183,
          0.004306649259857492,
          0.9645256070376517,
          -0.005185290726101883,
          2.6020206278107167,
          -0.885626602219863,
          1.3517771551572877,
          1.4041522296440263,
          -0.37747456790116,
          0.15412506809685084,
          -1.3868854662382721,
          0.6433483582256894,
          0.9983683388092811,
          -0.12169074845217757,
          -2.1176310033064594,
          -0.06264728472444926,
          -1.0150462339749775,
          0.7360528445825723,
          0.5333439301874713,
          0.35198578229550376,
          0.6072697451499537,
          -2.124423431145739,
          0.45861870101295915,
          0.3901706387730426,
          0.9359092339197448,
          -0.1480147716292342,
          -0.4323566165303779,
          0.7653655916578783,
          -0.19732640194278503,
          -0.1465413420198137,
          0.7142610412011294,
          1.1418243316888386,
          -0.3253132381128121,
          1.5515260657660772,
          0.309161311286864,
          -0.8358998861552829,
          1.3655510433969495,
          0.0632015316988487,
          -0.016827268343440532,
          0.7506720191468409,
          -0.5595071040238351,
          -0.6947205233455448,
          1.142499758085739,
          -2.147256982261882,
          -1.02211137709033,
          0.4065176710241965,
          0.5728619428353131,
          -0.2066640210509487,
          -0.9245155918409756,
          0.19822024602242874,
          1.4207896192934248,
          -1.67439132302367,
          0.8101476190574366,
          1.1438891096596677,
          -0.24724589169943464
         ]
        },
        {
         "line": {
          "color": "rgba(55, 128, 191, 1.0)",
          "dash": "solid",
          "shape": "linear",
          "width": 1.3
         },
         "mode": "lines",
         "name": "B",
         "text": "",
         "type": "scatter",
         "x": [
          0,
          1,
          2,
          3,
          4,
          5,
          6,
          7,
          8,
          9,
          10,
          11,
          12,
          13,
          14,
          15,
          16,
          17,
          18,
          19,
          20,
          21,
          22,
          23,
          24,
          25,
          26,
          27,
          28,
          29,
          30,
          31,
          32,
          33,
          34,
          35,
          36,
          37,
          38,
          39,
          40,
          41,
          42,
          43,
          44,
          45,
          46,
          47,
          48,
          49,
          50,
          51,
          52,
          53,
          54,
          55,
          56,
          57,
          58,
          59,
          60,
          61,
          62,
          63,
          64,
          65,
          66,
          67,
          68,
          69,
          70,
          71,
          72,
          73,
          74,
          75,
          76,
          77,
          78,
          79,
          80,
          81,
          82,
          83,
          84,
          85,
          86,
          87,
          88,
          89,
          90,
          91,
          92,
          93,
          94,
          95,
          96,
          97,
          98,
          99
         ],
         "y": [
          -1.8063135150409384,
          -0.7679513004948498,
          -0.8742919766403517,
          0.3070143950458193,
          1.1665253316654558,
          -0.2262683166260905,
          -0.4917852269151437,
          -0.08073729843021035,
          2.8334375843659645,
          1.1532207799473548,
          -0.03814254313590681,
          -0.10568906458824325,
          -0.31317568710161725,
          0.999191108558023,
          0.8385632979585733,
          0.41534933039874006,
          0.8797805528306242,
          -1.2497080083648895,
          -1.7911041602373101,
          0.7630643074653287,
          2.5892130854872626,
          -0.5439208326964506,
          -1.3750796123608928,
          -1.729704664812876,
          0.5578288145910832,
          1.0036536830512153,
          -0.1714020047363067,
          -0.19405615495300366,
          0.6919399765482697,
          0.9695804954012914,
          1.350663420111455,
          -1.240062693169029,
          -1.348240459508053,
          1.4623370752557971,
          -0.48168927519920546,
          0.39784876136248515,
          -0.9024576145690437,
          -0.6935679814885369,
          -0.3761127379085823,
          -0.36623141625460714,
          -0.2451594279515256,
          0.026402940006598093,
          -0.32046021467091446,
          1.1112009255824087,
          0.2187696308981625,
          -2.505044161953846,
          -0.6162072553432347,
          -0.015565844051689669,
          1.7854810856777485,
          0.3541192142490893,
          0.5263691204633134,
          1.3994577056620974,
          -1.3428712151096527,
          1.1255059881410612,
          0.9500501528505452,
          0.23415698180013855,
          0.15335525171261927,
          -0.052071479834325515,
          -1.4232941345045214,
          0.7132256996685288,
          0.5489697164118927,
          -0.5726168408446426,
          0.4621316906319872,
          2.0945996369123625,
          -0.6293460980779058,
          1.0075453751062597,
          0.10083326030721385,
          -2.2013485061886473,
          -0.3898105142975688,
          -1.0896725401553105,
          -1.8597732189447154,
          0.3905174313184132,
          -0.3104515621834238,
          0.8040065537583236,
          -1.0797745253519242,
          0.8367161653986137,
          -1.2674111303051174,
          -0.6763387257899182,
          -1.092639906945907,
          1.0449811622012086,
          1.8517700485195743,
          -0.13757886943215655,
          0.7259595503006789,
          -0.9096144399987279,
          0.6074501093482007,
          -0.7191397729519661,
          1.907848397028853,
          -0.8418897038835749,
          0.06575111015677335,
          -2.0389882885122126,
          -1.53917556051178,
          0.9015627864510748,
          0.09360031995000555,
          0.10739423129650766,
          0.6419278156297985,
          -0.23432958246422325,
          0.1178203071042369,
          -0.9005807904385831,
          1.2181737505496018,
          -0.5324878800398267
         ]
        },
        {
         "line": {
          "color": "rgba(50, 171, 96, 1.0)",
          "dash": "solid",
          "shape": "linear",
          "width": 1.3
         },
         "mode": "lines",
         "name": "C",
         "text": "",
         "type": "scatter",
         "x": [
          0,
          1,
          2,
          3,
          4,
          5,
          6,
          7,
          8,
          9,
          10,
          11,
          12,
          13,
          14,
          15,
          16,
          17,
          18,
          19,
          20,
          21,
          22,
          23,
          24,
          25,
          26,
          27,
          28,
          29,
          30,
          31,
          32,
          33,
          34,
          35,
          36,
          37,
          38,
          39,
          40,
          41,
          42,
          43,
          44,
          45,
          46,
          47,
          48,
          49,
          50,
          51,
          52,
          53,
          54,
          55,
          56,
          57,
          58,
          59,
          60,
          61,
          62,
          63,
          64,
          65,
          66,
          67,
          68,
          69,
          70,
          71,
          72,
          73,
          74,
          75,
          76,
          77,
          78,
          79,
          80,
          81,
          82,
          83,
          84,
          85,
          86,
          87,
          88,
          89,
          90,
          91,
          92,
          93,
          94,
          95,
          96,
          97,
          98,
          99
         ],
         "y": [
          1.2982356591642445,
          0.15427115901690341,
          1.0213467155156255,
          1.232635888537672,
          -0.22895222538532137,
          1.954511785901398,
          -0.3942545853071218,
          -0.8092251193718866,
          -0.12322104508539473,
          1.2286788093130638,
          0.3874343994934357,
          -2.2953744065269643,
          2.017388879406804,
          1.1193266759672091,
          -0.2746008943626236,
          -0.8065314918764688,
          0.972762641451173,
          0.5074579567461822,
          1.0118902717327247,
          0.401509381385972,
          0.0639114665073889,
          -1.8663631190800596,
          0.1387441893866892,
          0.1428873542876622,
          0.47682850878052335,
          -0.36571985711014215,
          -1.5460929902125424,
          0.5198596011344117,
          -1.6173676235504222,
          -1.4356016266184148,
          -0.07050502844673512,
          0.5575637873458781,
          -2.1652567182684646,
          0.5870162986735613,
          -0.8773663572243663,
          -0.6858001901123327,
          2.7969800829027123,
          -0.5458885428916942,
          1.1181997296247015,
          -0.11673408876087886,
          0.6404059497492122,
          -1.728413741794743,
          0.3983029336729583,
          -0.7246637943231838,
          -0.8739988801359196,
          -0.8953673781193359,
          1.0188898265321207,
          0.17867461627604825,
          -0.7954294822668724,
          0.4636630050156447,
          -0.6784390426197163,
          0.15119517232480975,
          0.24758404252618696,
          0.4332548808024751,
          -0.573257381134931,
          -0.543358203976377,
          1.1269166836129816,
          -0.23872781757691822,
          -1.3099931941537102,
          -1.0582198694901048,
          -0.4262076857305047,
          1.423853630818953,
          -0.36089078387376755,
          -2.154339180537667,
          2.476822997091817,
          0.32141164193151145,
          1.7050486382039032,
          -0.504611966141616,
          -1.397522139381618,
          0.8479678308837004,
          -0.8297755982819625,
          1.0577651562083943,
          -0.9101582376316869,
          -0.0029074583485230563,
          0.2608575614760658,
          -0.7803371558458617,
          -2.145391997779593,
          -0.7063161942876157,
          0.16239921321512515,
          -0.07683075830387348,
          1.0607037175653777,
          0.9544867857313885,
          -0.11793678009979827,
          0.2102582181812343,
          -0.8387898266596429,
          -0.4206283693985038,
          -0.8152428246157843,
          -0.7276697598353788,
          -1.1329929330756752,
          -1.4466041035213315,
          -0.9848748287647158,
          0.1180319292781396,
          -0.8776375086870779,
          -1.2821605470681214,
          0.24414266199380305,
          0.8141424501001563,
          -0.2765616564967207,
          0.47783868175145766,
          -0.9965387453155009,
          -0.09458406917183024
         ]
        },
        {
         "line": {
          "color": "rgba(128, 0, 128, 1.0)",
          "dash": "solid",
          "shape": "linear",
          "width": 1.3
         },
         "mode": "lines",
         "name": "D",
         "text": "",
         "type": "scatter",
         "x": [
          0,
          1,
          2,
          3,
          4,
          5,
          6,
          7,
          8,
          9,
          10,
          11,
          12,
          13,
          14,
          15,
          16,
          17,
          18,
          19,
          20,
          21,
          22,
          23,
          24,
          25,
          26,
          27,
          28,
          29,
          30,
          31,
          32,
          33,
          34,
          35,
          36,
          37,
          38,
          39,
          40,
          41,
          42,
          43,
          44,
          45,
          46,
          47,
          48,
          49,
          50,
          51,
          52,
          53,
          54,
          55,
          56,
          57,
          58,
          59,
          60,
          61,
          62,
          63,
          64,
          65,
          66,
          67,
          68,
          69,
          70,
          71,
          72,
          73,
          74,
          75,
          76,
          77,
          78,
          79,
          80,
          81,
          82,
          83,
          84,
          85,
          86,
          87,
          88,
          89,
          90,
          91,
          92,
          93,
          94,
          95,
          96,
          97,
          98,
          99
         ],
         "y": [
          -0.6833341122857621,
          -1.186518198081401,
          0.7440360616704014,
          -0.4724438209696136,
          -0.3726398238770978,
          0.04117066612790381,
          -0.12165221701464178,
          -0.3582447039742966,
          -0.9614060037617944,
          0.738115872324706,
          -0.08819366108400076,
          1.223355545014585,
          1.4230621728241735,
          -0.0713488500790235,
          -0.37552458341578615,
          1.4051767793554675,
          1.5048150109432545,
          1.1539930776722223,
          0.37183774749061793,
          1.2137171768818364,
          0.2647832955019624,
          0.08301689949870196,
          -0.08352492211042305,
          0.17603067516678184,
          1.3426263722935805,
          1.4710969763164121,
          0.3723008765493016,
          0.8302101906900898,
          0.4293110699434798,
          -1.7014499397610496,
          -0.7462107273631216,
          -0.062418203425431834,
          -0.4521898440150753,
          1.0374670134271229,
          -0.03827027493552959,
          2.627813687110325,
          0.6891056995922998,
          0.9496908564080698,
          -0.5173382461484048,
          -1.7998833834458434,
          -0.3058413154285717,
          -1.2147511852081776,
          -1.005887489678001,
          -0.30709897227715727,
          0.37256104976328275,
          0.12874701718905396,
          0.40465242152470143,
          1.1456196270354793,
          -0.9876226453689538,
          -0.32062717671141766,
          -0.4477698824738656,
          0.37035700057779575,
          -0.6728757045446571,
          0.13727837951958757,
          -0.8365857241976379,
          -0.862833170927694,
          -0.2321665491113636,
          -0.3096342804538494,
          0.8796768280896852,
          -0.1138722149396076,
          0.26259767826855795,
          -0.1723152186005268,
          0.10650986454691985,
          -0.674854272338543,
          0.607077893069324,
          1.077104763029846,
          0.306009787291824,
          1.6189631446653476,
          0.18641228222526587,
          0.1002952216652406,
          0.35384730130886494,
          -0.5592970923758837,
          1.6810924067739625,
          -0.22801226336023897,
          -0.007212983814382795,
          -0.8884243908142498,
          0.007373212437131988,
          -1.4994425212206395,
          0.2858613226319799,
          0.7723744957643544,
          0.006207666093432797,
          -0.9831130172701907,
          0.5668305156554925,
          1.6039775473847573,
          1.3707010942956015,
          0.43850866148625123,
          1.0295632712010863,
          0.4628062783971533,
          -0.09196565989581211,
          0.10106709283112156,
          -0.25825437843646293,
          1.311841406736645,
          -0.04561607748831737,
          0.9986168276634753,
          -1.1692664545784839,
          2.0607261167534308,
          -0.03489069796686348,
          -0.9817027574319807,
          -1.828275897713146,
          -0.13307937775464979
         ]
        }
       ],
       "layout": {
        "legend": {
         "bgcolor": "#F5F6F9",
         "font": {
          "color": "#4D5663"
         }
        },
        "paper_bgcolor": "#F5F6F9",
        "plot_bgcolor": "#F5F6F9",
        "template": {
         "data": {
          "bar": [
           {
            "error_x": {
             "color": "#2a3f5f"
            },
            "error_y": {
             "color": "#2a3f5f"
            },
            "marker": {
             "line": {
              "color": "#E5ECF6",
              "width": 0.5
             }
            },
            "type": "bar"
           }
          ],
          "barpolar": [
           {
            "marker": {
             "line": {
              "color": "#E5ECF6",
              "width": 0.5
             }
            },
            "type": "barpolar"
           }
          ],
          "carpet": [
           {
            "aaxis": {
             "endlinecolor": "#2a3f5f",
             "gridcolor": "white",
             "linecolor": "white",
             "minorgridcolor": "white",
             "startlinecolor": "#2a3f5f"
            },
            "baxis": {
             "endlinecolor": "#2a3f5f",
             "gridcolor": "white",
             "linecolor": "white",
             "minorgridcolor": "white",
             "startlinecolor": "#2a3f5f"
            },
            "type": "carpet"
           }
          ],
          "choropleth": [
           {
            "colorbar": {
             "outlinewidth": 0,
             "ticks": ""
            },
            "type": "choropleth"
           }
          ],
          "contour": [
           {
            "colorbar": {
             "outlinewidth": 0,
             "ticks": ""
            },
            "colorscale": [
             [
              0,
              "#0d0887"
             ],
             [
              0.1111111111111111,
              "#46039f"
             ],
             [
              0.2222222222222222,
              "#7201a8"
             ],
             [
              0.3333333333333333,
              "#9c179e"
             ],
             [
              0.4444444444444444,
              "#bd3786"
             ],
             [
              0.5555555555555556,
              "#d8576b"
             ],
             [
              0.6666666666666666,
              "#ed7953"
             ],
             [
              0.7777777777777778,
              "#fb9f3a"
             ],
             [
              0.8888888888888888,
              "#fdca26"
             ],
             [
              1,
              "#f0f921"
             ]
            ],
            "type": "contour"
           }
          ],
          "contourcarpet": [
           {
            "colorbar": {
             "outlinewidth": 0,
             "ticks": ""
            },
            "type": "contourcarpet"
           }
          ],
          "heatmap": [
           {
            "colorbar": {
             "outlinewidth": 0,
             "ticks": ""
            },
            "colorscale": [
             [
              0,
              "#0d0887"
             ],
             [
              0.1111111111111111,
              "#46039f"
             ],
             [
              0.2222222222222222,
              "#7201a8"
             ],
             [
              0.3333333333333333,
              "#9c179e"
             ],
             [
              0.4444444444444444,
              "#bd3786"
             ],
             [
              0.5555555555555556,
              "#d8576b"
             ],
             [
              0.6666666666666666,
              "#ed7953"
             ],
             [
              0.7777777777777778,
              "#fb9f3a"
             ],
             [
              0.8888888888888888,
              "#fdca26"
             ],
             [
              1,
              "#f0f921"
             ]
            ],
            "type": "heatmap"
           }
          ],
          "heatmapgl": [
           {
            "colorbar": {
             "outlinewidth": 0,
             "ticks": ""
            },
            "colorscale": [
             [
              0,
              "#0d0887"
             ],
             [
              0.1111111111111111,
              "#46039f"
             ],
             [
              0.2222222222222222,
              "#7201a8"
             ],
             [
              0.3333333333333333,
              "#9c179e"
             ],
             [
              0.4444444444444444,
              "#bd3786"
             ],
             [
              0.5555555555555556,
              "#d8576b"
             ],
             [
              0.6666666666666666,
              "#ed7953"
             ],
             [
              0.7777777777777778,
              "#fb9f3a"
             ],
             [
              0.8888888888888888,
              "#fdca26"
             ],
             [
              1,
              "#f0f921"
             ]
            ],
            "type": "heatmapgl"
           }
          ],
          "histogram": [
           {
            "marker": {
             "colorbar": {
              "outlinewidth": 0,
              "ticks": ""
             }
            },
            "type": "histogram"
           }
          ],
          "histogram2d": [
           {
            "colorbar": {
             "outlinewidth": 0,
             "ticks": ""
            },
            "colorscale": [
             [
              0,
              "#0d0887"
             ],
             [
              0.1111111111111111,
              "#46039f"
             ],
             [
              0.2222222222222222,
              "#7201a8"
             ],
             [
              0.3333333333333333,
              "#9c179e"
             ],
             [
              0.4444444444444444,
              "#bd3786"
             ],
             [
              0.5555555555555556,
              "#d8576b"
             ],
             [
              0.6666666666666666,
              "#ed7953"
             ],
             [
              0.7777777777777778,
              "#fb9f3a"
             ],
             [
              0.8888888888888888,
              "#fdca26"
             ],
             [
              1,
              "#f0f921"
             ]
            ],
            "type": "histogram2d"
           }
          ],
          "histogram2dcontour": [
           {
            "colorbar": {
             "outlinewidth": 0,
             "ticks": ""
            },
            "colorscale": [
             [
              0,
              "#0d0887"
             ],
             [
              0.1111111111111111,
              "#46039f"
             ],
             [
              0.2222222222222222,
              "#7201a8"
             ],
             [
              0.3333333333333333,
              "#9c179e"
             ],
             [
              0.4444444444444444,
              "#bd3786"
             ],
             [
              0.5555555555555556,
              "#d8576b"
             ],
             [
              0.6666666666666666,
              "#ed7953"
             ],
             [
              0.7777777777777778,
              "#fb9f3a"
             ],
             [
              0.8888888888888888,
              "#fdca26"
             ],
             [
              1,
              "#f0f921"
             ]
            ],
            "type": "histogram2dcontour"
           }
          ],
          "mesh3d": [
           {
            "colorbar": {
             "outlinewidth": 0,
             "ticks": ""
            },
            "type": "mesh3d"
           }
          ],
          "parcoords": [
           {
            "line": {
             "colorbar": {
              "outlinewidth": 0,
              "ticks": ""
             }
            },
            "type": "parcoords"
           }
          ],
          "pie": [
           {
            "automargin": true,
            "type": "pie"
           }
          ],
          "scatter": [
           {
            "marker": {
             "colorbar": {
              "outlinewidth": 0,
              "ticks": ""
             }
            },
            "type": "scatter"
           }
          ],
          "scatter3d": [
           {
            "line": {
             "colorbar": {
              "outlinewidth": 0,
              "ticks": ""
             }
            },
            "marker": {
             "colorbar": {
              "outlinewidth": 0,
              "ticks": ""
             }
            },
            "type": "scatter3d"
           }
          ],
          "scattercarpet": [
           {
            "marker": {
             "colorbar": {
              "outlinewidth": 0,
              "ticks": ""
             }
            },
            "type": "scattercarpet"
           }
          ],
          "scattergeo": [
           {
            "marker": {
             "colorbar": {
              "outlinewidth": 0,
              "ticks": ""
             }
            },
            "type": "scattergeo"
           }
          ],
          "scattergl": [
           {
            "marker": {
             "colorbar": {
              "outlinewidth": 0,
              "ticks": ""
             }
            },
            "type": "scattergl"
           }
          ],
          "scattermapbox": [
           {
            "marker": {
             "colorbar": {
              "outlinewidth": 0,
              "ticks": ""
             }
            },
            "type": "scattermapbox"
           }
          ],
          "scatterpolar": [
           {
            "marker": {
             "colorbar": {
              "outlinewidth": 0,
              "ticks": ""
             }
            },
            "type": "scatterpolar"
           }
          ],
          "scatterpolargl": [
           {
            "marker": {
             "colorbar": {
              "outlinewidth": 0,
              "ticks": ""
             }
            },
            "type": "scatterpolargl"
           }
          ],
          "scatterternary": [
           {
            "marker": {
             "colorbar": {
              "outlinewidth": 0,
              "ticks": ""
             }
            },
            "type": "scatterternary"
           }
          ],
          "surface": [
           {
            "colorbar": {
             "outlinewidth": 0,
             "ticks": ""
            },
            "colorscale": [
             [
              0,
              "#0d0887"
             ],
             [
              0.1111111111111111,
              "#46039f"
             ],
             [
              0.2222222222222222,
              "#7201a8"
             ],
             [
              0.3333333333333333,
              "#9c179e"
             ],
             [
              0.4444444444444444,
              "#bd3786"
             ],
             [
              0.5555555555555556,
              "#d8576b"
             ],
             [
              0.6666666666666666,
              "#ed7953"
             ],
             [
              0.7777777777777778,
              "#fb9f3a"
             ],
             [
              0.8888888888888888,
              "#fdca26"
             ],
             [
              1,
              "#f0f921"
             ]
            ],
            "type": "surface"
           }
          ],
          "table": [
           {
            "cells": {
             "fill": {
              "color": "#EBF0F8"
             },
             "line": {
              "color": "white"
             }
            },
            "header": {
             "fill": {
              "color": "#C8D4E3"
             },
             "line": {
              "color": "white"
             }
            },
            "type": "table"
           }
          ]
         },
         "layout": {
          "annotationdefaults": {
           "arrowcolor": "#2a3f5f",
           "arrowhead": 0,
           "arrowwidth": 1
          },
          "coloraxis": {
           "colorbar": {
            "outlinewidth": 0,
            "ticks": ""
           }
          },
          "colorscale": {
           "diverging": [
            [
             0,
             "#8e0152"
            ],
            [
             0.1,
             "#c51b7d"
            ],
            [
             0.2,
             "#de77ae"
            ],
            [
             0.3,
             "#f1b6da"
            ],
            [
             0.4,
             "#fde0ef"
            ],
            [
             0.5,
             "#f7f7f7"
            ],
            [
             0.6,
             "#e6f5d0"
            ],
            [
             0.7,
             "#b8e186"
            ],
            [
             0.8,
             "#7fbc41"
            ],
            [
             0.9,
             "#4d9221"
            ],
            [
             1,
             "#276419"
            ]
           ],
           "sequential": [
            [
             0,
             "#0d0887"
            ],
            [
             0.1111111111111111,
             "#46039f"
            ],
            [
             0.2222222222222222,
             "#7201a8"
            ],
            [
             0.3333333333333333,
             "#9c179e"
            ],
            [
             0.4444444444444444,
             "#bd3786"
            ],
            [
             0.5555555555555556,
             "#d8576b"
            ],
            [
             0.6666666666666666,
             "#ed7953"
            ],
            [
             0.7777777777777778,
             "#fb9f3a"
            ],
            [
             0.8888888888888888,
             "#fdca26"
            ],
            [
             1,
             "#f0f921"
            ]
           ],
           "sequentialminus": [
            [
             0,
             "#0d0887"
            ],
            [
             0.1111111111111111,
             "#46039f"
            ],
            [
             0.2222222222222222,
             "#7201a8"
            ],
            [
             0.3333333333333333,
             "#9c179e"
            ],
            [
             0.4444444444444444,
             "#bd3786"
            ],
            [
             0.5555555555555556,
             "#d8576b"
            ],
            [
             0.6666666666666666,
             "#ed7953"
            ],
            [
             0.7777777777777778,
             "#fb9f3a"
            ],
            [
             0.8888888888888888,
             "#fdca26"
            ],
            [
             1,
             "#f0f921"
            ]
           ]
          },
          "colorway": [
           "#636efa",
           "#EF553B",
           "#00cc96",
           "#ab63fa",
           "#FFA15A",
           "#19d3f3",
           "#FF6692",
           "#B6E880",
           "#FF97FF",
           "#FECB52"
          ],
          "font": {
           "color": "#2a3f5f"
          },
          "geo": {
           "bgcolor": "white",
           "lakecolor": "white",
           "landcolor": "#E5ECF6",
           "showlakes": true,
           "showland": true,
           "subunitcolor": "white"
          },
          "hoverlabel": {
           "align": "left"
          },
          "hovermode": "closest",
          "mapbox": {
           "style": "light"
          },
          "paper_bgcolor": "white",
          "plot_bgcolor": "#E5ECF6",
          "polar": {
           "angularaxis": {
            "gridcolor": "white",
            "linecolor": "white",
            "ticks": ""
           },
           "bgcolor": "#E5ECF6",
           "radialaxis": {
            "gridcolor": "white",
            "linecolor": "white",
            "ticks": ""
           }
          },
          "scene": {
           "xaxis": {
            "backgroundcolor": "#E5ECF6",
            "gridcolor": "white",
            "gridwidth": 2,
            "linecolor": "white",
            "showbackground": true,
            "ticks": "",
            "zerolinecolor": "white"
           },
           "yaxis": {
            "backgroundcolor": "#E5ECF6",
            "gridcolor": "white",
            "gridwidth": 2,
            "linecolor": "white",
            "showbackground": true,
            "ticks": "",
            "zerolinecolor": "white"
           },
           "zaxis": {
            "backgroundcolor": "#E5ECF6",
            "gridcolor": "white",
            "gridwidth": 2,
            "linecolor": "white",
            "showbackground": true,
            "ticks": "",
            "zerolinecolor": "white"
           }
          },
          "shapedefaults": {
           "line": {
            "color": "#2a3f5f"
           }
          },
          "ternary": {
           "aaxis": {
            "gridcolor": "white",
            "linecolor": "white",
            "ticks": ""
           },
           "baxis": {
            "gridcolor": "white",
            "linecolor": "white",
            "ticks": ""
           },
           "bgcolor": "#E5ECF6",
           "caxis": {
            "gridcolor": "white",
            "linecolor": "white",
            "ticks": ""
           }
          },
          "title": {
           "x": 0.05
          },
          "xaxis": {
           "automargin": true,
           "gridcolor": "white",
           "linecolor": "white",
           "ticks": "",
           "title": {
            "standoff": 15
           },
           "zerolinecolor": "white",
           "zerolinewidth": 2
          },
          "yaxis": {
           "automargin": true,
           "gridcolor": "white",
           "linecolor": "white",
           "ticks": "",
           "title": {
            "standoff": 15
           },
           "zerolinecolor": "white",
           "zerolinewidth": 2
          }
         }
        },
        "title": {
         "font": {
          "color": "#4D5663"
         }
        },
        "xaxis": {
         "gridcolor": "#E1E5ED",
         "showgrid": true,
         "tickfont": {
          "color": "#4D5663"
         },
         "title": {
          "font": {
           "color": "#4D5663"
          },
          "text": ""
         },
         "zerolinecolor": "#E1E5ED"
        },
        "yaxis": {
         "gridcolor": "#E1E5ED",
         "showgrid": true,
         "tickfont": {
          "color": "#4D5663"
         },
         "title": {
          "font": {
           "color": "#4D5663"
          },
          "text": ""
         },
         "zerolinecolor": "#E1E5ED"
        }
       }
      },
      "text/html": [
       "<div>\n",
       "        \n",
       "        \n",
       "            <div id=\"67d21da6-70bd-45b3-8079-27d1a13351c1\" class=\"plotly-graph-div\" style=\"height:525px; width:100%;\"></div>\n",
       "            <script type=\"text/javascript\">\n",
       "                require([\"plotly\"], function(Plotly) {\n",
       "                    window.PLOTLYENV=window.PLOTLYENV || {};\n",
       "                    window.PLOTLYENV.BASE_URL='https://plotly.com';\n",
       "                    \n",
       "                if (document.getElementById(\"67d21da6-70bd-45b3-8079-27d1a13351c1\")) {\n",
       "                    Plotly.newPlot(\n",
       "                        '67d21da6-70bd-45b3-8079-27d1a13351c1',\n",
       "                        [{\"line\": {\"color\": \"rgba(255, 153, 51, 1.0)\", \"dash\": \"solid\", \"shape\": \"linear\", \"width\": 1.3}, \"mode\": \"lines\", \"name\": \"A\", \"text\": \"\", \"type\": \"scatter\", \"x\": [0, 1, 2, 3, 4, 5, 6, 7, 8, 9, 10, 11, 12, 13, 14, 15, 16, 17, 18, 19, 20, 21, 22, 23, 24, 25, 26, 27, 28, 29, 30, 31, 32, 33, 34, 35, 36, 37, 38, 39, 40, 41, 42, 43, 44, 45, 46, 47, 48, 49, 50, 51, 52, 53, 54, 55, 56, 57, 58, 59, 60, 61, 62, 63, 64, 65, 66, 67, 68, 69, 70, 71, 72, 73, 74, 75, 76, 77, 78, 79, 80, 81, 82, 83, 84, 85, 86, 87, 88, 89, 90, 91, 92, 93, 94, 95, 96, 97, 98, 99], \"y\": [-1.3915514466454946, -0.25186847805576157, 0.9579228727741338, 0.6029271487268496, 0.416448674464561, 0.34063531233394767, -0.08459004387470692, 0.713619317860425, 1.7908137198587653, -0.07774446546417446, 0.7818861612515148, -0.08045802462218049, -1.3925376997334935, -0.25889123457565444, -1.2380068464047667, -1.6796053268216884, 1.1389527186859345, -2.15319053603754, 0.24225207650860273, 0.5323379650228895, -0.2096440229785707, 0.21953657917641956, -1.0938795941576012, -0.10577547603312083, 0.6384250404551687, -0.2721945316885118, 3.265738204544427, 0.3766017189657574, 0.33886279379065204, 1.2190050065519333, 0.3104100087786091, 0.26952115201931115, -2.3923810892739246, 0.8770803830120577, 0.6561754993661268, -1.2310665672205874, -1.1856641101789074, 0.41805322561991626, -0.9247175847838351, 0.23277995300774626, 0.4067275700600627, -1.428613771269792, 1.4839020736203505, 0.7633645943548794, 2.7756705575375586, -0.46463372800975183, 0.004306649259857492, 0.9645256070376517, -0.005185290726101883, 2.6020206278107167, -0.885626602219863, 1.3517771551572877, 1.4041522296440263, -0.37747456790116, 0.15412506809685084, -1.3868854662382721, 0.6433483582256894, 0.9983683388092811, -0.12169074845217757, -2.1176310033064594, -0.06264728472444926, -1.0150462339749775, 0.7360528445825723, 0.5333439301874713, 0.35198578229550376, 0.6072697451499537, -2.124423431145739, 0.45861870101295915, 0.3901706387730426, 0.9359092339197448, -0.1480147716292342, -0.4323566165303779, 0.7653655916578783, -0.19732640194278503, -0.1465413420198137, 0.7142610412011294, 1.1418243316888386, -0.3253132381128121, 1.5515260657660772, 0.309161311286864, -0.8358998861552829, 1.3655510433969495, 0.0632015316988487, -0.016827268343440532, 0.7506720191468409, -0.5595071040238351, -0.6947205233455448, 1.142499758085739, -2.147256982261882, -1.02211137709033, 0.4065176710241965, 0.5728619428353131, -0.2066640210509487, -0.9245155918409756, 0.19822024602242874, 1.4207896192934248, -1.67439132302367, 0.8101476190574366, 1.1438891096596677, -0.24724589169943464]}, {\"line\": {\"color\": \"rgba(55, 128, 191, 1.0)\", \"dash\": \"solid\", \"shape\": \"linear\", \"width\": 1.3}, \"mode\": \"lines\", \"name\": \"B\", \"text\": \"\", \"type\": \"scatter\", \"x\": [0, 1, 2, 3, 4, 5, 6, 7, 8, 9, 10, 11, 12, 13, 14, 15, 16, 17, 18, 19, 20, 21, 22, 23, 24, 25, 26, 27, 28, 29, 30, 31, 32, 33, 34, 35, 36, 37, 38, 39, 40, 41, 42, 43, 44, 45, 46, 47, 48, 49, 50, 51, 52, 53, 54, 55, 56, 57, 58, 59, 60, 61, 62, 63, 64, 65, 66, 67, 68, 69, 70, 71, 72, 73, 74, 75, 76, 77, 78, 79, 80, 81, 82, 83, 84, 85, 86, 87, 88, 89, 90, 91, 92, 93, 94, 95, 96, 97, 98, 99], \"y\": [-1.8063135150409384, -0.7679513004948498, -0.8742919766403517, 0.3070143950458193, 1.1665253316654558, -0.2262683166260905, -0.4917852269151437, -0.08073729843021035, 2.8334375843659645, 1.1532207799473548, -0.03814254313590681, -0.10568906458824325, -0.31317568710161725, 0.999191108558023, 0.8385632979585733, 0.41534933039874006, 0.8797805528306242, -1.2497080083648895, -1.7911041602373101, 0.7630643074653287, 2.5892130854872626, -0.5439208326964506, -1.3750796123608928, -1.729704664812876, 0.5578288145910832, 1.0036536830512153, -0.1714020047363067, -0.19405615495300366, 0.6919399765482697, 0.9695804954012914, 1.350663420111455, -1.240062693169029, -1.348240459508053, 1.4623370752557971, -0.48168927519920546, 0.39784876136248515, -0.9024576145690437, -0.6935679814885369, -0.3761127379085823, -0.36623141625460714, -0.2451594279515256, 0.026402940006598093, -0.32046021467091446, 1.1112009255824087, 0.2187696308981625, -2.505044161953846, -0.6162072553432347, -0.015565844051689669, 1.7854810856777485, 0.3541192142490893, 0.5263691204633134, 1.3994577056620974, -1.3428712151096527, 1.1255059881410612, 0.9500501528505452, 0.23415698180013855, 0.15335525171261927, -0.052071479834325515, -1.4232941345045214, 0.7132256996685288, 0.5489697164118927, -0.5726168408446426, 0.4621316906319872, 2.0945996369123625, -0.6293460980779058, 1.0075453751062597, 0.10083326030721385, -2.2013485061886473, -0.3898105142975688, -1.0896725401553105, -1.8597732189447154, 0.3905174313184132, -0.3104515621834238, 0.8040065537583236, -1.0797745253519242, 0.8367161653986137, -1.2674111303051174, -0.6763387257899182, -1.092639906945907, 1.0449811622012086, 1.8517700485195743, -0.13757886943215655, 0.7259595503006789, -0.9096144399987279, 0.6074501093482007, -0.7191397729519661, 1.907848397028853, -0.8418897038835749, 0.06575111015677335, -2.0389882885122126, -1.53917556051178, 0.9015627864510748, 0.09360031995000555, 0.10739423129650766, 0.6419278156297985, -0.23432958246422325, 0.1178203071042369, -0.9005807904385831, 1.2181737505496018, -0.5324878800398267]}, {\"line\": {\"color\": \"rgba(50, 171, 96, 1.0)\", \"dash\": \"solid\", \"shape\": \"linear\", \"width\": 1.3}, \"mode\": \"lines\", \"name\": \"C\", \"text\": \"\", \"type\": \"scatter\", \"x\": [0, 1, 2, 3, 4, 5, 6, 7, 8, 9, 10, 11, 12, 13, 14, 15, 16, 17, 18, 19, 20, 21, 22, 23, 24, 25, 26, 27, 28, 29, 30, 31, 32, 33, 34, 35, 36, 37, 38, 39, 40, 41, 42, 43, 44, 45, 46, 47, 48, 49, 50, 51, 52, 53, 54, 55, 56, 57, 58, 59, 60, 61, 62, 63, 64, 65, 66, 67, 68, 69, 70, 71, 72, 73, 74, 75, 76, 77, 78, 79, 80, 81, 82, 83, 84, 85, 86, 87, 88, 89, 90, 91, 92, 93, 94, 95, 96, 97, 98, 99], \"y\": [1.2982356591642445, 0.15427115901690341, 1.0213467155156255, 1.232635888537672, -0.22895222538532137, 1.954511785901398, -0.3942545853071218, -0.8092251193718866, -0.12322104508539473, 1.2286788093130638, 0.3874343994934357, -2.2953744065269643, 2.017388879406804, 1.1193266759672091, -0.2746008943626236, -0.8065314918764688, 0.972762641451173, 0.5074579567461822, 1.0118902717327247, 0.401509381385972, 0.0639114665073889, -1.8663631190800596, 0.1387441893866892, 0.1428873542876622, 0.47682850878052335, -0.36571985711014215, -1.5460929902125424, 0.5198596011344117, -1.6173676235504222, -1.4356016266184148, -0.07050502844673512, 0.5575637873458781, -2.1652567182684646, 0.5870162986735613, -0.8773663572243663, -0.6858001901123327, 2.7969800829027123, -0.5458885428916942, 1.1181997296247015, -0.11673408876087886, 0.6404059497492122, -1.728413741794743, 0.3983029336729583, -0.7246637943231838, -0.8739988801359196, -0.8953673781193359, 1.0188898265321207, 0.17867461627604825, -0.7954294822668724, 0.4636630050156447, -0.6784390426197163, 0.15119517232480975, 0.24758404252618696, 0.4332548808024751, -0.573257381134931, -0.543358203976377, 1.1269166836129816, -0.23872781757691822, -1.3099931941537102, -1.0582198694901048, -0.4262076857305047, 1.423853630818953, -0.36089078387376755, -2.154339180537667, 2.476822997091817, 0.32141164193151145, 1.7050486382039032, -0.504611966141616, -1.397522139381618, 0.8479678308837004, -0.8297755982819625, 1.0577651562083943, -0.9101582376316869, -0.0029074583485230563, 0.2608575614760658, -0.7803371558458617, -2.145391997779593, -0.7063161942876157, 0.16239921321512515, -0.07683075830387348, 1.0607037175653777, 0.9544867857313885, -0.11793678009979827, 0.2102582181812343, -0.8387898266596429, -0.4206283693985038, -0.8152428246157843, -0.7276697598353788, -1.1329929330756752, -1.4466041035213315, -0.9848748287647158, 0.1180319292781396, -0.8776375086870779, -1.2821605470681214, 0.24414266199380305, 0.8141424501001563, -0.2765616564967207, 0.47783868175145766, -0.9965387453155009, -0.09458406917183024]}, {\"line\": {\"color\": \"rgba(128, 0, 128, 1.0)\", \"dash\": \"solid\", \"shape\": \"linear\", \"width\": 1.3}, \"mode\": \"lines\", \"name\": \"D\", \"text\": \"\", \"type\": \"scatter\", \"x\": [0, 1, 2, 3, 4, 5, 6, 7, 8, 9, 10, 11, 12, 13, 14, 15, 16, 17, 18, 19, 20, 21, 22, 23, 24, 25, 26, 27, 28, 29, 30, 31, 32, 33, 34, 35, 36, 37, 38, 39, 40, 41, 42, 43, 44, 45, 46, 47, 48, 49, 50, 51, 52, 53, 54, 55, 56, 57, 58, 59, 60, 61, 62, 63, 64, 65, 66, 67, 68, 69, 70, 71, 72, 73, 74, 75, 76, 77, 78, 79, 80, 81, 82, 83, 84, 85, 86, 87, 88, 89, 90, 91, 92, 93, 94, 95, 96, 97, 98, 99], \"y\": [-0.6833341122857621, -1.186518198081401, 0.7440360616704014, -0.4724438209696136, -0.3726398238770978, 0.04117066612790381, -0.12165221701464178, -0.3582447039742966, -0.9614060037617944, 0.738115872324706, -0.08819366108400076, 1.223355545014585, 1.4230621728241735, -0.0713488500790235, -0.37552458341578615, 1.4051767793554675, 1.5048150109432545, 1.1539930776722223, 0.37183774749061793, 1.2137171768818364, 0.2647832955019624, 0.08301689949870196, -0.08352492211042305, 0.17603067516678184, 1.3426263722935805, 1.4710969763164121, 0.3723008765493016, 0.8302101906900898, 0.4293110699434798, -1.7014499397610496, -0.7462107273631216, -0.062418203425431834, -0.4521898440150753, 1.0374670134271229, -0.03827027493552959, 2.627813687110325, 0.6891056995922998, 0.9496908564080698, -0.5173382461484048, -1.7998833834458434, -0.3058413154285717, -1.2147511852081776, -1.005887489678001, -0.30709897227715727, 0.37256104976328275, 0.12874701718905396, 0.40465242152470143, 1.1456196270354793, -0.9876226453689538, -0.32062717671141766, -0.4477698824738656, 0.37035700057779575, -0.6728757045446571, 0.13727837951958757, -0.8365857241976379, -0.862833170927694, -0.2321665491113636, -0.3096342804538494, 0.8796768280896852, -0.1138722149396076, 0.26259767826855795, -0.1723152186005268, 0.10650986454691985, -0.674854272338543, 0.607077893069324, 1.077104763029846, 0.306009787291824, 1.6189631446653476, 0.18641228222526587, 0.1002952216652406, 0.35384730130886494, -0.5592970923758837, 1.6810924067739625, -0.22801226336023897, -0.007212983814382795, -0.8884243908142498, 0.007373212437131988, -1.4994425212206395, 0.2858613226319799, 0.7723744957643544, 0.006207666093432797, -0.9831130172701907, 0.5668305156554925, 1.6039775473847573, 1.3707010942956015, 0.43850866148625123, 1.0295632712010863, 0.4628062783971533, -0.09196565989581211, 0.10106709283112156, -0.25825437843646293, 1.311841406736645, -0.04561607748831737, 0.9986168276634753, -1.1692664545784839, 2.0607261167534308, -0.03489069796686348, -0.9817027574319807, -1.828275897713146, -0.13307937775464979]}],\n",
       "                        {\"legend\": {\"bgcolor\": \"#F5F6F9\", \"font\": {\"color\": \"#4D5663\"}}, \"paper_bgcolor\": \"#F5F6F9\", \"plot_bgcolor\": \"#F5F6F9\", \"template\": {\"data\": {\"bar\": [{\"error_x\": {\"color\": \"#2a3f5f\"}, \"error_y\": {\"color\": \"#2a3f5f\"}, \"marker\": {\"line\": {\"color\": \"#E5ECF6\", \"width\": 0.5}}, \"type\": \"bar\"}], \"barpolar\": [{\"marker\": {\"line\": {\"color\": \"#E5ECF6\", \"width\": 0.5}}, \"type\": \"barpolar\"}], \"carpet\": [{\"aaxis\": {\"endlinecolor\": \"#2a3f5f\", \"gridcolor\": \"white\", \"linecolor\": \"white\", \"minorgridcolor\": \"white\", \"startlinecolor\": \"#2a3f5f\"}, \"baxis\": {\"endlinecolor\": \"#2a3f5f\", \"gridcolor\": \"white\", \"linecolor\": \"white\", \"minorgridcolor\": \"white\", \"startlinecolor\": \"#2a3f5f\"}, \"type\": \"carpet\"}], \"choropleth\": [{\"colorbar\": {\"outlinewidth\": 0, \"ticks\": \"\"}, \"type\": \"choropleth\"}], \"contour\": [{\"colorbar\": {\"outlinewidth\": 0, \"ticks\": \"\"}, \"colorscale\": [[0.0, \"#0d0887\"], [0.1111111111111111, \"#46039f\"], [0.2222222222222222, \"#7201a8\"], [0.3333333333333333, \"#9c179e\"], [0.4444444444444444, \"#bd3786\"], [0.5555555555555556, \"#d8576b\"], [0.6666666666666666, \"#ed7953\"], [0.7777777777777778, \"#fb9f3a\"], [0.8888888888888888, \"#fdca26\"], [1.0, \"#f0f921\"]], \"type\": \"contour\"}], \"contourcarpet\": [{\"colorbar\": {\"outlinewidth\": 0, \"ticks\": \"\"}, \"type\": \"contourcarpet\"}], \"heatmap\": [{\"colorbar\": {\"outlinewidth\": 0, \"ticks\": \"\"}, \"colorscale\": [[0.0, \"#0d0887\"], [0.1111111111111111, \"#46039f\"], [0.2222222222222222, \"#7201a8\"], [0.3333333333333333, \"#9c179e\"], [0.4444444444444444, \"#bd3786\"], [0.5555555555555556, \"#d8576b\"], [0.6666666666666666, \"#ed7953\"], [0.7777777777777778, \"#fb9f3a\"], [0.8888888888888888, \"#fdca26\"], [1.0, \"#f0f921\"]], \"type\": \"heatmap\"}], \"heatmapgl\": [{\"colorbar\": {\"outlinewidth\": 0, \"ticks\": \"\"}, \"colorscale\": [[0.0, \"#0d0887\"], [0.1111111111111111, \"#46039f\"], [0.2222222222222222, \"#7201a8\"], [0.3333333333333333, \"#9c179e\"], [0.4444444444444444, \"#bd3786\"], [0.5555555555555556, \"#d8576b\"], [0.6666666666666666, \"#ed7953\"], [0.7777777777777778, \"#fb9f3a\"], [0.8888888888888888, \"#fdca26\"], [1.0, \"#f0f921\"]], \"type\": \"heatmapgl\"}], \"histogram\": [{\"marker\": {\"colorbar\": {\"outlinewidth\": 0, \"ticks\": \"\"}}, \"type\": \"histogram\"}], \"histogram2d\": [{\"colorbar\": {\"outlinewidth\": 0, \"ticks\": \"\"}, \"colorscale\": [[0.0, \"#0d0887\"], [0.1111111111111111, \"#46039f\"], [0.2222222222222222, \"#7201a8\"], [0.3333333333333333, \"#9c179e\"], [0.4444444444444444, \"#bd3786\"], [0.5555555555555556, \"#d8576b\"], [0.6666666666666666, \"#ed7953\"], [0.7777777777777778, \"#fb9f3a\"], [0.8888888888888888, \"#fdca26\"], [1.0, \"#f0f921\"]], \"type\": \"histogram2d\"}], \"histogram2dcontour\": [{\"colorbar\": {\"outlinewidth\": 0, \"ticks\": \"\"}, \"colorscale\": [[0.0, \"#0d0887\"], [0.1111111111111111, \"#46039f\"], [0.2222222222222222, \"#7201a8\"], [0.3333333333333333, \"#9c179e\"], [0.4444444444444444, \"#bd3786\"], [0.5555555555555556, \"#d8576b\"], [0.6666666666666666, \"#ed7953\"], [0.7777777777777778, \"#fb9f3a\"], [0.8888888888888888, \"#fdca26\"], [1.0, \"#f0f921\"]], \"type\": \"histogram2dcontour\"}], \"mesh3d\": [{\"colorbar\": {\"outlinewidth\": 0, \"ticks\": \"\"}, \"type\": \"mesh3d\"}], \"parcoords\": [{\"line\": {\"colorbar\": {\"outlinewidth\": 0, \"ticks\": \"\"}}, \"type\": \"parcoords\"}], \"pie\": [{\"automargin\": true, \"type\": \"pie\"}], \"scatter\": [{\"marker\": {\"colorbar\": {\"outlinewidth\": 0, \"ticks\": \"\"}}, \"type\": \"scatter\"}], \"scatter3d\": [{\"line\": {\"colorbar\": {\"outlinewidth\": 0, \"ticks\": \"\"}}, \"marker\": {\"colorbar\": {\"outlinewidth\": 0, \"ticks\": \"\"}}, \"type\": \"scatter3d\"}], \"scattercarpet\": [{\"marker\": {\"colorbar\": {\"outlinewidth\": 0, \"ticks\": \"\"}}, \"type\": \"scattercarpet\"}], \"scattergeo\": [{\"marker\": {\"colorbar\": {\"outlinewidth\": 0, \"ticks\": \"\"}}, \"type\": \"scattergeo\"}], \"scattergl\": [{\"marker\": {\"colorbar\": {\"outlinewidth\": 0, \"ticks\": \"\"}}, \"type\": \"scattergl\"}], \"scattermapbox\": [{\"marker\": {\"colorbar\": {\"outlinewidth\": 0, \"ticks\": \"\"}}, \"type\": \"scattermapbox\"}], \"scatterpolar\": [{\"marker\": {\"colorbar\": {\"outlinewidth\": 0, \"ticks\": \"\"}}, \"type\": \"scatterpolar\"}], \"scatterpolargl\": [{\"marker\": {\"colorbar\": {\"outlinewidth\": 0, \"ticks\": \"\"}}, \"type\": \"scatterpolargl\"}], \"scatterternary\": [{\"marker\": {\"colorbar\": {\"outlinewidth\": 0, \"ticks\": \"\"}}, \"type\": \"scatterternary\"}], \"surface\": [{\"colorbar\": {\"outlinewidth\": 0, \"ticks\": \"\"}, \"colorscale\": [[0.0, \"#0d0887\"], [0.1111111111111111, \"#46039f\"], [0.2222222222222222, \"#7201a8\"], [0.3333333333333333, \"#9c179e\"], [0.4444444444444444, \"#bd3786\"], [0.5555555555555556, \"#d8576b\"], [0.6666666666666666, \"#ed7953\"], [0.7777777777777778, \"#fb9f3a\"], [0.8888888888888888, \"#fdca26\"], [1.0, \"#f0f921\"]], \"type\": \"surface\"}], \"table\": [{\"cells\": {\"fill\": {\"color\": \"#EBF0F8\"}, \"line\": {\"color\": \"white\"}}, \"header\": {\"fill\": {\"color\": \"#C8D4E3\"}, \"line\": {\"color\": \"white\"}}, \"type\": \"table\"}]}, \"layout\": {\"annotationdefaults\": {\"arrowcolor\": \"#2a3f5f\", \"arrowhead\": 0, \"arrowwidth\": 1}, \"coloraxis\": {\"colorbar\": {\"outlinewidth\": 0, \"ticks\": \"\"}}, \"colorscale\": {\"diverging\": [[0, \"#8e0152\"], [0.1, \"#c51b7d\"], [0.2, \"#de77ae\"], [0.3, \"#f1b6da\"], [0.4, \"#fde0ef\"], [0.5, \"#f7f7f7\"], [0.6, \"#e6f5d0\"], [0.7, \"#b8e186\"], [0.8, \"#7fbc41\"], [0.9, \"#4d9221\"], [1, \"#276419\"]], \"sequential\": [[0.0, \"#0d0887\"], [0.1111111111111111, \"#46039f\"], [0.2222222222222222, \"#7201a8\"], [0.3333333333333333, \"#9c179e\"], [0.4444444444444444, \"#bd3786\"], [0.5555555555555556, \"#d8576b\"], [0.6666666666666666, \"#ed7953\"], [0.7777777777777778, \"#fb9f3a\"], [0.8888888888888888, \"#fdca26\"], [1.0, \"#f0f921\"]], \"sequentialminus\": [[0.0, \"#0d0887\"], [0.1111111111111111, \"#46039f\"], [0.2222222222222222, \"#7201a8\"], [0.3333333333333333, \"#9c179e\"], [0.4444444444444444, \"#bd3786\"], [0.5555555555555556, \"#d8576b\"], [0.6666666666666666, \"#ed7953\"], [0.7777777777777778, \"#fb9f3a\"], [0.8888888888888888, \"#fdca26\"], [1.0, \"#f0f921\"]]}, \"colorway\": [\"#636efa\", \"#EF553B\", \"#00cc96\", \"#ab63fa\", \"#FFA15A\", \"#19d3f3\", \"#FF6692\", \"#B6E880\", \"#FF97FF\", \"#FECB52\"], \"font\": {\"color\": \"#2a3f5f\"}, \"geo\": {\"bgcolor\": \"white\", \"lakecolor\": \"white\", \"landcolor\": \"#E5ECF6\", \"showlakes\": true, \"showland\": true, \"subunitcolor\": \"white\"}, \"hoverlabel\": {\"align\": \"left\"}, \"hovermode\": \"closest\", \"mapbox\": {\"style\": \"light\"}, \"paper_bgcolor\": \"white\", \"plot_bgcolor\": \"#E5ECF6\", \"polar\": {\"angularaxis\": {\"gridcolor\": \"white\", \"linecolor\": \"white\", \"ticks\": \"\"}, \"bgcolor\": \"#E5ECF6\", \"radialaxis\": {\"gridcolor\": \"white\", \"linecolor\": \"white\", \"ticks\": \"\"}}, \"scene\": {\"xaxis\": {\"backgroundcolor\": \"#E5ECF6\", \"gridcolor\": \"white\", \"gridwidth\": 2, \"linecolor\": \"white\", \"showbackground\": true, \"ticks\": \"\", \"zerolinecolor\": \"white\"}, \"yaxis\": {\"backgroundcolor\": \"#E5ECF6\", \"gridcolor\": \"white\", \"gridwidth\": 2, \"linecolor\": \"white\", \"showbackground\": true, \"ticks\": \"\", \"zerolinecolor\": \"white\"}, \"zaxis\": {\"backgroundcolor\": \"#E5ECF6\", \"gridcolor\": \"white\", \"gridwidth\": 2, \"linecolor\": \"white\", \"showbackground\": true, \"ticks\": \"\", \"zerolinecolor\": \"white\"}}, \"shapedefaults\": {\"line\": {\"color\": \"#2a3f5f\"}}, \"ternary\": {\"aaxis\": {\"gridcolor\": \"white\", \"linecolor\": \"white\", \"ticks\": \"\"}, \"baxis\": {\"gridcolor\": \"white\", \"linecolor\": \"white\", \"ticks\": \"\"}, \"bgcolor\": \"#E5ECF6\", \"caxis\": {\"gridcolor\": \"white\", \"linecolor\": \"white\", \"ticks\": \"\"}}, \"title\": {\"x\": 0.05}, \"xaxis\": {\"automargin\": true, \"gridcolor\": \"white\", \"linecolor\": \"white\", \"ticks\": \"\", \"title\": {\"standoff\": 15}, \"zerolinecolor\": \"white\", \"zerolinewidth\": 2}, \"yaxis\": {\"automargin\": true, \"gridcolor\": \"white\", \"linecolor\": \"white\", \"ticks\": \"\", \"title\": {\"standoff\": 15}, \"zerolinecolor\": \"white\", \"zerolinewidth\": 2}}}, \"title\": {\"font\": {\"color\": \"#4D5663\"}}, \"xaxis\": {\"gridcolor\": \"#E1E5ED\", \"showgrid\": true, \"tickfont\": {\"color\": \"#4D5663\"}, \"title\": {\"font\": {\"color\": \"#4D5663\"}, \"text\": \"\"}, \"zerolinecolor\": \"#E1E5ED\"}, \"yaxis\": {\"gridcolor\": \"#E1E5ED\", \"showgrid\": true, \"tickfont\": {\"color\": \"#4D5663\"}, \"title\": {\"font\": {\"color\": \"#4D5663\"}, \"text\": \"\"}, \"zerolinecolor\": \"#E1E5ED\"}},\n",
       "                        {\"showLink\": true, \"linkText\": \"Export to plotly.com\", \"plotlyServerURL\": \"https://plotly.com\", \"responsive\": true}\n",
       "                    ).then(function(){\n",
       "                            \n",
       "var gd = document.getElementById('67d21da6-70bd-45b3-8079-27d1a13351c1');\n",
       "var x = new MutationObserver(function (mutations, observer) {{\n",
       "        var display = window.getComputedStyle(gd).display;\n",
       "        if (!display || display === 'none') {{\n",
       "            console.log([gd, 'removed!']);\n",
       "            Plotly.purge(gd);\n",
       "            observer.disconnect();\n",
       "        }}\n",
       "}});\n",
       "\n",
       "// Listen for the removal of the full notebook cells\n",
       "var notebookContainer = gd.closest('#notebook-container');\n",
       "if (notebookContainer) {{\n",
       "    x.observe(notebookContainer, {childList: true});\n",
       "}}\n",
       "\n",
       "// Listen for the clearing of the current output cell\n",
       "var outputEl = gd.closest('.output');\n",
       "if (outputEl) {{\n",
       "    x.observe(outputEl, {childList: true});\n",
       "}}\n",
       "\n",
       "                        })\n",
       "                };\n",
       "                });\n",
       "            </script>\n",
       "        </div>"
      ]
     },
     "metadata": {},
     "output_type": "display_data"
    }
   ],
   "source": [
    "df.iplot()"
   ]
  },
  {
   "cell_type": "code",
   "execution_count": 6,
   "metadata": {},
   "outputs": [
    {
     "data": {
      "application/vnd.plotly.v1+json": {
       "config": {
        "linkText": "Export to plotly.com",
        "plotlyServerURL": "https://plotly.com",
        "showLink": true
       },
       "data": [
        {
         "line": {
          "color": "rgba(255, 153, 51, 1.0)",
          "dash": "solid",
          "shape": "linear",
          "width": 1.3
         },
         "marker": {
          "size": 12,
          "symbol": "circle"
         },
         "mode": "markers",
         "name": "B",
         "text": "",
         "type": "scatter",
         "x": [
          -1.3915514466454946,
          -0.25186847805576157,
          0.9579228727741338,
          0.6029271487268496,
          0.416448674464561,
          0.34063531233394767,
          -0.08459004387470692,
          0.713619317860425,
          1.7908137198587653,
          -0.07774446546417446,
          0.7818861612515148,
          -0.08045802462218049,
          -1.3925376997334935,
          -0.25889123457565444,
          -1.2380068464047667,
          -1.6796053268216884,
          1.1389527186859345,
          -2.15319053603754,
          0.24225207650860273,
          0.5323379650228895,
          -0.2096440229785707,
          0.21953657917641956,
          -1.0938795941576012,
          -0.10577547603312083,
          0.6384250404551687,
          -0.2721945316885118,
          3.265738204544427,
          0.3766017189657574,
          0.33886279379065204,
          1.2190050065519333,
          0.3104100087786091,
          0.26952115201931115,
          -2.3923810892739246,
          0.8770803830120577,
          0.6561754993661268,
          -1.2310665672205874,
          -1.1856641101789074,
          0.41805322561991626,
          -0.9247175847838351,
          0.23277995300774626,
          0.4067275700600627,
          -1.428613771269792,
          1.4839020736203505,
          0.7633645943548794,
          2.7756705575375586,
          -0.46463372800975183,
          0.004306649259857492,
          0.9645256070376517,
          -0.005185290726101883,
          2.6020206278107167,
          -0.885626602219863,
          1.3517771551572877,
          1.4041522296440263,
          -0.37747456790116,
          0.15412506809685084,
          -1.3868854662382721,
          0.6433483582256894,
          0.9983683388092811,
          -0.12169074845217757,
          -2.1176310033064594,
          -0.06264728472444926,
          -1.0150462339749775,
          0.7360528445825723,
          0.5333439301874713,
          0.35198578229550376,
          0.6072697451499537,
          -2.124423431145739,
          0.45861870101295915,
          0.3901706387730426,
          0.9359092339197448,
          -0.1480147716292342,
          -0.4323566165303779,
          0.7653655916578783,
          -0.19732640194278503,
          -0.1465413420198137,
          0.7142610412011294,
          1.1418243316888386,
          -0.3253132381128121,
          1.5515260657660772,
          0.309161311286864,
          -0.8358998861552829,
          1.3655510433969495,
          0.0632015316988487,
          -0.016827268343440532,
          0.7506720191468409,
          -0.5595071040238351,
          -0.6947205233455448,
          1.142499758085739,
          -2.147256982261882,
          -1.02211137709033,
          0.4065176710241965,
          0.5728619428353131,
          -0.2066640210509487,
          -0.9245155918409756,
          0.19822024602242874,
          1.4207896192934248,
          -1.67439132302367,
          0.8101476190574366,
          1.1438891096596677,
          -0.24724589169943464
         ],
         "y": [
          -1.8063135150409384,
          -0.7679513004948498,
          -0.8742919766403517,
          0.3070143950458193,
          1.1665253316654558,
          -0.2262683166260905,
          -0.4917852269151437,
          -0.08073729843021035,
          2.8334375843659645,
          1.1532207799473548,
          -0.03814254313590681,
          -0.10568906458824325,
          -0.31317568710161725,
          0.999191108558023,
          0.8385632979585733,
          0.41534933039874006,
          0.8797805528306242,
          -1.2497080083648895,
          -1.7911041602373101,
          0.7630643074653287,
          2.5892130854872626,
          -0.5439208326964506,
          -1.3750796123608928,
          -1.729704664812876,
          0.5578288145910832,
          1.0036536830512153,
          -0.1714020047363067,
          -0.19405615495300366,
          0.6919399765482697,
          0.9695804954012914,
          1.350663420111455,
          -1.240062693169029,
          -1.348240459508053,
          1.4623370752557971,
          -0.48168927519920546,
          0.39784876136248515,
          -0.9024576145690437,
          -0.6935679814885369,
          -0.3761127379085823,
          -0.36623141625460714,
          -0.2451594279515256,
          0.026402940006598093,
          -0.32046021467091446,
          1.1112009255824087,
          0.2187696308981625,
          -2.505044161953846,
          -0.6162072553432347,
          -0.015565844051689669,
          1.7854810856777485,
          0.3541192142490893,
          0.5263691204633134,
          1.3994577056620974,
          -1.3428712151096527,
          1.1255059881410612,
          0.9500501528505452,
          0.23415698180013855,
          0.15335525171261927,
          -0.052071479834325515,
          -1.4232941345045214,
          0.7132256996685288,
          0.5489697164118927,
          -0.5726168408446426,
          0.4621316906319872,
          2.0945996369123625,
          -0.6293460980779058,
          1.0075453751062597,
          0.10083326030721385,
          -2.2013485061886473,
          -0.3898105142975688,
          -1.0896725401553105,
          -1.8597732189447154,
          0.3905174313184132,
          -0.3104515621834238,
          0.8040065537583236,
          -1.0797745253519242,
          0.8367161653986137,
          -1.2674111303051174,
          -0.6763387257899182,
          -1.092639906945907,
          1.0449811622012086,
          1.8517700485195743,
          -0.13757886943215655,
          0.7259595503006789,
          -0.9096144399987279,
          0.6074501093482007,
          -0.7191397729519661,
          1.907848397028853,
          -0.8418897038835749,
          0.06575111015677335,
          -2.0389882885122126,
          -1.53917556051178,
          0.9015627864510748,
          0.09360031995000555,
          0.10739423129650766,
          0.6419278156297985,
          -0.23432958246422325,
          0.1178203071042369,
          -0.9005807904385831,
          1.2181737505496018,
          -0.5324878800398267
         ]
        }
       ],
       "layout": {
        "legend": {
         "bgcolor": "#F5F6F9",
         "font": {
          "color": "#4D5663"
         }
        },
        "paper_bgcolor": "#F5F6F9",
        "plot_bgcolor": "#F5F6F9",
        "template": {
         "data": {
          "bar": [
           {
            "error_x": {
             "color": "#2a3f5f"
            },
            "error_y": {
             "color": "#2a3f5f"
            },
            "marker": {
             "line": {
              "color": "#E5ECF6",
              "width": 0.5
             }
            },
            "type": "bar"
           }
          ],
          "barpolar": [
           {
            "marker": {
             "line": {
              "color": "#E5ECF6",
              "width": 0.5
             }
            },
            "type": "barpolar"
           }
          ],
          "carpet": [
           {
            "aaxis": {
             "endlinecolor": "#2a3f5f",
             "gridcolor": "white",
             "linecolor": "white",
             "minorgridcolor": "white",
             "startlinecolor": "#2a3f5f"
            },
            "baxis": {
             "endlinecolor": "#2a3f5f",
             "gridcolor": "white",
             "linecolor": "white",
             "minorgridcolor": "white",
             "startlinecolor": "#2a3f5f"
            },
            "type": "carpet"
           }
          ],
          "choropleth": [
           {
            "colorbar": {
             "outlinewidth": 0,
             "ticks": ""
            },
            "type": "choropleth"
           }
          ],
          "contour": [
           {
            "colorbar": {
             "outlinewidth": 0,
             "ticks": ""
            },
            "colorscale": [
             [
              0,
              "#0d0887"
             ],
             [
              0.1111111111111111,
              "#46039f"
             ],
             [
              0.2222222222222222,
              "#7201a8"
             ],
             [
              0.3333333333333333,
              "#9c179e"
             ],
             [
              0.4444444444444444,
              "#bd3786"
             ],
             [
              0.5555555555555556,
              "#d8576b"
             ],
             [
              0.6666666666666666,
              "#ed7953"
             ],
             [
              0.7777777777777778,
              "#fb9f3a"
             ],
             [
              0.8888888888888888,
              "#fdca26"
             ],
             [
              1,
              "#f0f921"
             ]
            ],
            "type": "contour"
           }
          ],
          "contourcarpet": [
           {
            "colorbar": {
             "outlinewidth": 0,
             "ticks": ""
            },
            "type": "contourcarpet"
           }
          ],
          "heatmap": [
           {
            "colorbar": {
             "outlinewidth": 0,
             "ticks": ""
            },
            "colorscale": [
             [
              0,
              "#0d0887"
             ],
             [
              0.1111111111111111,
              "#46039f"
             ],
             [
              0.2222222222222222,
              "#7201a8"
             ],
             [
              0.3333333333333333,
              "#9c179e"
             ],
             [
              0.4444444444444444,
              "#bd3786"
             ],
             [
              0.5555555555555556,
              "#d8576b"
             ],
             [
              0.6666666666666666,
              "#ed7953"
             ],
             [
              0.7777777777777778,
              "#fb9f3a"
             ],
             [
              0.8888888888888888,
              "#fdca26"
             ],
             [
              1,
              "#f0f921"
             ]
            ],
            "type": "heatmap"
           }
          ],
          "heatmapgl": [
           {
            "colorbar": {
             "outlinewidth": 0,
             "ticks": ""
            },
            "colorscale": [
             [
              0,
              "#0d0887"
             ],
             [
              0.1111111111111111,
              "#46039f"
             ],
             [
              0.2222222222222222,
              "#7201a8"
             ],
             [
              0.3333333333333333,
              "#9c179e"
             ],
             [
              0.4444444444444444,
              "#bd3786"
             ],
             [
              0.5555555555555556,
              "#d8576b"
             ],
             [
              0.6666666666666666,
              "#ed7953"
             ],
             [
              0.7777777777777778,
              "#fb9f3a"
             ],
             [
              0.8888888888888888,
              "#fdca26"
             ],
             [
              1,
              "#f0f921"
             ]
            ],
            "type": "heatmapgl"
           }
          ],
          "histogram": [
           {
            "marker": {
             "colorbar": {
              "outlinewidth": 0,
              "ticks": ""
             }
            },
            "type": "histogram"
           }
          ],
          "histogram2d": [
           {
            "colorbar": {
             "outlinewidth": 0,
             "ticks": ""
            },
            "colorscale": [
             [
              0,
              "#0d0887"
             ],
             [
              0.1111111111111111,
              "#46039f"
             ],
             [
              0.2222222222222222,
              "#7201a8"
             ],
             [
              0.3333333333333333,
              "#9c179e"
             ],
             [
              0.4444444444444444,
              "#bd3786"
             ],
             [
              0.5555555555555556,
              "#d8576b"
             ],
             [
              0.6666666666666666,
              "#ed7953"
             ],
             [
              0.7777777777777778,
              "#fb9f3a"
             ],
             [
              0.8888888888888888,
              "#fdca26"
             ],
             [
              1,
              "#f0f921"
             ]
            ],
            "type": "histogram2d"
           }
          ],
          "histogram2dcontour": [
           {
            "colorbar": {
             "outlinewidth": 0,
             "ticks": ""
            },
            "colorscale": [
             [
              0,
              "#0d0887"
             ],
             [
              0.1111111111111111,
              "#46039f"
             ],
             [
              0.2222222222222222,
              "#7201a8"
             ],
             [
              0.3333333333333333,
              "#9c179e"
             ],
             [
              0.4444444444444444,
              "#bd3786"
             ],
             [
              0.5555555555555556,
              "#d8576b"
             ],
             [
              0.6666666666666666,
              "#ed7953"
             ],
             [
              0.7777777777777778,
              "#fb9f3a"
             ],
             [
              0.8888888888888888,
              "#fdca26"
             ],
             [
              1,
              "#f0f921"
             ]
            ],
            "type": "histogram2dcontour"
           }
          ],
          "mesh3d": [
           {
            "colorbar": {
             "outlinewidth": 0,
             "ticks": ""
            },
            "type": "mesh3d"
           }
          ],
          "parcoords": [
           {
            "line": {
             "colorbar": {
              "outlinewidth": 0,
              "ticks": ""
             }
            },
            "type": "parcoords"
           }
          ],
          "pie": [
           {
            "automargin": true,
            "type": "pie"
           }
          ],
          "scatter": [
           {
            "marker": {
             "colorbar": {
              "outlinewidth": 0,
              "ticks": ""
             }
            },
            "type": "scatter"
           }
          ],
          "scatter3d": [
           {
            "line": {
             "colorbar": {
              "outlinewidth": 0,
              "ticks": ""
             }
            },
            "marker": {
             "colorbar": {
              "outlinewidth": 0,
              "ticks": ""
             }
            },
            "type": "scatter3d"
           }
          ],
          "scattercarpet": [
           {
            "marker": {
             "colorbar": {
              "outlinewidth": 0,
              "ticks": ""
             }
            },
            "type": "scattercarpet"
           }
          ],
          "scattergeo": [
           {
            "marker": {
             "colorbar": {
              "outlinewidth": 0,
              "ticks": ""
             }
            },
            "type": "scattergeo"
           }
          ],
          "scattergl": [
           {
            "marker": {
             "colorbar": {
              "outlinewidth": 0,
              "ticks": ""
             }
            },
            "type": "scattergl"
           }
          ],
          "scattermapbox": [
           {
            "marker": {
             "colorbar": {
              "outlinewidth": 0,
              "ticks": ""
             }
            },
            "type": "scattermapbox"
           }
          ],
          "scatterpolar": [
           {
            "marker": {
             "colorbar": {
              "outlinewidth": 0,
              "ticks": ""
             }
            },
            "type": "scatterpolar"
           }
          ],
          "scatterpolargl": [
           {
            "marker": {
             "colorbar": {
              "outlinewidth": 0,
              "ticks": ""
             }
            },
            "type": "scatterpolargl"
           }
          ],
          "scatterternary": [
           {
            "marker": {
             "colorbar": {
              "outlinewidth": 0,
              "ticks": ""
             }
            },
            "type": "scatterternary"
           }
          ],
          "surface": [
           {
            "colorbar": {
             "outlinewidth": 0,
             "ticks": ""
            },
            "colorscale": [
             [
              0,
              "#0d0887"
             ],
             [
              0.1111111111111111,
              "#46039f"
             ],
             [
              0.2222222222222222,
              "#7201a8"
             ],
             [
              0.3333333333333333,
              "#9c179e"
             ],
             [
              0.4444444444444444,
              "#bd3786"
             ],
             [
              0.5555555555555556,
              "#d8576b"
             ],
             [
              0.6666666666666666,
              "#ed7953"
             ],
             [
              0.7777777777777778,
              "#fb9f3a"
             ],
             [
              0.8888888888888888,
              "#fdca26"
             ],
             [
              1,
              "#f0f921"
             ]
            ],
            "type": "surface"
           }
          ],
          "table": [
           {
            "cells": {
             "fill": {
              "color": "#EBF0F8"
             },
             "line": {
              "color": "white"
             }
            },
            "header": {
             "fill": {
              "color": "#C8D4E3"
             },
             "line": {
              "color": "white"
             }
            },
            "type": "table"
           }
          ]
         },
         "layout": {
          "annotationdefaults": {
           "arrowcolor": "#2a3f5f",
           "arrowhead": 0,
           "arrowwidth": 1
          },
          "coloraxis": {
           "colorbar": {
            "outlinewidth": 0,
            "ticks": ""
           }
          },
          "colorscale": {
           "diverging": [
            [
             0,
             "#8e0152"
            ],
            [
             0.1,
             "#c51b7d"
            ],
            [
             0.2,
             "#de77ae"
            ],
            [
             0.3,
             "#f1b6da"
            ],
            [
             0.4,
             "#fde0ef"
            ],
            [
             0.5,
             "#f7f7f7"
            ],
            [
             0.6,
             "#e6f5d0"
            ],
            [
             0.7,
             "#b8e186"
            ],
            [
             0.8,
             "#7fbc41"
            ],
            [
             0.9,
             "#4d9221"
            ],
            [
             1,
             "#276419"
            ]
           ],
           "sequential": [
            [
             0,
             "#0d0887"
            ],
            [
             0.1111111111111111,
             "#46039f"
            ],
            [
             0.2222222222222222,
             "#7201a8"
            ],
            [
             0.3333333333333333,
             "#9c179e"
            ],
            [
             0.4444444444444444,
             "#bd3786"
            ],
            [
             0.5555555555555556,
             "#d8576b"
            ],
            [
             0.6666666666666666,
             "#ed7953"
            ],
            [
             0.7777777777777778,
             "#fb9f3a"
            ],
            [
             0.8888888888888888,
             "#fdca26"
            ],
            [
             1,
             "#f0f921"
            ]
           ],
           "sequentialminus": [
            [
             0,
             "#0d0887"
            ],
            [
             0.1111111111111111,
             "#46039f"
            ],
            [
             0.2222222222222222,
             "#7201a8"
            ],
            [
             0.3333333333333333,
             "#9c179e"
            ],
            [
             0.4444444444444444,
             "#bd3786"
            ],
            [
             0.5555555555555556,
             "#d8576b"
            ],
            [
             0.6666666666666666,
             "#ed7953"
            ],
            [
             0.7777777777777778,
             "#fb9f3a"
            ],
            [
             0.8888888888888888,
             "#fdca26"
            ],
            [
             1,
             "#f0f921"
            ]
           ]
          },
          "colorway": [
           "#636efa",
           "#EF553B",
           "#00cc96",
           "#ab63fa",
           "#FFA15A",
           "#19d3f3",
           "#FF6692",
           "#B6E880",
           "#FF97FF",
           "#FECB52"
          ],
          "font": {
           "color": "#2a3f5f"
          },
          "geo": {
           "bgcolor": "white",
           "lakecolor": "white",
           "landcolor": "#E5ECF6",
           "showlakes": true,
           "showland": true,
           "subunitcolor": "white"
          },
          "hoverlabel": {
           "align": "left"
          },
          "hovermode": "closest",
          "mapbox": {
           "style": "light"
          },
          "paper_bgcolor": "white",
          "plot_bgcolor": "#E5ECF6",
          "polar": {
           "angularaxis": {
            "gridcolor": "white",
            "linecolor": "white",
            "ticks": ""
           },
           "bgcolor": "#E5ECF6",
           "radialaxis": {
            "gridcolor": "white",
            "linecolor": "white",
            "ticks": ""
           }
          },
          "scene": {
           "xaxis": {
            "backgroundcolor": "#E5ECF6",
            "gridcolor": "white",
            "gridwidth": 2,
            "linecolor": "white",
            "showbackground": true,
            "ticks": "",
            "zerolinecolor": "white"
           },
           "yaxis": {
            "backgroundcolor": "#E5ECF6",
            "gridcolor": "white",
            "gridwidth": 2,
            "linecolor": "white",
            "showbackground": true,
            "ticks": "",
            "zerolinecolor": "white"
           },
           "zaxis": {
            "backgroundcolor": "#E5ECF6",
            "gridcolor": "white",
            "gridwidth": 2,
            "linecolor": "white",
            "showbackground": true,
            "ticks": "",
            "zerolinecolor": "white"
           }
          },
          "shapedefaults": {
           "line": {
            "color": "#2a3f5f"
           }
          },
          "ternary": {
           "aaxis": {
            "gridcolor": "white",
            "linecolor": "white",
            "ticks": ""
           },
           "baxis": {
            "gridcolor": "white",
            "linecolor": "white",
            "ticks": ""
           },
           "bgcolor": "#E5ECF6",
           "caxis": {
            "gridcolor": "white",
            "linecolor": "white",
            "ticks": ""
           }
          },
          "title": {
           "x": 0.05
          },
          "xaxis": {
           "automargin": true,
           "gridcolor": "white",
           "linecolor": "white",
           "ticks": "",
           "title": {
            "standoff": 15
           },
           "zerolinecolor": "white",
           "zerolinewidth": 2
          },
          "yaxis": {
           "automargin": true,
           "gridcolor": "white",
           "linecolor": "white",
           "ticks": "",
           "title": {
            "standoff": 15
           },
           "zerolinecolor": "white",
           "zerolinewidth": 2
          }
         }
        },
        "title": {
         "font": {
          "color": "#4D5663"
         }
        },
        "xaxis": {
         "gridcolor": "#E1E5ED",
         "showgrid": true,
         "tickfont": {
          "color": "#4D5663"
         },
         "title": {
          "font": {
           "color": "#4D5663"
          },
          "text": ""
         },
         "zerolinecolor": "#E1E5ED"
        },
        "yaxis": {
         "gridcolor": "#E1E5ED",
         "showgrid": true,
         "tickfont": {
          "color": "#4D5663"
         },
         "title": {
          "font": {
           "color": "#4D5663"
          },
          "text": ""
         },
         "zerolinecolor": "#E1E5ED"
        }
       }
      },
      "text/html": [
       "<div>\n",
       "        \n",
       "        \n",
       "            <div id=\"0c70f1f8-29af-431e-aaf5-927a3e9786fa\" class=\"plotly-graph-div\" style=\"height:525px; width:100%;\"></div>\n",
       "            <script type=\"text/javascript\">\n",
       "                require([\"plotly\"], function(Plotly) {\n",
       "                    window.PLOTLYENV=window.PLOTLYENV || {};\n",
       "                    window.PLOTLYENV.BASE_URL='https://plotly.com';\n",
       "                    \n",
       "                if (document.getElementById(\"0c70f1f8-29af-431e-aaf5-927a3e9786fa\")) {\n",
       "                    Plotly.newPlot(\n",
       "                        '0c70f1f8-29af-431e-aaf5-927a3e9786fa',\n",
       "                        [{\"line\": {\"color\": \"rgba(255, 153, 51, 1.0)\", \"dash\": \"solid\", \"shape\": \"linear\", \"width\": 1.3}, \"marker\": {\"size\": 12, \"symbol\": \"circle\"}, \"mode\": \"markers\", \"name\": \"B\", \"text\": \"\", \"type\": \"scatter\", \"x\": [-1.3915514466454946, -0.25186847805576157, 0.9579228727741338, 0.6029271487268496, 0.416448674464561, 0.34063531233394767, -0.08459004387470692, 0.713619317860425, 1.7908137198587653, -0.07774446546417446, 0.7818861612515148, -0.08045802462218049, -1.3925376997334935, -0.25889123457565444, -1.2380068464047667, -1.6796053268216884, 1.1389527186859345, -2.15319053603754, 0.24225207650860273, 0.5323379650228895, -0.2096440229785707, 0.21953657917641956, -1.0938795941576012, -0.10577547603312083, 0.6384250404551687, -0.2721945316885118, 3.265738204544427, 0.3766017189657574, 0.33886279379065204, 1.2190050065519333, 0.3104100087786091, 0.26952115201931115, -2.3923810892739246, 0.8770803830120577, 0.6561754993661268, -1.2310665672205874, -1.1856641101789074, 0.41805322561991626, -0.9247175847838351, 0.23277995300774626, 0.4067275700600627, -1.428613771269792, 1.4839020736203505, 0.7633645943548794, 2.7756705575375586, -0.46463372800975183, 0.004306649259857492, 0.9645256070376517, -0.005185290726101883, 2.6020206278107167, -0.885626602219863, 1.3517771551572877, 1.4041522296440263, -0.37747456790116, 0.15412506809685084, -1.3868854662382721, 0.6433483582256894, 0.9983683388092811, -0.12169074845217757, -2.1176310033064594, -0.06264728472444926, -1.0150462339749775, 0.7360528445825723, 0.5333439301874713, 0.35198578229550376, 0.6072697451499537, -2.124423431145739, 0.45861870101295915, 0.3901706387730426, 0.9359092339197448, -0.1480147716292342, -0.4323566165303779, 0.7653655916578783, -0.19732640194278503, -0.1465413420198137, 0.7142610412011294, 1.1418243316888386, -0.3253132381128121, 1.5515260657660772, 0.309161311286864, -0.8358998861552829, 1.3655510433969495, 0.0632015316988487, -0.016827268343440532, 0.7506720191468409, -0.5595071040238351, -0.6947205233455448, 1.142499758085739, -2.147256982261882, -1.02211137709033, 0.4065176710241965, 0.5728619428353131, -0.2066640210509487, -0.9245155918409756, 0.19822024602242874, 1.4207896192934248, -1.67439132302367, 0.8101476190574366, 1.1438891096596677, -0.24724589169943464], \"y\": [-1.8063135150409384, -0.7679513004948498, -0.8742919766403517, 0.3070143950458193, 1.1665253316654558, -0.2262683166260905, -0.4917852269151437, -0.08073729843021035, 2.8334375843659645, 1.1532207799473548, -0.03814254313590681, -0.10568906458824325, -0.31317568710161725, 0.999191108558023, 0.8385632979585733, 0.41534933039874006, 0.8797805528306242, -1.2497080083648895, -1.7911041602373101, 0.7630643074653287, 2.5892130854872626, -0.5439208326964506, -1.3750796123608928, -1.729704664812876, 0.5578288145910832, 1.0036536830512153, -0.1714020047363067, -0.19405615495300366, 0.6919399765482697, 0.9695804954012914, 1.350663420111455, -1.240062693169029, -1.348240459508053, 1.4623370752557971, -0.48168927519920546, 0.39784876136248515, -0.9024576145690437, -0.6935679814885369, -0.3761127379085823, -0.36623141625460714, -0.2451594279515256, 0.026402940006598093, -0.32046021467091446, 1.1112009255824087, 0.2187696308981625, -2.505044161953846, -0.6162072553432347, -0.015565844051689669, 1.7854810856777485, 0.3541192142490893, 0.5263691204633134, 1.3994577056620974, -1.3428712151096527, 1.1255059881410612, 0.9500501528505452, 0.23415698180013855, 0.15335525171261927, -0.052071479834325515, -1.4232941345045214, 0.7132256996685288, 0.5489697164118927, -0.5726168408446426, 0.4621316906319872, 2.0945996369123625, -0.6293460980779058, 1.0075453751062597, 0.10083326030721385, -2.2013485061886473, -0.3898105142975688, -1.0896725401553105, -1.8597732189447154, 0.3905174313184132, -0.3104515621834238, 0.8040065537583236, -1.0797745253519242, 0.8367161653986137, -1.2674111303051174, -0.6763387257899182, -1.092639906945907, 1.0449811622012086, 1.8517700485195743, -0.13757886943215655, 0.7259595503006789, -0.9096144399987279, 0.6074501093482007, -0.7191397729519661, 1.907848397028853, -0.8418897038835749, 0.06575111015677335, -2.0389882885122126, -1.53917556051178, 0.9015627864510748, 0.09360031995000555, 0.10739423129650766, 0.6419278156297985, -0.23432958246422325, 0.1178203071042369, -0.9005807904385831, 1.2181737505496018, -0.5324878800398267]}],\n",
       "                        {\"legend\": {\"bgcolor\": \"#F5F6F9\", \"font\": {\"color\": \"#4D5663\"}}, \"paper_bgcolor\": \"#F5F6F9\", \"plot_bgcolor\": \"#F5F6F9\", \"template\": {\"data\": {\"bar\": [{\"error_x\": {\"color\": \"#2a3f5f\"}, \"error_y\": {\"color\": \"#2a3f5f\"}, \"marker\": {\"line\": {\"color\": \"#E5ECF6\", \"width\": 0.5}}, \"type\": \"bar\"}], \"barpolar\": [{\"marker\": {\"line\": {\"color\": \"#E5ECF6\", \"width\": 0.5}}, \"type\": \"barpolar\"}], \"carpet\": [{\"aaxis\": {\"endlinecolor\": \"#2a3f5f\", \"gridcolor\": \"white\", \"linecolor\": \"white\", \"minorgridcolor\": \"white\", \"startlinecolor\": \"#2a3f5f\"}, \"baxis\": {\"endlinecolor\": \"#2a3f5f\", \"gridcolor\": \"white\", \"linecolor\": \"white\", \"minorgridcolor\": \"white\", \"startlinecolor\": \"#2a3f5f\"}, \"type\": \"carpet\"}], \"choropleth\": [{\"colorbar\": {\"outlinewidth\": 0, \"ticks\": \"\"}, \"type\": \"choropleth\"}], \"contour\": [{\"colorbar\": {\"outlinewidth\": 0, \"ticks\": \"\"}, \"colorscale\": [[0.0, \"#0d0887\"], [0.1111111111111111, \"#46039f\"], [0.2222222222222222, \"#7201a8\"], [0.3333333333333333, \"#9c179e\"], [0.4444444444444444, \"#bd3786\"], [0.5555555555555556, \"#d8576b\"], [0.6666666666666666, \"#ed7953\"], [0.7777777777777778, \"#fb9f3a\"], [0.8888888888888888, \"#fdca26\"], [1.0, \"#f0f921\"]], \"type\": \"contour\"}], \"contourcarpet\": [{\"colorbar\": {\"outlinewidth\": 0, \"ticks\": \"\"}, \"type\": \"contourcarpet\"}], \"heatmap\": [{\"colorbar\": {\"outlinewidth\": 0, \"ticks\": \"\"}, \"colorscale\": [[0.0, \"#0d0887\"], [0.1111111111111111, \"#46039f\"], [0.2222222222222222, \"#7201a8\"], [0.3333333333333333, \"#9c179e\"], [0.4444444444444444, \"#bd3786\"], [0.5555555555555556, \"#d8576b\"], [0.6666666666666666, \"#ed7953\"], [0.7777777777777778, \"#fb9f3a\"], [0.8888888888888888, \"#fdca26\"], [1.0, \"#f0f921\"]], \"type\": \"heatmap\"}], \"heatmapgl\": [{\"colorbar\": {\"outlinewidth\": 0, \"ticks\": \"\"}, \"colorscale\": [[0.0, \"#0d0887\"], [0.1111111111111111, \"#46039f\"], [0.2222222222222222, \"#7201a8\"], [0.3333333333333333, \"#9c179e\"], [0.4444444444444444, \"#bd3786\"], [0.5555555555555556, \"#d8576b\"], [0.6666666666666666, \"#ed7953\"], [0.7777777777777778, \"#fb9f3a\"], [0.8888888888888888, \"#fdca26\"], [1.0, \"#f0f921\"]], \"type\": \"heatmapgl\"}], \"histogram\": [{\"marker\": {\"colorbar\": {\"outlinewidth\": 0, \"ticks\": \"\"}}, \"type\": \"histogram\"}], \"histogram2d\": [{\"colorbar\": {\"outlinewidth\": 0, \"ticks\": \"\"}, \"colorscale\": [[0.0, \"#0d0887\"], [0.1111111111111111, \"#46039f\"], [0.2222222222222222, \"#7201a8\"], [0.3333333333333333, \"#9c179e\"], [0.4444444444444444, \"#bd3786\"], [0.5555555555555556, \"#d8576b\"], [0.6666666666666666, \"#ed7953\"], [0.7777777777777778, \"#fb9f3a\"], [0.8888888888888888, \"#fdca26\"], [1.0, \"#f0f921\"]], \"type\": \"histogram2d\"}], \"histogram2dcontour\": [{\"colorbar\": {\"outlinewidth\": 0, \"ticks\": \"\"}, \"colorscale\": [[0.0, \"#0d0887\"], [0.1111111111111111, \"#46039f\"], [0.2222222222222222, \"#7201a8\"], [0.3333333333333333, \"#9c179e\"], [0.4444444444444444, \"#bd3786\"], [0.5555555555555556, \"#d8576b\"], [0.6666666666666666, \"#ed7953\"], [0.7777777777777778, \"#fb9f3a\"], [0.8888888888888888, \"#fdca26\"], [1.0, \"#f0f921\"]], \"type\": \"histogram2dcontour\"}], \"mesh3d\": [{\"colorbar\": {\"outlinewidth\": 0, \"ticks\": \"\"}, \"type\": \"mesh3d\"}], \"parcoords\": [{\"line\": {\"colorbar\": {\"outlinewidth\": 0, \"ticks\": \"\"}}, \"type\": \"parcoords\"}], \"pie\": [{\"automargin\": true, \"type\": \"pie\"}], \"scatter\": [{\"marker\": {\"colorbar\": {\"outlinewidth\": 0, \"ticks\": \"\"}}, \"type\": \"scatter\"}], \"scatter3d\": [{\"line\": {\"colorbar\": {\"outlinewidth\": 0, \"ticks\": \"\"}}, \"marker\": {\"colorbar\": {\"outlinewidth\": 0, \"ticks\": \"\"}}, \"type\": \"scatter3d\"}], \"scattercarpet\": [{\"marker\": {\"colorbar\": {\"outlinewidth\": 0, \"ticks\": \"\"}}, \"type\": \"scattercarpet\"}], \"scattergeo\": [{\"marker\": {\"colorbar\": {\"outlinewidth\": 0, \"ticks\": \"\"}}, \"type\": \"scattergeo\"}], \"scattergl\": [{\"marker\": {\"colorbar\": {\"outlinewidth\": 0, \"ticks\": \"\"}}, \"type\": \"scattergl\"}], \"scattermapbox\": [{\"marker\": {\"colorbar\": {\"outlinewidth\": 0, \"ticks\": \"\"}}, \"type\": \"scattermapbox\"}], \"scatterpolar\": [{\"marker\": {\"colorbar\": {\"outlinewidth\": 0, \"ticks\": \"\"}}, \"type\": \"scatterpolar\"}], \"scatterpolargl\": [{\"marker\": {\"colorbar\": {\"outlinewidth\": 0, \"ticks\": \"\"}}, \"type\": \"scatterpolargl\"}], \"scatterternary\": [{\"marker\": {\"colorbar\": {\"outlinewidth\": 0, \"ticks\": \"\"}}, \"type\": \"scatterternary\"}], \"surface\": [{\"colorbar\": {\"outlinewidth\": 0, \"ticks\": \"\"}, \"colorscale\": [[0.0, \"#0d0887\"], [0.1111111111111111, \"#46039f\"], [0.2222222222222222, \"#7201a8\"], [0.3333333333333333, \"#9c179e\"], [0.4444444444444444, \"#bd3786\"], [0.5555555555555556, \"#d8576b\"], [0.6666666666666666, \"#ed7953\"], [0.7777777777777778, \"#fb9f3a\"], [0.8888888888888888, \"#fdca26\"], [1.0, \"#f0f921\"]], \"type\": \"surface\"}], \"table\": [{\"cells\": {\"fill\": {\"color\": \"#EBF0F8\"}, \"line\": {\"color\": \"white\"}}, \"header\": {\"fill\": {\"color\": \"#C8D4E3\"}, \"line\": {\"color\": \"white\"}}, \"type\": \"table\"}]}, \"layout\": {\"annotationdefaults\": {\"arrowcolor\": \"#2a3f5f\", \"arrowhead\": 0, \"arrowwidth\": 1}, \"coloraxis\": {\"colorbar\": {\"outlinewidth\": 0, \"ticks\": \"\"}}, \"colorscale\": {\"diverging\": [[0, \"#8e0152\"], [0.1, \"#c51b7d\"], [0.2, \"#de77ae\"], [0.3, \"#f1b6da\"], [0.4, \"#fde0ef\"], [0.5, \"#f7f7f7\"], [0.6, \"#e6f5d0\"], [0.7, \"#b8e186\"], [0.8, \"#7fbc41\"], [0.9, \"#4d9221\"], [1, \"#276419\"]], \"sequential\": [[0.0, \"#0d0887\"], [0.1111111111111111, \"#46039f\"], [0.2222222222222222, \"#7201a8\"], [0.3333333333333333, \"#9c179e\"], [0.4444444444444444, \"#bd3786\"], [0.5555555555555556, \"#d8576b\"], [0.6666666666666666, \"#ed7953\"], [0.7777777777777778, \"#fb9f3a\"], [0.8888888888888888, \"#fdca26\"], [1.0, \"#f0f921\"]], \"sequentialminus\": [[0.0, \"#0d0887\"], [0.1111111111111111, \"#46039f\"], [0.2222222222222222, \"#7201a8\"], [0.3333333333333333, \"#9c179e\"], [0.4444444444444444, \"#bd3786\"], [0.5555555555555556, \"#d8576b\"], [0.6666666666666666, \"#ed7953\"], [0.7777777777777778, \"#fb9f3a\"], [0.8888888888888888, \"#fdca26\"], [1.0, \"#f0f921\"]]}, \"colorway\": [\"#636efa\", \"#EF553B\", \"#00cc96\", \"#ab63fa\", \"#FFA15A\", \"#19d3f3\", \"#FF6692\", \"#B6E880\", \"#FF97FF\", \"#FECB52\"], \"font\": {\"color\": \"#2a3f5f\"}, \"geo\": {\"bgcolor\": \"white\", \"lakecolor\": \"white\", \"landcolor\": \"#E5ECF6\", \"showlakes\": true, \"showland\": true, \"subunitcolor\": \"white\"}, \"hoverlabel\": {\"align\": \"left\"}, \"hovermode\": \"closest\", \"mapbox\": {\"style\": \"light\"}, \"paper_bgcolor\": \"white\", \"plot_bgcolor\": \"#E5ECF6\", \"polar\": {\"angularaxis\": {\"gridcolor\": \"white\", \"linecolor\": \"white\", \"ticks\": \"\"}, \"bgcolor\": \"#E5ECF6\", \"radialaxis\": {\"gridcolor\": \"white\", \"linecolor\": \"white\", \"ticks\": \"\"}}, \"scene\": {\"xaxis\": {\"backgroundcolor\": \"#E5ECF6\", \"gridcolor\": \"white\", \"gridwidth\": 2, \"linecolor\": \"white\", \"showbackground\": true, \"ticks\": \"\", \"zerolinecolor\": \"white\"}, \"yaxis\": {\"backgroundcolor\": \"#E5ECF6\", \"gridcolor\": \"white\", \"gridwidth\": 2, \"linecolor\": \"white\", \"showbackground\": true, \"ticks\": \"\", \"zerolinecolor\": \"white\"}, \"zaxis\": {\"backgroundcolor\": \"#E5ECF6\", \"gridcolor\": \"white\", \"gridwidth\": 2, \"linecolor\": \"white\", \"showbackground\": true, \"ticks\": \"\", \"zerolinecolor\": \"white\"}}, \"shapedefaults\": {\"line\": {\"color\": \"#2a3f5f\"}}, \"ternary\": {\"aaxis\": {\"gridcolor\": \"white\", \"linecolor\": \"white\", \"ticks\": \"\"}, \"baxis\": {\"gridcolor\": \"white\", \"linecolor\": \"white\", \"ticks\": \"\"}, \"bgcolor\": \"#E5ECF6\", \"caxis\": {\"gridcolor\": \"white\", \"linecolor\": \"white\", \"ticks\": \"\"}}, \"title\": {\"x\": 0.05}, \"xaxis\": {\"automargin\": true, \"gridcolor\": \"white\", \"linecolor\": \"white\", \"ticks\": \"\", \"title\": {\"standoff\": 15}, \"zerolinecolor\": \"white\", \"zerolinewidth\": 2}, \"yaxis\": {\"automargin\": true, \"gridcolor\": \"white\", \"linecolor\": \"white\", \"ticks\": \"\", \"title\": {\"standoff\": 15}, \"zerolinecolor\": \"white\", \"zerolinewidth\": 2}}}, \"title\": {\"font\": {\"color\": \"#4D5663\"}}, \"xaxis\": {\"gridcolor\": \"#E1E5ED\", \"showgrid\": true, \"tickfont\": {\"color\": \"#4D5663\"}, \"title\": {\"font\": {\"color\": \"#4D5663\"}, \"text\": \"\"}, \"zerolinecolor\": \"#E1E5ED\"}, \"yaxis\": {\"gridcolor\": \"#E1E5ED\", \"showgrid\": true, \"tickfont\": {\"color\": \"#4D5663\"}, \"title\": {\"font\": {\"color\": \"#4D5663\"}, \"text\": \"\"}, \"zerolinecolor\": \"#E1E5ED\"}},\n",
       "                        {\"showLink\": true, \"linkText\": \"Export to plotly.com\", \"plotlyServerURL\": \"https://plotly.com\", \"responsive\": true}\n",
       "                    ).then(function(){\n",
       "                            \n",
       "var gd = document.getElementById('0c70f1f8-29af-431e-aaf5-927a3e9786fa');\n",
       "var x = new MutationObserver(function (mutations, observer) {{\n",
       "        var display = window.getComputedStyle(gd).display;\n",
       "        if (!display || display === 'none') {{\n",
       "            console.log([gd, 'removed!']);\n",
       "            Plotly.purge(gd);\n",
       "            observer.disconnect();\n",
       "        }}\n",
       "}});\n",
       "\n",
       "// Listen for the removal of the full notebook cells\n",
       "var notebookContainer = gd.closest('#notebook-container');\n",
       "if (notebookContainer) {{\n",
       "    x.observe(notebookContainer, {childList: true});\n",
       "}}\n",
       "\n",
       "// Listen for the clearing of the current output cell\n",
       "var outputEl = gd.closest('.output');\n",
       "if (outputEl) {{\n",
       "    x.observe(outputEl, {childList: true});\n",
       "}}\n",
       "\n",
       "                        })\n",
       "                };\n",
       "                });\n",
       "            </script>\n",
       "        </div>"
      ]
     },
     "metadata": {},
     "output_type": "display_data"
    }
   ],
   "source": [
    "df.iplot(kind='scatter', x='A',y='B', mode='markers')"
   ]
  },
  {
   "cell_type": "code",
   "execution_count": 7,
   "metadata": {},
   "outputs": [
    {
     "data": {
      "application/vnd.plotly.v1+json": {
       "config": {
        "linkText": "Export to plotly.com",
        "plotlyServerURL": "https://plotly.com",
        "showLink": true
       },
       "data": [
        {
         "marker": {
          "color": "rgba(255, 153, 51, 0.6)",
          "line": {
           "color": "rgba(255, 153, 51, 1.0)",
           "width": 1
          }
         },
         "name": "None",
         "orientation": "v",
         "text": "",
         "type": "bar",
         "x": [
          "A",
          "B",
          "C",
          "D"
         ],
         "y": [
          10.66979659454321,
          -0.20446862083134631,
          -9.448176337418616,
          13.58211101055033
         ]
        }
       ],
       "layout": {
        "legend": {
         "bgcolor": "#F5F6F9",
         "font": {
          "color": "#4D5663"
         }
        },
        "paper_bgcolor": "#F5F6F9",
        "plot_bgcolor": "#F5F6F9",
        "template": {
         "data": {
          "bar": [
           {
            "error_x": {
             "color": "#2a3f5f"
            },
            "error_y": {
             "color": "#2a3f5f"
            },
            "marker": {
             "line": {
              "color": "#E5ECF6",
              "width": 0.5
             }
            },
            "type": "bar"
           }
          ],
          "barpolar": [
           {
            "marker": {
             "line": {
              "color": "#E5ECF6",
              "width": 0.5
             }
            },
            "type": "barpolar"
           }
          ],
          "carpet": [
           {
            "aaxis": {
             "endlinecolor": "#2a3f5f",
             "gridcolor": "white",
             "linecolor": "white",
             "minorgridcolor": "white",
             "startlinecolor": "#2a3f5f"
            },
            "baxis": {
             "endlinecolor": "#2a3f5f",
             "gridcolor": "white",
             "linecolor": "white",
             "minorgridcolor": "white",
             "startlinecolor": "#2a3f5f"
            },
            "type": "carpet"
           }
          ],
          "choropleth": [
           {
            "colorbar": {
             "outlinewidth": 0,
             "ticks": ""
            },
            "type": "choropleth"
           }
          ],
          "contour": [
           {
            "colorbar": {
             "outlinewidth": 0,
             "ticks": ""
            },
            "colorscale": [
             [
              0,
              "#0d0887"
             ],
             [
              0.1111111111111111,
              "#46039f"
             ],
             [
              0.2222222222222222,
              "#7201a8"
             ],
             [
              0.3333333333333333,
              "#9c179e"
             ],
             [
              0.4444444444444444,
              "#bd3786"
             ],
             [
              0.5555555555555556,
              "#d8576b"
             ],
             [
              0.6666666666666666,
              "#ed7953"
             ],
             [
              0.7777777777777778,
              "#fb9f3a"
             ],
             [
              0.8888888888888888,
              "#fdca26"
             ],
             [
              1,
              "#f0f921"
             ]
            ],
            "type": "contour"
           }
          ],
          "contourcarpet": [
           {
            "colorbar": {
             "outlinewidth": 0,
             "ticks": ""
            },
            "type": "contourcarpet"
           }
          ],
          "heatmap": [
           {
            "colorbar": {
             "outlinewidth": 0,
             "ticks": ""
            },
            "colorscale": [
             [
              0,
              "#0d0887"
             ],
             [
              0.1111111111111111,
              "#46039f"
             ],
             [
              0.2222222222222222,
              "#7201a8"
             ],
             [
              0.3333333333333333,
              "#9c179e"
             ],
             [
              0.4444444444444444,
              "#bd3786"
             ],
             [
              0.5555555555555556,
              "#d8576b"
             ],
             [
              0.6666666666666666,
              "#ed7953"
             ],
             [
              0.7777777777777778,
              "#fb9f3a"
             ],
             [
              0.8888888888888888,
              "#fdca26"
             ],
             [
              1,
              "#f0f921"
             ]
            ],
            "type": "heatmap"
           }
          ],
          "heatmapgl": [
           {
            "colorbar": {
             "outlinewidth": 0,
             "ticks": ""
            },
            "colorscale": [
             [
              0,
              "#0d0887"
             ],
             [
              0.1111111111111111,
              "#46039f"
             ],
             [
              0.2222222222222222,
              "#7201a8"
             ],
             [
              0.3333333333333333,
              "#9c179e"
             ],
             [
              0.4444444444444444,
              "#bd3786"
             ],
             [
              0.5555555555555556,
              "#d8576b"
             ],
             [
              0.6666666666666666,
              "#ed7953"
             ],
             [
              0.7777777777777778,
              "#fb9f3a"
             ],
             [
              0.8888888888888888,
              "#fdca26"
             ],
             [
              1,
              "#f0f921"
             ]
            ],
            "type": "heatmapgl"
           }
          ],
          "histogram": [
           {
            "marker": {
             "colorbar": {
              "outlinewidth": 0,
              "ticks": ""
             }
            },
            "type": "histogram"
           }
          ],
          "histogram2d": [
           {
            "colorbar": {
             "outlinewidth": 0,
             "ticks": ""
            },
            "colorscale": [
             [
              0,
              "#0d0887"
             ],
             [
              0.1111111111111111,
              "#46039f"
             ],
             [
              0.2222222222222222,
              "#7201a8"
             ],
             [
              0.3333333333333333,
              "#9c179e"
             ],
             [
              0.4444444444444444,
              "#bd3786"
             ],
             [
              0.5555555555555556,
              "#d8576b"
             ],
             [
              0.6666666666666666,
              "#ed7953"
             ],
             [
              0.7777777777777778,
              "#fb9f3a"
             ],
             [
              0.8888888888888888,
              "#fdca26"
             ],
             [
              1,
              "#f0f921"
             ]
            ],
            "type": "histogram2d"
           }
          ],
          "histogram2dcontour": [
           {
            "colorbar": {
             "outlinewidth": 0,
             "ticks": ""
            },
            "colorscale": [
             [
              0,
              "#0d0887"
             ],
             [
              0.1111111111111111,
              "#46039f"
             ],
             [
              0.2222222222222222,
              "#7201a8"
             ],
             [
              0.3333333333333333,
              "#9c179e"
             ],
             [
              0.4444444444444444,
              "#bd3786"
             ],
             [
              0.5555555555555556,
              "#d8576b"
             ],
             [
              0.6666666666666666,
              "#ed7953"
             ],
             [
              0.7777777777777778,
              "#fb9f3a"
             ],
             [
              0.8888888888888888,
              "#fdca26"
             ],
             [
              1,
              "#f0f921"
             ]
            ],
            "type": "histogram2dcontour"
           }
          ],
          "mesh3d": [
           {
            "colorbar": {
             "outlinewidth": 0,
             "ticks": ""
            },
            "type": "mesh3d"
           }
          ],
          "parcoords": [
           {
            "line": {
             "colorbar": {
              "outlinewidth": 0,
              "ticks": ""
             }
            },
            "type": "parcoords"
           }
          ],
          "pie": [
           {
            "automargin": true,
            "type": "pie"
           }
          ],
          "scatter": [
           {
            "marker": {
             "colorbar": {
              "outlinewidth": 0,
              "ticks": ""
             }
            },
            "type": "scatter"
           }
          ],
          "scatter3d": [
           {
            "line": {
             "colorbar": {
              "outlinewidth": 0,
              "ticks": ""
             }
            },
            "marker": {
             "colorbar": {
              "outlinewidth": 0,
              "ticks": ""
             }
            },
            "type": "scatter3d"
           }
          ],
          "scattercarpet": [
           {
            "marker": {
             "colorbar": {
              "outlinewidth": 0,
              "ticks": ""
             }
            },
            "type": "scattercarpet"
           }
          ],
          "scattergeo": [
           {
            "marker": {
             "colorbar": {
              "outlinewidth": 0,
              "ticks": ""
             }
            },
            "type": "scattergeo"
           }
          ],
          "scattergl": [
           {
            "marker": {
             "colorbar": {
              "outlinewidth": 0,
              "ticks": ""
             }
            },
            "type": "scattergl"
           }
          ],
          "scattermapbox": [
           {
            "marker": {
             "colorbar": {
              "outlinewidth": 0,
              "ticks": ""
             }
            },
            "type": "scattermapbox"
           }
          ],
          "scatterpolar": [
           {
            "marker": {
             "colorbar": {
              "outlinewidth": 0,
              "ticks": ""
             }
            },
            "type": "scatterpolar"
           }
          ],
          "scatterpolargl": [
           {
            "marker": {
             "colorbar": {
              "outlinewidth": 0,
              "ticks": ""
             }
            },
            "type": "scatterpolargl"
           }
          ],
          "scatterternary": [
           {
            "marker": {
             "colorbar": {
              "outlinewidth": 0,
              "ticks": ""
             }
            },
            "type": "scatterternary"
           }
          ],
          "surface": [
           {
            "colorbar": {
             "outlinewidth": 0,
             "ticks": ""
            },
            "colorscale": [
             [
              0,
              "#0d0887"
             ],
             [
              0.1111111111111111,
              "#46039f"
             ],
             [
              0.2222222222222222,
              "#7201a8"
             ],
             [
              0.3333333333333333,
              "#9c179e"
             ],
             [
              0.4444444444444444,
              "#bd3786"
             ],
             [
              0.5555555555555556,
              "#d8576b"
             ],
             [
              0.6666666666666666,
              "#ed7953"
             ],
             [
              0.7777777777777778,
              "#fb9f3a"
             ],
             [
              0.8888888888888888,
              "#fdca26"
             ],
             [
              1,
              "#f0f921"
             ]
            ],
            "type": "surface"
           }
          ],
          "table": [
           {
            "cells": {
             "fill": {
              "color": "#EBF0F8"
             },
             "line": {
              "color": "white"
             }
            },
            "header": {
             "fill": {
              "color": "#C8D4E3"
             },
             "line": {
              "color": "white"
             }
            },
            "type": "table"
           }
          ]
         },
         "layout": {
          "annotationdefaults": {
           "arrowcolor": "#2a3f5f",
           "arrowhead": 0,
           "arrowwidth": 1
          },
          "coloraxis": {
           "colorbar": {
            "outlinewidth": 0,
            "ticks": ""
           }
          },
          "colorscale": {
           "diverging": [
            [
             0,
             "#8e0152"
            ],
            [
             0.1,
             "#c51b7d"
            ],
            [
             0.2,
             "#de77ae"
            ],
            [
             0.3,
             "#f1b6da"
            ],
            [
             0.4,
             "#fde0ef"
            ],
            [
             0.5,
             "#f7f7f7"
            ],
            [
             0.6,
             "#e6f5d0"
            ],
            [
             0.7,
             "#b8e186"
            ],
            [
             0.8,
             "#7fbc41"
            ],
            [
             0.9,
             "#4d9221"
            ],
            [
             1,
             "#276419"
            ]
           ],
           "sequential": [
            [
             0,
             "#0d0887"
            ],
            [
             0.1111111111111111,
             "#46039f"
            ],
            [
             0.2222222222222222,
             "#7201a8"
            ],
            [
             0.3333333333333333,
             "#9c179e"
            ],
            [
             0.4444444444444444,
             "#bd3786"
            ],
            [
             0.5555555555555556,
             "#d8576b"
            ],
            [
             0.6666666666666666,
             "#ed7953"
            ],
            [
             0.7777777777777778,
             "#fb9f3a"
            ],
            [
             0.8888888888888888,
             "#fdca26"
            ],
            [
             1,
             "#f0f921"
            ]
           ],
           "sequentialminus": [
            [
             0,
             "#0d0887"
            ],
            [
             0.1111111111111111,
             "#46039f"
            ],
            [
             0.2222222222222222,
             "#7201a8"
            ],
            [
             0.3333333333333333,
             "#9c179e"
            ],
            [
             0.4444444444444444,
             "#bd3786"
            ],
            [
             0.5555555555555556,
             "#d8576b"
            ],
            [
             0.6666666666666666,
             "#ed7953"
            ],
            [
             0.7777777777777778,
             "#fb9f3a"
            ],
            [
             0.8888888888888888,
             "#fdca26"
            ],
            [
             1,
             "#f0f921"
            ]
           ]
          },
          "colorway": [
           "#636efa",
           "#EF553B",
           "#00cc96",
           "#ab63fa",
           "#FFA15A",
           "#19d3f3",
           "#FF6692",
           "#B6E880",
           "#FF97FF",
           "#FECB52"
          ],
          "font": {
           "color": "#2a3f5f"
          },
          "geo": {
           "bgcolor": "white",
           "lakecolor": "white",
           "landcolor": "#E5ECF6",
           "showlakes": true,
           "showland": true,
           "subunitcolor": "white"
          },
          "hoverlabel": {
           "align": "left"
          },
          "hovermode": "closest",
          "mapbox": {
           "style": "light"
          },
          "paper_bgcolor": "white",
          "plot_bgcolor": "#E5ECF6",
          "polar": {
           "angularaxis": {
            "gridcolor": "white",
            "linecolor": "white",
            "ticks": ""
           },
           "bgcolor": "#E5ECF6",
           "radialaxis": {
            "gridcolor": "white",
            "linecolor": "white",
            "ticks": ""
           }
          },
          "scene": {
           "xaxis": {
            "backgroundcolor": "#E5ECF6",
            "gridcolor": "white",
            "gridwidth": 2,
            "linecolor": "white",
            "showbackground": true,
            "ticks": "",
            "zerolinecolor": "white"
           },
           "yaxis": {
            "backgroundcolor": "#E5ECF6",
            "gridcolor": "white",
            "gridwidth": 2,
            "linecolor": "white",
            "showbackground": true,
            "ticks": "",
            "zerolinecolor": "white"
           },
           "zaxis": {
            "backgroundcolor": "#E5ECF6",
            "gridcolor": "white",
            "gridwidth": 2,
            "linecolor": "white",
            "showbackground": true,
            "ticks": "",
            "zerolinecolor": "white"
           }
          },
          "shapedefaults": {
           "line": {
            "color": "#2a3f5f"
           }
          },
          "ternary": {
           "aaxis": {
            "gridcolor": "white",
            "linecolor": "white",
            "ticks": ""
           },
           "baxis": {
            "gridcolor": "white",
            "linecolor": "white",
            "ticks": ""
           },
           "bgcolor": "#E5ECF6",
           "caxis": {
            "gridcolor": "white",
            "linecolor": "white",
            "ticks": ""
           }
          },
          "title": {
           "x": 0.05
          },
          "xaxis": {
           "automargin": true,
           "gridcolor": "white",
           "linecolor": "white",
           "ticks": "",
           "title": {
            "standoff": 15
           },
           "zerolinecolor": "white",
           "zerolinewidth": 2
          },
          "yaxis": {
           "automargin": true,
           "gridcolor": "white",
           "linecolor": "white",
           "ticks": "",
           "title": {
            "standoff": 15
           },
           "zerolinecolor": "white",
           "zerolinewidth": 2
          }
         }
        },
        "title": {
         "font": {
          "color": "#4D5663"
         }
        },
        "xaxis": {
         "gridcolor": "#E1E5ED",
         "showgrid": true,
         "tickfont": {
          "color": "#4D5663"
         },
         "title": {
          "font": {
           "color": "#4D5663"
          },
          "text": ""
         },
         "zerolinecolor": "#E1E5ED"
        },
        "yaxis": {
         "gridcolor": "#E1E5ED",
         "showgrid": true,
         "tickfont": {
          "color": "#4D5663"
         },
         "title": {
          "font": {
           "color": "#4D5663"
          },
          "text": ""
         },
         "zerolinecolor": "#E1E5ED"
        }
       }
      },
      "text/html": [
       "<div>\n",
       "        \n",
       "        \n",
       "            <div id=\"693054ad-76d6-4dfe-a70e-9595740373cf\" class=\"plotly-graph-div\" style=\"height:525px; width:100%;\"></div>\n",
       "            <script type=\"text/javascript\">\n",
       "                require([\"plotly\"], function(Plotly) {\n",
       "                    window.PLOTLYENV=window.PLOTLYENV || {};\n",
       "                    window.PLOTLYENV.BASE_URL='https://plotly.com';\n",
       "                    \n",
       "                if (document.getElementById(\"693054ad-76d6-4dfe-a70e-9595740373cf\")) {\n",
       "                    Plotly.newPlot(\n",
       "                        '693054ad-76d6-4dfe-a70e-9595740373cf',\n",
       "                        [{\"marker\": {\"color\": \"rgba(255, 153, 51, 0.6)\", \"line\": {\"color\": \"rgba(255, 153, 51, 1.0)\", \"width\": 1}}, \"name\": \"None\", \"orientation\": \"v\", \"text\": \"\", \"type\": \"bar\", \"x\": [\"A\", \"B\", \"C\", \"D\"], \"y\": [10.66979659454321, -0.20446862083134631, -9.448176337418616, 13.58211101055033]}],\n",
       "                        {\"legend\": {\"bgcolor\": \"#F5F6F9\", \"font\": {\"color\": \"#4D5663\"}}, \"paper_bgcolor\": \"#F5F6F9\", \"plot_bgcolor\": \"#F5F6F9\", \"template\": {\"data\": {\"bar\": [{\"error_x\": {\"color\": \"#2a3f5f\"}, \"error_y\": {\"color\": \"#2a3f5f\"}, \"marker\": {\"line\": {\"color\": \"#E5ECF6\", \"width\": 0.5}}, \"type\": \"bar\"}], \"barpolar\": [{\"marker\": {\"line\": {\"color\": \"#E5ECF6\", \"width\": 0.5}}, \"type\": \"barpolar\"}], \"carpet\": [{\"aaxis\": {\"endlinecolor\": \"#2a3f5f\", \"gridcolor\": \"white\", \"linecolor\": \"white\", \"minorgridcolor\": \"white\", \"startlinecolor\": \"#2a3f5f\"}, \"baxis\": {\"endlinecolor\": \"#2a3f5f\", \"gridcolor\": \"white\", \"linecolor\": \"white\", \"minorgridcolor\": \"white\", \"startlinecolor\": \"#2a3f5f\"}, \"type\": \"carpet\"}], \"choropleth\": [{\"colorbar\": {\"outlinewidth\": 0, \"ticks\": \"\"}, \"type\": \"choropleth\"}], \"contour\": [{\"colorbar\": {\"outlinewidth\": 0, \"ticks\": \"\"}, \"colorscale\": [[0.0, \"#0d0887\"], [0.1111111111111111, \"#46039f\"], [0.2222222222222222, \"#7201a8\"], [0.3333333333333333, \"#9c179e\"], [0.4444444444444444, \"#bd3786\"], [0.5555555555555556, \"#d8576b\"], [0.6666666666666666, \"#ed7953\"], [0.7777777777777778, \"#fb9f3a\"], [0.8888888888888888, \"#fdca26\"], [1.0, \"#f0f921\"]], \"type\": \"contour\"}], \"contourcarpet\": [{\"colorbar\": {\"outlinewidth\": 0, \"ticks\": \"\"}, \"type\": \"contourcarpet\"}], \"heatmap\": [{\"colorbar\": {\"outlinewidth\": 0, \"ticks\": \"\"}, \"colorscale\": [[0.0, \"#0d0887\"], [0.1111111111111111, \"#46039f\"], [0.2222222222222222, \"#7201a8\"], [0.3333333333333333, \"#9c179e\"], [0.4444444444444444, \"#bd3786\"], [0.5555555555555556, \"#d8576b\"], [0.6666666666666666, \"#ed7953\"], [0.7777777777777778, \"#fb9f3a\"], [0.8888888888888888, \"#fdca26\"], [1.0, \"#f0f921\"]], \"type\": \"heatmap\"}], \"heatmapgl\": [{\"colorbar\": {\"outlinewidth\": 0, \"ticks\": \"\"}, \"colorscale\": [[0.0, \"#0d0887\"], [0.1111111111111111, \"#46039f\"], [0.2222222222222222, \"#7201a8\"], [0.3333333333333333, \"#9c179e\"], [0.4444444444444444, \"#bd3786\"], [0.5555555555555556, \"#d8576b\"], [0.6666666666666666, \"#ed7953\"], [0.7777777777777778, \"#fb9f3a\"], [0.8888888888888888, \"#fdca26\"], [1.0, \"#f0f921\"]], \"type\": \"heatmapgl\"}], \"histogram\": [{\"marker\": {\"colorbar\": {\"outlinewidth\": 0, \"ticks\": \"\"}}, \"type\": \"histogram\"}], \"histogram2d\": [{\"colorbar\": {\"outlinewidth\": 0, \"ticks\": \"\"}, \"colorscale\": [[0.0, \"#0d0887\"], [0.1111111111111111, \"#46039f\"], [0.2222222222222222, \"#7201a8\"], [0.3333333333333333, \"#9c179e\"], [0.4444444444444444, \"#bd3786\"], [0.5555555555555556, \"#d8576b\"], [0.6666666666666666, \"#ed7953\"], [0.7777777777777778, \"#fb9f3a\"], [0.8888888888888888, \"#fdca26\"], [1.0, \"#f0f921\"]], \"type\": \"histogram2d\"}], \"histogram2dcontour\": [{\"colorbar\": {\"outlinewidth\": 0, \"ticks\": \"\"}, \"colorscale\": [[0.0, \"#0d0887\"], [0.1111111111111111, \"#46039f\"], [0.2222222222222222, \"#7201a8\"], [0.3333333333333333, \"#9c179e\"], [0.4444444444444444, \"#bd3786\"], [0.5555555555555556, \"#d8576b\"], [0.6666666666666666, \"#ed7953\"], [0.7777777777777778, \"#fb9f3a\"], [0.8888888888888888, \"#fdca26\"], [1.0, \"#f0f921\"]], \"type\": \"histogram2dcontour\"}], \"mesh3d\": [{\"colorbar\": {\"outlinewidth\": 0, \"ticks\": \"\"}, \"type\": \"mesh3d\"}], \"parcoords\": [{\"line\": {\"colorbar\": {\"outlinewidth\": 0, \"ticks\": \"\"}}, \"type\": \"parcoords\"}], \"pie\": [{\"automargin\": true, \"type\": \"pie\"}], \"scatter\": [{\"marker\": {\"colorbar\": {\"outlinewidth\": 0, \"ticks\": \"\"}}, \"type\": \"scatter\"}], \"scatter3d\": [{\"line\": {\"colorbar\": {\"outlinewidth\": 0, \"ticks\": \"\"}}, \"marker\": {\"colorbar\": {\"outlinewidth\": 0, \"ticks\": \"\"}}, \"type\": \"scatter3d\"}], \"scattercarpet\": [{\"marker\": {\"colorbar\": {\"outlinewidth\": 0, \"ticks\": \"\"}}, \"type\": \"scattercarpet\"}], \"scattergeo\": [{\"marker\": {\"colorbar\": {\"outlinewidth\": 0, \"ticks\": \"\"}}, \"type\": \"scattergeo\"}], \"scattergl\": [{\"marker\": {\"colorbar\": {\"outlinewidth\": 0, \"ticks\": \"\"}}, \"type\": \"scattergl\"}], \"scattermapbox\": [{\"marker\": {\"colorbar\": {\"outlinewidth\": 0, \"ticks\": \"\"}}, \"type\": \"scattermapbox\"}], \"scatterpolar\": [{\"marker\": {\"colorbar\": {\"outlinewidth\": 0, \"ticks\": \"\"}}, \"type\": \"scatterpolar\"}], \"scatterpolargl\": [{\"marker\": {\"colorbar\": {\"outlinewidth\": 0, \"ticks\": \"\"}}, \"type\": \"scatterpolargl\"}], \"scatterternary\": [{\"marker\": {\"colorbar\": {\"outlinewidth\": 0, \"ticks\": \"\"}}, \"type\": \"scatterternary\"}], \"surface\": [{\"colorbar\": {\"outlinewidth\": 0, \"ticks\": \"\"}, \"colorscale\": [[0.0, \"#0d0887\"], [0.1111111111111111, \"#46039f\"], [0.2222222222222222, \"#7201a8\"], [0.3333333333333333, \"#9c179e\"], [0.4444444444444444, \"#bd3786\"], [0.5555555555555556, \"#d8576b\"], [0.6666666666666666, \"#ed7953\"], [0.7777777777777778, \"#fb9f3a\"], [0.8888888888888888, \"#fdca26\"], [1.0, \"#f0f921\"]], \"type\": \"surface\"}], \"table\": [{\"cells\": {\"fill\": {\"color\": \"#EBF0F8\"}, \"line\": {\"color\": \"white\"}}, \"header\": {\"fill\": {\"color\": \"#C8D4E3\"}, \"line\": {\"color\": \"white\"}}, \"type\": \"table\"}]}, \"layout\": {\"annotationdefaults\": {\"arrowcolor\": \"#2a3f5f\", \"arrowhead\": 0, \"arrowwidth\": 1}, \"coloraxis\": {\"colorbar\": {\"outlinewidth\": 0, \"ticks\": \"\"}}, \"colorscale\": {\"diverging\": [[0, \"#8e0152\"], [0.1, \"#c51b7d\"], [0.2, \"#de77ae\"], [0.3, \"#f1b6da\"], [0.4, \"#fde0ef\"], [0.5, \"#f7f7f7\"], [0.6, \"#e6f5d0\"], [0.7, \"#b8e186\"], [0.8, \"#7fbc41\"], [0.9, \"#4d9221\"], [1, \"#276419\"]], \"sequential\": [[0.0, \"#0d0887\"], [0.1111111111111111, \"#46039f\"], [0.2222222222222222, \"#7201a8\"], [0.3333333333333333, \"#9c179e\"], [0.4444444444444444, \"#bd3786\"], [0.5555555555555556, \"#d8576b\"], [0.6666666666666666, \"#ed7953\"], [0.7777777777777778, \"#fb9f3a\"], [0.8888888888888888, \"#fdca26\"], [1.0, \"#f0f921\"]], \"sequentialminus\": [[0.0, \"#0d0887\"], [0.1111111111111111, \"#46039f\"], [0.2222222222222222, \"#7201a8\"], [0.3333333333333333, \"#9c179e\"], [0.4444444444444444, \"#bd3786\"], [0.5555555555555556, \"#d8576b\"], [0.6666666666666666, \"#ed7953\"], [0.7777777777777778, \"#fb9f3a\"], [0.8888888888888888, \"#fdca26\"], [1.0, \"#f0f921\"]]}, \"colorway\": [\"#636efa\", \"#EF553B\", \"#00cc96\", \"#ab63fa\", \"#FFA15A\", \"#19d3f3\", \"#FF6692\", \"#B6E880\", \"#FF97FF\", \"#FECB52\"], \"font\": {\"color\": \"#2a3f5f\"}, \"geo\": {\"bgcolor\": \"white\", \"lakecolor\": \"white\", \"landcolor\": \"#E5ECF6\", \"showlakes\": true, \"showland\": true, \"subunitcolor\": \"white\"}, \"hoverlabel\": {\"align\": \"left\"}, \"hovermode\": \"closest\", \"mapbox\": {\"style\": \"light\"}, \"paper_bgcolor\": \"white\", \"plot_bgcolor\": \"#E5ECF6\", \"polar\": {\"angularaxis\": {\"gridcolor\": \"white\", \"linecolor\": \"white\", \"ticks\": \"\"}, \"bgcolor\": \"#E5ECF6\", \"radialaxis\": {\"gridcolor\": \"white\", \"linecolor\": \"white\", \"ticks\": \"\"}}, \"scene\": {\"xaxis\": {\"backgroundcolor\": \"#E5ECF6\", \"gridcolor\": \"white\", \"gridwidth\": 2, \"linecolor\": \"white\", \"showbackground\": true, \"ticks\": \"\", \"zerolinecolor\": \"white\"}, \"yaxis\": {\"backgroundcolor\": \"#E5ECF6\", \"gridcolor\": \"white\", \"gridwidth\": 2, \"linecolor\": \"white\", \"showbackground\": true, \"ticks\": \"\", \"zerolinecolor\": \"white\"}, \"zaxis\": {\"backgroundcolor\": \"#E5ECF6\", \"gridcolor\": \"white\", \"gridwidth\": 2, \"linecolor\": \"white\", \"showbackground\": true, \"ticks\": \"\", \"zerolinecolor\": \"white\"}}, \"shapedefaults\": {\"line\": {\"color\": \"#2a3f5f\"}}, \"ternary\": {\"aaxis\": {\"gridcolor\": \"white\", \"linecolor\": \"white\", \"ticks\": \"\"}, \"baxis\": {\"gridcolor\": \"white\", \"linecolor\": \"white\", \"ticks\": \"\"}, \"bgcolor\": \"#E5ECF6\", \"caxis\": {\"gridcolor\": \"white\", \"linecolor\": \"white\", \"ticks\": \"\"}}, \"title\": {\"x\": 0.05}, \"xaxis\": {\"automargin\": true, \"gridcolor\": \"white\", \"linecolor\": \"white\", \"ticks\": \"\", \"title\": {\"standoff\": 15}, \"zerolinecolor\": \"white\", \"zerolinewidth\": 2}, \"yaxis\": {\"automargin\": true, \"gridcolor\": \"white\", \"linecolor\": \"white\", \"ticks\": \"\", \"title\": {\"standoff\": 15}, \"zerolinecolor\": \"white\", \"zerolinewidth\": 2}}}, \"title\": {\"font\": {\"color\": \"#4D5663\"}}, \"xaxis\": {\"gridcolor\": \"#E1E5ED\", \"showgrid\": true, \"tickfont\": {\"color\": \"#4D5663\"}, \"title\": {\"font\": {\"color\": \"#4D5663\"}, \"text\": \"\"}, \"zerolinecolor\": \"#E1E5ED\"}, \"yaxis\": {\"gridcolor\": \"#E1E5ED\", \"showgrid\": true, \"tickfont\": {\"color\": \"#4D5663\"}, \"title\": {\"font\": {\"color\": \"#4D5663\"}, \"text\": \"\"}, \"zerolinecolor\": \"#E1E5ED\"}},\n",
       "                        {\"showLink\": true, \"linkText\": \"Export to plotly.com\", \"plotlyServerURL\": \"https://plotly.com\", \"responsive\": true}\n",
       "                    ).then(function(){\n",
       "                            \n",
       "var gd = document.getElementById('693054ad-76d6-4dfe-a70e-9595740373cf');\n",
       "var x = new MutationObserver(function (mutations, observer) {{\n",
       "        var display = window.getComputedStyle(gd).display;\n",
       "        if (!display || display === 'none') {{\n",
       "            console.log([gd, 'removed!']);\n",
       "            Plotly.purge(gd);\n",
       "            observer.disconnect();\n",
       "        }}\n",
       "}});\n",
       "\n",
       "// Listen for the removal of the full notebook cells\n",
       "var notebookContainer = gd.closest('#notebook-container');\n",
       "if (notebookContainer) {{\n",
       "    x.observe(notebookContainer, {childList: true});\n",
       "}}\n",
       "\n",
       "// Listen for the clearing of the current output cell\n",
       "var outputEl = gd.closest('.output');\n",
       "if (outputEl) {{\n",
       "    x.observe(outputEl, {childList: true});\n",
       "}}\n",
       "\n",
       "                        })\n",
       "                };\n",
       "                });\n",
       "            </script>\n",
       "        </div>"
      ]
     },
     "metadata": {},
     "output_type": "display_data"
    }
   ],
   "source": [
    "df.sum().iplot(kind='bar')"
   ]
  },
  {
   "cell_type": "code",
   "execution_count": 8,
   "metadata": {},
   "outputs": [
    {
     "data": {
      "application/vnd.plotly.v1+json": {
       "config": {
        "linkText": "Export to plotly.com",
        "plotlyServerURL": "https://plotly.com",
        "showLink": true
       },
       "data": [
        {
         "boxpoints": false,
         "line": {
          "width": 1.3
         },
         "marker": {
          "color": "rgba(255, 153, 51, 1.0)"
         },
         "name": "A",
         "orientation": "v",
         "type": "box",
         "y": [
          -1.3915514466454946,
          -0.25186847805576157,
          0.9579228727741338,
          0.6029271487268496,
          0.416448674464561,
          0.34063531233394767,
          -0.08459004387470692,
          0.713619317860425,
          1.7908137198587653,
          -0.07774446546417446,
          0.7818861612515148,
          -0.08045802462218049,
          -1.3925376997334935,
          -0.25889123457565444,
          -1.2380068464047667,
          -1.6796053268216884,
          1.1389527186859345,
          -2.15319053603754,
          0.24225207650860273,
          0.5323379650228895,
          -0.2096440229785707,
          0.21953657917641956,
          -1.0938795941576012,
          -0.10577547603312083,
          0.6384250404551687,
          -0.2721945316885118,
          3.265738204544427,
          0.3766017189657574,
          0.33886279379065204,
          1.2190050065519333,
          0.3104100087786091,
          0.26952115201931115,
          -2.3923810892739246,
          0.8770803830120577,
          0.6561754993661268,
          -1.2310665672205874,
          -1.1856641101789074,
          0.41805322561991626,
          -0.9247175847838351,
          0.23277995300774626,
          0.4067275700600627,
          -1.428613771269792,
          1.4839020736203505,
          0.7633645943548794,
          2.7756705575375586,
          -0.46463372800975183,
          0.004306649259857492,
          0.9645256070376517,
          -0.005185290726101883,
          2.6020206278107167,
          -0.885626602219863,
          1.3517771551572877,
          1.4041522296440263,
          -0.37747456790116,
          0.15412506809685084,
          -1.3868854662382721,
          0.6433483582256894,
          0.9983683388092811,
          -0.12169074845217757,
          -2.1176310033064594,
          -0.06264728472444926,
          -1.0150462339749775,
          0.7360528445825723,
          0.5333439301874713,
          0.35198578229550376,
          0.6072697451499537,
          -2.124423431145739,
          0.45861870101295915,
          0.3901706387730426,
          0.9359092339197448,
          -0.1480147716292342,
          -0.4323566165303779,
          0.7653655916578783,
          -0.19732640194278503,
          -0.1465413420198137,
          0.7142610412011294,
          1.1418243316888386,
          -0.3253132381128121,
          1.5515260657660772,
          0.309161311286864,
          -0.8358998861552829,
          1.3655510433969495,
          0.0632015316988487,
          -0.016827268343440532,
          0.7506720191468409,
          -0.5595071040238351,
          -0.6947205233455448,
          1.142499758085739,
          -2.147256982261882,
          -1.02211137709033,
          0.4065176710241965,
          0.5728619428353131,
          -0.2066640210509487,
          -0.9245155918409756,
          0.19822024602242874,
          1.4207896192934248,
          -1.67439132302367,
          0.8101476190574366,
          1.1438891096596677,
          -0.24724589169943464
         ]
        },
        {
         "boxpoints": false,
         "line": {
          "width": 1.3
         },
         "marker": {
          "color": "rgba(55, 128, 191, 1.0)"
         },
         "name": "B",
         "orientation": "v",
         "type": "box",
         "y": [
          -1.8063135150409384,
          -0.7679513004948498,
          -0.8742919766403517,
          0.3070143950458193,
          1.1665253316654558,
          -0.2262683166260905,
          -0.4917852269151437,
          -0.08073729843021035,
          2.8334375843659645,
          1.1532207799473548,
          -0.03814254313590681,
          -0.10568906458824325,
          -0.31317568710161725,
          0.999191108558023,
          0.8385632979585733,
          0.41534933039874006,
          0.8797805528306242,
          -1.2497080083648895,
          -1.7911041602373101,
          0.7630643074653287,
          2.5892130854872626,
          -0.5439208326964506,
          -1.3750796123608928,
          -1.729704664812876,
          0.5578288145910832,
          1.0036536830512153,
          -0.1714020047363067,
          -0.19405615495300366,
          0.6919399765482697,
          0.9695804954012914,
          1.350663420111455,
          -1.240062693169029,
          -1.348240459508053,
          1.4623370752557971,
          -0.48168927519920546,
          0.39784876136248515,
          -0.9024576145690437,
          -0.6935679814885369,
          -0.3761127379085823,
          -0.36623141625460714,
          -0.2451594279515256,
          0.026402940006598093,
          -0.32046021467091446,
          1.1112009255824087,
          0.2187696308981625,
          -2.505044161953846,
          -0.6162072553432347,
          -0.015565844051689669,
          1.7854810856777485,
          0.3541192142490893,
          0.5263691204633134,
          1.3994577056620974,
          -1.3428712151096527,
          1.1255059881410612,
          0.9500501528505452,
          0.23415698180013855,
          0.15335525171261927,
          -0.052071479834325515,
          -1.4232941345045214,
          0.7132256996685288,
          0.5489697164118927,
          -0.5726168408446426,
          0.4621316906319872,
          2.0945996369123625,
          -0.6293460980779058,
          1.0075453751062597,
          0.10083326030721385,
          -2.2013485061886473,
          -0.3898105142975688,
          -1.0896725401553105,
          -1.8597732189447154,
          0.3905174313184132,
          -0.3104515621834238,
          0.8040065537583236,
          -1.0797745253519242,
          0.8367161653986137,
          -1.2674111303051174,
          -0.6763387257899182,
          -1.092639906945907,
          1.0449811622012086,
          1.8517700485195743,
          -0.13757886943215655,
          0.7259595503006789,
          -0.9096144399987279,
          0.6074501093482007,
          -0.7191397729519661,
          1.907848397028853,
          -0.8418897038835749,
          0.06575111015677335,
          -2.0389882885122126,
          -1.53917556051178,
          0.9015627864510748,
          0.09360031995000555,
          0.10739423129650766,
          0.6419278156297985,
          -0.23432958246422325,
          0.1178203071042369,
          -0.9005807904385831,
          1.2181737505496018,
          -0.5324878800398267
         ]
        },
        {
         "boxpoints": false,
         "line": {
          "width": 1.3
         },
         "marker": {
          "color": "rgba(50, 171, 96, 1.0)"
         },
         "name": "C",
         "orientation": "v",
         "type": "box",
         "y": [
          1.2982356591642445,
          0.15427115901690341,
          1.0213467155156255,
          1.232635888537672,
          -0.22895222538532137,
          1.954511785901398,
          -0.3942545853071218,
          -0.8092251193718866,
          -0.12322104508539473,
          1.2286788093130638,
          0.3874343994934357,
          -2.2953744065269643,
          2.017388879406804,
          1.1193266759672091,
          -0.2746008943626236,
          -0.8065314918764688,
          0.972762641451173,
          0.5074579567461822,
          1.0118902717327247,
          0.401509381385972,
          0.0639114665073889,
          -1.8663631190800596,
          0.1387441893866892,
          0.1428873542876622,
          0.47682850878052335,
          -0.36571985711014215,
          -1.5460929902125424,
          0.5198596011344117,
          -1.6173676235504222,
          -1.4356016266184148,
          -0.07050502844673512,
          0.5575637873458781,
          -2.1652567182684646,
          0.5870162986735613,
          -0.8773663572243663,
          -0.6858001901123327,
          2.7969800829027123,
          -0.5458885428916942,
          1.1181997296247015,
          -0.11673408876087886,
          0.6404059497492122,
          -1.728413741794743,
          0.3983029336729583,
          -0.7246637943231838,
          -0.8739988801359196,
          -0.8953673781193359,
          1.0188898265321207,
          0.17867461627604825,
          -0.7954294822668724,
          0.4636630050156447,
          -0.6784390426197163,
          0.15119517232480975,
          0.24758404252618696,
          0.4332548808024751,
          -0.573257381134931,
          -0.543358203976377,
          1.1269166836129816,
          -0.23872781757691822,
          -1.3099931941537102,
          -1.0582198694901048,
          -0.4262076857305047,
          1.423853630818953,
          -0.36089078387376755,
          -2.154339180537667,
          2.476822997091817,
          0.32141164193151145,
          1.7050486382039032,
          -0.504611966141616,
          -1.397522139381618,
          0.8479678308837004,
          -0.8297755982819625,
          1.0577651562083943,
          -0.9101582376316869,
          -0.0029074583485230563,
          0.2608575614760658,
          -0.7803371558458617,
          -2.145391997779593,
          -0.7063161942876157,
          0.16239921321512515,
          -0.07683075830387348,
          1.0607037175653777,
          0.9544867857313885,
          -0.11793678009979827,
          0.2102582181812343,
          -0.8387898266596429,
          -0.4206283693985038,
          -0.8152428246157843,
          -0.7276697598353788,
          -1.1329929330756752,
          -1.4466041035213315,
          -0.9848748287647158,
          0.1180319292781396,
          -0.8776375086870779,
          -1.2821605470681214,
          0.24414266199380305,
          0.8141424501001563,
          -0.2765616564967207,
          0.47783868175145766,
          -0.9965387453155009,
          -0.09458406917183024
         ]
        },
        {
         "boxpoints": false,
         "line": {
          "width": 1.3
         },
         "marker": {
          "color": "rgba(128, 0, 128, 1.0)"
         },
         "name": "D",
         "orientation": "v",
         "type": "box",
         "y": [
          -0.6833341122857621,
          -1.186518198081401,
          0.7440360616704014,
          -0.4724438209696136,
          -0.3726398238770978,
          0.04117066612790381,
          -0.12165221701464178,
          -0.3582447039742966,
          -0.9614060037617944,
          0.738115872324706,
          -0.08819366108400076,
          1.223355545014585,
          1.4230621728241735,
          -0.0713488500790235,
          -0.37552458341578615,
          1.4051767793554675,
          1.5048150109432545,
          1.1539930776722223,
          0.37183774749061793,
          1.2137171768818364,
          0.2647832955019624,
          0.08301689949870196,
          -0.08352492211042305,
          0.17603067516678184,
          1.3426263722935805,
          1.4710969763164121,
          0.3723008765493016,
          0.8302101906900898,
          0.4293110699434798,
          -1.7014499397610496,
          -0.7462107273631216,
          -0.062418203425431834,
          -0.4521898440150753,
          1.0374670134271229,
          -0.03827027493552959,
          2.627813687110325,
          0.6891056995922998,
          0.9496908564080698,
          -0.5173382461484048,
          -1.7998833834458434,
          -0.3058413154285717,
          -1.2147511852081776,
          -1.005887489678001,
          -0.30709897227715727,
          0.37256104976328275,
          0.12874701718905396,
          0.40465242152470143,
          1.1456196270354793,
          -0.9876226453689538,
          -0.32062717671141766,
          -0.4477698824738656,
          0.37035700057779575,
          -0.6728757045446571,
          0.13727837951958757,
          -0.8365857241976379,
          -0.862833170927694,
          -0.2321665491113636,
          -0.3096342804538494,
          0.8796768280896852,
          -0.1138722149396076,
          0.26259767826855795,
          -0.1723152186005268,
          0.10650986454691985,
          -0.674854272338543,
          0.607077893069324,
          1.077104763029846,
          0.306009787291824,
          1.6189631446653476,
          0.18641228222526587,
          0.1002952216652406,
          0.35384730130886494,
          -0.5592970923758837,
          1.6810924067739625,
          -0.22801226336023897,
          -0.007212983814382795,
          -0.8884243908142498,
          0.007373212437131988,
          -1.4994425212206395,
          0.2858613226319799,
          0.7723744957643544,
          0.006207666093432797,
          -0.9831130172701907,
          0.5668305156554925,
          1.6039775473847573,
          1.3707010942956015,
          0.43850866148625123,
          1.0295632712010863,
          0.4628062783971533,
          -0.09196565989581211,
          0.10106709283112156,
          -0.25825437843646293,
          1.311841406736645,
          -0.04561607748831737,
          0.9986168276634753,
          -1.1692664545784839,
          2.0607261167534308,
          -0.03489069796686348,
          -0.9817027574319807,
          -1.828275897713146,
          -0.13307937775464979
         ]
        }
       ],
       "layout": {
        "legend": {
         "bgcolor": "#F5F6F9",
         "font": {
          "color": "#4D5663"
         }
        },
        "paper_bgcolor": "#F5F6F9",
        "plot_bgcolor": "#F5F6F9",
        "template": {
         "data": {
          "bar": [
           {
            "error_x": {
             "color": "#2a3f5f"
            },
            "error_y": {
             "color": "#2a3f5f"
            },
            "marker": {
             "line": {
              "color": "#E5ECF6",
              "width": 0.5
             }
            },
            "type": "bar"
           }
          ],
          "barpolar": [
           {
            "marker": {
             "line": {
              "color": "#E5ECF6",
              "width": 0.5
             }
            },
            "type": "barpolar"
           }
          ],
          "carpet": [
           {
            "aaxis": {
             "endlinecolor": "#2a3f5f",
             "gridcolor": "white",
             "linecolor": "white",
             "minorgridcolor": "white",
             "startlinecolor": "#2a3f5f"
            },
            "baxis": {
             "endlinecolor": "#2a3f5f",
             "gridcolor": "white",
             "linecolor": "white",
             "minorgridcolor": "white",
             "startlinecolor": "#2a3f5f"
            },
            "type": "carpet"
           }
          ],
          "choropleth": [
           {
            "colorbar": {
             "outlinewidth": 0,
             "ticks": ""
            },
            "type": "choropleth"
           }
          ],
          "contour": [
           {
            "colorbar": {
             "outlinewidth": 0,
             "ticks": ""
            },
            "colorscale": [
             [
              0,
              "#0d0887"
             ],
             [
              0.1111111111111111,
              "#46039f"
             ],
             [
              0.2222222222222222,
              "#7201a8"
             ],
             [
              0.3333333333333333,
              "#9c179e"
             ],
             [
              0.4444444444444444,
              "#bd3786"
             ],
             [
              0.5555555555555556,
              "#d8576b"
             ],
             [
              0.6666666666666666,
              "#ed7953"
             ],
             [
              0.7777777777777778,
              "#fb9f3a"
             ],
             [
              0.8888888888888888,
              "#fdca26"
             ],
             [
              1,
              "#f0f921"
             ]
            ],
            "type": "contour"
           }
          ],
          "contourcarpet": [
           {
            "colorbar": {
             "outlinewidth": 0,
             "ticks": ""
            },
            "type": "contourcarpet"
           }
          ],
          "heatmap": [
           {
            "colorbar": {
             "outlinewidth": 0,
             "ticks": ""
            },
            "colorscale": [
             [
              0,
              "#0d0887"
             ],
             [
              0.1111111111111111,
              "#46039f"
             ],
             [
              0.2222222222222222,
              "#7201a8"
             ],
             [
              0.3333333333333333,
              "#9c179e"
             ],
             [
              0.4444444444444444,
              "#bd3786"
             ],
             [
              0.5555555555555556,
              "#d8576b"
             ],
             [
              0.6666666666666666,
              "#ed7953"
             ],
             [
              0.7777777777777778,
              "#fb9f3a"
             ],
             [
              0.8888888888888888,
              "#fdca26"
             ],
             [
              1,
              "#f0f921"
             ]
            ],
            "type": "heatmap"
           }
          ],
          "heatmapgl": [
           {
            "colorbar": {
             "outlinewidth": 0,
             "ticks": ""
            },
            "colorscale": [
             [
              0,
              "#0d0887"
             ],
             [
              0.1111111111111111,
              "#46039f"
             ],
             [
              0.2222222222222222,
              "#7201a8"
             ],
             [
              0.3333333333333333,
              "#9c179e"
             ],
             [
              0.4444444444444444,
              "#bd3786"
             ],
             [
              0.5555555555555556,
              "#d8576b"
             ],
             [
              0.6666666666666666,
              "#ed7953"
             ],
             [
              0.7777777777777778,
              "#fb9f3a"
             ],
             [
              0.8888888888888888,
              "#fdca26"
             ],
             [
              1,
              "#f0f921"
             ]
            ],
            "type": "heatmapgl"
           }
          ],
          "histogram": [
           {
            "marker": {
             "colorbar": {
              "outlinewidth": 0,
              "ticks": ""
             }
            },
            "type": "histogram"
           }
          ],
          "histogram2d": [
           {
            "colorbar": {
             "outlinewidth": 0,
             "ticks": ""
            },
            "colorscale": [
             [
              0,
              "#0d0887"
             ],
             [
              0.1111111111111111,
              "#46039f"
             ],
             [
              0.2222222222222222,
              "#7201a8"
             ],
             [
              0.3333333333333333,
              "#9c179e"
             ],
             [
              0.4444444444444444,
              "#bd3786"
             ],
             [
              0.5555555555555556,
              "#d8576b"
             ],
             [
              0.6666666666666666,
              "#ed7953"
             ],
             [
              0.7777777777777778,
              "#fb9f3a"
             ],
             [
              0.8888888888888888,
              "#fdca26"
             ],
             [
              1,
              "#f0f921"
             ]
            ],
            "type": "histogram2d"
           }
          ],
          "histogram2dcontour": [
           {
            "colorbar": {
             "outlinewidth": 0,
             "ticks": ""
            },
            "colorscale": [
             [
              0,
              "#0d0887"
             ],
             [
              0.1111111111111111,
              "#46039f"
             ],
             [
              0.2222222222222222,
              "#7201a8"
             ],
             [
              0.3333333333333333,
              "#9c179e"
             ],
             [
              0.4444444444444444,
              "#bd3786"
             ],
             [
              0.5555555555555556,
              "#d8576b"
             ],
             [
              0.6666666666666666,
              "#ed7953"
             ],
             [
              0.7777777777777778,
              "#fb9f3a"
             ],
             [
              0.8888888888888888,
              "#fdca26"
             ],
             [
              1,
              "#f0f921"
             ]
            ],
            "type": "histogram2dcontour"
           }
          ],
          "mesh3d": [
           {
            "colorbar": {
             "outlinewidth": 0,
             "ticks": ""
            },
            "type": "mesh3d"
           }
          ],
          "parcoords": [
           {
            "line": {
             "colorbar": {
              "outlinewidth": 0,
              "ticks": ""
             }
            },
            "type": "parcoords"
           }
          ],
          "pie": [
           {
            "automargin": true,
            "type": "pie"
           }
          ],
          "scatter": [
           {
            "marker": {
             "colorbar": {
              "outlinewidth": 0,
              "ticks": ""
             }
            },
            "type": "scatter"
           }
          ],
          "scatter3d": [
           {
            "line": {
             "colorbar": {
              "outlinewidth": 0,
              "ticks": ""
             }
            },
            "marker": {
             "colorbar": {
              "outlinewidth": 0,
              "ticks": ""
             }
            },
            "type": "scatter3d"
           }
          ],
          "scattercarpet": [
           {
            "marker": {
             "colorbar": {
              "outlinewidth": 0,
              "ticks": ""
             }
            },
            "type": "scattercarpet"
           }
          ],
          "scattergeo": [
           {
            "marker": {
             "colorbar": {
              "outlinewidth": 0,
              "ticks": ""
             }
            },
            "type": "scattergeo"
           }
          ],
          "scattergl": [
           {
            "marker": {
             "colorbar": {
              "outlinewidth": 0,
              "ticks": ""
             }
            },
            "type": "scattergl"
           }
          ],
          "scattermapbox": [
           {
            "marker": {
             "colorbar": {
              "outlinewidth": 0,
              "ticks": ""
             }
            },
            "type": "scattermapbox"
           }
          ],
          "scatterpolar": [
           {
            "marker": {
             "colorbar": {
              "outlinewidth": 0,
              "ticks": ""
             }
            },
            "type": "scatterpolar"
           }
          ],
          "scatterpolargl": [
           {
            "marker": {
             "colorbar": {
              "outlinewidth": 0,
              "ticks": ""
             }
            },
            "type": "scatterpolargl"
           }
          ],
          "scatterternary": [
           {
            "marker": {
             "colorbar": {
              "outlinewidth": 0,
              "ticks": ""
             }
            },
            "type": "scatterternary"
           }
          ],
          "surface": [
           {
            "colorbar": {
             "outlinewidth": 0,
             "ticks": ""
            },
            "colorscale": [
             [
              0,
              "#0d0887"
             ],
             [
              0.1111111111111111,
              "#46039f"
             ],
             [
              0.2222222222222222,
              "#7201a8"
             ],
             [
              0.3333333333333333,
              "#9c179e"
             ],
             [
              0.4444444444444444,
              "#bd3786"
             ],
             [
              0.5555555555555556,
              "#d8576b"
             ],
             [
              0.6666666666666666,
              "#ed7953"
             ],
             [
              0.7777777777777778,
              "#fb9f3a"
             ],
             [
              0.8888888888888888,
              "#fdca26"
             ],
             [
              1,
              "#f0f921"
             ]
            ],
            "type": "surface"
           }
          ],
          "table": [
           {
            "cells": {
             "fill": {
              "color": "#EBF0F8"
             },
             "line": {
              "color": "white"
             }
            },
            "header": {
             "fill": {
              "color": "#C8D4E3"
             },
             "line": {
              "color": "white"
             }
            },
            "type": "table"
           }
          ]
         },
         "layout": {
          "annotationdefaults": {
           "arrowcolor": "#2a3f5f",
           "arrowhead": 0,
           "arrowwidth": 1
          },
          "coloraxis": {
           "colorbar": {
            "outlinewidth": 0,
            "ticks": ""
           }
          },
          "colorscale": {
           "diverging": [
            [
             0,
             "#8e0152"
            ],
            [
             0.1,
             "#c51b7d"
            ],
            [
             0.2,
             "#de77ae"
            ],
            [
             0.3,
             "#f1b6da"
            ],
            [
             0.4,
             "#fde0ef"
            ],
            [
             0.5,
             "#f7f7f7"
            ],
            [
             0.6,
             "#e6f5d0"
            ],
            [
             0.7,
             "#b8e186"
            ],
            [
             0.8,
             "#7fbc41"
            ],
            [
             0.9,
             "#4d9221"
            ],
            [
             1,
             "#276419"
            ]
           ],
           "sequential": [
            [
             0,
             "#0d0887"
            ],
            [
             0.1111111111111111,
             "#46039f"
            ],
            [
             0.2222222222222222,
             "#7201a8"
            ],
            [
             0.3333333333333333,
             "#9c179e"
            ],
            [
             0.4444444444444444,
             "#bd3786"
            ],
            [
             0.5555555555555556,
             "#d8576b"
            ],
            [
             0.6666666666666666,
             "#ed7953"
            ],
            [
             0.7777777777777778,
             "#fb9f3a"
            ],
            [
             0.8888888888888888,
             "#fdca26"
            ],
            [
             1,
             "#f0f921"
            ]
           ],
           "sequentialminus": [
            [
             0,
             "#0d0887"
            ],
            [
             0.1111111111111111,
             "#46039f"
            ],
            [
             0.2222222222222222,
             "#7201a8"
            ],
            [
             0.3333333333333333,
             "#9c179e"
            ],
            [
             0.4444444444444444,
             "#bd3786"
            ],
            [
             0.5555555555555556,
             "#d8576b"
            ],
            [
             0.6666666666666666,
             "#ed7953"
            ],
            [
             0.7777777777777778,
             "#fb9f3a"
            ],
            [
             0.8888888888888888,
             "#fdca26"
            ],
            [
             1,
             "#f0f921"
            ]
           ]
          },
          "colorway": [
           "#636efa",
           "#EF553B",
           "#00cc96",
           "#ab63fa",
           "#FFA15A",
           "#19d3f3",
           "#FF6692",
           "#B6E880",
           "#FF97FF",
           "#FECB52"
          ],
          "font": {
           "color": "#2a3f5f"
          },
          "geo": {
           "bgcolor": "white",
           "lakecolor": "white",
           "landcolor": "#E5ECF6",
           "showlakes": true,
           "showland": true,
           "subunitcolor": "white"
          },
          "hoverlabel": {
           "align": "left"
          },
          "hovermode": "closest",
          "mapbox": {
           "style": "light"
          },
          "paper_bgcolor": "white",
          "plot_bgcolor": "#E5ECF6",
          "polar": {
           "angularaxis": {
            "gridcolor": "white",
            "linecolor": "white",
            "ticks": ""
           },
           "bgcolor": "#E5ECF6",
           "radialaxis": {
            "gridcolor": "white",
            "linecolor": "white",
            "ticks": ""
           }
          },
          "scene": {
           "xaxis": {
            "backgroundcolor": "#E5ECF6",
            "gridcolor": "white",
            "gridwidth": 2,
            "linecolor": "white",
            "showbackground": true,
            "ticks": "",
            "zerolinecolor": "white"
           },
           "yaxis": {
            "backgroundcolor": "#E5ECF6",
            "gridcolor": "white",
            "gridwidth": 2,
            "linecolor": "white",
            "showbackground": true,
            "ticks": "",
            "zerolinecolor": "white"
           },
           "zaxis": {
            "backgroundcolor": "#E5ECF6",
            "gridcolor": "white",
            "gridwidth": 2,
            "linecolor": "white",
            "showbackground": true,
            "ticks": "",
            "zerolinecolor": "white"
           }
          },
          "shapedefaults": {
           "line": {
            "color": "#2a3f5f"
           }
          },
          "ternary": {
           "aaxis": {
            "gridcolor": "white",
            "linecolor": "white",
            "ticks": ""
           },
           "baxis": {
            "gridcolor": "white",
            "linecolor": "white",
            "ticks": ""
           },
           "bgcolor": "#E5ECF6",
           "caxis": {
            "gridcolor": "white",
            "linecolor": "white",
            "ticks": ""
           }
          },
          "title": {
           "x": 0.05
          },
          "xaxis": {
           "automargin": true,
           "gridcolor": "white",
           "linecolor": "white",
           "ticks": "",
           "title": {
            "standoff": 15
           },
           "zerolinecolor": "white",
           "zerolinewidth": 2
          },
          "yaxis": {
           "automargin": true,
           "gridcolor": "white",
           "linecolor": "white",
           "ticks": "",
           "title": {
            "standoff": 15
           },
           "zerolinecolor": "white",
           "zerolinewidth": 2
          }
         }
        },
        "title": {
         "font": {
          "color": "#4D5663"
         }
        },
        "xaxis": {
         "gridcolor": "#E1E5ED",
         "showgrid": true,
         "tickfont": {
          "color": "#4D5663"
         },
         "title": {
          "font": {
           "color": "#4D5663"
          },
          "text": ""
         },
         "zerolinecolor": "#E1E5ED"
        },
        "yaxis": {
         "gridcolor": "#E1E5ED",
         "showgrid": true,
         "tickfont": {
          "color": "#4D5663"
         },
         "title": {
          "font": {
           "color": "#4D5663"
          },
          "text": ""
         },
         "zerolinecolor": "#E1E5ED"
        }
       }
      },
      "text/html": [
       "<div>\n",
       "        \n",
       "        \n",
       "            <div id=\"c480234b-8a78-4a86-94dd-9048aad021e1\" class=\"plotly-graph-div\" style=\"height:525px; width:100%;\"></div>\n",
       "            <script type=\"text/javascript\">\n",
       "                require([\"plotly\"], function(Plotly) {\n",
       "                    window.PLOTLYENV=window.PLOTLYENV || {};\n",
       "                    window.PLOTLYENV.BASE_URL='https://plotly.com';\n",
       "                    \n",
       "                if (document.getElementById(\"c480234b-8a78-4a86-94dd-9048aad021e1\")) {\n",
       "                    Plotly.newPlot(\n",
       "                        'c480234b-8a78-4a86-94dd-9048aad021e1',\n",
       "                        [{\"boxpoints\": false, \"line\": {\"width\": 1.3}, \"marker\": {\"color\": \"rgba(255, 153, 51, 1.0)\"}, \"name\": \"A\", \"orientation\": \"v\", \"type\": \"box\", \"y\": [-1.3915514466454946, -0.25186847805576157, 0.9579228727741338, 0.6029271487268496, 0.416448674464561, 0.34063531233394767, -0.08459004387470692, 0.713619317860425, 1.7908137198587653, -0.07774446546417446, 0.7818861612515148, -0.08045802462218049, -1.3925376997334935, -0.25889123457565444, -1.2380068464047667, -1.6796053268216884, 1.1389527186859345, -2.15319053603754, 0.24225207650860273, 0.5323379650228895, -0.2096440229785707, 0.21953657917641956, -1.0938795941576012, -0.10577547603312083, 0.6384250404551687, -0.2721945316885118, 3.265738204544427, 0.3766017189657574, 0.33886279379065204, 1.2190050065519333, 0.3104100087786091, 0.26952115201931115, -2.3923810892739246, 0.8770803830120577, 0.6561754993661268, -1.2310665672205874, -1.1856641101789074, 0.41805322561991626, -0.9247175847838351, 0.23277995300774626, 0.4067275700600627, -1.428613771269792, 1.4839020736203505, 0.7633645943548794, 2.7756705575375586, -0.46463372800975183, 0.004306649259857492, 0.9645256070376517, -0.005185290726101883, 2.6020206278107167, -0.885626602219863, 1.3517771551572877, 1.4041522296440263, -0.37747456790116, 0.15412506809685084, -1.3868854662382721, 0.6433483582256894, 0.9983683388092811, -0.12169074845217757, -2.1176310033064594, -0.06264728472444926, -1.0150462339749775, 0.7360528445825723, 0.5333439301874713, 0.35198578229550376, 0.6072697451499537, -2.124423431145739, 0.45861870101295915, 0.3901706387730426, 0.9359092339197448, -0.1480147716292342, -0.4323566165303779, 0.7653655916578783, -0.19732640194278503, -0.1465413420198137, 0.7142610412011294, 1.1418243316888386, -0.3253132381128121, 1.5515260657660772, 0.309161311286864, -0.8358998861552829, 1.3655510433969495, 0.0632015316988487, -0.016827268343440532, 0.7506720191468409, -0.5595071040238351, -0.6947205233455448, 1.142499758085739, -2.147256982261882, -1.02211137709033, 0.4065176710241965, 0.5728619428353131, -0.2066640210509487, -0.9245155918409756, 0.19822024602242874, 1.4207896192934248, -1.67439132302367, 0.8101476190574366, 1.1438891096596677, -0.24724589169943464]}, {\"boxpoints\": false, \"line\": {\"width\": 1.3}, \"marker\": {\"color\": \"rgba(55, 128, 191, 1.0)\"}, \"name\": \"B\", \"orientation\": \"v\", \"type\": \"box\", \"y\": [-1.8063135150409384, -0.7679513004948498, -0.8742919766403517, 0.3070143950458193, 1.1665253316654558, -0.2262683166260905, -0.4917852269151437, -0.08073729843021035, 2.8334375843659645, 1.1532207799473548, -0.03814254313590681, -0.10568906458824325, -0.31317568710161725, 0.999191108558023, 0.8385632979585733, 0.41534933039874006, 0.8797805528306242, -1.2497080083648895, -1.7911041602373101, 0.7630643074653287, 2.5892130854872626, -0.5439208326964506, -1.3750796123608928, -1.729704664812876, 0.5578288145910832, 1.0036536830512153, -0.1714020047363067, -0.19405615495300366, 0.6919399765482697, 0.9695804954012914, 1.350663420111455, -1.240062693169029, -1.348240459508053, 1.4623370752557971, -0.48168927519920546, 0.39784876136248515, -0.9024576145690437, -0.6935679814885369, -0.3761127379085823, -0.36623141625460714, -0.2451594279515256, 0.026402940006598093, -0.32046021467091446, 1.1112009255824087, 0.2187696308981625, -2.505044161953846, -0.6162072553432347, -0.015565844051689669, 1.7854810856777485, 0.3541192142490893, 0.5263691204633134, 1.3994577056620974, -1.3428712151096527, 1.1255059881410612, 0.9500501528505452, 0.23415698180013855, 0.15335525171261927, -0.052071479834325515, -1.4232941345045214, 0.7132256996685288, 0.5489697164118927, -0.5726168408446426, 0.4621316906319872, 2.0945996369123625, -0.6293460980779058, 1.0075453751062597, 0.10083326030721385, -2.2013485061886473, -0.3898105142975688, -1.0896725401553105, -1.8597732189447154, 0.3905174313184132, -0.3104515621834238, 0.8040065537583236, -1.0797745253519242, 0.8367161653986137, -1.2674111303051174, -0.6763387257899182, -1.092639906945907, 1.0449811622012086, 1.8517700485195743, -0.13757886943215655, 0.7259595503006789, -0.9096144399987279, 0.6074501093482007, -0.7191397729519661, 1.907848397028853, -0.8418897038835749, 0.06575111015677335, -2.0389882885122126, -1.53917556051178, 0.9015627864510748, 0.09360031995000555, 0.10739423129650766, 0.6419278156297985, -0.23432958246422325, 0.1178203071042369, -0.9005807904385831, 1.2181737505496018, -0.5324878800398267]}, {\"boxpoints\": false, \"line\": {\"width\": 1.3}, \"marker\": {\"color\": \"rgba(50, 171, 96, 1.0)\"}, \"name\": \"C\", \"orientation\": \"v\", \"type\": \"box\", \"y\": [1.2982356591642445, 0.15427115901690341, 1.0213467155156255, 1.232635888537672, -0.22895222538532137, 1.954511785901398, -0.3942545853071218, -0.8092251193718866, -0.12322104508539473, 1.2286788093130638, 0.3874343994934357, -2.2953744065269643, 2.017388879406804, 1.1193266759672091, -0.2746008943626236, -0.8065314918764688, 0.972762641451173, 0.5074579567461822, 1.0118902717327247, 0.401509381385972, 0.0639114665073889, -1.8663631190800596, 0.1387441893866892, 0.1428873542876622, 0.47682850878052335, -0.36571985711014215, -1.5460929902125424, 0.5198596011344117, -1.6173676235504222, -1.4356016266184148, -0.07050502844673512, 0.5575637873458781, -2.1652567182684646, 0.5870162986735613, -0.8773663572243663, -0.6858001901123327, 2.7969800829027123, -0.5458885428916942, 1.1181997296247015, -0.11673408876087886, 0.6404059497492122, -1.728413741794743, 0.3983029336729583, -0.7246637943231838, -0.8739988801359196, -0.8953673781193359, 1.0188898265321207, 0.17867461627604825, -0.7954294822668724, 0.4636630050156447, -0.6784390426197163, 0.15119517232480975, 0.24758404252618696, 0.4332548808024751, -0.573257381134931, -0.543358203976377, 1.1269166836129816, -0.23872781757691822, -1.3099931941537102, -1.0582198694901048, -0.4262076857305047, 1.423853630818953, -0.36089078387376755, -2.154339180537667, 2.476822997091817, 0.32141164193151145, 1.7050486382039032, -0.504611966141616, -1.397522139381618, 0.8479678308837004, -0.8297755982819625, 1.0577651562083943, -0.9101582376316869, -0.0029074583485230563, 0.2608575614760658, -0.7803371558458617, -2.145391997779593, -0.7063161942876157, 0.16239921321512515, -0.07683075830387348, 1.0607037175653777, 0.9544867857313885, -0.11793678009979827, 0.2102582181812343, -0.8387898266596429, -0.4206283693985038, -0.8152428246157843, -0.7276697598353788, -1.1329929330756752, -1.4466041035213315, -0.9848748287647158, 0.1180319292781396, -0.8776375086870779, -1.2821605470681214, 0.24414266199380305, 0.8141424501001563, -0.2765616564967207, 0.47783868175145766, -0.9965387453155009, -0.09458406917183024]}, {\"boxpoints\": false, \"line\": {\"width\": 1.3}, \"marker\": {\"color\": \"rgba(128, 0, 128, 1.0)\"}, \"name\": \"D\", \"orientation\": \"v\", \"type\": \"box\", \"y\": [-0.6833341122857621, -1.186518198081401, 0.7440360616704014, -0.4724438209696136, -0.3726398238770978, 0.04117066612790381, -0.12165221701464178, -0.3582447039742966, -0.9614060037617944, 0.738115872324706, -0.08819366108400076, 1.223355545014585, 1.4230621728241735, -0.0713488500790235, -0.37552458341578615, 1.4051767793554675, 1.5048150109432545, 1.1539930776722223, 0.37183774749061793, 1.2137171768818364, 0.2647832955019624, 0.08301689949870196, -0.08352492211042305, 0.17603067516678184, 1.3426263722935805, 1.4710969763164121, 0.3723008765493016, 0.8302101906900898, 0.4293110699434798, -1.7014499397610496, -0.7462107273631216, -0.062418203425431834, -0.4521898440150753, 1.0374670134271229, -0.03827027493552959, 2.627813687110325, 0.6891056995922998, 0.9496908564080698, -0.5173382461484048, -1.7998833834458434, -0.3058413154285717, -1.2147511852081776, -1.005887489678001, -0.30709897227715727, 0.37256104976328275, 0.12874701718905396, 0.40465242152470143, 1.1456196270354793, -0.9876226453689538, -0.32062717671141766, -0.4477698824738656, 0.37035700057779575, -0.6728757045446571, 0.13727837951958757, -0.8365857241976379, -0.862833170927694, -0.2321665491113636, -0.3096342804538494, 0.8796768280896852, -0.1138722149396076, 0.26259767826855795, -0.1723152186005268, 0.10650986454691985, -0.674854272338543, 0.607077893069324, 1.077104763029846, 0.306009787291824, 1.6189631446653476, 0.18641228222526587, 0.1002952216652406, 0.35384730130886494, -0.5592970923758837, 1.6810924067739625, -0.22801226336023897, -0.007212983814382795, -0.8884243908142498, 0.007373212437131988, -1.4994425212206395, 0.2858613226319799, 0.7723744957643544, 0.006207666093432797, -0.9831130172701907, 0.5668305156554925, 1.6039775473847573, 1.3707010942956015, 0.43850866148625123, 1.0295632712010863, 0.4628062783971533, -0.09196565989581211, 0.10106709283112156, -0.25825437843646293, 1.311841406736645, -0.04561607748831737, 0.9986168276634753, -1.1692664545784839, 2.0607261167534308, -0.03489069796686348, -0.9817027574319807, -1.828275897713146, -0.13307937775464979]}],\n",
       "                        {\"legend\": {\"bgcolor\": \"#F5F6F9\", \"font\": {\"color\": \"#4D5663\"}}, \"paper_bgcolor\": \"#F5F6F9\", \"plot_bgcolor\": \"#F5F6F9\", \"template\": {\"data\": {\"bar\": [{\"error_x\": {\"color\": \"#2a3f5f\"}, \"error_y\": {\"color\": \"#2a3f5f\"}, \"marker\": {\"line\": {\"color\": \"#E5ECF6\", \"width\": 0.5}}, \"type\": \"bar\"}], \"barpolar\": [{\"marker\": {\"line\": {\"color\": \"#E5ECF6\", \"width\": 0.5}}, \"type\": \"barpolar\"}], \"carpet\": [{\"aaxis\": {\"endlinecolor\": \"#2a3f5f\", \"gridcolor\": \"white\", \"linecolor\": \"white\", \"minorgridcolor\": \"white\", \"startlinecolor\": \"#2a3f5f\"}, \"baxis\": {\"endlinecolor\": \"#2a3f5f\", \"gridcolor\": \"white\", \"linecolor\": \"white\", \"minorgridcolor\": \"white\", \"startlinecolor\": \"#2a3f5f\"}, \"type\": \"carpet\"}], \"choropleth\": [{\"colorbar\": {\"outlinewidth\": 0, \"ticks\": \"\"}, \"type\": \"choropleth\"}], \"contour\": [{\"colorbar\": {\"outlinewidth\": 0, \"ticks\": \"\"}, \"colorscale\": [[0.0, \"#0d0887\"], [0.1111111111111111, \"#46039f\"], [0.2222222222222222, \"#7201a8\"], [0.3333333333333333, \"#9c179e\"], [0.4444444444444444, \"#bd3786\"], [0.5555555555555556, \"#d8576b\"], [0.6666666666666666, \"#ed7953\"], [0.7777777777777778, \"#fb9f3a\"], [0.8888888888888888, \"#fdca26\"], [1.0, \"#f0f921\"]], \"type\": \"contour\"}], \"contourcarpet\": [{\"colorbar\": {\"outlinewidth\": 0, \"ticks\": \"\"}, \"type\": \"contourcarpet\"}], \"heatmap\": [{\"colorbar\": {\"outlinewidth\": 0, \"ticks\": \"\"}, \"colorscale\": [[0.0, \"#0d0887\"], [0.1111111111111111, \"#46039f\"], [0.2222222222222222, \"#7201a8\"], [0.3333333333333333, \"#9c179e\"], [0.4444444444444444, \"#bd3786\"], [0.5555555555555556, \"#d8576b\"], [0.6666666666666666, \"#ed7953\"], [0.7777777777777778, \"#fb9f3a\"], [0.8888888888888888, \"#fdca26\"], [1.0, \"#f0f921\"]], \"type\": \"heatmap\"}], \"heatmapgl\": [{\"colorbar\": {\"outlinewidth\": 0, \"ticks\": \"\"}, \"colorscale\": [[0.0, \"#0d0887\"], [0.1111111111111111, \"#46039f\"], [0.2222222222222222, \"#7201a8\"], [0.3333333333333333, \"#9c179e\"], [0.4444444444444444, \"#bd3786\"], [0.5555555555555556, \"#d8576b\"], [0.6666666666666666, \"#ed7953\"], [0.7777777777777778, \"#fb9f3a\"], [0.8888888888888888, \"#fdca26\"], [1.0, \"#f0f921\"]], \"type\": \"heatmapgl\"}], \"histogram\": [{\"marker\": {\"colorbar\": {\"outlinewidth\": 0, \"ticks\": \"\"}}, \"type\": \"histogram\"}], \"histogram2d\": [{\"colorbar\": {\"outlinewidth\": 0, \"ticks\": \"\"}, \"colorscale\": [[0.0, \"#0d0887\"], [0.1111111111111111, \"#46039f\"], [0.2222222222222222, \"#7201a8\"], [0.3333333333333333, \"#9c179e\"], [0.4444444444444444, \"#bd3786\"], [0.5555555555555556, \"#d8576b\"], [0.6666666666666666, \"#ed7953\"], [0.7777777777777778, \"#fb9f3a\"], [0.8888888888888888, \"#fdca26\"], [1.0, \"#f0f921\"]], \"type\": \"histogram2d\"}], \"histogram2dcontour\": [{\"colorbar\": {\"outlinewidth\": 0, \"ticks\": \"\"}, \"colorscale\": [[0.0, \"#0d0887\"], [0.1111111111111111, \"#46039f\"], [0.2222222222222222, \"#7201a8\"], [0.3333333333333333, \"#9c179e\"], [0.4444444444444444, \"#bd3786\"], [0.5555555555555556, \"#d8576b\"], [0.6666666666666666, \"#ed7953\"], [0.7777777777777778, \"#fb9f3a\"], [0.8888888888888888, \"#fdca26\"], [1.0, \"#f0f921\"]], \"type\": \"histogram2dcontour\"}], \"mesh3d\": [{\"colorbar\": {\"outlinewidth\": 0, \"ticks\": \"\"}, \"type\": \"mesh3d\"}], \"parcoords\": [{\"line\": {\"colorbar\": {\"outlinewidth\": 0, \"ticks\": \"\"}}, \"type\": \"parcoords\"}], \"pie\": [{\"automargin\": true, \"type\": \"pie\"}], \"scatter\": [{\"marker\": {\"colorbar\": {\"outlinewidth\": 0, \"ticks\": \"\"}}, \"type\": \"scatter\"}], \"scatter3d\": [{\"line\": {\"colorbar\": {\"outlinewidth\": 0, \"ticks\": \"\"}}, \"marker\": {\"colorbar\": {\"outlinewidth\": 0, \"ticks\": \"\"}}, \"type\": \"scatter3d\"}], \"scattercarpet\": [{\"marker\": {\"colorbar\": {\"outlinewidth\": 0, \"ticks\": \"\"}}, \"type\": \"scattercarpet\"}], \"scattergeo\": [{\"marker\": {\"colorbar\": {\"outlinewidth\": 0, \"ticks\": \"\"}}, \"type\": \"scattergeo\"}], \"scattergl\": [{\"marker\": {\"colorbar\": {\"outlinewidth\": 0, \"ticks\": \"\"}}, \"type\": \"scattergl\"}], \"scattermapbox\": [{\"marker\": {\"colorbar\": {\"outlinewidth\": 0, \"ticks\": \"\"}}, \"type\": \"scattermapbox\"}], \"scatterpolar\": [{\"marker\": {\"colorbar\": {\"outlinewidth\": 0, \"ticks\": \"\"}}, \"type\": \"scatterpolar\"}], \"scatterpolargl\": [{\"marker\": {\"colorbar\": {\"outlinewidth\": 0, \"ticks\": \"\"}}, \"type\": \"scatterpolargl\"}], \"scatterternary\": [{\"marker\": {\"colorbar\": {\"outlinewidth\": 0, \"ticks\": \"\"}}, \"type\": \"scatterternary\"}], \"surface\": [{\"colorbar\": {\"outlinewidth\": 0, \"ticks\": \"\"}, \"colorscale\": [[0.0, \"#0d0887\"], [0.1111111111111111, \"#46039f\"], [0.2222222222222222, \"#7201a8\"], [0.3333333333333333, \"#9c179e\"], [0.4444444444444444, \"#bd3786\"], [0.5555555555555556, \"#d8576b\"], [0.6666666666666666, \"#ed7953\"], [0.7777777777777778, \"#fb9f3a\"], [0.8888888888888888, \"#fdca26\"], [1.0, \"#f0f921\"]], \"type\": \"surface\"}], \"table\": [{\"cells\": {\"fill\": {\"color\": \"#EBF0F8\"}, \"line\": {\"color\": \"white\"}}, \"header\": {\"fill\": {\"color\": \"#C8D4E3\"}, \"line\": {\"color\": \"white\"}}, \"type\": \"table\"}]}, \"layout\": {\"annotationdefaults\": {\"arrowcolor\": \"#2a3f5f\", \"arrowhead\": 0, \"arrowwidth\": 1}, \"coloraxis\": {\"colorbar\": {\"outlinewidth\": 0, \"ticks\": \"\"}}, \"colorscale\": {\"diverging\": [[0, \"#8e0152\"], [0.1, \"#c51b7d\"], [0.2, \"#de77ae\"], [0.3, \"#f1b6da\"], [0.4, \"#fde0ef\"], [0.5, \"#f7f7f7\"], [0.6, \"#e6f5d0\"], [0.7, \"#b8e186\"], [0.8, \"#7fbc41\"], [0.9, \"#4d9221\"], [1, \"#276419\"]], \"sequential\": [[0.0, \"#0d0887\"], [0.1111111111111111, \"#46039f\"], [0.2222222222222222, \"#7201a8\"], [0.3333333333333333, \"#9c179e\"], [0.4444444444444444, \"#bd3786\"], [0.5555555555555556, \"#d8576b\"], [0.6666666666666666, \"#ed7953\"], [0.7777777777777778, \"#fb9f3a\"], [0.8888888888888888, \"#fdca26\"], [1.0, \"#f0f921\"]], \"sequentialminus\": [[0.0, \"#0d0887\"], [0.1111111111111111, \"#46039f\"], [0.2222222222222222, \"#7201a8\"], [0.3333333333333333, \"#9c179e\"], [0.4444444444444444, \"#bd3786\"], [0.5555555555555556, \"#d8576b\"], [0.6666666666666666, \"#ed7953\"], [0.7777777777777778, \"#fb9f3a\"], [0.8888888888888888, \"#fdca26\"], [1.0, \"#f0f921\"]]}, \"colorway\": [\"#636efa\", \"#EF553B\", \"#00cc96\", \"#ab63fa\", \"#FFA15A\", \"#19d3f3\", \"#FF6692\", \"#B6E880\", \"#FF97FF\", \"#FECB52\"], \"font\": {\"color\": \"#2a3f5f\"}, \"geo\": {\"bgcolor\": \"white\", \"lakecolor\": \"white\", \"landcolor\": \"#E5ECF6\", \"showlakes\": true, \"showland\": true, \"subunitcolor\": \"white\"}, \"hoverlabel\": {\"align\": \"left\"}, \"hovermode\": \"closest\", \"mapbox\": {\"style\": \"light\"}, \"paper_bgcolor\": \"white\", \"plot_bgcolor\": \"#E5ECF6\", \"polar\": {\"angularaxis\": {\"gridcolor\": \"white\", \"linecolor\": \"white\", \"ticks\": \"\"}, \"bgcolor\": \"#E5ECF6\", \"radialaxis\": {\"gridcolor\": \"white\", \"linecolor\": \"white\", \"ticks\": \"\"}}, \"scene\": {\"xaxis\": {\"backgroundcolor\": \"#E5ECF6\", \"gridcolor\": \"white\", \"gridwidth\": 2, \"linecolor\": \"white\", \"showbackground\": true, \"ticks\": \"\", \"zerolinecolor\": \"white\"}, \"yaxis\": {\"backgroundcolor\": \"#E5ECF6\", \"gridcolor\": \"white\", \"gridwidth\": 2, \"linecolor\": \"white\", \"showbackground\": true, \"ticks\": \"\", \"zerolinecolor\": \"white\"}, \"zaxis\": {\"backgroundcolor\": \"#E5ECF6\", \"gridcolor\": \"white\", \"gridwidth\": 2, \"linecolor\": \"white\", \"showbackground\": true, \"ticks\": \"\", \"zerolinecolor\": \"white\"}}, \"shapedefaults\": {\"line\": {\"color\": \"#2a3f5f\"}}, \"ternary\": {\"aaxis\": {\"gridcolor\": \"white\", \"linecolor\": \"white\", \"ticks\": \"\"}, \"baxis\": {\"gridcolor\": \"white\", \"linecolor\": \"white\", \"ticks\": \"\"}, \"bgcolor\": \"#E5ECF6\", \"caxis\": {\"gridcolor\": \"white\", \"linecolor\": \"white\", \"ticks\": \"\"}}, \"title\": {\"x\": 0.05}, \"xaxis\": {\"automargin\": true, \"gridcolor\": \"white\", \"linecolor\": \"white\", \"ticks\": \"\", \"title\": {\"standoff\": 15}, \"zerolinecolor\": \"white\", \"zerolinewidth\": 2}, \"yaxis\": {\"automargin\": true, \"gridcolor\": \"white\", \"linecolor\": \"white\", \"ticks\": \"\", \"title\": {\"standoff\": 15}, \"zerolinecolor\": \"white\", \"zerolinewidth\": 2}}}, \"title\": {\"font\": {\"color\": \"#4D5663\"}}, \"xaxis\": {\"gridcolor\": \"#E1E5ED\", \"showgrid\": true, \"tickfont\": {\"color\": \"#4D5663\"}, \"title\": {\"font\": {\"color\": \"#4D5663\"}, \"text\": \"\"}, \"zerolinecolor\": \"#E1E5ED\"}, \"yaxis\": {\"gridcolor\": \"#E1E5ED\", \"showgrid\": true, \"tickfont\": {\"color\": \"#4D5663\"}, \"title\": {\"font\": {\"color\": \"#4D5663\"}, \"text\": \"\"}, \"zerolinecolor\": \"#E1E5ED\"}},\n",
       "                        {\"showLink\": true, \"linkText\": \"Export to plotly.com\", \"plotlyServerURL\": \"https://plotly.com\", \"responsive\": true}\n",
       "                    ).then(function(){\n",
       "                            \n",
       "var gd = document.getElementById('c480234b-8a78-4a86-94dd-9048aad021e1');\n",
       "var x = new MutationObserver(function (mutations, observer) {{\n",
       "        var display = window.getComputedStyle(gd).display;\n",
       "        if (!display || display === 'none') {{\n",
       "            console.log([gd, 'removed!']);\n",
       "            Plotly.purge(gd);\n",
       "            observer.disconnect();\n",
       "        }}\n",
       "}});\n",
       "\n",
       "// Listen for the removal of the full notebook cells\n",
       "var notebookContainer = gd.closest('#notebook-container');\n",
       "if (notebookContainer) {{\n",
       "    x.observe(notebookContainer, {childList: true});\n",
       "}}\n",
       "\n",
       "// Listen for the clearing of the current output cell\n",
       "var outputEl = gd.closest('.output');\n",
       "if (outputEl) {{\n",
       "    x.observe(outputEl, {childList: true});\n",
       "}}\n",
       "\n",
       "                        })\n",
       "                };\n",
       "                });\n",
       "            </script>\n",
       "        </div>"
      ]
     },
     "metadata": {},
     "output_type": "display_data"
    }
   ],
   "source": [
    "df.iplot(kind='box')"
   ]
  },
  {
   "cell_type": "code",
   "execution_count": 9,
   "metadata": {},
   "outputs": [
    {
     "data": {
      "application/vnd.plotly.v1+json": {
       "config": {
        "linkText": "Export to plotly.com",
        "plotlyServerURL": "https://plotly.com",
        "showLink": true
       },
       "data": [
        {
         "histfunc": "count",
         "histnorm": "",
         "marker": {
          "color": "rgba(255, 153, 51, 1.0)",
          "line": {
           "color": "#4D5663",
           "width": 1.3
          }
         },
         "name": "A",
         "opacity": 0.8,
         "orientation": "v",
         "type": "histogram",
         "x": [
          -1.3915514466454946,
          -0.25186847805576157,
          0.9579228727741338,
          0.6029271487268496,
          0.416448674464561,
          0.34063531233394767,
          -0.08459004387470692,
          0.713619317860425,
          1.7908137198587653,
          -0.07774446546417446,
          0.7818861612515148,
          -0.08045802462218049,
          -1.3925376997334935,
          -0.25889123457565444,
          -1.2380068464047667,
          -1.6796053268216884,
          1.1389527186859345,
          -2.15319053603754,
          0.24225207650860273,
          0.5323379650228895,
          -0.2096440229785707,
          0.21953657917641956,
          -1.0938795941576012,
          -0.10577547603312083,
          0.6384250404551687,
          -0.2721945316885118,
          3.265738204544427,
          0.3766017189657574,
          0.33886279379065204,
          1.2190050065519333,
          0.3104100087786091,
          0.26952115201931115,
          -2.3923810892739246,
          0.8770803830120577,
          0.6561754993661268,
          -1.2310665672205874,
          -1.1856641101789074,
          0.41805322561991626,
          -0.9247175847838351,
          0.23277995300774626,
          0.4067275700600627,
          -1.428613771269792,
          1.4839020736203505,
          0.7633645943548794,
          2.7756705575375586,
          -0.46463372800975183,
          0.004306649259857492,
          0.9645256070376517,
          -0.005185290726101883,
          2.6020206278107167,
          -0.885626602219863,
          1.3517771551572877,
          1.4041522296440263,
          -0.37747456790116,
          0.15412506809685084,
          -1.3868854662382721,
          0.6433483582256894,
          0.9983683388092811,
          -0.12169074845217757,
          -2.1176310033064594,
          -0.06264728472444926,
          -1.0150462339749775,
          0.7360528445825723,
          0.5333439301874713,
          0.35198578229550376,
          0.6072697451499537,
          -2.124423431145739,
          0.45861870101295915,
          0.3901706387730426,
          0.9359092339197448,
          -0.1480147716292342,
          -0.4323566165303779,
          0.7653655916578783,
          -0.19732640194278503,
          -0.1465413420198137,
          0.7142610412011294,
          1.1418243316888386,
          -0.3253132381128121,
          1.5515260657660772,
          0.309161311286864,
          -0.8358998861552829,
          1.3655510433969495,
          0.0632015316988487,
          -0.016827268343440532,
          0.7506720191468409,
          -0.5595071040238351,
          -0.6947205233455448,
          1.142499758085739,
          -2.147256982261882,
          -1.02211137709033,
          0.4065176710241965,
          0.5728619428353131,
          -0.2066640210509487,
          -0.9245155918409756,
          0.19822024602242874,
          1.4207896192934248,
          -1.67439132302367,
          0.8101476190574366,
          1.1438891096596677,
          -0.24724589169943464
         ]
        }
       ],
       "layout": {
        "barmode": "overlay",
        "legend": {
         "bgcolor": "#F5F6F9",
         "font": {
          "color": "#4D5663"
         }
        },
        "paper_bgcolor": "#F5F6F9",
        "plot_bgcolor": "#F5F6F9",
        "template": {
         "data": {
          "bar": [
           {
            "error_x": {
             "color": "#2a3f5f"
            },
            "error_y": {
             "color": "#2a3f5f"
            },
            "marker": {
             "line": {
              "color": "#E5ECF6",
              "width": 0.5
             }
            },
            "type": "bar"
           }
          ],
          "barpolar": [
           {
            "marker": {
             "line": {
              "color": "#E5ECF6",
              "width": 0.5
             }
            },
            "type": "barpolar"
           }
          ],
          "carpet": [
           {
            "aaxis": {
             "endlinecolor": "#2a3f5f",
             "gridcolor": "white",
             "linecolor": "white",
             "minorgridcolor": "white",
             "startlinecolor": "#2a3f5f"
            },
            "baxis": {
             "endlinecolor": "#2a3f5f",
             "gridcolor": "white",
             "linecolor": "white",
             "minorgridcolor": "white",
             "startlinecolor": "#2a3f5f"
            },
            "type": "carpet"
           }
          ],
          "choropleth": [
           {
            "colorbar": {
             "outlinewidth": 0,
             "ticks": ""
            },
            "type": "choropleth"
           }
          ],
          "contour": [
           {
            "colorbar": {
             "outlinewidth": 0,
             "ticks": ""
            },
            "colorscale": [
             [
              0,
              "#0d0887"
             ],
             [
              0.1111111111111111,
              "#46039f"
             ],
             [
              0.2222222222222222,
              "#7201a8"
             ],
             [
              0.3333333333333333,
              "#9c179e"
             ],
             [
              0.4444444444444444,
              "#bd3786"
             ],
             [
              0.5555555555555556,
              "#d8576b"
             ],
             [
              0.6666666666666666,
              "#ed7953"
             ],
             [
              0.7777777777777778,
              "#fb9f3a"
             ],
             [
              0.8888888888888888,
              "#fdca26"
             ],
             [
              1,
              "#f0f921"
             ]
            ],
            "type": "contour"
           }
          ],
          "contourcarpet": [
           {
            "colorbar": {
             "outlinewidth": 0,
             "ticks": ""
            },
            "type": "contourcarpet"
           }
          ],
          "heatmap": [
           {
            "colorbar": {
             "outlinewidth": 0,
             "ticks": ""
            },
            "colorscale": [
             [
              0,
              "#0d0887"
             ],
             [
              0.1111111111111111,
              "#46039f"
             ],
             [
              0.2222222222222222,
              "#7201a8"
             ],
             [
              0.3333333333333333,
              "#9c179e"
             ],
             [
              0.4444444444444444,
              "#bd3786"
             ],
             [
              0.5555555555555556,
              "#d8576b"
             ],
             [
              0.6666666666666666,
              "#ed7953"
             ],
             [
              0.7777777777777778,
              "#fb9f3a"
             ],
             [
              0.8888888888888888,
              "#fdca26"
             ],
             [
              1,
              "#f0f921"
             ]
            ],
            "type": "heatmap"
           }
          ],
          "heatmapgl": [
           {
            "colorbar": {
             "outlinewidth": 0,
             "ticks": ""
            },
            "colorscale": [
             [
              0,
              "#0d0887"
             ],
             [
              0.1111111111111111,
              "#46039f"
             ],
             [
              0.2222222222222222,
              "#7201a8"
             ],
             [
              0.3333333333333333,
              "#9c179e"
             ],
             [
              0.4444444444444444,
              "#bd3786"
             ],
             [
              0.5555555555555556,
              "#d8576b"
             ],
             [
              0.6666666666666666,
              "#ed7953"
             ],
             [
              0.7777777777777778,
              "#fb9f3a"
             ],
             [
              0.8888888888888888,
              "#fdca26"
             ],
             [
              1,
              "#f0f921"
             ]
            ],
            "type": "heatmapgl"
           }
          ],
          "histogram": [
           {
            "marker": {
             "colorbar": {
              "outlinewidth": 0,
              "ticks": ""
             }
            },
            "type": "histogram"
           }
          ],
          "histogram2d": [
           {
            "colorbar": {
             "outlinewidth": 0,
             "ticks": ""
            },
            "colorscale": [
             [
              0,
              "#0d0887"
             ],
             [
              0.1111111111111111,
              "#46039f"
             ],
             [
              0.2222222222222222,
              "#7201a8"
             ],
             [
              0.3333333333333333,
              "#9c179e"
             ],
             [
              0.4444444444444444,
              "#bd3786"
             ],
             [
              0.5555555555555556,
              "#d8576b"
             ],
             [
              0.6666666666666666,
              "#ed7953"
             ],
             [
              0.7777777777777778,
              "#fb9f3a"
             ],
             [
              0.8888888888888888,
              "#fdca26"
             ],
             [
              1,
              "#f0f921"
             ]
            ],
            "type": "histogram2d"
           }
          ],
          "histogram2dcontour": [
           {
            "colorbar": {
             "outlinewidth": 0,
             "ticks": ""
            },
            "colorscale": [
             [
              0,
              "#0d0887"
             ],
             [
              0.1111111111111111,
              "#46039f"
             ],
             [
              0.2222222222222222,
              "#7201a8"
             ],
             [
              0.3333333333333333,
              "#9c179e"
             ],
             [
              0.4444444444444444,
              "#bd3786"
             ],
             [
              0.5555555555555556,
              "#d8576b"
             ],
             [
              0.6666666666666666,
              "#ed7953"
             ],
             [
              0.7777777777777778,
              "#fb9f3a"
             ],
             [
              0.8888888888888888,
              "#fdca26"
             ],
             [
              1,
              "#f0f921"
             ]
            ],
            "type": "histogram2dcontour"
           }
          ],
          "mesh3d": [
           {
            "colorbar": {
             "outlinewidth": 0,
             "ticks": ""
            },
            "type": "mesh3d"
           }
          ],
          "parcoords": [
           {
            "line": {
             "colorbar": {
              "outlinewidth": 0,
              "ticks": ""
             }
            },
            "type": "parcoords"
           }
          ],
          "pie": [
           {
            "automargin": true,
            "type": "pie"
           }
          ],
          "scatter": [
           {
            "marker": {
             "colorbar": {
              "outlinewidth": 0,
              "ticks": ""
             }
            },
            "type": "scatter"
           }
          ],
          "scatter3d": [
           {
            "line": {
             "colorbar": {
              "outlinewidth": 0,
              "ticks": ""
             }
            },
            "marker": {
             "colorbar": {
              "outlinewidth": 0,
              "ticks": ""
             }
            },
            "type": "scatter3d"
           }
          ],
          "scattercarpet": [
           {
            "marker": {
             "colorbar": {
              "outlinewidth": 0,
              "ticks": ""
             }
            },
            "type": "scattercarpet"
           }
          ],
          "scattergeo": [
           {
            "marker": {
             "colorbar": {
              "outlinewidth": 0,
              "ticks": ""
             }
            },
            "type": "scattergeo"
           }
          ],
          "scattergl": [
           {
            "marker": {
             "colorbar": {
              "outlinewidth": 0,
              "ticks": ""
             }
            },
            "type": "scattergl"
           }
          ],
          "scattermapbox": [
           {
            "marker": {
             "colorbar": {
              "outlinewidth": 0,
              "ticks": ""
             }
            },
            "type": "scattermapbox"
           }
          ],
          "scatterpolar": [
           {
            "marker": {
             "colorbar": {
              "outlinewidth": 0,
              "ticks": ""
             }
            },
            "type": "scatterpolar"
           }
          ],
          "scatterpolargl": [
           {
            "marker": {
             "colorbar": {
              "outlinewidth": 0,
              "ticks": ""
             }
            },
            "type": "scatterpolargl"
           }
          ],
          "scatterternary": [
           {
            "marker": {
             "colorbar": {
              "outlinewidth": 0,
              "ticks": ""
             }
            },
            "type": "scatterternary"
           }
          ],
          "surface": [
           {
            "colorbar": {
             "outlinewidth": 0,
             "ticks": ""
            },
            "colorscale": [
             [
              0,
              "#0d0887"
             ],
             [
              0.1111111111111111,
              "#46039f"
             ],
             [
              0.2222222222222222,
              "#7201a8"
             ],
             [
              0.3333333333333333,
              "#9c179e"
             ],
             [
              0.4444444444444444,
              "#bd3786"
             ],
             [
              0.5555555555555556,
              "#d8576b"
             ],
             [
              0.6666666666666666,
              "#ed7953"
             ],
             [
              0.7777777777777778,
              "#fb9f3a"
             ],
             [
              0.8888888888888888,
              "#fdca26"
             ],
             [
              1,
              "#f0f921"
             ]
            ],
            "type": "surface"
           }
          ],
          "table": [
           {
            "cells": {
             "fill": {
              "color": "#EBF0F8"
             },
             "line": {
              "color": "white"
             }
            },
            "header": {
             "fill": {
              "color": "#C8D4E3"
             },
             "line": {
              "color": "white"
             }
            },
            "type": "table"
           }
          ]
         },
         "layout": {
          "annotationdefaults": {
           "arrowcolor": "#2a3f5f",
           "arrowhead": 0,
           "arrowwidth": 1
          },
          "coloraxis": {
           "colorbar": {
            "outlinewidth": 0,
            "ticks": ""
           }
          },
          "colorscale": {
           "diverging": [
            [
             0,
             "#8e0152"
            ],
            [
             0.1,
             "#c51b7d"
            ],
            [
             0.2,
             "#de77ae"
            ],
            [
             0.3,
             "#f1b6da"
            ],
            [
             0.4,
             "#fde0ef"
            ],
            [
             0.5,
             "#f7f7f7"
            ],
            [
             0.6,
             "#e6f5d0"
            ],
            [
             0.7,
             "#b8e186"
            ],
            [
             0.8,
             "#7fbc41"
            ],
            [
             0.9,
             "#4d9221"
            ],
            [
             1,
             "#276419"
            ]
           ],
           "sequential": [
            [
             0,
             "#0d0887"
            ],
            [
             0.1111111111111111,
             "#46039f"
            ],
            [
             0.2222222222222222,
             "#7201a8"
            ],
            [
             0.3333333333333333,
             "#9c179e"
            ],
            [
             0.4444444444444444,
             "#bd3786"
            ],
            [
             0.5555555555555556,
             "#d8576b"
            ],
            [
             0.6666666666666666,
             "#ed7953"
            ],
            [
             0.7777777777777778,
             "#fb9f3a"
            ],
            [
             0.8888888888888888,
             "#fdca26"
            ],
            [
             1,
             "#f0f921"
            ]
           ],
           "sequentialminus": [
            [
             0,
             "#0d0887"
            ],
            [
             0.1111111111111111,
             "#46039f"
            ],
            [
             0.2222222222222222,
             "#7201a8"
            ],
            [
             0.3333333333333333,
             "#9c179e"
            ],
            [
             0.4444444444444444,
             "#bd3786"
            ],
            [
             0.5555555555555556,
             "#d8576b"
            ],
            [
             0.6666666666666666,
             "#ed7953"
            ],
            [
             0.7777777777777778,
             "#fb9f3a"
            ],
            [
             0.8888888888888888,
             "#fdca26"
            ],
            [
             1,
             "#f0f921"
            ]
           ]
          },
          "colorway": [
           "#636efa",
           "#EF553B",
           "#00cc96",
           "#ab63fa",
           "#FFA15A",
           "#19d3f3",
           "#FF6692",
           "#B6E880",
           "#FF97FF",
           "#FECB52"
          ],
          "font": {
           "color": "#2a3f5f"
          },
          "geo": {
           "bgcolor": "white",
           "lakecolor": "white",
           "landcolor": "#E5ECF6",
           "showlakes": true,
           "showland": true,
           "subunitcolor": "white"
          },
          "hoverlabel": {
           "align": "left"
          },
          "hovermode": "closest",
          "mapbox": {
           "style": "light"
          },
          "paper_bgcolor": "white",
          "plot_bgcolor": "#E5ECF6",
          "polar": {
           "angularaxis": {
            "gridcolor": "white",
            "linecolor": "white",
            "ticks": ""
           },
           "bgcolor": "#E5ECF6",
           "radialaxis": {
            "gridcolor": "white",
            "linecolor": "white",
            "ticks": ""
           }
          },
          "scene": {
           "xaxis": {
            "backgroundcolor": "#E5ECF6",
            "gridcolor": "white",
            "gridwidth": 2,
            "linecolor": "white",
            "showbackground": true,
            "ticks": "",
            "zerolinecolor": "white"
           },
           "yaxis": {
            "backgroundcolor": "#E5ECF6",
            "gridcolor": "white",
            "gridwidth": 2,
            "linecolor": "white",
            "showbackground": true,
            "ticks": "",
            "zerolinecolor": "white"
           },
           "zaxis": {
            "backgroundcolor": "#E5ECF6",
            "gridcolor": "white",
            "gridwidth": 2,
            "linecolor": "white",
            "showbackground": true,
            "ticks": "",
            "zerolinecolor": "white"
           }
          },
          "shapedefaults": {
           "line": {
            "color": "#2a3f5f"
           }
          },
          "ternary": {
           "aaxis": {
            "gridcolor": "white",
            "linecolor": "white",
            "ticks": ""
           },
           "baxis": {
            "gridcolor": "white",
            "linecolor": "white",
            "ticks": ""
           },
           "bgcolor": "#E5ECF6",
           "caxis": {
            "gridcolor": "white",
            "linecolor": "white",
            "ticks": ""
           }
          },
          "title": {
           "x": 0.05
          },
          "xaxis": {
           "automargin": true,
           "gridcolor": "white",
           "linecolor": "white",
           "ticks": "",
           "title": {
            "standoff": 15
           },
           "zerolinecolor": "white",
           "zerolinewidth": 2
          },
          "yaxis": {
           "automargin": true,
           "gridcolor": "white",
           "linecolor": "white",
           "ticks": "",
           "title": {
            "standoff": 15
           },
           "zerolinecolor": "white",
           "zerolinewidth": 2
          }
         }
        },
        "title": {
         "font": {
          "color": "#4D5663"
         }
        },
        "xaxis": {
         "gridcolor": "#E1E5ED",
         "showgrid": true,
         "tickfont": {
          "color": "#4D5663"
         },
         "title": {
          "font": {
           "color": "#4D5663"
          },
          "text": ""
         },
         "zerolinecolor": "#E1E5ED"
        },
        "yaxis": {
         "gridcolor": "#E1E5ED",
         "showgrid": true,
         "tickfont": {
          "color": "#4D5663"
         },
         "title": {
          "font": {
           "color": "#4D5663"
          },
          "text": ""
         },
         "zerolinecolor": "#E1E5ED"
        }
       }
      },
      "text/html": [
       "<div>\n",
       "        \n",
       "        \n",
       "            <div id=\"24008909-99d1-49fd-ab8e-8be5e37a23f5\" class=\"plotly-graph-div\" style=\"height:525px; width:100%;\"></div>\n",
       "            <script type=\"text/javascript\">\n",
       "                require([\"plotly\"], function(Plotly) {\n",
       "                    window.PLOTLYENV=window.PLOTLYENV || {};\n",
       "                    window.PLOTLYENV.BASE_URL='https://plotly.com';\n",
       "                    \n",
       "                if (document.getElementById(\"24008909-99d1-49fd-ab8e-8be5e37a23f5\")) {\n",
       "                    Plotly.newPlot(\n",
       "                        '24008909-99d1-49fd-ab8e-8be5e37a23f5',\n",
       "                        [{\"histfunc\": \"count\", \"histnorm\": \"\", \"marker\": {\"color\": \"rgba(255, 153, 51, 1.0)\", \"line\": {\"color\": \"#4D5663\", \"width\": 1.3}}, \"name\": \"A\", \"opacity\": 0.8, \"orientation\": \"v\", \"type\": \"histogram\", \"x\": [-1.3915514466454946, -0.25186847805576157, 0.9579228727741338, 0.6029271487268496, 0.416448674464561, 0.34063531233394767, -0.08459004387470692, 0.713619317860425, 1.7908137198587653, -0.07774446546417446, 0.7818861612515148, -0.08045802462218049, -1.3925376997334935, -0.25889123457565444, -1.2380068464047667, -1.6796053268216884, 1.1389527186859345, -2.15319053603754, 0.24225207650860273, 0.5323379650228895, -0.2096440229785707, 0.21953657917641956, -1.0938795941576012, -0.10577547603312083, 0.6384250404551687, -0.2721945316885118, 3.265738204544427, 0.3766017189657574, 0.33886279379065204, 1.2190050065519333, 0.3104100087786091, 0.26952115201931115, -2.3923810892739246, 0.8770803830120577, 0.6561754993661268, -1.2310665672205874, -1.1856641101789074, 0.41805322561991626, -0.9247175847838351, 0.23277995300774626, 0.4067275700600627, -1.428613771269792, 1.4839020736203505, 0.7633645943548794, 2.7756705575375586, -0.46463372800975183, 0.004306649259857492, 0.9645256070376517, -0.005185290726101883, 2.6020206278107167, -0.885626602219863, 1.3517771551572877, 1.4041522296440263, -0.37747456790116, 0.15412506809685084, -1.3868854662382721, 0.6433483582256894, 0.9983683388092811, -0.12169074845217757, -2.1176310033064594, -0.06264728472444926, -1.0150462339749775, 0.7360528445825723, 0.5333439301874713, 0.35198578229550376, 0.6072697451499537, -2.124423431145739, 0.45861870101295915, 0.3901706387730426, 0.9359092339197448, -0.1480147716292342, -0.4323566165303779, 0.7653655916578783, -0.19732640194278503, -0.1465413420198137, 0.7142610412011294, 1.1418243316888386, -0.3253132381128121, 1.5515260657660772, 0.309161311286864, -0.8358998861552829, 1.3655510433969495, 0.0632015316988487, -0.016827268343440532, 0.7506720191468409, -0.5595071040238351, -0.6947205233455448, 1.142499758085739, -2.147256982261882, -1.02211137709033, 0.4065176710241965, 0.5728619428353131, -0.2066640210509487, -0.9245155918409756, 0.19822024602242874, 1.4207896192934248, -1.67439132302367, 0.8101476190574366, 1.1438891096596677, -0.24724589169943464]}],\n",
       "                        {\"barmode\": \"overlay\", \"legend\": {\"bgcolor\": \"#F5F6F9\", \"font\": {\"color\": \"#4D5663\"}}, \"paper_bgcolor\": \"#F5F6F9\", \"plot_bgcolor\": \"#F5F6F9\", \"template\": {\"data\": {\"bar\": [{\"error_x\": {\"color\": \"#2a3f5f\"}, \"error_y\": {\"color\": \"#2a3f5f\"}, \"marker\": {\"line\": {\"color\": \"#E5ECF6\", \"width\": 0.5}}, \"type\": \"bar\"}], \"barpolar\": [{\"marker\": {\"line\": {\"color\": \"#E5ECF6\", \"width\": 0.5}}, \"type\": \"barpolar\"}], \"carpet\": [{\"aaxis\": {\"endlinecolor\": \"#2a3f5f\", \"gridcolor\": \"white\", \"linecolor\": \"white\", \"minorgridcolor\": \"white\", \"startlinecolor\": \"#2a3f5f\"}, \"baxis\": {\"endlinecolor\": \"#2a3f5f\", \"gridcolor\": \"white\", \"linecolor\": \"white\", \"minorgridcolor\": \"white\", \"startlinecolor\": \"#2a3f5f\"}, \"type\": \"carpet\"}], \"choropleth\": [{\"colorbar\": {\"outlinewidth\": 0, \"ticks\": \"\"}, \"type\": \"choropleth\"}], \"contour\": [{\"colorbar\": {\"outlinewidth\": 0, \"ticks\": \"\"}, \"colorscale\": [[0.0, \"#0d0887\"], [0.1111111111111111, \"#46039f\"], [0.2222222222222222, \"#7201a8\"], [0.3333333333333333, \"#9c179e\"], [0.4444444444444444, \"#bd3786\"], [0.5555555555555556, \"#d8576b\"], [0.6666666666666666, \"#ed7953\"], [0.7777777777777778, \"#fb9f3a\"], [0.8888888888888888, \"#fdca26\"], [1.0, \"#f0f921\"]], \"type\": \"contour\"}], \"contourcarpet\": [{\"colorbar\": {\"outlinewidth\": 0, \"ticks\": \"\"}, \"type\": \"contourcarpet\"}], \"heatmap\": [{\"colorbar\": {\"outlinewidth\": 0, \"ticks\": \"\"}, \"colorscale\": [[0.0, \"#0d0887\"], [0.1111111111111111, \"#46039f\"], [0.2222222222222222, \"#7201a8\"], [0.3333333333333333, \"#9c179e\"], [0.4444444444444444, \"#bd3786\"], [0.5555555555555556, \"#d8576b\"], [0.6666666666666666, \"#ed7953\"], [0.7777777777777778, \"#fb9f3a\"], [0.8888888888888888, \"#fdca26\"], [1.0, \"#f0f921\"]], \"type\": \"heatmap\"}], \"heatmapgl\": [{\"colorbar\": {\"outlinewidth\": 0, \"ticks\": \"\"}, \"colorscale\": [[0.0, \"#0d0887\"], [0.1111111111111111, \"#46039f\"], [0.2222222222222222, \"#7201a8\"], [0.3333333333333333, \"#9c179e\"], [0.4444444444444444, \"#bd3786\"], [0.5555555555555556, \"#d8576b\"], [0.6666666666666666, \"#ed7953\"], [0.7777777777777778, \"#fb9f3a\"], [0.8888888888888888, \"#fdca26\"], [1.0, \"#f0f921\"]], \"type\": \"heatmapgl\"}], \"histogram\": [{\"marker\": {\"colorbar\": {\"outlinewidth\": 0, \"ticks\": \"\"}}, \"type\": \"histogram\"}], \"histogram2d\": [{\"colorbar\": {\"outlinewidth\": 0, \"ticks\": \"\"}, \"colorscale\": [[0.0, \"#0d0887\"], [0.1111111111111111, \"#46039f\"], [0.2222222222222222, \"#7201a8\"], [0.3333333333333333, \"#9c179e\"], [0.4444444444444444, \"#bd3786\"], [0.5555555555555556, \"#d8576b\"], [0.6666666666666666, \"#ed7953\"], [0.7777777777777778, \"#fb9f3a\"], [0.8888888888888888, \"#fdca26\"], [1.0, \"#f0f921\"]], \"type\": \"histogram2d\"}], \"histogram2dcontour\": [{\"colorbar\": {\"outlinewidth\": 0, \"ticks\": \"\"}, \"colorscale\": [[0.0, \"#0d0887\"], [0.1111111111111111, \"#46039f\"], [0.2222222222222222, \"#7201a8\"], [0.3333333333333333, \"#9c179e\"], [0.4444444444444444, \"#bd3786\"], [0.5555555555555556, \"#d8576b\"], [0.6666666666666666, \"#ed7953\"], [0.7777777777777778, \"#fb9f3a\"], [0.8888888888888888, \"#fdca26\"], [1.0, \"#f0f921\"]], \"type\": \"histogram2dcontour\"}], \"mesh3d\": [{\"colorbar\": {\"outlinewidth\": 0, \"ticks\": \"\"}, \"type\": \"mesh3d\"}], \"parcoords\": [{\"line\": {\"colorbar\": {\"outlinewidth\": 0, \"ticks\": \"\"}}, \"type\": \"parcoords\"}], \"pie\": [{\"automargin\": true, \"type\": \"pie\"}], \"scatter\": [{\"marker\": {\"colorbar\": {\"outlinewidth\": 0, \"ticks\": \"\"}}, \"type\": \"scatter\"}], \"scatter3d\": [{\"line\": {\"colorbar\": {\"outlinewidth\": 0, \"ticks\": \"\"}}, \"marker\": {\"colorbar\": {\"outlinewidth\": 0, \"ticks\": \"\"}}, \"type\": \"scatter3d\"}], \"scattercarpet\": [{\"marker\": {\"colorbar\": {\"outlinewidth\": 0, \"ticks\": \"\"}}, \"type\": \"scattercarpet\"}], \"scattergeo\": [{\"marker\": {\"colorbar\": {\"outlinewidth\": 0, \"ticks\": \"\"}}, \"type\": \"scattergeo\"}], \"scattergl\": [{\"marker\": {\"colorbar\": {\"outlinewidth\": 0, \"ticks\": \"\"}}, \"type\": \"scattergl\"}], \"scattermapbox\": [{\"marker\": {\"colorbar\": {\"outlinewidth\": 0, \"ticks\": \"\"}}, \"type\": \"scattermapbox\"}], \"scatterpolar\": [{\"marker\": {\"colorbar\": {\"outlinewidth\": 0, \"ticks\": \"\"}}, \"type\": \"scatterpolar\"}], \"scatterpolargl\": [{\"marker\": {\"colorbar\": {\"outlinewidth\": 0, \"ticks\": \"\"}}, \"type\": \"scatterpolargl\"}], \"scatterternary\": [{\"marker\": {\"colorbar\": {\"outlinewidth\": 0, \"ticks\": \"\"}}, \"type\": \"scatterternary\"}], \"surface\": [{\"colorbar\": {\"outlinewidth\": 0, \"ticks\": \"\"}, \"colorscale\": [[0.0, \"#0d0887\"], [0.1111111111111111, \"#46039f\"], [0.2222222222222222, \"#7201a8\"], [0.3333333333333333, \"#9c179e\"], [0.4444444444444444, \"#bd3786\"], [0.5555555555555556, \"#d8576b\"], [0.6666666666666666, \"#ed7953\"], [0.7777777777777778, \"#fb9f3a\"], [0.8888888888888888, \"#fdca26\"], [1.0, \"#f0f921\"]], \"type\": \"surface\"}], \"table\": [{\"cells\": {\"fill\": {\"color\": \"#EBF0F8\"}, \"line\": {\"color\": \"white\"}}, \"header\": {\"fill\": {\"color\": \"#C8D4E3\"}, \"line\": {\"color\": \"white\"}}, \"type\": \"table\"}]}, \"layout\": {\"annotationdefaults\": {\"arrowcolor\": \"#2a3f5f\", \"arrowhead\": 0, \"arrowwidth\": 1}, \"coloraxis\": {\"colorbar\": {\"outlinewidth\": 0, \"ticks\": \"\"}}, \"colorscale\": {\"diverging\": [[0, \"#8e0152\"], [0.1, \"#c51b7d\"], [0.2, \"#de77ae\"], [0.3, \"#f1b6da\"], [0.4, \"#fde0ef\"], [0.5, \"#f7f7f7\"], [0.6, \"#e6f5d0\"], [0.7, \"#b8e186\"], [0.8, \"#7fbc41\"], [0.9, \"#4d9221\"], [1, \"#276419\"]], \"sequential\": [[0.0, \"#0d0887\"], [0.1111111111111111, \"#46039f\"], [0.2222222222222222, \"#7201a8\"], [0.3333333333333333, \"#9c179e\"], [0.4444444444444444, \"#bd3786\"], [0.5555555555555556, \"#d8576b\"], [0.6666666666666666, \"#ed7953\"], [0.7777777777777778, \"#fb9f3a\"], [0.8888888888888888, \"#fdca26\"], [1.0, \"#f0f921\"]], \"sequentialminus\": [[0.0, \"#0d0887\"], [0.1111111111111111, \"#46039f\"], [0.2222222222222222, \"#7201a8\"], [0.3333333333333333, \"#9c179e\"], [0.4444444444444444, \"#bd3786\"], [0.5555555555555556, \"#d8576b\"], [0.6666666666666666, \"#ed7953\"], [0.7777777777777778, \"#fb9f3a\"], [0.8888888888888888, \"#fdca26\"], [1.0, \"#f0f921\"]]}, \"colorway\": [\"#636efa\", \"#EF553B\", \"#00cc96\", \"#ab63fa\", \"#FFA15A\", \"#19d3f3\", \"#FF6692\", \"#B6E880\", \"#FF97FF\", \"#FECB52\"], \"font\": {\"color\": \"#2a3f5f\"}, \"geo\": {\"bgcolor\": \"white\", \"lakecolor\": \"white\", \"landcolor\": \"#E5ECF6\", \"showlakes\": true, \"showland\": true, \"subunitcolor\": \"white\"}, \"hoverlabel\": {\"align\": \"left\"}, \"hovermode\": \"closest\", \"mapbox\": {\"style\": \"light\"}, \"paper_bgcolor\": \"white\", \"plot_bgcolor\": \"#E5ECF6\", \"polar\": {\"angularaxis\": {\"gridcolor\": \"white\", \"linecolor\": \"white\", \"ticks\": \"\"}, \"bgcolor\": \"#E5ECF6\", \"radialaxis\": {\"gridcolor\": \"white\", \"linecolor\": \"white\", \"ticks\": \"\"}}, \"scene\": {\"xaxis\": {\"backgroundcolor\": \"#E5ECF6\", \"gridcolor\": \"white\", \"gridwidth\": 2, \"linecolor\": \"white\", \"showbackground\": true, \"ticks\": \"\", \"zerolinecolor\": \"white\"}, \"yaxis\": {\"backgroundcolor\": \"#E5ECF6\", \"gridcolor\": \"white\", \"gridwidth\": 2, \"linecolor\": \"white\", \"showbackground\": true, \"ticks\": \"\", \"zerolinecolor\": \"white\"}, \"zaxis\": {\"backgroundcolor\": \"#E5ECF6\", \"gridcolor\": \"white\", \"gridwidth\": 2, \"linecolor\": \"white\", \"showbackground\": true, \"ticks\": \"\", \"zerolinecolor\": \"white\"}}, \"shapedefaults\": {\"line\": {\"color\": \"#2a3f5f\"}}, \"ternary\": {\"aaxis\": {\"gridcolor\": \"white\", \"linecolor\": \"white\", \"ticks\": \"\"}, \"baxis\": {\"gridcolor\": \"white\", \"linecolor\": \"white\", \"ticks\": \"\"}, \"bgcolor\": \"#E5ECF6\", \"caxis\": {\"gridcolor\": \"white\", \"linecolor\": \"white\", \"ticks\": \"\"}}, \"title\": {\"x\": 0.05}, \"xaxis\": {\"automargin\": true, \"gridcolor\": \"white\", \"linecolor\": \"white\", \"ticks\": \"\", \"title\": {\"standoff\": 15}, \"zerolinecolor\": \"white\", \"zerolinewidth\": 2}, \"yaxis\": {\"automargin\": true, \"gridcolor\": \"white\", \"linecolor\": \"white\", \"ticks\": \"\", \"title\": {\"standoff\": 15}, \"zerolinecolor\": \"white\", \"zerolinewidth\": 2}}}, \"title\": {\"font\": {\"color\": \"#4D5663\"}}, \"xaxis\": {\"gridcolor\": \"#E1E5ED\", \"showgrid\": true, \"tickfont\": {\"color\": \"#4D5663\"}, \"title\": {\"font\": {\"color\": \"#4D5663\"}, \"text\": \"\"}, \"zerolinecolor\": \"#E1E5ED\"}, \"yaxis\": {\"gridcolor\": \"#E1E5ED\", \"showgrid\": true, \"tickfont\": {\"color\": \"#4D5663\"}, \"title\": {\"font\": {\"color\": \"#4D5663\"}, \"text\": \"\"}, \"zerolinecolor\": \"#E1E5ED\"}},\n",
       "                        {\"showLink\": true, \"linkText\": \"Export to plotly.com\", \"plotlyServerURL\": \"https://plotly.com\", \"responsive\": true}\n",
       "                    ).then(function(){\n",
       "                            \n",
       "var gd = document.getElementById('24008909-99d1-49fd-ab8e-8be5e37a23f5');\n",
       "var x = new MutationObserver(function (mutations, observer) {{\n",
       "        var display = window.getComputedStyle(gd).display;\n",
       "        if (!display || display === 'none') {{\n",
       "            console.log([gd, 'removed!']);\n",
       "            Plotly.purge(gd);\n",
       "            observer.disconnect();\n",
       "        }}\n",
       "}});\n",
       "\n",
       "// Listen for the removal of the full notebook cells\n",
       "var notebookContainer = gd.closest('#notebook-container');\n",
       "if (notebookContainer) {{\n",
       "    x.observe(notebookContainer, {childList: true});\n",
       "}}\n",
       "\n",
       "// Listen for the clearing of the current output cell\n",
       "var outputEl = gd.closest('.output');\n",
       "if (outputEl) {{\n",
       "    x.observe(outputEl, {childList: true});\n",
       "}}\n",
       "\n",
       "                        })\n",
       "                };\n",
       "                });\n",
       "            </script>\n",
       "        </div>"
      ]
     },
     "metadata": {},
     "output_type": "display_data"
    }
   ],
   "source": [
    "df['A'].iplot(kind='hist')"
   ]
  },
  {
   "cell_type": "code",
   "execution_count": 10,
   "metadata": {},
   "outputs": [
    {
     "data": {
      "application/vnd.plotly.v1+json": {
       "config": {
        "linkText": "Export to plotly.com",
        "plotlyServerURL": "https://plotly.com",
        "showLink": true
       },
       "data": [
        {
         "histfunc": "count",
         "histnorm": "",
         "marker": {
          "color": "rgba(255, 153, 51, 1.0)",
          "line": {
           "color": "#4D5663",
           "width": 1.3
          }
         },
         "name": "A",
         "opacity": 0.8,
         "orientation": "v",
         "type": "histogram",
         "x": [
          -1.3915514466454946,
          -0.25186847805576157,
          0.9579228727741338,
          0.6029271487268496,
          0.416448674464561,
          0.34063531233394767,
          -0.08459004387470692,
          0.713619317860425,
          1.7908137198587653,
          -0.07774446546417446,
          0.7818861612515148,
          -0.08045802462218049,
          -1.3925376997334935,
          -0.25889123457565444,
          -1.2380068464047667,
          -1.6796053268216884,
          1.1389527186859345,
          -2.15319053603754,
          0.24225207650860273,
          0.5323379650228895,
          -0.2096440229785707,
          0.21953657917641956,
          -1.0938795941576012,
          -0.10577547603312083,
          0.6384250404551687,
          -0.2721945316885118,
          3.265738204544427,
          0.3766017189657574,
          0.33886279379065204,
          1.2190050065519333,
          0.3104100087786091,
          0.26952115201931115,
          -2.3923810892739246,
          0.8770803830120577,
          0.6561754993661268,
          -1.2310665672205874,
          -1.1856641101789074,
          0.41805322561991626,
          -0.9247175847838351,
          0.23277995300774626,
          0.4067275700600627,
          -1.428613771269792,
          1.4839020736203505,
          0.7633645943548794,
          2.7756705575375586,
          -0.46463372800975183,
          0.004306649259857492,
          0.9645256070376517,
          -0.005185290726101883,
          2.6020206278107167,
          -0.885626602219863,
          1.3517771551572877,
          1.4041522296440263,
          -0.37747456790116,
          0.15412506809685084,
          -1.3868854662382721,
          0.6433483582256894,
          0.9983683388092811,
          -0.12169074845217757,
          -2.1176310033064594,
          -0.06264728472444926,
          -1.0150462339749775,
          0.7360528445825723,
          0.5333439301874713,
          0.35198578229550376,
          0.6072697451499537,
          -2.124423431145739,
          0.45861870101295915,
          0.3901706387730426,
          0.9359092339197448,
          -0.1480147716292342,
          -0.4323566165303779,
          0.7653655916578783,
          -0.19732640194278503,
          -0.1465413420198137,
          0.7142610412011294,
          1.1418243316888386,
          -0.3253132381128121,
          1.5515260657660772,
          0.309161311286864,
          -0.8358998861552829,
          1.3655510433969495,
          0.0632015316988487,
          -0.016827268343440532,
          0.7506720191468409,
          -0.5595071040238351,
          -0.6947205233455448,
          1.142499758085739,
          -2.147256982261882,
          -1.02211137709033,
          0.4065176710241965,
          0.5728619428353131,
          -0.2066640210509487,
          -0.9245155918409756,
          0.19822024602242874,
          1.4207896192934248,
          -1.67439132302367,
          0.8101476190574366,
          1.1438891096596677,
          -0.24724589169943464
         ]
        },
        {
         "histfunc": "count",
         "histnorm": "",
         "marker": {
          "color": "rgba(55, 128, 191, 1.0)",
          "line": {
           "color": "#4D5663",
           "width": 1.3
          }
         },
         "name": "B",
         "opacity": 0.8,
         "orientation": "v",
         "type": "histogram",
         "x": [
          -1.8063135150409384,
          -0.7679513004948498,
          -0.8742919766403517,
          0.3070143950458193,
          1.1665253316654558,
          -0.2262683166260905,
          -0.4917852269151437,
          -0.08073729843021035,
          2.8334375843659645,
          1.1532207799473548,
          -0.03814254313590681,
          -0.10568906458824325,
          -0.31317568710161725,
          0.999191108558023,
          0.8385632979585733,
          0.41534933039874006,
          0.8797805528306242,
          -1.2497080083648895,
          -1.7911041602373101,
          0.7630643074653287,
          2.5892130854872626,
          -0.5439208326964506,
          -1.3750796123608928,
          -1.729704664812876,
          0.5578288145910832,
          1.0036536830512153,
          -0.1714020047363067,
          -0.19405615495300366,
          0.6919399765482697,
          0.9695804954012914,
          1.350663420111455,
          -1.240062693169029,
          -1.348240459508053,
          1.4623370752557971,
          -0.48168927519920546,
          0.39784876136248515,
          -0.9024576145690437,
          -0.6935679814885369,
          -0.3761127379085823,
          -0.36623141625460714,
          -0.2451594279515256,
          0.026402940006598093,
          -0.32046021467091446,
          1.1112009255824087,
          0.2187696308981625,
          -2.505044161953846,
          -0.6162072553432347,
          -0.015565844051689669,
          1.7854810856777485,
          0.3541192142490893,
          0.5263691204633134,
          1.3994577056620974,
          -1.3428712151096527,
          1.1255059881410612,
          0.9500501528505452,
          0.23415698180013855,
          0.15335525171261927,
          -0.052071479834325515,
          -1.4232941345045214,
          0.7132256996685288,
          0.5489697164118927,
          -0.5726168408446426,
          0.4621316906319872,
          2.0945996369123625,
          -0.6293460980779058,
          1.0075453751062597,
          0.10083326030721385,
          -2.2013485061886473,
          -0.3898105142975688,
          -1.0896725401553105,
          -1.8597732189447154,
          0.3905174313184132,
          -0.3104515621834238,
          0.8040065537583236,
          -1.0797745253519242,
          0.8367161653986137,
          -1.2674111303051174,
          -0.6763387257899182,
          -1.092639906945907,
          1.0449811622012086,
          1.8517700485195743,
          -0.13757886943215655,
          0.7259595503006789,
          -0.9096144399987279,
          0.6074501093482007,
          -0.7191397729519661,
          1.907848397028853,
          -0.8418897038835749,
          0.06575111015677335,
          -2.0389882885122126,
          -1.53917556051178,
          0.9015627864510748,
          0.09360031995000555,
          0.10739423129650766,
          0.6419278156297985,
          -0.23432958246422325,
          0.1178203071042369,
          -0.9005807904385831,
          1.2181737505496018,
          -0.5324878800398267
         ]
        },
        {
         "histfunc": "count",
         "histnorm": "",
         "marker": {
          "color": "rgba(50, 171, 96, 1.0)",
          "line": {
           "color": "#4D5663",
           "width": 1.3
          }
         },
         "name": "C",
         "opacity": 0.8,
         "orientation": "v",
         "type": "histogram",
         "x": [
          1.2982356591642445,
          0.15427115901690341,
          1.0213467155156255,
          1.232635888537672,
          -0.22895222538532137,
          1.954511785901398,
          -0.3942545853071218,
          -0.8092251193718866,
          -0.12322104508539473,
          1.2286788093130638,
          0.3874343994934357,
          -2.2953744065269643,
          2.017388879406804,
          1.1193266759672091,
          -0.2746008943626236,
          -0.8065314918764688,
          0.972762641451173,
          0.5074579567461822,
          1.0118902717327247,
          0.401509381385972,
          0.0639114665073889,
          -1.8663631190800596,
          0.1387441893866892,
          0.1428873542876622,
          0.47682850878052335,
          -0.36571985711014215,
          -1.5460929902125424,
          0.5198596011344117,
          -1.6173676235504222,
          -1.4356016266184148,
          -0.07050502844673512,
          0.5575637873458781,
          -2.1652567182684646,
          0.5870162986735613,
          -0.8773663572243663,
          -0.6858001901123327,
          2.7969800829027123,
          -0.5458885428916942,
          1.1181997296247015,
          -0.11673408876087886,
          0.6404059497492122,
          -1.728413741794743,
          0.3983029336729583,
          -0.7246637943231838,
          -0.8739988801359196,
          -0.8953673781193359,
          1.0188898265321207,
          0.17867461627604825,
          -0.7954294822668724,
          0.4636630050156447,
          -0.6784390426197163,
          0.15119517232480975,
          0.24758404252618696,
          0.4332548808024751,
          -0.573257381134931,
          -0.543358203976377,
          1.1269166836129816,
          -0.23872781757691822,
          -1.3099931941537102,
          -1.0582198694901048,
          -0.4262076857305047,
          1.423853630818953,
          -0.36089078387376755,
          -2.154339180537667,
          2.476822997091817,
          0.32141164193151145,
          1.7050486382039032,
          -0.504611966141616,
          -1.397522139381618,
          0.8479678308837004,
          -0.8297755982819625,
          1.0577651562083943,
          -0.9101582376316869,
          -0.0029074583485230563,
          0.2608575614760658,
          -0.7803371558458617,
          -2.145391997779593,
          -0.7063161942876157,
          0.16239921321512515,
          -0.07683075830387348,
          1.0607037175653777,
          0.9544867857313885,
          -0.11793678009979827,
          0.2102582181812343,
          -0.8387898266596429,
          -0.4206283693985038,
          -0.8152428246157843,
          -0.7276697598353788,
          -1.1329929330756752,
          -1.4466041035213315,
          -0.9848748287647158,
          0.1180319292781396,
          -0.8776375086870779,
          -1.2821605470681214,
          0.24414266199380305,
          0.8141424501001563,
          -0.2765616564967207,
          0.47783868175145766,
          -0.9965387453155009,
          -0.09458406917183024
         ]
        },
        {
         "histfunc": "count",
         "histnorm": "",
         "marker": {
          "color": "rgba(128, 0, 128, 1.0)",
          "line": {
           "color": "#4D5663",
           "width": 1.3
          }
         },
         "name": "D",
         "opacity": 0.8,
         "orientation": "v",
         "type": "histogram",
         "x": [
          -0.6833341122857621,
          -1.186518198081401,
          0.7440360616704014,
          -0.4724438209696136,
          -0.3726398238770978,
          0.04117066612790381,
          -0.12165221701464178,
          -0.3582447039742966,
          -0.9614060037617944,
          0.738115872324706,
          -0.08819366108400076,
          1.223355545014585,
          1.4230621728241735,
          -0.0713488500790235,
          -0.37552458341578615,
          1.4051767793554675,
          1.5048150109432545,
          1.1539930776722223,
          0.37183774749061793,
          1.2137171768818364,
          0.2647832955019624,
          0.08301689949870196,
          -0.08352492211042305,
          0.17603067516678184,
          1.3426263722935805,
          1.4710969763164121,
          0.3723008765493016,
          0.8302101906900898,
          0.4293110699434798,
          -1.7014499397610496,
          -0.7462107273631216,
          -0.062418203425431834,
          -0.4521898440150753,
          1.0374670134271229,
          -0.03827027493552959,
          2.627813687110325,
          0.6891056995922998,
          0.9496908564080698,
          -0.5173382461484048,
          -1.7998833834458434,
          -0.3058413154285717,
          -1.2147511852081776,
          -1.005887489678001,
          -0.30709897227715727,
          0.37256104976328275,
          0.12874701718905396,
          0.40465242152470143,
          1.1456196270354793,
          -0.9876226453689538,
          -0.32062717671141766,
          -0.4477698824738656,
          0.37035700057779575,
          -0.6728757045446571,
          0.13727837951958757,
          -0.8365857241976379,
          -0.862833170927694,
          -0.2321665491113636,
          -0.3096342804538494,
          0.8796768280896852,
          -0.1138722149396076,
          0.26259767826855795,
          -0.1723152186005268,
          0.10650986454691985,
          -0.674854272338543,
          0.607077893069324,
          1.077104763029846,
          0.306009787291824,
          1.6189631446653476,
          0.18641228222526587,
          0.1002952216652406,
          0.35384730130886494,
          -0.5592970923758837,
          1.6810924067739625,
          -0.22801226336023897,
          -0.007212983814382795,
          -0.8884243908142498,
          0.007373212437131988,
          -1.4994425212206395,
          0.2858613226319799,
          0.7723744957643544,
          0.006207666093432797,
          -0.9831130172701907,
          0.5668305156554925,
          1.6039775473847573,
          1.3707010942956015,
          0.43850866148625123,
          1.0295632712010863,
          0.4628062783971533,
          -0.09196565989581211,
          0.10106709283112156,
          -0.25825437843646293,
          1.311841406736645,
          -0.04561607748831737,
          0.9986168276634753,
          -1.1692664545784839,
          2.0607261167534308,
          -0.03489069796686348,
          -0.9817027574319807,
          -1.828275897713146,
          -0.13307937775464979
         ]
        }
       ],
       "layout": {
        "barmode": "overlay",
        "legend": {
         "bgcolor": "#F5F6F9",
         "font": {
          "color": "#4D5663"
         }
        },
        "paper_bgcolor": "#F5F6F9",
        "plot_bgcolor": "#F5F6F9",
        "template": {
         "data": {
          "bar": [
           {
            "error_x": {
             "color": "#2a3f5f"
            },
            "error_y": {
             "color": "#2a3f5f"
            },
            "marker": {
             "line": {
              "color": "#E5ECF6",
              "width": 0.5
             }
            },
            "type": "bar"
           }
          ],
          "barpolar": [
           {
            "marker": {
             "line": {
              "color": "#E5ECF6",
              "width": 0.5
             }
            },
            "type": "barpolar"
           }
          ],
          "carpet": [
           {
            "aaxis": {
             "endlinecolor": "#2a3f5f",
             "gridcolor": "white",
             "linecolor": "white",
             "minorgridcolor": "white",
             "startlinecolor": "#2a3f5f"
            },
            "baxis": {
             "endlinecolor": "#2a3f5f",
             "gridcolor": "white",
             "linecolor": "white",
             "minorgridcolor": "white",
             "startlinecolor": "#2a3f5f"
            },
            "type": "carpet"
           }
          ],
          "choropleth": [
           {
            "colorbar": {
             "outlinewidth": 0,
             "ticks": ""
            },
            "type": "choropleth"
           }
          ],
          "contour": [
           {
            "colorbar": {
             "outlinewidth": 0,
             "ticks": ""
            },
            "colorscale": [
             [
              0,
              "#0d0887"
             ],
             [
              0.1111111111111111,
              "#46039f"
             ],
             [
              0.2222222222222222,
              "#7201a8"
             ],
             [
              0.3333333333333333,
              "#9c179e"
             ],
             [
              0.4444444444444444,
              "#bd3786"
             ],
             [
              0.5555555555555556,
              "#d8576b"
             ],
             [
              0.6666666666666666,
              "#ed7953"
             ],
             [
              0.7777777777777778,
              "#fb9f3a"
             ],
             [
              0.8888888888888888,
              "#fdca26"
             ],
             [
              1,
              "#f0f921"
             ]
            ],
            "type": "contour"
           }
          ],
          "contourcarpet": [
           {
            "colorbar": {
             "outlinewidth": 0,
             "ticks": ""
            },
            "type": "contourcarpet"
           }
          ],
          "heatmap": [
           {
            "colorbar": {
             "outlinewidth": 0,
             "ticks": ""
            },
            "colorscale": [
             [
              0,
              "#0d0887"
             ],
             [
              0.1111111111111111,
              "#46039f"
             ],
             [
              0.2222222222222222,
              "#7201a8"
             ],
             [
              0.3333333333333333,
              "#9c179e"
             ],
             [
              0.4444444444444444,
              "#bd3786"
             ],
             [
              0.5555555555555556,
              "#d8576b"
             ],
             [
              0.6666666666666666,
              "#ed7953"
             ],
             [
              0.7777777777777778,
              "#fb9f3a"
             ],
             [
              0.8888888888888888,
              "#fdca26"
             ],
             [
              1,
              "#f0f921"
             ]
            ],
            "type": "heatmap"
           }
          ],
          "heatmapgl": [
           {
            "colorbar": {
             "outlinewidth": 0,
             "ticks": ""
            },
            "colorscale": [
             [
              0,
              "#0d0887"
             ],
             [
              0.1111111111111111,
              "#46039f"
             ],
             [
              0.2222222222222222,
              "#7201a8"
             ],
             [
              0.3333333333333333,
              "#9c179e"
             ],
             [
              0.4444444444444444,
              "#bd3786"
             ],
             [
              0.5555555555555556,
              "#d8576b"
             ],
             [
              0.6666666666666666,
              "#ed7953"
             ],
             [
              0.7777777777777778,
              "#fb9f3a"
             ],
             [
              0.8888888888888888,
              "#fdca26"
             ],
             [
              1,
              "#f0f921"
             ]
            ],
            "type": "heatmapgl"
           }
          ],
          "histogram": [
           {
            "marker": {
             "colorbar": {
              "outlinewidth": 0,
              "ticks": ""
             }
            },
            "type": "histogram"
           }
          ],
          "histogram2d": [
           {
            "colorbar": {
             "outlinewidth": 0,
             "ticks": ""
            },
            "colorscale": [
             [
              0,
              "#0d0887"
             ],
             [
              0.1111111111111111,
              "#46039f"
             ],
             [
              0.2222222222222222,
              "#7201a8"
             ],
             [
              0.3333333333333333,
              "#9c179e"
             ],
             [
              0.4444444444444444,
              "#bd3786"
             ],
             [
              0.5555555555555556,
              "#d8576b"
             ],
             [
              0.6666666666666666,
              "#ed7953"
             ],
             [
              0.7777777777777778,
              "#fb9f3a"
             ],
             [
              0.8888888888888888,
              "#fdca26"
             ],
             [
              1,
              "#f0f921"
             ]
            ],
            "type": "histogram2d"
           }
          ],
          "histogram2dcontour": [
           {
            "colorbar": {
             "outlinewidth": 0,
             "ticks": ""
            },
            "colorscale": [
             [
              0,
              "#0d0887"
             ],
             [
              0.1111111111111111,
              "#46039f"
             ],
             [
              0.2222222222222222,
              "#7201a8"
             ],
             [
              0.3333333333333333,
              "#9c179e"
             ],
             [
              0.4444444444444444,
              "#bd3786"
             ],
             [
              0.5555555555555556,
              "#d8576b"
             ],
             [
              0.6666666666666666,
              "#ed7953"
             ],
             [
              0.7777777777777778,
              "#fb9f3a"
             ],
             [
              0.8888888888888888,
              "#fdca26"
             ],
             [
              1,
              "#f0f921"
             ]
            ],
            "type": "histogram2dcontour"
           }
          ],
          "mesh3d": [
           {
            "colorbar": {
             "outlinewidth": 0,
             "ticks": ""
            },
            "type": "mesh3d"
           }
          ],
          "parcoords": [
           {
            "line": {
             "colorbar": {
              "outlinewidth": 0,
              "ticks": ""
             }
            },
            "type": "parcoords"
           }
          ],
          "pie": [
           {
            "automargin": true,
            "type": "pie"
           }
          ],
          "scatter": [
           {
            "marker": {
             "colorbar": {
              "outlinewidth": 0,
              "ticks": ""
             }
            },
            "type": "scatter"
           }
          ],
          "scatter3d": [
           {
            "line": {
             "colorbar": {
              "outlinewidth": 0,
              "ticks": ""
             }
            },
            "marker": {
             "colorbar": {
              "outlinewidth": 0,
              "ticks": ""
             }
            },
            "type": "scatter3d"
           }
          ],
          "scattercarpet": [
           {
            "marker": {
             "colorbar": {
              "outlinewidth": 0,
              "ticks": ""
             }
            },
            "type": "scattercarpet"
           }
          ],
          "scattergeo": [
           {
            "marker": {
             "colorbar": {
              "outlinewidth": 0,
              "ticks": ""
             }
            },
            "type": "scattergeo"
           }
          ],
          "scattergl": [
           {
            "marker": {
             "colorbar": {
              "outlinewidth": 0,
              "ticks": ""
             }
            },
            "type": "scattergl"
           }
          ],
          "scattermapbox": [
           {
            "marker": {
             "colorbar": {
              "outlinewidth": 0,
              "ticks": ""
             }
            },
            "type": "scattermapbox"
           }
          ],
          "scatterpolar": [
           {
            "marker": {
             "colorbar": {
              "outlinewidth": 0,
              "ticks": ""
             }
            },
            "type": "scatterpolar"
           }
          ],
          "scatterpolargl": [
           {
            "marker": {
             "colorbar": {
              "outlinewidth": 0,
              "ticks": ""
             }
            },
            "type": "scatterpolargl"
           }
          ],
          "scatterternary": [
           {
            "marker": {
             "colorbar": {
              "outlinewidth": 0,
              "ticks": ""
             }
            },
            "type": "scatterternary"
           }
          ],
          "surface": [
           {
            "colorbar": {
             "outlinewidth": 0,
             "ticks": ""
            },
            "colorscale": [
             [
              0,
              "#0d0887"
             ],
             [
              0.1111111111111111,
              "#46039f"
             ],
             [
              0.2222222222222222,
              "#7201a8"
             ],
             [
              0.3333333333333333,
              "#9c179e"
             ],
             [
              0.4444444444444444,
              "#bd3786"
             ],
             [
              0.5555555555555556,
              "#d8576b"
             ],
             [
              0.6666666666666666,
              "#ed7953"
             ],
             [
              0.7777777777777778,
              "#fb9f3a"
             ],
             [
              0.8888888888888888,
              "#fdca26"
             ],
             [
              1,
              "#f0f921"
             ]
            ],
            "type": "surface"
           }
          ],
          "table": [
           {
            "cells": {
             "fill": {
              "color": "#EBF0F8"
             },
             "line": {
              "color": "white"
             }
            },
            "header": {
             "fill": {
              "color": "#C8D4E3"
             },
             "line": {
              "color": "white"
             }
            },
            "type": "table"
           }
          ]
         },
         "layout": {
          "annotationdefaults": {
           "arrowcolor": "#2a3f5f",
           "arrowhead": 0,
           "arrowwidth": 1
          },
          "coloraxis": {
           "colorbar": {
            "outlinewidth": 0,
            "ticks": ""
           }
          },
          "colorscale": {
           "diverging": [
            [
             0,
             "#8e0152"
            ],
            [
             0.1,
             "#c51b7d"
            ],
            [
             0.2,
             "#de77ae"
            ],
            [
             0.3,
             "#f1b6da"
            ],
            [
             0.4,
             "#fde0ef"
            ],
            [
             0.5,
             "#f7f7f7"
            ],
            [
             0.6,
             "#e6f5d0"
            ],
            [
             0.7,
             "#b8e186"
            ],
            [
             0.8,
             "#7fbc41"
            ],
            [
             0.9,
             "#4d9221"
            ],
            [
             1,
             "#276419"
            ]
           ],
           "sequential": [
            [
             0,
             "#0d0887"
            ],
            [
             0.1111111111111111,
             "#46039f"
            ],
            [
             0.2222222222222222,
             "#7201a8"
            ],
            [
             0.3333333333333333,
             "#9c179e"
            ],
            [
             0.4444444444444444,
             "#bd3786"
            ],
            [
             0.5555555555555556,
             "#d8576b"
            ],
            [
             0.6666666666666666,
             "#ed7953"
            ],
            [
             0.7777777777777778,
             "#fb9f3a"
            ],
            [
             0.8888888888888888,
             "#fdca26"
            ],
            [
             1,
             "#f0f921"
            ]
           ],
           "sequentialminus": [
            [
             0,
             "#0d0887"
            ],
            [
             0.1111111111111111,
             "#46039f"
            ],
            [
             0.2222222222222222,
             "#7201a8"
            ],
            [
             0.3333333333333333,
             "#9c179e"
            ],
            [
             0.4444444444444444,
             "#bd3786"
            ],
            [
             0.5555555555555556,
             "#d8576b"
            ],
            [
             0.6666666666666666,
             "#ed7953"
            ],
            [
             0.7777777777777778,
             "#fb9f3a"
            ],
            [
             0.8888888888888888,
             "#fdca26"
            ],
            [
             1,
             "#f0f921"
            ]
           ]
          },
          "colorway": [
           "#636efa",
           "#EF553B",
           "#00cc96",
           "#ab63fa",
           "#FFA15A",
           "#19d3f3",
           "#FF6692",
           "#B6E880",
           "#FF97FF",
           "#FECB52"
          ],
          "font": {
           "color": "#2a3f5f"
          },
          "geo": {
           "bgcolor": "white",
           "lakecolor": "white",
           "landcolor": "#E5ECF6",
           "showlakes": true,
           "showland": true,
           "subunitcolor": "white"
          },
          "hoverlabel": {
           "align": "left"
          },
          "hovermode": "closest",
          "mapbox": {
           "style": "light"
          },
          "paper_bgcolor": "white",
          "plot_bgcolor": "#E5ECF6",
          "polar": {
           "angularaxis": {
            "gridcolor": "white",
            "linecolor": "white",
            "ticks": ""
           },
           "bgcolor": "#E5ECF6",
           "radialaxis": {
            "gridcolor": "white",
            "linecolor": "white",
            "ticks": ""
           }
          },
          "scene": {
           "xaxis": {
            "backgroundcolor": "#E5ECF6",
            "gridcolor": "white",
            "gridwidth": 2,
            "linecolor": "white",
            "showbackground": true,
            "ticks": "",
            "zerolinecolor": "white"
           },
           "yaxis": {
            "backgroundcolor": "#E5ECF6",
            "gridcolor": "white",
            "gridwidth": 2,
            "linecolor": "white",
            "showbackground": true,
            "ticks": "",
            "zerolinecolor": "white"
           },
           "zaxis": {
            "backgroundcolor": "#E5ECF6",
            "gridcolor": "white",
            "gridwidth": 2,
            "linecolor": "white",
            "showbackground": true,
            "ticks": "",
            "zerolinecolor": "white"
           }
          },
          "shapedefaults": {
           "line": {
            "color": "#2a3f5f"
           }
          },
          "ternary": {
           "aaxis": {
            "gridcolor": "white",
            "linecolor": "white",
            "ticks": ""
           },
           "baxis": {
            "gridcolor": "white",
            "linecolor": "white",
            "ticks": ""
           },
           "bgcolor": "#E5ECF6",
           "caxis": {
            "gridcolor": "white",
            "linecolor": "white",
            "ticks": ""
           }
          },
          "title": {
           "x": 0.05
          },
          "xaxis": {
           "automargin": true,
           "gridcolor": "white",
           "linecolor": "white",
           "ticks": "",
           "title": {
            "standoff": 15
           },
           "zerolinecolor": "white",
           "zerolinewidth": 2
          },
          "yaxis": {
           "automargin": true,
           "gridcolor": "white",
           "linecolor": "white",
           "ticks": "",
           "title": {
            "standoff": 15
           },
           "zerolinecolor": "white",
           "zerolinewidth": 2
          }
         }
        },
        "title": {
         "font": {
          "color": "#4D5663"
         }
        },
        "xaxis": {
         "gridcolor": "#E1E5ED",
         "showgrid": true,
         "tickfont": {
          "color": "#4D5663"
         },
         "title": {
          "font": {
           "color": "#4D5663"
          },
          "text": ""
         },
         "zerolinecolor": "#E1E5ED"
        },
        "yaxis": {
         "gridcolor": "#E1E5ED",
         "showgrid": true,
         "tickfont": {
          "color": "#4D5663"
         },
         "title": {
          "font": {
           "color": "#4D5663"
          },
          "text": ""
         },
         "zerolinecolor": "#E1E5ED"
        }
       }
      },
      "text/html": [
       "<div>\n",
       "        \n",
       "        \n",
       "            <div id=\"add65102-9f7d-4591-85db-0e81902b3693\" class=\"plotly-graph-div\" style=\"height:525px; width:100%;\"></div>\n",
       "            <script type=\"text/javascript\">\n",
       "                require([\"plotly\"], function(Plotly) {\n",
       "                    window.PLOTLYENV=window.PLOTLYENV || {};\n",
       "                    window.PLOTLYENV.BASE_URL='https://plotly.com';\n",
       "                    \n",
       "                if (document.getElementById(\"add65102-9f7d-4591-85db-0e81902b3693\")) {\n",
       "                    Plotly.newPlot(\n",
       "                        'add65102-9f7d-4591-85db-0e81902b3693',\n",
       "                        [{\"histfunc\": \"count\", \"histnorm\": \"\", \"marker\": {\"color\": \"rgba(255, 153, 51, 1.0)\", \"line\": {\"color\": \"#4D5663\", \"width\": 1.3}}, \"name\": \"A\", \"opacity\": 0.8, \"orientation\": \"v\", \"type\": \"histogram\", \"x\": [-1.3915514466454946, -0.25186847805576157, 0.9579228727741338, 0.6029271487268496, 0.416448674464561, 0.34063531233394767, -0.08459004387470692, 0.713619317860425, 1.7908137198587653, -0.07774446546417446, 0.7818861612515148, -0.08045802462218049, -1.3925376997334935, -0.25889123457565444, -1.2380068464047667, -1.6796053268216884, 1.1389527186859345, -2.15319053603754, 0.24225207650860273, 0.5323379650228895, -0.2096440229785707, 0.21953657917641956, -1.0938795941576012, -0.10577547603312083, 0.6384250404551687, -0.2721945316885118, 3.265738204544427, 0.3766017189657574, 0.33886279379065204, 1.2190050065519333, 0.3104100087786091, 0.26952115201931115, -2.3923810892739246, 0.8770803830120577, 0.6561754993661268, -1.2310665672205874, -1.1856641101789074, 0.41805322561991626, -0.9247175847838351, 0.23277995300774626, 0.4067275700600627, -1.428613771269792, 1.4839020736203505, 0.7633645943548794, 2.7756705575375586, -0.46463372800975183, 0.004306649259857492, 0.9645256070376517, -0.005185290726101883, 2.6020206278107167, -0.885626602219863, 1.3517771551572877, 1.4041522296440263, -0.37747456790116, 0.15412506809685084, -1.3868854662382721, 0.6433483582256894, 0.9983683388092811, -0.12169074845217757, -2.1176310033064594, -0.06264728472444926, -1.0150462339749775, 0.7360528445825723, 0.5333439301874713, 0.35198578229550376, 0.6072697451499537, -2.124423431145739, 0.45861870101295915, 0.3901706387730426, 0.9359092339197448, -0.1480147716292342, -0.4323566165303779, 0.7653655916578783, -0.19732640194278503, -0.1465413420198137, 0.7142610412011294, 1.1418243316888386, -0.3253132381128121, 1.5515260657660772, 0.309161311286864, -0.8358998861552829, 1.3655510433969495, 0.0632015316988487, -0.016827268343440532, 0.7506720191468409, -0.5595071040238351, -0.6947205233455448, 1.142499758085739, -2.147256982261882, -1.02211137709033, 0.4065176710241965, 0.5728619428353131, -0.2066640210509487, -0.9245155918409756, 0.19822024602242874, 1.4207896192934248, -1.67439132302367, 0.8101476190574366, 1.1438891096596677, -0.24724589169943464]}, {\"histfunc\": \"count\", \"histnorm\": \"\", \"marker\": {\"color\": \"rgba(55, 128, 191, 1.0)\", \"line\": {\"color\": \"#4D5663\", \"width\": 1.3}}, \"name\": \"B\", \"opacity\": 0.8, \"orientation\": \"v\", \"type\": \"histogram\", \"x\": [-1.8063135150409384, -0.7679513004948498, -0.8742919766403517, 0.3070143950458193, 1.1665253316654558, -0.2262683166260905, -0.4917852269151437, -0.08073729843021035, 2.8334375843659645, 1.1532207799473548, -0.03814254313590681, -0.10568906458824325, -0.31317568710161725, 0.999191108558023, 0.8385632979585733, 0.41534933039874006, 0.8797805528306242, -1.2497080083648895, -1.7911041602373101, 0.7630643074653287, 2.5892130854872626, -0.5439208326964506, -1.3750796123608928, -1.729704664812876, 0.5578288145910832, 1.0036536830512153, -0.1714020047363067, -0.19405615495300366, 0.6919399765482697, 0.9695804954012914, 1.350663420111455, -1.240062693169029, -1.348240459508053, 1.4623370752557971, -0.48168927519920546, 0.39784876136248515, -0.9024576145690437, -0.6935679814885369, -0.3761127379085823, -0.36623141625460714, -0.2451594279515256, 0.026402940006598093, -0.32046021467091446, 1.1112009255824087, 0.2187696308981625, -2.505044161953846, -0.6162072553432347, -0.015565844051689669, 1.7854810856777485, 0.3541192142490893, 0.5263691204633134, 1.3994577056620974, -1.3428712151096527, 1.1255059881410612, 0.9500501528505452, 0.23415698180013855, 0.15335525171261927, -0.052071479834325515, -1.4232941345045214, 0.7132256996685288, 0.5489697164118927, -0.5726168408446426, 0.4621316906319872, 2.0945996369123625, -0.6293460980779058, 1.0075453751062597, 0.10083326030721385, -2.2013485061886473, -0.3898105142975688, -1.0896725401553105, -1.8597732189447154, 0.3905174313184132, -0.3104515621834238, 0.8040065537583236, -1.0797745253519242, 0.8367161653986137, -1.2674111303051174, -0.6763387257899182, -1.092639906945907, 1.0449811622012086, 1.8517700485195743, -0.13757886943215655, 0.7259595503006789, -0.9096144399987279, 0.6074501093482007, -0.7191397729519661, 1.907848397028853, -0.8418897038835749, 0.06575111015677335, -2.0389882885122126, -1.53917556051178, 0.9015627864510748, 0.09360031995000555, 0.10739423129650766, 0.6419278156297985, -0.23432958246422325, 0.1178203071042369, -0.9005807904385831, 1.2181737505496018, -0.5324878800398267]}, {\"histfunc\": \"count\", \"histnorm\": \"\", \"marker\": {\"color\": \"rgba(50, 171, 96, 1.0)\", \"line\": {\"color\": \"#4D5663\", \"width\": 1.3}}, \"name\": \"C\", \"opacity\": 0.8, \"orientation\": \"v\", \"type\": \"histogram\", \"x\": [1.2982356591642445, 0.15427115901690341, 1.0213467155156255, 1.232635888537672, -0.22895222538532137, 1.954511785901398, -0.3942545853071218, -0.8092251193718866, -0.12322104508539473, 1.2286788093130638, 0.3874343994934357, -2.2953744065269643, 2.017388879406804, 1.1193266759672091, -0.2746008943626236, -0.8065314918764688, 0.972762641451173, 0.5074579567461822, 1.0118902717327247, 0.401509381385972, 0.0639114665073889, -1.8663631190800596, 0.1387441893866892, 0.1428873542876622, 0.47682850878052335, -0.36571985711014215, -1.5460929902125424, 0.5198596011344117, -1.6173676235504222, -1.4356016266184148, -0.07050502844673512, 0.5575637873458781, -2.1652567182684646, 0.5870162986735613, -0.8773663572243663, -0.6858001901123327, 2.7969800829027123, -0.5458885428916942, 1.1181997296247015, -0.11673408876087886, 0.6404059497492122, -1.728413741794743, 0.3983029336729583, -0.7246637943231838, -0.8739988801359196, -0.8953673781193359, 1.0188898265321207, 0.17867461627604825, -0.7954294822668724, 0.4636630050156447, -0.6784390426197163, 0.15119517232480975, 0.24758404252618696, 0.4332548808024751, -0.573257381134931, -0.543358203976377, 1.1269166836129816, -0.23872781757691822, -1.3099931941537102, -1.0582198694901048, -0.4262076857305047, 1.423853630818953, -0.36089078387376755, -2.154339180537667, 2.476822997091817, 0.32141164193151145, 1.7050486382039032, -0.504611966141616, -1.397522139381618, 0.8479678308837004, -0.8297755982819625, 1.0577651562083943, -0.9101582376316869, -0.0029074583485230563, 0.2608575614760658, -0.7803371558458617, -2.145391997779593, -0.7063161942876157, 0.16239921321512515, -0.07683075830387348, 1.0607037175653777, 0.9544867857313885, -0.11793678009979827, 0.2102582181812343, -0.8387898266596429, -0.4206283693985038, -0.8152428246157843, -0.7276697598353788, -1.1329929330756752, -1.4466041035213315, -0.9848748287647158, 0.1180319292781396, -0.8776375086870779, -1.2821605470681214, 0.24414266199380305, 0.8141424501001563, -0.2765616564967207, 0.47783868175145766, -0.9965387453155009, -0.09458406917183024]}, {\"histfunc\": \"count\", \"histnorm\": \"\", \"marker\": {\"color\": \"rgba(128, 0, 128, 1.0)\", \"line\": {\"color\": \"#4D5663\", \"width\": 1.3}}, \"name\": \"D\", \"opacity\": 0.8, \"orientation\": \"v\", \"type\": \"histogram\", \"x\": [-0.6833341122857621, -1.186518198081401, 0.7440360616704014, -0.4724438209696136, -0.3726398238770978, 0.04117066612790381, -0.12165221701464178, -0.3582447039742966, -0.9614060037617944, 0.738115872324706, -0.08819366108400076, 1.223355545014585, 1.4230621728241735, -0.0713488500790235, -0.37552458341578615, 1.4051767793554675, 1.5048150109432545, 1.1539930776722223, 0.37183774749061793, 1.2137171768818364, 0.2647832955019624, 0.08301689949870196, -0.08352492211042305, 0.17603067516678184, 1.3426263722935805, 1.4710969763164121, 0.3723008765493016, 0.8302101906900898, 0.4293110699434798, -1.7014499397610496, -0.7462107273631216, -0.062418203425431834, -0.4521898440150753, 1.0374670134271229, -0.03827027493552959, 2.627813687110325, 0.6891056995922998, 0.9496908564080698, -0.5173382461484048, -1.7998833834458434, -0.3058413154285717, -1.2147511852081776, -1.005887489678001, -0.30709897227715727, 0.37256104976328275, 0.12874701718905396, 0.40465242152470143, 1.1456196270354793, -0.9876226453689538, -0.32062717671141766, -0.4477698824738656, 0.37035700057779575, -0.6728757045446571, 0.13727837951958757, -0.8365857241976379, -0.862833170927694, -0.2321665491113636, -0.3096342804538494, 0.8796768280896852, -0.1138722149396076, 0.26259767826855795, -0.1723152186005268, 0.10650986454691985, -0.674854272338543, 0.607077893069324, 1.077104763029846, 0.306009787291824, 1.6189631446653476, 0.18641228222526587, 0.1002952216652406, 0.35384730130886494, -0.5592970923758837, 1.6810924067739625, -0.22801226336023897, -0.007212983814382795, -0.8884243908142498, 0.007373212437131988, -1.4994425212206395, 0.2858613226319799, 0.7723744957643544, 0.006207666093432797, -0.9831130172701907, 0.5668305156554925, 1.6039775473847573, 1.3707010942956015, 0.43850866148625123, 1.0295632712010863, 0.4628062783971533, -0.09196565989581211, 0.10106709283112156, -0.25825437843646293, 1.311841406736645, -0.04561607748831737, 0.9986168276634753, -1.1692664545784839, 2.0607261167534308, -0.03489069796686348, -0.9817027574319807, -1.828275897713146, -0.13307937775464979]}],\n",
       "                        {\"barmode\": \"overlay\", \"legend\": {\"bgcolor\": \"#F5F6F9\", \"font\": {\"color\": \"#4D5663\"}}, \"paper_bgcolor\": \"#F5F6F9\", \"plot_bgcolor\": \"#F5F6F9\", \"template\": {\"data\": {\"bar\": [{\"error_x\": {\"color\": \"#2a3f5f\"}, \"error_y\": {\"color\": \"#2a3f5f\"}, \"marker\": {\"line\": {\"color\": \"#E5ECF6\", \"width\": 0.5}}, \"type\": \"bar\"}], \"barpolar\": [{\"marker\": {\"line\": {\"color\": \"#E5ECF6\", \"width\": 0.5}}, \"type\": \"barpolar\"}], \"carpet\": [{\"aaxis\": {\"endlinecolor\": \"#2a3f5f\", \"gridcolor\": \"white\", \"linecolor\": \"white\", \"minorgridcolor\": \"white\", \"startlinecolor\": \"#2a3f5f\"}, \"baxis\": {\"endlinecolor\": \"#2a3f5f\", \"gridcolor\": \"white\", \"linecolor\": \"white\", \"minorgridcolor\": \"white\", \"startlinecolor\": \"#2a3f5f\"}, \"type\": \"carpet\"}], \"choropleth\": [{\"colorbar\": {\"outlinewidth\": 0, \"ticks\": \"\"}, \"type\": \"choropleth\"}], \"contour\": [{\"colorbar\": {\"outlinewidth\": 0, \"ticks\": \"\"}, \"colorscale\": [[0.0, \"#0d0887\"], [0.1111111111111111, \"#46039f\"], [0.2222222222222222, \"#7201a8\"], [0.3333333333333333, \"#9c179e\"], [0.4444444444444444, \"#bd3786\"], [0.5555555555555556, \"#d8576b\"], [0.6666666666666666, \"#ed7953\"], [0.7777777777777778, \"#fb9f3a\"], [0.8888888888888888, \"#fdca26\"], [1.0, \"#f0f921\"]], \"type\": \"contour\"}], \"contourcarpet\": [{\"colorbar\": {\"outlinewidth\": 0, \"ticks\": \"\"}, \"type\": \"contourcarpet\"}], \"heatmap\": [{\"colorbar\": {\"outlinewidth\": 0, \"ticks\": \"\"}, \"colorscale\": [[0.0, \"#0d0887\"], [0.1111111111111111, \"#46039f\"], [0.2222222222222222, \"#7201a8\"], [0.3333333333333333, \"#9c179e\"], [0.4444444444444444, \"#bd3786\"], [0.5555555555555556, \"#d8576b\"], [0.6666666666666666, \"#ed7953\"], [0.7777777777777778, \"#fb9f3a\"], [0.8888888888888888, \"#fdca26\"], [1.0, \"#f0f921\"]], \"type\": \"heatmap\"}], \"heatmapgl\": [{\"colorbar\": {\"outlinewidth\": 0, \"ticks\": \"\"}, \"colorscale\": [[0.0, \"#0d0887\"], [0.1111111111111111, \"#46039f\"], [0.2222222222222222, \"#7201a8\"], [0.3333333333333333, \"#9c179e\"], [0.4444444444444444, \"#bd3786\"], [0.5555555555555556, \"#d8576b\"], [0.6666666666666666, \"#ed7953\"], [0.7777777777777778, \"#fb9f3a\"], [0.8888888888888888, \"#fdca26\"], [1.0, \"#f0f921\"]], \"type\": \"heatmapgl\"}], \"histogram\": [{\"marker\": {\"colorbar\": {\"outlinewidth\": 0, \"ticks\": \"\"}}, \"type\": \"histogram\"}], \"histogram2d\": [{\"colorbar\": {\"outlinewidth\": 0, \"ticks\": \"\"}, \"colorscale\": [[0.0, \"#0d0887\"], [0.1111111111111111, \"#46039f\"], [0.2222222222222222, \"#7201a8\"], [0.3333333333333333, \"#9c179e\"], [0.4444444444444444, \"#bd3786\"], [0.5555555555555556, \"#d8576b\"], [0.6666666666666666, \"#ed7953\"], [0.7777777777777778, \"#fb9f3a\"], [0.8888888888888888, \"#fdca26\"], [1.0, \"#f0f921\"]], \"type\": \"histogram2d\"}], \"histogram2dcontour\": [{\"colorbar\": {\"outlinewidth\": 0, \"ticks\": \"\"}, \"colorscale\": [[0.0, \"#0d0887\"], [0.1111111111111111, \"#46039f\"], [0.2222222222222222, \"#7201a8\"], [0.3333333333333333, \"#9c179e\"], [0.4444444444444444, \"#bd3786\"], [0.5555555555555556, \"#d8576b\"], [0.6666666666666666, \"#ed7953\"], [0.7777777777777778, \"#fb9f3a\"], [0.8888888888888888, \"#fdca26\"], [1.0, \"#f0f921\"]], \"type\": \"histogram2dcontour\"}], \"mesh3d\": [{\"colorbar\": {\"outlinewidth\": 0, \"ticks\": \"\"}, \"type\": \"mesh3d\"}], \"parcoords\": [{\"line\": {\"colorbar\": {\"outlinewidth\": 0, \"ticks\": \"\"}}, \"type\": \"parcoords\"}], \"pie\": [{\"automargin\": true, \"type\": \"pie\"}], \"scatter\": [{\"marker\": {\"colorbar\": {\"outlinewidth\": 0, \"ticks\": \"\"}}, \"type\": \"scatter\"}], \"scatter3d\": [{\"line\": {\"colorbar\": {\"outlinewidth\": 0, \"ticks\": \"\"}}, \"marker\": {\"colorbar\": {\"outlinewidth\": 0, \"ticks\": \"\"}}, \"type\": \"scatter3d\"}], \"scattercarpet\": [{\"marker\": {\"colorbar\": {\"outlinewidth\": 0, \"ticks\": \"\"}}, \"type\": \"scattercarpet\"}], \"scattergeo\": [{\"marker\": {\"colorbar\": {\"outlinewidth\": 0, \"ticks\": \"\"}}, \"type\": \"scattergeo\"}], \"scattergl\": [{\"marker\": {\"colorbar\": {\"outlinewidth\": 0, \"ticks\": \"\"}}, \"type\": \"scattergl\"}], \"scattermapbox\": [{\"marker\": {\"colorbar\": {\"outlinewidth\": 0, \"ticks\": \"\"}}, \"type\": \"scattermapbox\"}], \"scatterpolar\": [{\"marker\": {\"colorbar\": {\"outlinewidth\": 0, \"ticks\": \"\"}}, \"type\": \"scatterpolar\"}], \"scatterpolargl\": [{\"marker\": {\"colorbar\": {\"outlinewidth\": 0, \"ticks\": \"\"}}, \"type\": \"scatterpolargl\"}], \"scatterternary\": [{\"marker\": {\"colorbar\": {\"outlinewidth\": 0, \"ticks\": \"\"}}, \"type\": \"scatterternary\"}], \"surface\": [{\"colorbar\": {\"outlinewidth\": 0, \"ticks\": \"\"}, \"colorscale\": [[0.0, \"#0d0887\"], [0.1111111111111111, \"#46039f\"], [0.2222222222222222, \"#7201a8\"], [0.3333333333333333, \"#9c179e\"], [0.4444444444444444, \"#bd3786\"], [0.5555555555555556, \"#d8576b\"], [0.6666666666666666, \"#ed7953\"], [0.7777777777777778, \"#fb9f3a\"], [0.8888888888888888, \"#fdca26\"], [1.0, \"#f0f921\"]], \"type\": \"surface\"}], \"table\": [{\"cells\": {\"fill\": {\"color\": \"#EBF0F8\"}, \"line\": {\"color\": \"white\"}}, \"header\": {\"fill\": {\"color\": \"#C8D4E3\"}, \"line\": {\"color\": \"white\"}}, \"type\": \"table\"}]}, \"layout\": {\"annotationdefaults\": {\"arrowcolor\": \"#2a3f5f\", \"arrowhead\": 0, \"arrowwidth\": 1}, \"coloraxis\": {\"colorbar\": {\"outlinewidth\": 0, \"ticks\": \"\"}}, \"colorscale\": {\"diverging\": [[0, \"#8e0152\"], [0.1, \"#c51b7d\"], [0.2, \"#de77ae\"], [0.3, \"#f1b6da\"], [0.4, \"#fde0ef\"], [0.5, \"#f7f7f7\"], [0.6, \"#e6f5d0\"], [0.7, \"#b8e186\"], [0.8, \"#7fbc41\"], [0.9, \"#4d9221\"], [1, \"#276419\"]], \"sequential\": [[0.0, \"#0d0887\"], [0.1111111111111111, \"#46039f\"], [0.2222222222222222, \"#7201a8\"], [0.3333333333333333, \"#9c179e\"], [0.4444444444444444, \"#bd3786\"], [0.5555555555555556, \"#d8576b\"], [0.6666666666666666, \"#ed7953\"], [0.7777777777777778, \"#fb9f3a\"], [0.8888888888888888, \"#fdca26\"], [1.0, \"#f0f921\"]], \"sequentialminus\": [[0.0, \"#0d0887\"], [0.1111111111111111, \"#46039f\"], [0.2222222222222222, \"#7201a8\"], [0.3333333333333333, \"#9c179e\"], [0.4444444444444444, \"#bd3786\"], [0.5555555555555556, \"#d8576b\"], [0.6666666666666666, \"#ed7953\"], [0.7777777777777778, \"#fb9f3a\"], [0.8888888888888888, \"#fdca26\"], [1.0, \"#f0f921\"]]}, \"colorway\": [\"#636efa\", \"#EF553B\", \"#00cc96\", \"#ab63fa\", \"#FFA15A\", \"#19d3f3\", \"#FF6692\", \"#B6E880\", \"#FF97FF\", \"#FECB52\"], \"font\": {\"color\": \"#2a3f5f\"}, \"geo\": {\"bgcolor\": \"white\", \"lakecolor\": \"white\", \"landcolor\": \"#E5ECF6\", \"showlakes\": true, \"showland\": true, \"subunitcolor\": \"white\"}, \"hoverlabel\": {\"align\": \"left\"}, \"hovermode\": \"closest\", \"mapbox\": {\"style\": \"light\"}, \"paper_bgcolor\": \"white\", \"plot_bgcolor\": \"#E5ECF6\", \"polar\": {\"angularaxis\": {\"gridcolor\": \"white\", \"linecolor\": \"white\", \"ticks\": \"\"}, \"bgcolor\": \"#E5ECF6\", \"radialaxis\": {\"gridcolor\": \"white\", \"linecolor\": \"white\", \"ticks\": \"\"}}, \"scene\": {\"xaxis\": {\"backgroundcolor\": \"#E5ECF6\", \"gridcolor\": \"white\", \"gridwidth\": 2, \"linecolor\": \"white\", \"showbackground\": true, \"ticks\": \"\", \"zerolinecolor\": \"white\"}, \"yaxis\": {\"backgroundcolor\": \"#E5ECF6\", \"gridcolor\": \"white\", \"gridwidth\": 2, \"linecolor\": \"white\", \"showbackground\": true, \"ticks\": \"\", \"zerolinecolor\": \"white\"}, \"zaxis\": {\"backgroundcolor\": \"#E5ECF6\", \"gridcolor\": \"white\", \"gridwidth\": 2, \"linecolor\": \"white\", \"showbackground\": true, \"ticks\": \"\", \"zerolinecolor\": \"white\"}}, \"shapedefaults\": {\"line\": {\"color\": \"#2a3f5f\"}}, \"ternary\": {\"aaxis\": {\"gridcolor\": \"white\", \"linecolor\": \"white\", \"ticks\": \"\"}, \"baxis\": {\"gridcolor\": \"white\", \"linecolor\": \"white\", \"ticks\": \"\"}, \"bgcolor\": \"#E5ECF6\", \"caxis\": {\"gridcolor\": \"white\", \"linecolor\": \"white\", \"ticks\": \"\"}}, \"title\": {\"x\": 0.05}, \"xaxis\": {\"automargin\": true, \"gridcolor\": \"white\", \"linecolor\": \"white\", \"ticks\": \"\", \"title\": {\"standoff\": 15}, \"zerolinecolor\": \"white\", \"zerolinewidth\": 2}, \"yaxis\": {\"automargin\": true, \"gridcolor\": \"white\", \"linecolor\": \"white\", \"ticks\": \"\", \"title\": {\"standoff\": 15}, \"zerolinecolor\": \"white\", \"zerolinewidth\": 2}}}, \"title\": {\"font\": {\"color\": \"#4D5663\"}}, \"xaxis\": {\"gridcolor\": \"#E1E5ED\", \"showgrid\": true, \"tickfont\": {\"color\": \"#4D5663\"}, \"title\": {\"font\": {\"color\": \"#4D5663\"}, \"text\": \"\"}, \"zerolinecolor\": \"#E1E5ED\"}, \"yaxis\": {\"gridcolor\": \"#E1E5ED\", \"showgrid\": true, \"tickfont\": {\"color\": \"#4D5663\"}, \"title\": {\"font\": {\"color\": \"#4D5663\"}, \"text\": \"\"}, \"zerolinecolor\": \"#E1E5ED\"}},\n",
       "                        {\"showLink\": true, \"linkText\": \"Export to plotly.com\", \"plotlyServerURL\": \"https://plotly.com\", \"responsive\": true}\n",
       "                    ).then(function(){\n",
       "                            \n",
       "var gd = document.getElementById('add65102-9f7d-4591-85db-0e81902b3693');\n",
       "var x = new MutationObserver(function (mutations, observer) {{\n",
       "        var display = window.getComputedStyle(gd).display;\n",
       "        if (!display || display === 'none') {{\n",
       "            console.log([gd, 'removed!']);\n",
       "            Plotly.purge(gd);\n",
       "            observer.disconnect();\n",
       "        }}\n",
       "}});\n",
       "\n",
       "// Listen for the removal of the full notebook cells\n",
       "var notebookContainer = gd.closest('#notebook-container');\n",
       "if (notebookContainer) {{\n",
       "    x.observe(notebookContainer, {childList: true});\n",
       "}}\n",
       "\n",
       "// Listen for the clearing of the current output cell\n",
       "var outputEl = gd.closest('.output');\n",
       "if (outputEl) {{\n",
       "    x.observe(outputEl, {childList: true});\n",
       "}}\n",
       "\n",
       "                        })\n",
       "                };\n",
       "                });\n",
       "            </script>\n",
       "        </div>"
      ]
     },
     "metadata": {},
     "output_type": "display_data"
    }
   ],
   "source": [
    "df.iplot(kind='hist')"
   ]
  },
  {
   "cell_type": "code",
   "execution_count": 11,
   "metadata": {},
   "outputs": [
    {
     "name": "stderr",
     "output_type": "stream",
     "text": [
      "/home/rba/anaconda3/lib/python3.7/site-packages/cufflinks/plotlytools.py:849: FutureWarning:\n",
      "\n",
      "The pandas.np module is deprecated and will be removed from pandas in a future version. Import numpy directly instead\n",
      "\n",
      "/home/rba/anaconda3/lib/python3.7/site-packages/cufflinks/plotlytools.py:850: FutureWarning:\n",
      "\n",
      "The pandas.np module is deprecated and will be removed from pandas in a future version. Import numpy directly instead\n",
      "\n"
     ]
    },
    {
     "data": {
      "application/vnd.plotly.v1+json": {
       "config": {
        "linkText": "Export to plotly.com",
        "plotlyServerURL": "https://plotly.com",
        "showLink": true
       },
       "data": [
        {
         "line": {
          "color": "rgba(255, 153, 51, 1.0)",
          "dash": "solid",
          "shape": "linear",
          "width": 1.3
         },
         "mode": "lines",
         "name": "A",
         "text": "",
         "type": "scatter",
         "x": [
          0,
          1,
          2,
          3,
          4,
          5,
          6,
          7,
          8,
          9,
          10,
          11,
          12,
          13,
          14,
          15,
          16,
          17,
          18,
          19,
          20,
          21,
          22,
          23,
          24,
          25,
          26,
          27,
          28,
          29,
          30,
          31,
          32,
          33,
          34,
          35,
          36,
          37,
          38,
          39,
          40,
          41,
          42,
          43,
          44,
          45,
          46,
          47,
          48,
          49,
          50,
          51,
          52,
          53,
          54,
          55,
          56,
          57,
          58,
          59,
          60,
          61,
          62,
          63,
          64,
          65,
          66,
          67,
          68,
          69,
          70,
          71,
          72,
          73,
          74,
          75,
          76,
          77,
          78,
          79,
          80,
          81,
          82,
          83,
          84,
          85,
          86,
          87,
          88,
          89,
          90,
          91,
          92,
          93,
          94,
          95,
          96,
          97,
          98,
          99
         ],
         "y": [
          -1.3915514466454946,
          -0.25186847805576157,
          0.9579228727741338,
          0.6029271487268496,
          0.416448674464561,
          0.34063531233394767,
          -0.08459004387470692,
          0.713619317860425,
          1.7908137198587653,
          -0.07774446546417446,
          0.7818861612515148,
          -0.08045802462218049,
          -1.3925376997334935,
          -0.25889123457565444,
          -1.2380068464047667,
          -1.6796053268216884,
          1.1389527186859345,
          -2.15319053603754,
          0.24225207650860273,
          0.5323379650228895,
          -0.2096440229785707,
          0.21953657917641956,
          -1.0938795941576012,
          -0.10577547603312083,
          0.6384250404551687,
          -0.2721945316885118,
          3.265738204544427,
          0.3766017189657574,
          0.33886279379065204,
          1.2190050065519333,
          0.3104100087786091,
          0.26952115201931115,
          -2.3923810892739246,
          0.8770803830120577,
          0.6561754993661268,
          -1.2310665672205874,
          -1.1856641101789074,
          0.41805322561991626,
          -0.9247175847838351,
          0.23277995300774626,
          0.4067275700600627,
          -1.428613771269792,
          1.4839020736203505,
          0.7633645943548794,
          2.7756705575375586,
          -0.46463372800975183,
          0.004306649259857492,
          0.9645256070376517,
          -0.005185290726101883,
          2.6020206278107167,
          -0.885626602219863,
          1.3517771551572877,
          1.4041522296440263,
          -0.37747456790116,
          0.15412506809685084,
          -1.3868854662382721,
          0.6433483582256894,
          0.9983683388092811,
          -0.12169074845217757,
          -2.1176310033064594,
          -0.06264728472444926,
          -1.0150462339749775,
          0.7360528445825723,
          0.5333439301874713,
          0.35198578229550376,
          0.6072697451499537,
          -2.124423431145739,
          0.45861870101295915,
          0.3901706387730426,
          0.9359092339197448,
          -0.1480147716292342,
          -0.4323566165303779,
          0.7653655916578783,
          -0.19732640194278503,
          -0.1465413420198137,
          0.7142610412011294,
          1.1418243316888386,
          -0.3253132381128121,
          1.5515260657660772,
          0.309161311286864,
          -0.8358998861552829,
          1.3655510433969495,
          0.0632015316988487,
          -0.016827268343440532,
          0.7506720191468409,
          -0.5595071040238351,
          -0.6947205233455448,
          1.142499758085739,
          -2.147256982261882,
          -1.02211137709033,
          0.4065176710241965,
          0.5728619428353131,
          -0.2066640210509487,
          -0.9245155918409756,
          0.19822024602242874,
          1.4207896192934248,
          -1.67439132302367,
          0.8101476190574366,
          1.1438891096596677,
          -0.24724589169943464
         ]
        },
        {
         "line": {
          "color": "rgba(55, 128, 191, 1.0)",
          "dash": "solid",
          "shape": "linear",
          "width": 1.3
         },
         "mode": "lines",
         "name": "D",
         "text": "",
         "type": "scatter",
         "x": [
          0,
          1,
          2,
          3,
          4,
          5,
          6,
          7,
          8,
          9,
          10,
          11,
          12,
          13,
          14,
          15,
          16,
          17,
          18,
          19,
          20,
          21,
          22,
          23,
          24,
          25,
          26,
          27,
          28,
          29,
          30,
          31,
          32,
          33,
          34,
          35,
          36,
          37,
          38,
          39,
          40,
          41,
          42,
          43,
          44,
          45,
          46,
          47,
          48,
          49,
          50,
          51,
          52,
          53,
          54,
          55,
          56,
          57,
          58,
          59,
          60,
          61,
          62,
          63,
          64,
          65,
          66,
          67,
          68,
          69,
          70,
          71,
          72,
          73,
          74,
          75,
          76,
          77,
          78,
          79,
          80,
          81,
          82,
          83,
          84,
          85,
          86,
          87,
          88,
          89,
          90,
          91,
          92,
          93,
          94,
          95,
          96,
          97,
          98,
          99
         ],
         "y": [
          -0.6833341122857621,
          -1.186518198081401,
          0.7440360616704014,
          -0.4724438209696136,
          -0.3726398238770978,
          0.04117066612790381,
          -0.12165221701464178,
          -0.3582447039742966,
          -0.9614060037617944,
          0.738115872324706,
          -0.08819366108400076,
          1.223355545014585,
          1.4230621728241735,
          -0.0713488500790235,
          -0.37552458341578615,
          1.4051767793554675,
          1.5048150109432545,
          1.1539930776722223,
          0.37183774749061793,
          1.2137171768818364,
          0.2647832955019624,
          0.08301689949870196,
          -0.08352492211042305,
          0.17603067516678184,
          1.3426263722935805,
          1.4710969763164121,
          0.3723008765493016,
          0.8302101906900898,
          0.4293110699434798,
          -1.7014499397610496,
          -0.7462107273631216,
          -0.062418203425431834,
          -0.4521898440150753,
          1.0374670134271229,
          -0.03827027493552959,
          2.627813687110325,
          0.6891056995922998,
          0.9496908564080698,
          -0.5173382461484048,
          -1.7998833834458434,
          -0.3058413154285717,
          -1.2147511852081776,
          -1.005887489678001,
          -0.30709897227715727,
          0.37256104976328275,
          0.12874701718905396,
          0.40465242152470143,
          1.1456196270354793,
          -0.9876226453689538,
          -0.32062717671141766,
          -0.4477698824738656,
          0.37035700057779575,
          -0.6728757045446571,
          0.13727837951958757,
          -0.8365857241976379,
          -0.862833170927694,
          -0.2321665491113636,
          -0.3096342804538494,
          0.8796768280896852,
          -0.1138722149396076,
          0.26259767826855795,
          -0.1723152186005268,
          0.10650986454691985,
          -0.674854272338543,
          0.607077893069324,
          1.077104763029846,
          0.306009787291824,
          1.6189631446653476,
          0.18641228222526587,
          0.1002952216652406,
          0.35384730130886494,
          -0.5592970923758837,
          1.6810924067739625,
          -0.22801226336023897,
          -0.007212983814382795,
          -0.8884243908142498,
          0.007373212437131988,
          -1.4994425212206395,
          0.2858613226319799,
          0.7723744957643544,
          0.006207666093432797,
          -0.9831130172701907,
          0.5668305156554925,
          1.6039775473847573,
          1.3707010942956015,
          0.43850866148625123,
          1.0295632712010863,
          0.4628062783971533,
          -0.09196565989581211,
          0.10106709283112156,
          -0.25825437843646293,
          1.311841406736645,
          -0.04561607748831737,
          0.9986168276634753,
          -1.1692664545784839,
          2.0607261167534308,
          -0.03489069796686348,
          -0.9817027574319807,
          -1.828275897713146,
          -0.13307937775464979
         ]
        },
        {
         "line": {
          "color": "rgba(50, 171, 96, 1.0)",
          "dash": "solid",
          "shape": "linear",
          "width": 1.3
         },
         "mode": "lines",
         "name": "C",
         "text": "",
         "type": "scatter",
         "x": [
          0,
          1,
          2,
          3,
          4,
          5,
          6,
          7,
          8,
          9,
          10,
          11,
          12,
          13,
          14,
          15,
          16,
          17,
          18,
          19,
          20,
          21,
          22,
          23,
          24,
          25,
          26,
          27,
          28,
          29,
          30,
          31,
          32,
          33,
          34,
          35,
          36,
          37,
          38,
          39,
          40,
          41,
          42,
          43,
          44,
          45,
          46,
          47,
          48,
          49,
          50,
          51,
          52,
          53,
          54,
          55,
          56,
          57,
          58,
          59,
          60,
          61,
          62,
          63,
          64,
          65,
          66,
          67,
          68,
          69,
          70,
          71,
          72,
          73,
          74,
          75,
          76,
          77,
          78,
          79,
          80,
          81,
          82,
          83,
          84,
          85,
          86,
          87,
          88,
          89,
          90,
          91,
          92,
          93,
          94,
          95,
          96,
          97,
          98,
          99
         ],
         "y": [
          1.2982356591642445,
          0.15427115901690341,
          1.0213467155156255,
          1.232635888537672,
          -0.22895222538532137,
          1.954511785901398,
          -0.3942545853071218,
          -0.8092251193718866,
          -0.12322104508539473,
          1.2286788093130638,
          0.3874343994934357,
          -2.2953744065269643,
          2.017388879406804,
          1.1193266759672091,
          -0.2746008943626236,
          -0.8065314918764688,
          0.972762641451173,
          0.5074579567461822,
          1.0118902717327247,
          0.401509381385972,
          0.0639114665073889,
          -1.8663631190800596,
          0.1387441893866892,
          0.1428873542876622,
          0.47682850878052335,
          -0.36571985711014215,
          -1.5460929902125424,
          0.5198596011344117,
          -1.6173676235504222,
          -1.4356016266184148,
          -0.07050502844673512,
          0.5575637873458781,
          -2.1652567182684646,
          0.5870162986735613,
          -0.8773663572243663,
          -0.6858001901123327,
          2.7969800829027123,
          -0.5458885428916942,
          1.1181997296247015,
          -0.11673408876087886,
          0.6404059497492122,
          -1.728413741794743,
          0.3983029336729583,
          -0.7246637943231838,
          -0.8739988801359196,
          -0.8953673781193359,
          1.0188898265321207,
          0.17867461627604825,
          -0.7954294822668724,
          0.4636630050156447,
          -0.6784390426197163,
          0.15119517232480975,
          0.24758404252618696,
          0.4332548808024751,
          -0.573257381134931,
          -0.543358203976377,
          1.1269166836129816,
          -0.23872781757691822,
          -1.3099931941537102,
          -1.0582198694901048,
          -0.4262076857305047,
          1.423853630818953,
          -0.36089078387376755,
          -2.154339180537667,
          2.476822997091817,
          0.32141164193151145,
          1.7050486382039032,
          -0.504611966141616,
          -1.397522139381618,
          0.8479678308837004,
          -0.8297755982819625,
          1.0577651562083943,
          -0.9101582376316869,
          -0.0029074583485230563,
          0.2608575614760658,
          -0.7803371558458617,
          -2.145391997779593,
          -0.7063161942876157,
          0.16239921321512515,
          -0.07683075830387348,
          1.0607037175653777,
          0.9544867857313885,
          -0.11793678009979827,
          0.2102582181812343,
          -0.8387898266596429,
          -0.4206283693985038,
          -0.8152428246157843,
          -0.7276697598353788,
          -1.1329929330756752,
          -1.4466041035213315,
          -0.9848748287647158,
          0.1180319292781396,
          -0.8776375086870779,
          -1.2821605470681214,
          0.24414266199380305,
          0.8141424501001563,
          -0.2765616564967207,
          0.47783868175145766,
          -0.9965387453155009,
          -0.09458406917183024
         ]
        },
        {
         "line": {
          "color": "rgba(128, 0, 128, 1.0)",
          "dash": "solid",
          "shape": "linear",
          "width": 1.3
         },
         "mode": "lines",
         "name": "B",
         "text": "",
         "type": "scatter",
         "x": [
          0,
          1,
          2,
          3,
          4,
          5,
          6,
          7,
          8,
          9,
          10,
          11,
          12,
          13,
          14,
          15,
          16,
          17,
          18,
          19,
          20,
          21,
          22,
          23,
          24,
          25,
          26,
          27,
          28,
          29,
          30,
          31,
          32,
          33,
          34,
          35,
          36,
          37,
          38,
          39,
          40,
          41,
          42,
          43,
          44,
          45,
          46,
          47,
          48,
          49,
          50,
          51,
          52,
          53,
          54,
          55,
          56,
          57,
          58,
          59,
          60,
          61,
          62,
          63,
          64,
          65,
          66,
          67,
          68,
          69,
          70,
          71,
          72,
          73,
          74,
          75,
          76,
          77,
          78,
          79,
          80,
          81,
          82,
          83,
          84,
          85,
          86,
          87,
          88,
          89,
          90,
          91,
          92,
          93,
          94,
          95,
          96,
          97,
          98,
          99
         ],
         "y": [
          -1.8063135150409384,
          -0.7679513004948498,
          -0.8742919766403517,
          0.3070143950458193,
          1.1665253316654558,
          -0.2262683166260905,
          -0.4917852269151437,
          -0.08073729843021035,
          2.8334375843659645,
          1.1532207799473548,
          -0.03814254313590681,
          -0.10568906458824325,
          -0.31317568710161725,
          0.999191108558023,
          0.8385632979585733,
          0.41534933039874006,
          0.8797805528306242,
          -1.2497080083648895,
          -1.7911041602373101,
          0.7630643074653287,
          2.5892130854872626,
          -0.5439208326964506,
          -1.3750796123608928,
          -1.729704664812876,
          0.5578288145910832,
          1.0036536830512153,
          -0.1714020047363067,
          -0.19405615495300366,
          0.6919399765482697,
          0.9695804954012914,
          1.350663420111455,
          -1.240062693169029,
          -1.348240459508053,
          1.4623370752557971,
          -0.48168927519920546,
          0.39784876136248515,
          -0.9024576145690437,
          -0.6935679814885369,
          -0.3761127379085823,
          -0.36623141625460714,
          -0.2451594279515256,
          0.026402940006598093,
          -0.32046021467091446,
          1.1112009255824087,
          0.2187696308981625,
          -2.505044161953846,
          -0.6162072553432347,
          -0.015565844051689669,
          1.7854810856777485,
          0.3541192142490893,
          0.5263691204633134,
          1.3994577056620974,
          -1.3428712151096527,
          1.1255059881410612,
          0.9500501528505452,
          0.23415698180013855,
          0.15335525171261927,
          -0.052071479834325515,
          -1.4232941345045214,
          0.7132256996685288,
          0.5489697164118927,
          -0.5726168408446426,
          0.4621316906319872,
          2.0945996369123625,
          -0.6293460980779058,
          1.0075453751062597,
          0.10083326030721385,
          -2.2013485061886473,
          -0.3898105142975688,
          -1.0896725401553105,
          -1.8597732189447154,
          0.3905174313184132,
          -0.3104515621834238,
          0.8040065537583236,
          -1.0797745253519242,
          0.8367161653986137,
          -1.2674111303051174,
          -0.6763387257899182,
          -1.092639906945907,
          1.0449811622012086,
          1.8517700485195743,
          -0.13757886943215655,
          0.7259595503006789,
          -0.9096144399987279,
          0.6074501093482007,
          -0.7191397729519661,
          1.907848397028853,
          -0.8418897038835749,
          0.06575111015677335,
          -2.0389882885122126,
          -1.53917556051178,
          0.9015627864510748,
          0.09360031995000555,
          0.10739423129650766,
          0.6419278156297985,
          -0.23432958246422325,
          0.1178203071042369,
          -0.9005807904385831,
          1.2181737505496018,
          -0.5324878800398267
         ]
        },
        {
         "connectgaps": false,
         "fill": "tozeroy",
         "line": {
          "color": "green",
          "dash": "solid",
          "shape": "linear",
          "width": 0.5
         },
         "mode": "lines",
         "name": "Spread",
         "showlegend": false,
         "type": "scatter",
         "x": [
          0,
          1,
          2,
          3,
          4,
          5,
          6,
          7,
          8,
          9,
          10,
          11,
          12,
          13,
          14,
          15,
          16,
          17,
          18,
          19,
          20,
          21,
          22,
          23,
          24,
          25,
          26,
          27,
          28,
          29,
          30,
          31,
          32,
          33,
          34,
          35,
          36,
          37,
          38,
          39,
          40,
          41,
          42,
          43,
          44,
          45,
          46,
          47,
          48,
          49,
          50,
          51,
          52,
          53,
          54,
          55,
          56,
          57,
          58,
          59,
          60,
          61,
          62,
          63,
          64,
          65,
          66,
          67,
          68,
          69,
          70,
          71,
          72,
          73,
          74,
          75,
          76,
          77,
          78,
          79,
          80,
          81,
          82,
          83,
          84,
          85,
          86,
          87,
          88,
          89,
          90,
          91,
          92,
          93,
          94,
          95,
          96,
          97,
          98,
          99
         ],
         "xaxis": "x2",
         "y": [
          "",
          0.9346497200256394,
          0.21388681110373242,
          1.0753709696964633,
          0.7890884983416588,
          0.29946464620604385,
          0.03706217313993486,
          1.0718640218347215,
          2.7522197236205597,
          "",
          0.8700798223355155,
          "",
          "",
          "",
          "",
          "",
          "",
          "",
          "",
          "",
          "",
          0.1365196796777176,
          "",
          "",
          "",
          "",
          2.8934373279951253,
          "",
          "",
          2.920454946312983,
          1.0566207361417306,
          0.33193935544474296,
          "",
          "",
          0.6944457743016564,
          "",
          "",
          "",
          "",
          2.0326633364535898,
          0.7125688854886344,
          "",
          2.4897895632983515,
          1.0704635666320366,
          2.4031095077742757,
          "",
          "",
          "",
          0.982437354642852,
          2.9226478045221342,
          "",
          0.9814201545794919,
          2.0770279341886835,
          "",
          0.9907107922944887,
          "",
          0.875514907337053,
          1.3080026192631304,
          "",
          "",
          "",
          "",
          0.6295429800356525,
          1.2081982025260143,
          "",
          "",
          "",
          "",
          0.20375835654777671,
          0.8356140122545042,
          "",
          0.12694047584550577,
          "",
          0.03068586141745394,
          "",
          1.6026854320153792,
          1.1344511192517066,
          1.1741292831078274,
          1.2656647431340973,
          "",
          "",
          2.34866406066714,
          "",
          "",
          "",
          "",
          "",
          0.6796934796885856,
          "",
          "",
          0.6647720494606595,
          "",
          "",
          "",
          1.3674867006009126,
          "",
          "",
          1.7918503764894171,
          2.972165007372814,
          ""
         ],
         "yaxis": "y2"
        },
        {
         "connectgaps": false,
         "fill": "tozeroy",
         "line": {
          "color": "red",
          "dash": "solid",
          "shape": "linear",
          "width": 0.5
         },
         "mode": "lines",
         "name": "Spread",
         "showlegend": false,
         "type": "scatter",
         "x": [
          0,
          1,
          2,
          3,
          4,
          5,
          6,
          7,
          8,
          9,
          10,
          11,
          12,
          13,
          14,
          15,
          16,
          17,
          18,
          19,
          20,
          21,
          22,
          23,
          24,
          25,
          26,
          27,
          28,
          29,
          30,
          31,
          32,
          33,
          34,
          35,
          36,
          37,
          38,
          39,
          40,
          41,
          42,
          43,
          44,
          45,
          46,
          47,
          48,
          49,
          50,
          51,
          52,
          53,
          54,
          55,
          56,
          57,
          58,
          59,
          60,
          61,
          62,
          63,
          64,
          65,
          66,
          67,
          68,
          69,
          70,
          71,
          72,
          73,
          74,
          75,
          76,
          77,
          78,
          79,
          80,
          81,
          82,
          83,
          84,
          85,
          86,
          87,
          88,
          89,
          90,
          91,
          92,
          93,
          94,
          95,
          96,
          97,
          98,
          99
         ],
         "xaxis": "x2",
         "y": [
          -0.7082173343597324,
          "",
          "",
          "",
          "",
          "",
          "",
          "",
          "",
          -0.8158603377888805,
          "",
          -1.3038135696367654,
          -2.8155998725576667,
          -0.18754238449663094,
          -0.8624822629889806,
          -3.0847821061771556,
          -0.36586229225732003,
          -3.3071836137097623,
          -0.1295856709820152,
          -0.6813792118589469,
          -0.4744273184805331,
          "",
          -1.010354672047178,
          -0.28180615119990265,
          -0.7042013318384118,
          -1.743291508004924,
          "",
          -0.45360847172433244,
          -0.09044827615282774,
          "",
          "",
          "",
          -1.9401912452588492,
          -0.16038663041506518,
          "",
          -3.858880254330912,
          -1.874769809771207,
          -0.5316376307881536,
          -0.4073793386354303,
          "",
          "",
          -0.21386258606161435,
          "",
          "",
          "",
          -0.5933807451988058,
          -0.4003457722648439,
          -0.1810940199978276,
          "",
          "",
          -0.4378567197459974,
          "",
          "",
          -0.5147529474207476,
          "",
          -0.5240522953105782,
          "",
          "",
          -1.0013675765418628,
          -2.0037587883668517,
          -0.3252449629930072,
          -0.8427310153744507,
          "",
          "",
          -0.25509211077382027,
          -0.46983501787989235,
          -2.430433218437563,
          -1.1603444436523884,
          "",
          "",
          -0.5018620729380991,
          "",
          -0.9157268151160842,
          "",
          -0.1393283582054309,
          "",
          "",
          "",
          "",
          -0.4632131844774903,
          -0.8421075522487157,
          "",
          -0.5036289839566438,
          -1.6208048157281978,
          -0.6200290751487606,
          -0.9980157655100863,
          -1.724283794546631,
          "",
          -2.05529132236607,
          -1.1231784699214515,
          "",
          -0.738979463901332,
          -0.16104794356263133,
          -1.923132419504451,
          "",
          -0.6399364974600059,
          -1.6395006250568065,
          "",
          "",
          -0.11416651394478486
         ],
         "yaxis": "y2"
        }
       ],
       "layout": {
        "hovermode": "x",
        "legend": {
         "bgcolor": "#F5F6F9",
         "font": {
          "color": "#4D5663"
         }
        },
        "paper_bgcolor": "#F5F6F9",
        "plot_bgcolor": "#F5F6F9",
        "template": {
         "data": {
          "bar": [
           {
            "error_x": {
             "color": "#2a3f5f"
            },
            "error_y": {
             "color": "#2a3f5f"
            },
            "marker": {
             "line": {
              "color": "#E5ECF6",
              "width": 0.5
             }
            },
            "type": "bar"
           }
          ],
          "barpolar": [
           {
            "marker": {
             "line": {
              "color": "#E5ECF6",
              "width": 0.5
             }
            },
            "type": "barpolar"
           }
          ],
          "carpet": [
           {
            "aaxis": {
             "endlinecolor": "#2a3f5f",
             "gridcolor": "white",
             "linecolor": "white",
             "minorgridcolor": "white",
             "startlinecolor": "#2a3f5f"
            },
            "baxis": {
             "endlinecolor": "#2a3f5f",
             "gridcolor": "white",
             "linecolor": "white",
             "minorgridcolor": "white",
             "startlinecolor": "#2a3f5f"
            },
            "type": "carpet"
           }
          ],
          "choropleth": [
           {
            "colorbar": {
             "outlinewidth": 0,
             "ticks": ""
            },
            "type": "choropleth"
           }
          ],
          "contour": [
           {
            "colorbar": {
             "outlinewidth": 0,
             "ticks": ""
            },
            "colorscale": [
             [
              0,
              "#0d0887"
             ],
             [
              0.1111111111111111,
              "#46039f"
             ],
             [
              0.2222222222222222,
              "#7201a8"
             ],
             [
              0.3333333333333333,
              "#9c179e"
             ],
             [
              0.4444444444444444,
              "#bd3786"
             ],
             [
              0.5555555555555556,
              "#d8576b"
             ],
             [
              0.6666666666666666,
              "#ed7953"
             ],
             [
              0.7777777777777778,
              "#fb9f3a"
             ],
             [
              0.8888888888888888,
              "#fdca26"
             ],
             [
              1,
              "#f0f921"
             ]
            ],
            "type": "contour"
           }
          ],
          "contourcarpet": [
           {
            "colorbar": {
             "outlinewidth": 0,
             "ticks": ""
            },
            "type": "contourcarpet"
           }
          ],
          "heatmap": [
           {
            "colorbar": {
             "outlinewidth": 0,
             "ticks": ""
            },
            "colorscale": [
             [
              0,
              "#0d0887"
             ],
             [
              0.1111111111111111,
              "#46039f"
             ],
             [
              0.2222222222222222,
              "#7201a8"
             ],
             [
              0.3333333333333333,
              "#9c179e"
             ],
             [
              0.4444444444444444,
              "#bd3786"
             ],
             [
              0.5555555555555556,
              "#d8576b"
             ],
             [
              0.6666666666666666,
              "#ed7953"
             ],
             [
              0.7777777777777778,
              "#fb9f3a"
             ],
             [
              0.8888888888888888,
              "#fdca26"
             ],
             [
              1,
              "#f0f921"
             ]
            ],
            "type": "heatmap"
           }
          ],
          "heatmapgl": [
           {
            "colorbar": {
             "outlinewidth": 0,
             "ticks": ""
            },
            "colorscale": [
             [
              0,
              "#0d0887"
             ],
             [
              0.1111111111111111,
              "#46039f"
             ],
             [
              0.2222222222222222,
              "#7201a8"
             ],
             [
              0.3333333333333333,
              "#9c179e"
             ],
             [
              0.4444444444444444,
              "#bd3786"
             ],
             [
              0.5555555555555556,
              "#d8576b"
             ],
             [
              0.6666666666666666,
              "#ed7953"
             ],
             [
              0.7777777777777778,
              "#fb9f3a"
             ],
             [
              0.8888888888888888,
              "#fdca26"
             ],
             [
              1,
              "#f0f921"
             ]
            ],
            "type": "heatmapgl"
           }
          ],
          "histogram": [
           {
            "marker": {
             "colorbar": {
              "outlinewidth": 0,
              "ticks": ""
             }
            },
            "type": "histogram"
           }
          ],
          "histogram2d": [
           {
            "colorbar": {
             "outlinewidth": 0,
             "ticks": ""
            },
            "colorscale": [
             [
              0,
              "#0d0887"
             ],
             [
              0.1111111111111111,
              "#46039f"
             ],
             [
              0.2222222222222222,
              "#7201a8"
             ],
             [
              0.3333333333333333,
              "#9c179e"
             ],
             [
              0.4444444444444444,
              "#bd3786"
             ],
             [
              0.5555555555555556,
              "#d8576b"
             ],
             [
              0.6666666666666666,
              "#ed7953"
             ],
             [
              0.7777777777777778,
              "#fb9f3a"
             ],
             [
              0.8888888888888888,
              "#fdca26"
             ],
             [
              1,
              "#f0f921"
             ]
            ],
            "type": "histogram2d"
           }
          ],
          "histogram2dcontour": [
           {
            "colorbar": {
             "outlinewidth": 0,
             "ticks": ""
            },
            "colorscale": [
             [
              0,
              "#0d0887"
             ],
             [
              0.1111111111111111,
              "#46039f"
             ],
             [
              0.2222222222222222,
              "#7201a8"
             ],
             [
              0.3333333333333333,
              "#9c179e"
             ],
             [
              0.4444444444444444,
              "#bd3786"
             ],
             [
              0.5555555555555556,
              "#d8576b"
             ],
             [
              0.6666666666666666,
              "#ed7953"
             ],
             [
              0.7777777777777778,
              "#fb9f3a"
             ],
             [
              0.8888888888888888,
              "#fdca26"
             ],
             [
              1,
              "#f0f921"
             ]
            ],
            "type": "histogram2dcontour"
           }
          ],
          "mesh3d": [
           {
            "colorbar": {
             "outlinewidth": 0,
             "ticks": ""
            },
            "type": "mesh3d"
           }
          ],
          "parcoords": [
           {
            "line": {
             "colorbar": {
              "outlinewidth": 0,
              "ticks": ""
             }
            },
            "type": "parcoords"
           }
          ],
          "pie": [
           {
            "automargin": true,
            "type": "pie"
           }
          ],
          "scatter": [
           {
            "marker": {
             "colorbar": {
              "outlinewidth": 0,
              "ticks": ""
             }
            },
            "type": "scatter"
           }
          ],
          "scatter3d": [
           {
            "line": {
             "colorbar": {
              "outlinewidth": 0,
              "ticks": ""
             }
            },
            "marker": {
             "colorbar": {
              "outlinewidth": 0,
              "ticks": ""
             }
            },
            "type": "scatter3d"
           }
          ],
          "scattercarpet": [
           {
            "marker": {
             "colorbar": {
              "outlinewidth": 0,
              "ticks": ""
             }
            },
            "type": "scattercarpet"
           }
          ],
          "scattergeo": [
           {
            "marker": {
             "colorbar": {
              "outlinewidth": 0,
              "ticks": ""
             }
            },
            "type": "scattergeo"
           }
          ],
          "scattergl": [
           {
            "marker": {
             "colorbar": {
              "outlinewidth": 0,
              "ticks": ""
             }
            },
            "type": "scattergl"
           }
          ],
          "scattermapbox": [
           {
            "marker": {
             "colorbar": {
              "outlinewidth": 0,
              "ticks": ""
             }
            },
            "type": "scattermapbox"
           }
          ],
          "scatterpolar": [
           {
            "marker": {
             "colorbar": {
              "outlinewidth": 0,
              "ticks": ""
             }
            },
            "type": "scatterpolar"
           }
          ],
          "scatterpolargl": [
           {
            "marker": {
             "colorbar": {
              "outlinewidth": 0,
              "ticks": ""
             }
            },
            "type": "scatterpolargl"
           }
          ],
          "scatterternary": [
           {
            "marker": {
             "colorbar": {
              "outlinewidth": 0,
              "ticks": ""
             }
            },
            "type": "scatterternary"
           }
          ],
          "surface": [
           {
            "colorbar": {
             "outlinewidth": 0,
             "ticks": ""
            },
            "colorscale": [
             [
              0,
              "#0d0887"
             ],
             [
              0.1111111111111111,
              "#46039f"
             ],
             [
              0.2222222222222222,
              "#7201a8"
             ],
             [
              0.3333333333333333,
              "#9c179e"
             ],
             [
              0.4444444444444444,
              "#bd3786"
             ],
             [
              0.5555555555555556,
              "#d8576b"
             ],
             [
              0.6666666666666666,
              "#ed7953"
             ],
             [
              0.7777777777777778,
              "#fb9f3a"
             ],
             [
              0.8888888888888888,
              "#fdca26"
             ],
             [
              1,
              "#f0f921"
             ]
            ],
            "type": "surface"
           }
          ],
          "table": [
           {
            "cells": {
             "fill": {
              "color": "#EBF0F8"
             },
             "line": {
              "color": "white"
             }
            },
            "header": {
             "fill": {
              "color": "#C8D4E3"
             },
             "line": {
              "color": "white"
             }
            },
            "type": "table"
           }
          ]
         },
         "layout": {
          "annotationdefaults": {
           "arrowcolor": "#2a3f5f",
           "arrowhead": 0,
           "arrowwidth": 1
          },
          "coloraxis": {
           "colorbar": {
            "outlinewidth": 0,
            "ticks": ""
           }
          },
          "colorscale": {
           "diverging": [
            [
             0,
             "#8e0152"
            ],
            [
             0.1,
             "#c51b7d"
            ],
            [
             0.2,
             "#de77ae"
            ],
            [
             0.3,
             "#f1b6da"
            ],
            [
             0.4,
             "#fde0ef"
            ],
            [
             0.5,
             "#f7f7f7"
            ],
            [
             0.6,
             "#e6f5d0"
            ],
            [
             0.7,
             "#b8e186"
            ],
            [
             0.8,
             "#7fbc41"
            ],
            [
             0.9,
             "#4d9221"
            ],
            [
             1,
             "#276419"
            ]
           ],
           "sequential": [
            [
             0,
             "#0d0887"
            ],
            [
             0.1111111111111111,
             "#46039f"
            ],
            [
             0.2222222222222222,
             "#7201a8"
            ],
            [
             0.3333333333333333,
             "#9c179e"
            ],
            [
             0.4444444444444444,
             "#bd3786"
            ],
            [
             0.5555555555555556,
             "#d8576b"
            ],
            [
             0.6666666666666666,
             "#ed7953"
            ],
            [
             0.7777777777777778,
             "#fb9f3a"
            ],
            [
             0.8888888888888888,
             "#fdca26"
            ],
            [
             1,
             "#f0f921"
            ]
           ],
           "sequentialminus": [
            [
             0,
             "#0d0887"
            ],
            [
             0.1111111111111111,
             "#46039f"
            ],
            [
             0.2222222222222222,
             "#7201a8"
            ],
            [
             0.3333333333333333,
             "#9c179e"
            ],
            [
             0.4444444444444444,
             "#bd3786"
            ],
            [
             0.5555555555555556,
             "#d8576b"
            ],
            [
             0.6666666666666666,
             "#ed7953"
            ],
            [
             0.7777777777777778,
             "#fb9f3a"
            ],
            [
             0.8888888888888888,
             "#fdca26"
            ],
            [
             1,
             "#f0f921"
            ]
           ]
          },
          "colorway": [
           "#636efa",
           "#EF553B",
           "#00cc96",
           "#ab63fa",
           "#FFA15A",
           "#19d3f3",
           "#FF6692",
           "#B6E880",
           "#FF97FF",
           "#FECB52"
          ],
          "font": {
           "color": "#2a3f5f"
          },
          "geo": {
           "bgcolor": "white",
           "lakecolor": "white",
           "landcolor": "#E5ECF6",
           "showlakes": true,
           "showland": true,
           "subunitcolor": "white"
          },
          "hoverlabel": {
           "align": "left"
          },
          "hovermode": "closest",
          "mapbox": {
           "style": "light"
          },
          "paper_bgcolor": "white",
          "plot_bgcolor": "#E5ECF6",
          "polar": {
           "angularaxis": {
            "gridcolor": "white",
            "linecolor": "white",
            "ticks": ""
           },
           "bgcolor": "#E5ECF6",
           "radialaxis": {
            "gridcolor": "white",
            "linecolor": "white",
            "ticks": ""
           }
          },
          "scene": {
           "xaxis": {
            "backgroundcolor": "#E5ECF6",
            "gridcolor": "white",
            "gridwidth": 2,
            "linecolor": "white",
            "showbackground": true,
            "ticks": "",
            "zerolinecolor": "white"
           },
           "yaxis": {
            "backgroundcolor": "#E5ECF6",
            "gridcolor": "white",
            "gridwidth": 2,
            "linecolor": "white",
            "showbackground": true,
            "ticks": "",
            "zerolinecolor": "white"
           },
           "zaxis": {
            "backgroundcolor": "#E5ECF6",
            "gridcolor": "white",
            "gridwidth": 2,
            "linecolor": "white",
            "showbackground": true,
            "ticks": "",
            "zerolinecolor": "white"
           }
          },
          "shapedefaults": {
           "line": {
            "color": "#2a3f5f"
           }
          },
          "ternary": {
           "aaxis": {
            "gridcolor": "white",
            "linecolor": "white",
            "ticks": ""
           },
           "baxis": {
            "gridcolor": "white",
            "linecolor": "white",
            "ticks": ""
           },
           "bgcolor": "#E5ECF6",
           "caxis": {
            "gridcolor": "white",
            "linecolor": "white",
            "ticks": ""
           }
          },
          "title": {
           "x": 0.05
          },
          "xaxis": {
           "automargin": true,
           "gridcolor": "white",
           "linecolor": "white",
           "ticks": "",
           "title": {
            "standoff": 15
           },
           "zerolinecolor": "white",
           "zerolinewidth": 2
          },
          "yaxis": {
           "automargin": true,
           "gridcolor": "white",
           "linecolor": "white",
           "ticks": "",
           "title": {
            "standoff": 15
           },
           "zerolinecolor": "white",
           "zerolinewidth": 2
          }
         }
        },
        "title": {
         "font": {
          "color": "#4D5663"
         }
        },
        "xaxis": {
         "gridcolor": "#E1E5ED",
         "showgrid": true,
         "tickfont": {
          "color": "#4D5663"
         },
         "title": {
          "font": {
           "color": "#4D5663"
          },
          "text": ""
         },
         "zerolinecolor": "#E1E5ED"
        },
        "xaxis2": {
         "anchor": "y2",
         "gridcolor": "#E1E5ED",
         "showgrid": true,
         "showticklabels": false,
         "tickfont": {
          "color": "#4D5663"
         },
         "title": {
          "font": {
           "color": "#4D5663"
          },
          "text": ""
         },
         "zerolinecolor": "#E1E5ED"
        },
        "yaxis": {
         "domain": [
          0.3,
          1
         ],
         "gridcolor": "#E1E5ED",
         "showgrid": true,
         "tickfont": {
          "color": "#4D5663"
         },
         "title": {
          "font": {
           "color": "#4D5663"
          },
          "text": ""
         },
         "zerolinecolor": "#E1E5ED"
        },
        "yaxis2": {
         "domain": [
          0,
          0.25
         ],
         "gridcolor": "#E1E5ED",
         "showgrid": true,
         "tickfont": {
          "color": "#4D5663"
         },
         "title": {
          "font": {
           "color": "#4D5663"
          },
          "text": "Spread"
         },
         "zerolinecolor": "#E1E5ED"
        }
       }
      },
      "text/html": [
       "<div>\n",
       "        \n",
       "        \n",
       "            <div id=\"3fbc4c74-eec2-4c96-b539-a920bd6340b1\" class=\"plotly-graph-div\" style=\"height:525px; width:100%;\"></div>\n",
       "            <script type=\"text/javascript\">\n",
       "                require([\"plotly\"], function(Plotly) {\n",
       "                    window.PLOTLYENV=window.PLOTLYENV || {};\n",
       "                    window.PLOTLYENV.BASE_URL='https://plotly.com';\n",
       "                    \n",
       "                if (document.getElementById(\"3fbc4c74-eec2-4c96-b539-a920bd6340b1\")) {\n",
       "                    Plotly.newPlot(\n",
       "                        '3fbc4c74-eec2-4c96-b539-a920bd6340b1',\n",
       "                        [{\"line\": {\"color\": \"rgba(255, 153, 51, 1.0)\", \"dash\": \"solid\", \"shape\": \"linear\", \"width\": 1.3}, \"mode\": \"lines\", \"name\": \"A\", \"text\": \"\", \"type\": \"scatter\", \"x\": [0, 1, 2, 3, 4, 5, 6, 7, 8, 9, 10, 11, 12, 13, 14, 15, 16, 17, 18, 19, 20, 21, 22, 23, 24, 25, 26, 27, 28, 29, 30, 31, 32, 33, 34, 35, 36, 37, 38, 39, 40, 41, 42, 43, 44, 45, 46, 47, 48, 49, 50, 51, 52, 53, 54, 55, 56, 57, 58, 59, 60, 61, 62, 63, 64, 65, 66, 67, 68, 69, 70, 71, 72, 73, 74, 75, 76, 77, 78, 79, 80, 81, 82, 83, 84, 85, 86, 87, 88, 89, 90, 91, 92, 93, 94, 95, 96, 97, 98, 99], \"y\": [-1.3915514466454946, -0.25186847805576157, 0.9579228727741338, 0.6029271487268496, 0.416448674464561, 0.34063531233394767, -0.08459004387470692, 0.713619317860425, 1.7908137198587653, -0.07774446546417446, 0.7818861612515148, -0.08045802462218049, -1.3925376997334935, -0.25889123457565444, -1.2380068464047667, -1.6796053268216884, 1.1389527186859345, -2.15319053603754, 0.24225207650860273, 0.5323379650228895, -0.2096440229785707, 0.21953657917641956, -1.0938795941576012, -0.10577547603312083, 0.6384250404551687, -0.2721945316885118, 3.265738204544427, 0.3766017189657574, 0.33886279379065204, 1.2190050065519333, 0.3104100087786091, 0.26952115201931115, -2.3923810892739246, 0.8770803830120577, 0.6561754993661268, -1.2310665672205874, -1.1856641101789074, 0.41805322561991626, -0.9247175847838351, 0.23277995300774626, 0.4067275700600627, -1.428613771269792, 1.4839020736203505, 0.7633645943548794, 2.7756705575375586, -0.46463372800975183, 0.004306649259857492, 0.9645256070376517, -0.005185290726101883, 2.6020206278107167, -0.885626602219863, 1.3517771551572877, 1.4041522296440263, -0.37747456790116, 0.15412506809685084, -1.3868854662382721, 0.6433483582256894, 0.9983683388092811, -0.12169074845217757, -2.1176310033064594, -0.06264728472444926, -1.0150462339749775, 0.7360528445825723, 0.5333439301874713, 0.35198578229550376, 0.6072697451499537, -2.124423431145739, 0.45861870101295915, 0.3901706387730426, 0.9359092339197448, -0.1480147716292342, -0.4323566165303779, 0.7653655916578783, -0.19732640194278503, -0.1465413420198137, 0.7142610412011294, 1.1418243316888386, -0.3253132381128121, 1.5515260657660772, 0.309161311286864, -0.8358998861552829, 1.3655510433969495, 0.0632015316988487, -0.016827268343440532, 0.7506720191468409, -0.5595071040238351, -0.6947205233455448, 1.142499758085739, -2.147256982261882, -1.02211137709033, 0.4065176710241965, 0.5728619428353131, -0.2066640210509487, -0.9245155918409756, 0.19822024602242874, 1.4207896192934248, -1.67439132302367, 0.8101476190574366, 1.1438891096596677, -0.24724589169943464]}, {\"line\": {\"color\": \"rgba(55, 128, 191, 1.0)\", \"dash\": \"solid\", \"shape\": \"linear\", \"width\": 1.3}, \"mode\": \"lines\", \"name\": \"D\", \"text\": \"\", \"type\": \"scatter\", \"x\": [0, 1, 2, 3, 4, 5, 6, 7, 8, 9, 10, 11, 12, 13, 14, 15, 16, 17, 18, 19, 20, 21, 22, 23, 24, 25, 26, 27, 28, 29, 30, 31, 32, 33, 34, 35, 36, 37, 38, 39, 40, 41, 42, 43, 44, 45, 46, 47, 48, 49, 50, 51, 52, 53, 54, 55, 56, 57, 58, 59, 60, 61, 62, 63, 64, 65, 66, 67, 68, 69, 70, 71, 72, 73, 74, 75, 76, 77, 78, 79, 80, 81, 82, 83, 84, 85, 86, 87, 88, 89, 90, 91, 92, 93, 94, 95, 96, 97, 98, 99], \"y\": [-0.6833341122857621, -1.186518198081401, 0.7440360616704014, -0.4724438209696136, -0.3726398238770978, 0.04117066612790381, -0.12165221701464178, -0.3582447039742966, -0.9614060037617944, 0.738115872324706, -0.08819366108400076, 1.223355545014585, 1.4230621728241735, -0.0713488500790235, -0.37552458341578615, 1.4051767793554675, 1.5048150109432545, 1.1539930776722223, 0.37183774749061793, 1.2137171768818364, 0.2647832955019624, 0.08301689949870196, -0.08352492211042305, 0.17603067516678184, 1.3426263722935805, 1.4710969763164121, 0.3723008765493016, 0.8302101906900898, 0.4293110699434798, -1.7014499397610496, -0.7462107273631216, -0.062418203425431834, -0.4521898440150753, 1.0374670134271229, -0.03827027493552959, 2.627813687110325, 0.6891056995922998, 0.9496908564080698, -0.5173382461484048, -1.7998833834458434, -0.3058413154285717, -1.2147511852081776, -1.005887489678001, -0.30709897227715727, 0.37256104976328275, 0.12874701718905396, 0.40465242152470143, 1.1456196270354793, -0.9876226453689538, -0.32062717671141766, -0.4477698824738656, 0.37035700057779575, -0.6728757045446571, 0.13727837951958757, -0.8365857241976379, -0.862833170927694, -0.2321665491113636, -0.3096342804538494, 0.8796768280896852, -0.1138722149396076, 0.26259767826855795, -0.1723152186005268, 0.10650986454691985, -0.674854272338543, 0.607077893069324, 1.077104763029846, 0.306009787291824, 1.6189631446653476, 0.18641228222526587, 0.1002952216652406, 0.35384730130886494, -0.5592970923758837, 1.6810924067739625, -0.22801226336023897, -0.007212983814382795, -0.8884243908142498, 0.007373212437131988, -1.4994425212206395, 0.2858613226319799, 0.7723744957643544, 0.006207666093432797, -0.9831130172701907, 0.5668305156554925, 1.6039775473847573, 1.3707010942956015, 0.43850866148625123, 1.0295632712010863, 0.4628062783971533, -0.09196565989581211, 0.10106709283112156, -0.25825437843646293, 1.311841406736645, -0.04561607748831737, 0.9986168276634753, -1.1692664545784839, 2.0607261167534308, -0.03489069796686348, -0.9817027574319807, -1.828275897713146, -0.13307937775464979]}, {\"line\": {\"color\": \"rgba(50, 171, 96, 1.0)\", \"dash\": \"solid\", \"shape\": \"linear\", \"width\": 1.3}, \"mode\": \"lines\", \"name\": \"C\", \"text\": \"\", \"type\": \"scatter\", \"x\": [0, 1, 2, 3, 4, 5, 6, 7, 8, 9, 10, 11, 12, 13, 14, 15, 16, 17, 18, 19, 20, 21, 22, 23, 24, 25, 26, 27, 28, 29, 30, 31, 32, 33, 34, 35, 36, 37, 38, 39, 40, 41, 42, 43, 44, 45, 46, 47, 48, 49, 50, 51, 52, 53, 54, 55, 56, 57, 58, 59, 60, 61, 62, 63, 64, 65, 66, 67, 68, 69, 70, 71, 72, 73, 74, 75, 76, 77, 78, 79, 80, 81, 82, 83, 84, 85, 86, 87, 88, 89, 90, 91, 92, 93, 94, 95, 96, 97, 98, 99], \"y\": [1.2982356591642445, 0.15427115901690341, 1.0213467155156255, 1.232635888537672, -0.22895222538532137, 1.954511785901398, -0.3942545853071218, -0.8092251193718866, -0.12322104508539473, 1.2286788093130638, 0.3874343994934357, -2.2953744065269643, 2.017388879406804, 1.1193266759672091, -0.2746008943626236, -0.8065314918764688, 0.972762641451173, 0.5074579567461822, 1.0118902717327247, 0.401509381385972, 0.0639114665073889, -1.8663631190800596, 0.1387441893866892, 0.1428873542876622, 0.47682850878052335, -0.36571985711014215, -1.5460929902125424, 0.5198596011344117, -1.6173676235504222, -1.4356016266184148, -0.07050502844673512, 0.5575637873458781, -2.1652567182684646, 0.5870162986735613, -0.8773663572243663, -0.6858001901123327, 2.7969800829027123, -0.5458885428916942, 1.1181997296247015, -0.11673408876087886, 0.6404059497492122, -1.728413741794743, 0.3983029336729583, -0.7246637943231838, -0.8739988801359196, -0.8953673781193359, 1.0188898265321207, 0.17867461627604825, -0.7954294822668724, 0.4636630050156447, -0.6784390426197163, 0.15119517232480975, 0.24758404252618696, 0.4332548808024751, -0.573257381134931, -0.543358203976377, 1.1269166836129816, -0.23872781757691822, -1.3099931941537102, -1.0582198694901048, -0.4262076857305047, 1.423853630818953, -0.36089078387376755, -2.154339180537667, 2.476822997091817, 0.32141164193151145, 1.7050486382039032, -0.504611966141616, -1.397522139381618, 0.8479678308837004, -0.8297755982819625, 1.0577651562083943, -0.9101582376316869, -0.0029074583485230563, 0.2608575614760658, -0.7803371558458617, -2.145391997779593, -0.7063161942876157, 0.16239921321512515, -0.07683075830387348, 1.0607037175653777, 0.9544867857313885, -0.11793678009979827, 0.2102582181812343, -0.8387898266596429, -0.4206283693985038, -0.8152428246157843, -0.7276697598353788, -1.1329929330756752, -1.4466041035213315, -0.9848748287647158, 0.1180319292781396, -0.8776375086870779, -1.2821605470681214, 0.24414266199380305, 0.8141424501001563, -0.2765616564967207, 0.47783868175145766, -0.9965387453155009, -0.09458406917183024]}, {\"line\": {\"color\": \"rgba(128, 0, 128, 1.0)\", \"dash\": \"solid\", \"shape\": \"linear\", \"width\": 1.3}, \"mode\": \"lines\", \"name\": \"B\", \"text\": \"\", \"type\": \"scatter\", \"x\": [0, 1, 2, 3, 4, 5, 6, 7, 8, 9, 10, 11, 12, 13, 14, 15, 16, 17, 18, 19, 20, 21, 22, 23, 24, 25, 26, 27, 28, 29, 30, 31, 32, 33, 34, 35, 36, 37, 38, 39, 40, 41, 42, 43, 44, 45, 46, 47, 48, 49, 50, 51, 52, 53, 54, 55, 56, 57, 58, 59, 60, 61, 62, 63, 64, 65, 66, 67, 68, 69, 70, 71, 72, 73, 74, 75, 76, 77, 78, 79, 80, 81, 82, 83, 84, 85, 86, 87, 88, 89, 90, 91, 92, 93, 94, 95, 96, 97, 98, 99], \"y\": [-1.8063135150409384, -0.7679513004948498, -0.8742919766403517, 0.3070143950458193, 1.1665253316654558, -0.2262683166260905, -0.4917852269151437, -0.08073729843021035, 2.8334375843659645, 1.1532207799473548, -0.03814254313590681, -0.10568906458824325, -0.31317568710161725, 0.999191108558023, 0.8385632979585733, 0.41534933039874006, 0.8797805528306242, -1.2497080083648895, -1.7911041602373101, 0.7630643074653287, 2.5892130854872626, -0.5439208326964506, -1.3750796123608928, -1.729704664812876, 0.5578288145910832, 1.0036536830512153, -0.1714020047363067, -0.19405615495300366, 0.6919399765482697, 0.9695804954012914, 1.350663420111455, -1.240062693169029, -1.348240459508053, 1.4623370752557971, -0.48168927519920546, 0.39784876136248515, -0.9024576145690437, -0.6935679814885369, -0.3761127379085823, -0.36623141625460714, -0.2451594279515256, 0.026402940006598093, -0.32046021467091446, 1.1112009255824087, 0.2187696308981625, -2.505044161953846, -0.6162072553432347, -0.015565844051689669, 1.7854810856777485, 0.3541192142490893, 0.5263691204633134, 1.3994577056620974, -1.3428712151096527, 1.1255059881410612, 0.9500501528505452, 0.23415698180013855, 0.15335525171261927, -0.052071479834325515, -1.4232941345045214, 0.7132256996685288, 0.5489697164118927, -0.5726168408446426, 0.4621316906319872, 2.0945996369123625, -0.6293460980779058, 1.0075453751062597, 0.10083326030721385, -2.2013485061886473, -0.3898105142975688, -1.0896725401553105, -1.8597732189447154, 0.3905174313184132, -0.3104515621834238, 0.8040065537583236, -1.0797745253519242, 0.8367161653986137, -1.2674111303051174, -0.6763387257899182, -1.092639906945907, 1.0449811622012086, 1.8517700485195743, -0.13757886943215655, 0.7259595503006789, -0.9096144399987279, 0.6074501093482007, -0.7191397729519661, 1.907848397028853, -0.8418897038835749, 0.06575111015677335, -2.0389882885122126, -1.53917556051178, 0.9015627864510748, 0.09360031995000555, 0.10739423129650766, 0.6419278156297985, -0.23432958246422325, 0.1178203071042369, -0.9005807904385831, 1.2181737505496018, -0.5324878800398267]}, {\"connectgaps\": false, \"fill\": \"tozeroy\", \"line\": {\"color\": \"green\", \"dash\": \"solid\", \"shape\": \"linear\", \"width\": 0.5}, \"mode\": \"lines\", \"name\": \"Spread\", \"showlegend\": false, \"type\": \"scatter\", \"x\": [0, 1, 2, 3, 4, 5, 6, 7, 8, 9, 10, 11, 12, 13, 14, 15, 16, 17, 18, 19, 20, 21, 22, 23, 24, 25, 26, 27, 28, 29, 30, 31, 32, 33, 34, 35, 36, 37, 38, 39, 40, 41, 42, 43, 44, 45, 46, 47, 48, 49, 50, 51, 52, 53, 54, 55, 56, 57, 58, 59, 60, 61, 62, 63, 64, 65, 66, 67, 68, 69, 70, 71, 72, 73, 74, 75, 76, 77, 78, 79, 80, 81, 82, 83, 84, 85, 86, 87, 88, 89, 90, 91, 92, 93, 94, 95, 96, 97, 98, 99], \"xaxis\": \"x2\", \"y\": [\"\", 0.9346497200256394, 0.21388681110373242, 1.0753709696964633, 0.7890884983416588, 0.29946464620604385, 0.03706217313993486, 1.0718640218347215, 2.7522197236205597, \"\", 0.8700798223355155, \"\", \"\", \"\", \"\", \"\", \"\", \"\", \"\", \"\", \"\", 0.1365196796777176, \"\", \"\", \"\", \"\", 2.8934373279951253, \"\", \"\", 2.920454946312983, 1.0566207361417306, 0.33193935544474296, \"\", \"\", 0.6944457743016564, \"\", \"\", \"\", \"\", 2.0326633364535898, 0.7125688854886344, \"\", 2.4897895632983515, 1.0704635666320366, 2.4031095077742757, \"\", \"\", \"\", 0.982437354642852, 2.9226478045221342, \"\", 0.9814201545794919, 2.0770279341886835, \"\", 0.9907107922944887, \"\", 0.875514907337053, 1.3080026192631304, \"\", \"\", \"\", \"\", 0.6295429800356525, 1.2081982025260143, \"\", \"\", \"\", \"\", 0.20375835654777671, 0.8356140122545042, \"\", 0.12694047584550577, \"\", 0.03068586141745394, \"\", 1.6026854320153792, 1.1344511192517066, 1.1741292831078274, 1.2656647431340973, \"\", \"\", 2.34866406066714, \"\", \"\", \"\", \"\", \"\", 0.6796934796885856, \"\", \"\", 0.6647720494606595, \"\", \"\", \"\", 1.3674867006009126, \"\", \"\", 1.7918503764894171, 2.972165007372814, \"\"], \"yaxis\": \"y2\"}, {\"connectgaps\": false, \"fill\": \"tozeroy\", \"line\": {\"color\": \"red\", \"dash\": \"solid\", \"shape\": \"linear\", \"width\": 0.5}, \"mode\": \"lines\", \"name\": \"Spread\", \"showlegend\": false, \"type\": \"scatter\", \"x\": [0, 1, 2, 3, 4, 5, 6, 7, 8, 9, 10, 11, 12, 13, 14, 15, 16, 17, 18, 19, 20, 21, 22, 23, 24, 25, 26, 27, 28, 29, 30, 31, 32, 33, 34, 35, 36, 37, 38, 39, 40, 41, 42, 43, 44, 45, 46, 47, 48, 49, 50, 51, 52, 53, 54, 55, 56, 57, 58, 59, 60, 61, 62, 63, 64, 65, 66, 67, 68, 69, 70, 71, 72, 73, 74, 75, 76, 77, 78, 79, 80, 81, 82, 83, 84, 85, 86, 87, 88, 89, 90, 91, 92, 93, 94, 95, 96, 97, 98, 99], \"xaxis\": \"x2\", \"y\": [-0.7082173343597324, \"\", \"\", \"\", \"\", \"\", \"\", \"\", \"\", -0.8158603377888805, \"\", -1.3038135696367654, -2.8155998725576667, -0.18754238449663094, -0.8624822629889806, -3.0847821061771556, -0.36586229225732003, -3.3071836137097623, -0.1295856709820152, -0.6813792118589469, -0.4744273184805331, \"\", -1.010354672047178, -0.28180615119990265, -0.7042013318384118, -1.743291508004924, \"\", -0.45360847172433244, -0.09044827615282774, \"\", \"\", \"\", -1.9401912452588492, -0.16038663041506518, \"\", -3.858880254330912, -1.874769809771207, -0.5316376307881536, -0.4073793386354303, \"\", \"\", -0.21386258606161435, \"\", \"\", \"\", -0.5933807451988058, -0.4003457722648439, -0.1810940199978276, \"\", \"\", -0.4378567197459974, \"\", \"\", -0.5147529474207476, \"\", -0.5240522953105782, \"\", \"\", -1.0013675765418628, -2.0037587883668517, -0.3252449629930072, -0.8427310153744507, \"\", \"\", -0.25509211077382027, -0.46983501787989235, -2.430433218437563, -1.1603444436523884, \"\", \"\", -0.5018620729380991, \"\", -0.9157268151160842, \"\", -0.1393283582054309, \"\", \"\", \"\", \"\", -0.4632131844774903, -0.8421075522487157, \"\", -0.5036289839566438, -1.6208048157281978, -0.6200290751487606, -0.9980157655100863, -1.724283794546631, \"\", -2.05529132236607, -1.1231784699214515, \"\", -0.738979463901332, -0.16104794356263133, -1.923132419504451, \"\", -0.6399364974600059, -1.6395006250568065, \"\", \"\", -0.11416651394478486], \"yaxis\": \"y2\"}],\n",
       "                        {\"hovermode\": \"x\", \"legend\": {\"bgcolor\": \"#F5F6F9\", \"font\": {\"color\": \"#4D5663\"}}, \"paper_bgcolor\": \"#F5F6F9\", \"plot_bgcolor\": \"#F5F6F9\", \"template\": {\"data\": {\"bar\": [{\"error_x\": {\"color\": \"#2a3f5f\"}, \"error_y\": {\"color\": \"#2a3f5f\"}, \"marker\": {\"line\": {\"color\": \"#E5ECF6\", \"width\": 0.5}}, \"type\": \"bar\"}], \"barpolar\": [{\"marker\": {\"line\": {\"color\": \"#E5ECF6\", \"width\": 0.5}}, \"type\": \"barpolar\"}], \"carpet\": [{\"aaxis\": {\"endlinecolor\": \"#2a3f5f\", \"gridcolor\": \"white\", \"linecolor\": \"white\", \"minorgridcolor\": \"white\", \"startlinecolor\": \"#2a3f5f\"}, \"baxis\": {\"endlinecolor\": \"#2a3f5f\", \"gridcolor\": \"white\", \"linecolor\": \"white\", \"minorgridcolor\": \"white\", \"startlinecolor\": \"#2a3f5f\"}, \"type\": \"carpet\"}], \"choropleth\": [{\"colorbar\": {\"outlinewidth\": 0, \"ticks\": \"\"}, \"type\": \"choropleth\"}], \"contour\": [{\"colorbar\": {\"outlinewidth\": 0, \"ticks\": \"\"}, \"colorscale\": [[0.0, \"#0d0887\"], [0.1111111111111111, \"#46039f\"], [0.2222222222222222, \"#7201a8\"], [0.3333333333333333, \"#9c179e\"], [0.4444444444444444, \"#bd3786\"], [0.5555555555555556, \"#d8576b\"], [0.6666666666666666, \"#ed7953\"], [0.7777777777777778, \"#fb9f3a\"], [0.8888888888888888, \"#fdca26\"], [1.0, \"#f0f921\"]], \"type\": \"contour\"}], \"contourcarpet\": [{\"colorbar\": {\"outlinewidth\": 0, \"ticks\": \"\"}, \"type\": \"contourcarpet\"}], \"heatmap\": [{\"colorbar\": {\"outlinewidth\": 0, \"ticks\": \"\"}, \"colorscale\": [[0.0, \"#0d0887\"], [0.1111111111111111, \"#46039f\"], [0.2222222222222222, \"#7201a8\"], [0.3333333333333333, \"#9c179e\"], [0.4444444444444444, \"#bd3786\"], [0.5555555555555556, \"#d8576b\"], [0.6666666666666666, \"#ed7953\"], [0.7777777777777778, \"#fb9f3a\"], [0.8888888888888888, \"#fdca26\"], [1.0, \"#f0f921\"]], \"type\": \"heatmap\"}], \"heatmapgl\": [{\"colorbar\": {\"outlinewidth\": 0, \"ticks\": \"\"}, \"colorscale\": [[0.0, \"#0d0887\"], [0.1111111111111111, \"#46039f\"], [0.2222222222222222, \"#7201a8\"], [0.3333333333333333, \"#9c179e\"], [0.4444444444444444, \"#bd3786\"], [0.5555555555555556, \"#d8576b\"], [0.6666666666666666, \"#ed7953\"], [0.7777777777777778, \"#fb9f3a\"], [0.8888888888888888, \"#fdca26\"], [1.0, \"#f0f921\"]], \"type\": \"heatmapgl\"}], \"histogram\": [{\"marker\": {\"colorbar\": {\"outlinewidth\": 0, \"ticks\": \"\"}}, \"type\": \"histogram\"}], \"histogram2d\": [{\"colorbar\": {\"outlinewidth\": 0, \"ticks\": \"\"}, \"colorscale\": [[0.0, \"#0d0887\"], [0.1111111111111111, \"#46039f\"], [0.2222222222222222, \"#7201a8\"], [0.3333333333333333, \"#9c179e\"], [0.4444444444444444, \"#bd3786\"], [0.5555555555555556, \"#d8576b\"], [0.6666666666666666, \"#ed7953\"], [0.7777777777777778, \"#fb9f3a\"], [0.8888888888888888, \"#fdca26\"], [1.0, \"#f0f921\"]], \"type\": \"histogram2d\"}], \"histogram2dcontour\": [{\"colorbar\": {\"outlinewidth\": 0, \"ticks\": \"\"}, \"colorscale\": [[0.0, \"#0d0887\"], [0.1111111111111111, \"#46039f\"], [0.2222222222222222, \"#7201a8\"], [0.3333333333333333, \"#9c179e\"], [0.4444444444444444, \"#bd3786\"], [0.5555555555555556, \"#d8576b\"], [0.6666666666666666, \"#ed7953\"], [0.7777777777777778, \"#fb9f3a\"], [0.8888888888888888, \"#fdca26\"], [1.0, \"#f0f921\"]], \"type\": \"histogram2dcontour\"}], \"mesh3d\": [{\"colorbar\": {\"outlinewidth\": 0, \"ticks\": \"\"}, \"type\": \"mesh3d\"}], \"parcoords\": [{\"line\": {\"colorbar\": {\"outlinewidth\": 0, \"ticks\": \"\"}}, \"type\": \"parcoords\"}], \"pie\": [{\"automargin\": true, \"type\": \"pie\"}], \"scatter\": [{\"marker\": {\"colorbar\": {\"outlinewidth\": 0, \"ticks\": \"\"}}, \"type\": \"scatter\"}], \"scatter3d\": [{\"line\": {\"colorbar\": {\"outlinewidth\": 0, \"ticks\": \"\"}}, \"marker\": {\"colorbar\": {\"outlinewidth\": 0, \"ticks\": \"\"}}, \"type\": \"scatter3d\"}], \"scattercarpet\": [{\"marker\": {\"colorbar\": {\"outlinewidth\": 0, \"ticks\": \"\"}}, \"type\": \"scattercarpet\"}], \"scattergeo\": [{\"marker\": {\"colorbar\": {\"outlinewidth\": 0, \"ticks\": \"\"}}, \"type\": \"scattergeo\"}], \"scattergl\": [{\"marker\": {\"colorbar\": {\"outlinewidth\": 0, \"ticks\": \"\"}}, \"type\": \"scattergl\"}], \"scattermapbox\": [{\"marker\": {\"colorbar\": {\"outlinewidth\": 0, \"ticks\": \"\"}}, \"type\": \"scattermapbox\"}], \"scatterpolar\": [{\"marker\": {\"colorbar\": {\"outlinewidth\": 0, \"ticks\": \"\"}}, \"type\": \"scatterpolar\"}], \"scatterpolargl\": [{\"marker\": {\"colorbar\": {\"outlinewidth\": 0, \"ticks\": \"\"}}, \"type\": \"scatterpolargl\"}], \"scatterternary\": [{\"marker\": {\"colorbar\": {\"outlinewidth\": 0, \"ticks\": \"\"}}, \"type\": \"scatterternary\"}], \"surface\": [{\"colorbar\": {\"outlinewidth\": 0, \"ticks\": \"\"}, \"colorscale\": [[0.0, \"#0d0887\"], [0.1111111111111111, \"#46039f\"], [0.2222222222222222, \"#7201a8\"], [0.3333333333333333, \"#9c179e\"], [0.4444444444444444, \"#bd3786\"], [0.5555555555555556, \"#d8576b\"], [0.6666666666666666, \"#ed7953\"], [0.7777777777777778, \"#fb9f3a\"], [0.8888888888888888, \"#fdca26\"], [1.0, \"#f0f921\"]], \"type\": \"surface\"}], \"table\": [{\"cells\": {\"fill\": {\"color\": \"#EBF0F8\"}, \"line\": {\"color\": \"white\"}}, \"header\": {\"fill\": {\"color\": \"#C8D4E3\"}, \"line\": {\"color\": \"white\"}}, \"type\": \"table\"}]}, \"layout\": {\"annotationdefaults\": {\"arrowcolor\": \"#2a3f5f\", \"arrowhead\": 0, \"arrowwidth\": 1}, \"coloraxis\": {\"colorbar\": {\"outlinewidth\": 0, \"ticks\": \"\"}}, \"colorscale\": {\"diverging\": [[0, \"#8e0152\"], [0.1, \"#c51b7d\"], [0.2, \"#de77ae\"], [0.3, \"#f1b6da\"], [0.4, \"#fde0ef\"], [0.5, \"#f7f7f7\"], [0.6, \"#e6f5d0\"], [0.7, \"#b8e186\"], [0.8, \"#7fbc41\"], [0.9, \"#4d9221\"], [1, \"#276419\"]], \"sequential\": [[0.0, \"#0d0887\"], [0.1111111111111111, \"#46039f\"], [0.2222222222222222, \"#7201a8\"], [0.3333333333333333, \"#9c179e\"], [0.4444444444444444, \"#bd3786\"], [0.5555555555555556, \"#d8576b\"], [0.6666666666666666, \"#ed7953\"], [0.7777777777777778, \"#fb9f3a\"], [0.8888888888888888, \"#fdca26\"], [1.0, \"#f0f921\"]], \"sequentialminus\": [[0.0, \"#0d0887\"], [0.1111111111111111, \"#46039f\"], [0.2222222222222222, \"#7201a8\"], [0.3333333333333333, \"#9c179e\"], [0.4444444444444444, \"#bd3786\"], [0.5555555555555556, \"#d8576b\"], [0.6666666666666666, \"#ed7953\"], [0.7777777777777778, \"#fb9f3a\"], [0.8888888888888888, \"#fdca26\"], [1.0, \"#f0f921\"]]}, \"colorway\": [\"#636efa\", \"#EF553B\", \"#00cc96\", \"#ab63fa\", \"#FFA15A\", \"#19d3f3\", \"#FF6692\", \"#B6E880\", \"#FF97FF\", \"#FECB52\"], \"font\": {\"color\": \"#2a3f5f\"}, \"geo\": {\"bgcolor\": \"white\", \"lakecolor\": \"white\", \"landcolor\": \"#E5ECF6\", \"showlakes\": true, \"showland\": true, \"subunitcolor\": \"white\"}, \"hoverlabel\": {\"align\": \"left\"}, \"hovermode\": \"closest\", \"mapbox\": {\"style\": \"light\"}, \"paper_bgcolor\": \"white\", \"plot_bgcolor\": \"#E5ECF6\", \"polar\": {\"angularaxis\": {\"gridcolor\": \"white\", \"linecolor\": \"white\", \"ticks\": \"\"}, \"bgcolor\": \"#E5ECF6\", \"radialaxis\": {\"gridcolor\": \"white\", \"linecolor\": \"white\", \"ticks\": \"\"}}, \"scene\": {\"xaxis\": {\"backgroundcolor\": \"#E5ECF6\", \"gridcolor\": \"white\", \"gridwidth\": 2, \"linecolor\": \"white\", \"showbackground\": true, \"ticks\": \"\", \"zerolinecolor\": \"white\"}, \"yaxis\": {\"backgroundcolor\": \"#E5ECF6\", \"gridcolor\": \"white\", \"gridwidth\": 2, \"linecolor\": \"white\", \"showbackground\": true, \"ticks\": \"\", \"zerolinecolor\": \"white\"}, \"zaxis\": {\"backgroundcolor\": \"#E5ECF6\", \"gridcolor\": \"white\", \"gridwidth\": 2, \"linecolor\": \"white\", \"showbackground\": true, \"ticks\": \"\", \"zerolinecolor\": \"white\"}}, \"shapedefaults\": {\"line\": {\"color\": \"#2a3f5f\"}}, \"ternary\": {\"aaxis\": {\"gridcolor\": \"white\", \"linecolor\": \"white\", \"ticks\": \"\"}, \"baxis\": {\"gridcolor\": \"white\", \"linecolor\": \"white\", \"ticks\": \"\"}, \"bgcolor\": \"#E5ECF6\", \"caxis\": {\"gridcolor\": \"white\", \"linecolor\": \"white\", \"ticks\": \"\"}}, \"title\": {\"x\": 0.05}, \"xaxis\": {\"automargin\": true, \"gridcolor\": \"white\", \"linecolor\": \"white\", \"ticks\": \"\", \"title\": {\"standoff\": 15}, \"zerolinecolor\": \"white\", \"zerolinewidth\": 2}, \"yaxis\": {\"automargin\": true, \"gridcolor\": \"white\", \"linecolor\": \"white\", \"ticks\": \"\", \"title\": {\"standoff\": 15}, \"zerolinecolor\": \"white\", \"zerolinewidth\": 2}}}, \"title\": {\"font\": {\"color\": \"#4D5663\"}}, \"xaxis\": {\"gridcolor\": \"#E1E5ED\", \"showgrid\": true, \"tickfont\": {\"color\": \"#4D5663\"}, \"title\": {\"font\": {\"color\": \"#4D5663\"}, \"text\": \"\"}, \"zerolinecolor\": \"#E1E5ED\"}, \"xaxis2\": {\"anchor\": \"y2\", \"gridcolor\": \"#E1E5ED\", \"showgrid\": true, \"showticklabels\": false, \"tickfont\": {\"color\": \"#4D5663\"}, \"title\": {\"font\": {\"color\": \"#4D5663\"}, \"text\": \"\"}, \"zerolinecolor\": \"#E1E5ED\"}, \"yaxis\": {\"domain\": [0.3, 1], \"gridcolor\": \"#E1E5ED\", \"showgrid\": true, \"tickfont\": {\"color\": \"#4D5663\"}, \"title\": {\"font\": {\"color\": \"#4D5663\"}, \"text\": \"\"}, \"zerolinecolor\": \"#E1E5ED\"}, \"yaxis2\": {\"domain\": [0, 0.25], \"gridcolor\": \"#E1E5ED\", \"showgrid\": true, \"tickfont\": {\"color\": \"#4D5663\"}, \"title\": {\"font\": {\"color\": \"#4D5663\"}, \"text\": \"Spread\"}, \"zerolinecolor\": \"#E1E5ED\"}},\n",
       "                        {\"showLink\": true, \"linkText\": \"Export to plotly.com\", \"plotlyServerURL\": \"https://plotly.com\", \"responsive\": true}\n",
       "                    ).then(function(){\n",
       "                            \n",
       "var gd = document.getElementById('3fbc4c74-eec2-4c96-b539-a920bd6340b1');\n",
       "var x = new MutationObserver(function (mutations, observer) {{\n",
       "        var display = window.getComputedStyle(gd).display;\n",
       "        if (!display || display === 'none') {{\n",
       "            console.log([gd, 'removed!']);\n",
       "            Plotly.purge(gd);\n",
       "            observer.disconnect();\n",
       "        }}\n",
       "}});\n",
       "\n",
       "// Listen for the removal of the full notebook cells\n",
       "var notebookContainer = gd.closest('#notebook-container');\n",
       "if (notebookContainer) {{\n",
       "    x.observe(notebookContainer, {childList: true});\n",
       "}}\n",
       "\n",
       "// Listen for the clearing of the current output cell\n",
       "var outputEl = gd.closest('.output');\n",
       "if (outputEl) {{\n",
       "    x.observe(outputEl, {childList: true});\n",
       "}}\n",
       "\n",
       "                        })\n",
       "                };\n",
       "                });\n",
       "            </script>\n",
       "        </div>"
      ]
     },
     "metadata": {},
     "output_type": "display_data"
    }
   ],
   "source": [
    "df[['A','D','C','B']].iplot(kind='spread')"
   ]
  },
  {
   "cell_type": "code",
   "execution_count": 12,
   "metadata": {},
   "outputs": [
    {
     "data": {
      "application/vnd.plotly.v1+json": {
       "config": {
        "linkText": "Export to plotly.com",
        "plotlyServerURL": "https://plotly.com",
        "showLink": true
       },
       "data": [
        {
         "marker": {
          "color": [
           "seagreen",
           "seagreen",
           "seagreen",
           "seagreen",
           "seagreen",
           "seagreen",
           "seagreen",
           "seagreen",
           "seagreen",
           "seagreen",
           "seagreen",
           "seagreen",
           "seagreen",
           "seagreen",
           "seagreen",
           "seagreen",
           "seagreen",
           "seagreen",
           "seagreen",
           "seagreen",
           "seagreen",
           "seagreen",
           "seagreen",
           "seagreen",
           "seagreen",
           "seagreen",
           "seagreen",
           "seagreen",
           "seagreen",
           "seagreen",
           "seagreen",
           "seagreen",
           "seagreen",
           "seagreen",
           "seagreen",
           "seagreen",
           "seagreen",
           "seagreen",
           "seagreen",
           "seagreen",
           "seagreen",
           "seagreen",
           "seagreen",
           "seagreen",
           "seagreen",
           "seagreen",
           "seagreen",
           "seagreen",
           "seagreen",
           "seagreen",
           "seagreen",
           "seagreen",
           "seagreen",
           "seagreen",
           "seagreen",
           "seagreen",
           "seagreen",
           "seagreen",
           "seagreen",
           "seagreen",
           "seagreen",
           "seagreen",
           "seagreen",
           "seagreen",
           "seagreen",
           "seagreen",
           "seagreen",
           "seagreen",
           "seagreen",
           "seagreen",
           "seagreen",
           "seagreen",
           "seagreen",
           "seagreen",
           "seagreen",
           "seagreen",
           "seagreen",
           "seagreen",
           "seagreen",
           "seagreen",
           "seagreen",
           "seagreen",
           "seagreen",
           "seagreen",
           "seagreen",
           "seagreen",
           "seagreen",
           "seagreen",
           "seagreen",
           "seagreen",
           "seagreen",
           "seagreen",
           "seagreen",
           "seagreen",
           "seagreen",
           "seagreen",
           "seagreen",
           "seagreen",
           "seagreen",
           "seagreen"
          ],
          "line": {
           "width": 1.3
          },
          "size": [
           82,
           60,
           77,
           81,
           52,
           95,
           49,
           41,
           54,
           81,
           64,
           12,
           96,
           79,
           51,
           41,
           76,
           67,
           76,
           64,
           58,
           20,
           59,
           59,
           66,
           49,
           26,
           67,
           25,
           28,
           55,
           68,
           14,
           68,
           39,
           43,
           112,
           46,
           79,
           54,
           69,
           23,
           64,
           42,
           39,
           39,
           77,
           60,
           41,
           66,
           43,
           60,
           61,
           65,
           45,
           46,
           79,
           52,
           31,
           36,
           48,
           85,
           49,
           14,
           105,
           63,
           90,
           47,
           29,
           73,
           40,
           77,
           39,
           57,
           62,
           41,
           14,
           43,
           60,
           55,
           77,
           75,
           54,
           61,
           40,
           48,
           41,
           42,
           34,
           28,
           37,
           59,
           39,
           31,
           61,
           73,
           51,
           66,
           37,
           55
          ],
          "symbol": "circle"
         },
         "mode": "markers",
         "text": "",
         "type": "scatter",
         "x": [
          -1.3915514466454946,
          -0.25186847805576157,
          0.9579228727741338,
          0.6029271487268496,
          0.416448674464561,
          0.34063531233394767,
          -0.08459004387470692,
          0.713619317860425,
          1.7908137198587653,
          -0.07774446546417446,
          0.7818861612515148,
          -0.08045802462218049,
          -1.3925376997334935,
          -0.25889123457565444,
          -1.2380068464047667,
          -1.6796053268216884,
          1.1389527186859345,
          -2.15319053603754,
          0.24225207650860273,
          0.5323379650228895,
          -0.2096440229785707,
          0.21953657917641956,
          -1.0938795941576012,
          -0.10577547603312083,
          0.6384250404551687,
          -0.2721945316885118,
          3.265738204544427,
          0.3766017189657574,
          0.33886279379065204,
          1.2190050065519333,
          0.3104100087786091,
          0.26952115201931115,
          -2.3923810892739246,
          0.8770803830120577,
          0.6561754993661268,
          -1.2310665672205874,
          -1.1856641101789074,
          0.41805322561991626,
          -0.9247175847838351,
          0.23277995300774626,
          0.4067275700600627,
          -1.428613771269792,
          1.4839020736203505,
          0.7633645943548794,
          2.7756705575375586,
          -0.46463372800975183,
          0.004306649259857492,
          0.9645256070376517,
          -0.005185290726101883,
          2.6020206278107167,
          -0.885626602219863,
          1.3517771551572877,
          1.4041522296440263,
          -0.37747456790116,
          0.15412506809685084,
          -1.3868854662382721,
          0.6433483582256894,
          0.9983683388092811,
          -0.12169074845217757,
          -2.1176310033064594,
          -0.06264728472444926,
          -1.0150462339749775,
          0.7360528445825723,
          0.5333439301874713,
          0.35198578229550376,
          0.6072697451499537,
          -2.124423431145739,
          0.45861870101295915,
          0.3901706387730426,
          0.9359092339197448,
          -0.1480147716292342,
          -0.4323566165303779,
          0.7653655916578783,
          -0.19732640194278503,
          -0.1465413420198137,
          0.7142610412011294,
          1.1418243316888386,
          -0.3253132381128121,
          1.5515260657660772,
          0.309161311286864,
          -0.8358998861552829,
          1.3655510433969495,
          0.0632015316988487,
          -0.016827268343440532,
          0.7506720191468409,
          -0.5595071040238351,
          -0.6947205233455448,
          1.142499758085739,
          -2.147256982261882,
          -1.02211137709033,
          0.4065176710241965,
          0.5728619428353131,
          -0.2066640210509487,
          -0.9245155918409756,
          0.19822024602242874,
          1.4207896192934248,
          -1.67439132302367,
          0.8101476190574366,
          1.1438891096596677,
          -0.24724589169943464
         ],
         "y": [
          -1.8063135150409384,
          -0.7679513004948498,
          -0.8742919766403517,
          0.3070143950458193,
          1.1665253316654558,
          -0.2262683166260905,
          -0.4917852269151437,
          -0.08073729843021035,
          2.8334375843659645,
          1.1532207799473548,
          -0.03814254313590681,
          -0.10568906458824325,
          -0.31317568710161725,
          0.999191108558023,
          0.8385632979585733,
          0.41534933039874006,
          0.8797805528306242,
          -1.2497080083648895,
          -1.7911041602373101,
          0.7630643074653287,
          2.5892130854872626,
          -0.5439208326964506,
          -1.3750796123608928,
          -1.729704664812876,
          0.5578288145910832,
          1.0036536830512153,
          -0.1714020047363067,
          -0.19405615495300366,
          0.6919399765482697,
          0.9695804954012914,
          1.350663420111455,
          -1.240062693169029,
          -1.348240459508053,
          1.4623370752557971,
          -0.48168927519920546,
          0.39784876136248515,
          -0.9024576145690437,
          -0.6935679814885369,
          -0.3761127379085823,
          -0.36623141625460714,
          -0.2451594279515256,
          0.026402940006598093,
          -0.32046021467091446,
          1.1112009255824087,
          0.2187696308981625,
          -2.505044161953846,
          -0.6162072553432347,
          -0.015565844051689669,
          1.7854810856777485,
          0.3541192142490893,
          0.5263691204633134,
          1.3994577056620974,
          -1.3428712151096527,
          1.1255059881410612,
          0.9500501528505452,
          0.23415698180013855,
          0.15335525171261927,
          -0.052071479834325515,
          -1.4232941345045214,
          0.7132256996685288,
          0.5489697164118927,
          -0.5726168408446426,
          0.4621316906319872,
          2.0945996369123625,
          -0.6293460980779058,
          1.0075453751062597,
          0.10083326030721385,
          -2.2013485061886473,
          -0.3898105142975688,
          -1.0896725401553105,
          -1.8597732189447154,
          0.3905174313184132,
          -0.3104515621834238,
          0.8040065537583236,
          -1.0797745253519242,
          0.8367161653986137,
          -1.2674111303051174,
          -0.6763387257899182,
          -1.092639906945907,
          1.0449811622012086,
          1.8517700485195743,
          -0.13757886943215655,
          0.7259595503006789,
          -0.9096144399987279,
          0.6074501093482007,
          -0.7191397729519661,
          1.907848397028853,
          -0.8418897038835749,
          0.06575111015677335,
          -2.0389882885122126,
          -1.53917556051178,
          0.9015627864510748,
          0.09360031995000555,
          0.10739423129650766,
          0.6419278156297985,
          -0.23432958246422325,
          0.1178203071042369,
          -0.9005807904385831,
          1.2181737505496018,
          -0.5324878800398267
         ]
        }
       ],
       "layout": {
        "legend": {
         "bgcolor": "#F5F6F9",
         "font": {
          "color": "#4D5663"
         }
        },
        "paper_bgcolor": "#F5F6F9",
        "plot_bgcolor": "#F5F6F9",
        "template": {
         "data": {
          "bar": [
           {
            "error_x": {
             "color": "#2a3f5f"
            },
            "error_y": {
             "color": "#2a3f5f"
            },
            "marker": {
             "line": {
              "color": "#E5ECF6",
              "width": 0.5
             }
            },
            "type": "bar"
           }
          ],
          "barpolar": [
           {
            "marker": {
             "line": {
              "color": "#E5ECF6",
              "width": 0.5
             }
            },
            "type": "barpolar"
           }
          ],
          "carpet": [
           {
            "aaxis": {
             "endlinecolor": "#2a3f5f",
             "gridcolor": "white",
             "linecolor": "white",
             "minorgridcolor": "white",
             "startlinecolor": "#2a3f5f"
            },
            "baxis": {
             "endlinecolor": "#2a3f5f",
             "gridcolor": "white",
             "linecolor": "white",
             "minorgridcolor": "white",
             "startlinecolor": "#2a3f5f"
            },
            "type": "carpet"
           }
          ],
          "choropleth": [
           {
            "colorbar": {
             "outlinewidth": 0,
             "ticks": ""
            },
            "type": "choropleth"
           }
          ],
          "contour": [
           {
            "colorbar": {
             "outlinewidth": 0,
             "ticks": ""
            },
            "colorscale": [
             [
              0,
              "#0d0887"
             ],
             [
              0.1111111111111111,
              "#46039f"
             ],
             [
              0.2222222222222222,
              "#7201a8"
             ],
             [
              0.3333333333333333,
              "#9c179e"
             ],
             [
              0.4444444444444444,
              "#bd3786"
             ],
             [
              0.5555555555555556,
              "#d8576b"
             ],
             [
              0.6666666666666666,
              "#ed7953"
             ],
             [
              0.7777777777777778,
              "#fb9f3a"
             ],
             [
              0.8888888888888888,
              "#fdca26"
             ],
             [
              1,
              "#f0f921"
             ]
            ],
            "type": "contour"
           }
          ],
          "contourcarpet": [
           {
            "colorbar": {
             "outlinewidth": 0,
             "ticks": ""
            },
            "type": "contourcarpet"
           }
          ],
          "heatmap": [
           {
            "colorbar": {
             "outlinewidth": 0,
             "ticks": ""
            },
            "colorscale": [
             [
              0,
              "#0d0887"
             ],
             [
              0.1111111111111111,
              "#46039f"
             ],
             [
              0.2222222222222222,
              "#7201a8"
             ],
             [
              0.3333333333333333,
              "#9c179e"
             ],
             [
              0.4444444444444444,
              "#bd3786"
             ],
             [
              0.5555555555555556,
              "#d8576b"
             ],
             [
              0.6666666666666666,
              "#ed7953"
             ],
             [
              0.7777777777777778,
              "#fb9f3a"
             ],
             [
              0.8888888888888888,
              "#fdca26"
             ],
             [
              1,
              "#f0f921"
             ]
            ],
            "type": "heatmap"
           }
          ],
          "heatmapgl": [
           {
            "colorbar": {
             "outlinewidth": 0,
             "ticks": ""
            },
            "colorscale": [
             [
              0,
              "#0d0887"
             ],
             [
              0.1111111111111111,
              "#46039f"
             ],
             [
              0.2222222222222222,
              "#7201a8"
             ],
             [
              0.3333333333333333,
              "#9c179e"
             ],
             [
              0.4444444444444444,
              "#bd3786"
             ],
             [
              0.5555555555555556,
              "#d8576b"
             ],
             [
              0.6666666666666666,
              "#ed7953"
             ],
             [
              0.7777777777777778,
              "#fb9f3a"
             ],
             [
              0.8888888888888888,
              "#fdca26"
             ],
             [
              1,
              "#f0f921"
             ]
            ],
            "type": "heatmapgl"
           }
          ],
          "histogram": [
           {
            "marker": {
             "colorbar": {
              "outlinewidth": 0,
              "ticks": ""
             }
            },
            "type": "histogram"
           }
          ],
          "histogram2d": [
           {
            "colorbar": {
             "outlinewidth": 0,
             "ticks": ""
            },
            "colorscale": [
             [
              0,
              "#0d0887"
             ],
             [
              0.1111111111111111,
              "#46039f"
             ],
             [
              0.2222222222222222,
              "#7201a8"
             ],
             [
              0.3333333333333333,
              "#9c179e"
             ],
             [
              0.4444444444444444,
              "#bd3786"
             ],
             [
              0.5555555555555556,
              "#d8576b"
             ],
             [
              0.6666666666666666,
              "#ed7953"
             ],
             [
              0.7777777777777778,
              "#fb9f3a"
             ],
             [
              0.8888888888888888,
              "#fdca26"
             ],
             [
              1,
              "#f0f921"
             ]
            ],
            "type": "histogram2d"
           }
          ],
          "histogram2dcontour": [
           {
            "colorbar": {
             "outlinewidth": 0,
             "ticks": ""
            },
            "colorscale": [
             [
              0,
              "#0d0887"
             ],
             [
              0.1111111111111111,
              "#46039f"
             ],
             [
              0.2222222222222222,
              "#7201a8"
             ],
             [
              0.3333333333333333,
              "#9c179e"
             ],
             [
              0.4444444444444444,
              "#bd3786"
             ],
             [
              0.5555555555555556,
              "#d8576b"
             ],
             [
              0.6666666666666666,
              "#ed7953"
             ],
             [
              0.7777777777777778,
              "#fb9f3a"
             ],
             [
              0.8888888888888888,
              "#fdca26"
             ],
             [
              1,
              "#f0f921"
             ]
            ],
            "type": "histogram2dcontour"
           }
          ],
          "mesh3d": [
           {
            "colorbar": {
             "outlinewidth": 0,
             "ticks": ""
            },
            "type": "mesh3d"
           }
          ],
          "parcoords": [
           {
            "line": {
             "colorbar": {
              "outlinewidth": 0,
              "ticks": ""
             }
            },
            "type": "parcoords"
           }
          ],
          "pie": [
           {
            "automargin": true,
            "type": "pie"
           }
          ],
          "scatter": [
           {
            "marker": {
             "colorbar": {
              "outlinewidth": 0,
              "ticks": ""
             }
            },
            "type": "scatter"
           }
          ],
          "scatter3d": [
           {
            "line": {
             "colorbar": {
              "outlinewidth": 0,
              "ticks": ""
             }
            },
            "marker": {
             "colorbar": {
              "outlinewidth": 0,
              "ticks": ""
             }
            },
            "type": "scatter3d"
           }
          ],
          "scattercarpet": [
           {
            "marker": {
             "colorbar": {
              "outlinewidth": 0,
              "ticks": ""
             }
            },
            "type": "scattercarpet"
           }
          ],
          "scattergeo": [
           {
            "marker": {
             "colorbar": {
              "outlinewidth": 0,
              "ticks": ""
             }
            },
            "type": "scattergeo"
           }
          ],
          "scattergl": [
           {
            "marker": {
             "colorbar": {
              "outlinewidth": 0,
              "ticks": ""
             }
            },
            "type": "scattergl"
           }
          ],
          "scattermapbox": [
           {
            "marker": {
             "colorbar": {
              "outlinewidth": 0,
              "ticks": ""
             }
            },
            "type": "scattermapbox"
           }
          ],
          "scatterpolar": [
           {
            "marker": {
             "colorbar": {
              "outlinewidth": 0,
              "ticks": ""
             }
            },
            "type": "scatterpolar"
           }
          ],
          "scatterpolargl": [
           {
            "marker": {
             "colorbar": {
              "outlinewidth": 0,
              "ticks": ""
             }
            },
            "type": "scatterpolargl"
           }
          ],
          "scatterternary": [
           {
            "marker": {
             "colorbar": {
              "outlinewidth": 0,
              "ticks": ""
             }
            },
            "type": "scatterternary"
           }
          ],
          "surface": [
           {
            "colorbar": {
             "outlinewidth": 0,
             "ticks": ""
            },
            "colorscale": [
             [
              0,
              "#0d0887"
             ],
             [
              0.1111111111111111,
              "#46039f"
             ],
             [
              0.2222222222222222,
              "#7201a8"
             ],
             [
              0.3333333333333333,
              "#9c179e"
             ],
             [
              0.4444444444444444,
              "#bd3786"
             ],
             [
              0.5555555555555556,
              "#d8576b"
             ],
             [
              0.6666666666666666,
              "#ed7953"
             ],
             [
              0.7777777777777778,
              "#fb9f3a"
             ],
             [
              0.8888888888888888,
              "#fdca26"
             ],
             [
              1,
              "#f0f921"
             ]
            ],
            "type": "surface"
           }
          ],
          "table": [
           {
            "cells": {
             "fill": {
              "color": "#EBF0F8"
             },
             "line": {
              "color": "white"
             }
            },
            "header": {
             "fill": {
              "color": "#C8D4E3"
             },
             "line": {
              "color": "white"
             }
            },
            "type": "table"
           }
          ]
         },
         "layout": {
          "annotationdefaults": {
           "arrowcolor": "#2a3f5f",
           "arrowhead": 0,
           "arrowwidth": 1
          },
          "coloraxis": {
           "colorbar": {
            "outlinewidth": 0,
            "ticks": ""
           }
          },
          "colorscale": {
           "diverging": [
            [
             0,
             "#8e0152"
            ],
            [
             0.1,
             "#c51b7d"
            ],
            [
             0.2,
             "#de77ae"
            ],
            [
             0.3,
             "#f1b6da"
            ],
            [
             0.4,
             "#fde0ef"
            ],
            [
             0.5,
             "#f7f7f7"
            ],
            [
             0.6,
             "#e6f5d0"
            ],
            [
             0.7,
             "#b8e186"
            ],
            [
             0.8,
             "#7fbc41"
            ],
            [
             0.9,
             "#4d9221"
            ],
            [
             1,
             "#276419"
            ]
           ],
           "sequential": [
            [
             0,
             "#0d0887"
            ],
            [
             0.1111111111111111,
             "#46039f"
            ],
            [
             0.2222222222222222,
             "#7201a8"
            ],
            [
             0.3333333333333333,
             "#9c179e"
            ],
            [
             0.4444444444444444,
             "#bd3786"
            ],
            [
             0.5555555555555556,
             "#d8576b"
            ],
            [
             0.6666666666666666,
             "#ed7953"
            ],
            [
             0.7777777777777778,
             "#fb9f3a"
            ],
            [
             0.8888888888888888,
             "#fdca26"
            ],
            [
             1,
             "#f0f921"
            ]
           ],
           "sequentialminus": [
            [
             0,
             "#0d0887"
            ],
            [
             0.1111111111111111,
             "#46039f"
            ],
            [
             0.2222222222222222,
             "#7201a8"
            ],
            [
             0.3333333333333333,
             "#9c179e"
            ],
            [
             0.4444444444444444,
             "#bd3786"
            ],
            [
             0.5555555555555556,
             "#d8576b"
            ],
            [
             0.6666666666666666,
             "#ed7953"
            ],
            [
             0.7777777777777778,
             "#fb9f3a"
            ],
            [
             0.8888888888888888,
             "#fdca26"
            ],
            [
             1,
             "#f0f921"
            ]
           ]
          },
          "colorway": [
           "#636efa",
           "#EF553B",
           "#00cc96",
           "#ab63fa",
           "#FFA15A",
           "#19d3f3",
           "#FF6692",
           "#B6E880",
           "#FF97FF",
           "#FECB52"
          ],
          "font": {
           "color": "#2a3f5f"
          },
          "geo": {
           "bgcolor": "white",
           "lakecolor": "white",
           "landcolor": "#E5ECF6",
           "showlakes": true,
           "showland": true,
           "subunitcolor": "white"
          },
          "hoverlabel": {
           "align": "left"
          },
          "hovermode": "closest",
          "mapbox": {
           "style": "light"
          },
          "paper_bgcolor": "white",
          "plot_bgcolor": "#E5ECF6",
          "polar": {
           "angularaxis": {
            "gridcolor": "white",
            "linecolor": "white",
            "ticks": ""
           },
           "bgcolor": "#E5ECF6",
           "radialaxis": {
            "gridcolor": "white",
            "linecolor": "white",
            "ticks": ""
           }
          },
          "scene": {
           "xaxis": {
            "backgroundcolor": "#E5ECF6",
            "gridcolor": "white",
            "gridwidth": 2,
            "linecolor": "white",
            "showbackground": true,
            "ticks": "",
            "zerolinecolor": "white"
           },
           "yaxis": {
            "backgroundcolor": "#E5ECF6",
            "gridcolor": "white",
            "gridwidth": 2,
            "linecolor": "white",
            "showbackground": true,
            "ticks": "",
            "zerolinecolor": "white"
           },
           "zaxis": {
            "backgroundcolor": "#E5ECF6",
            "gridcolor": "white",
            "gridwidth": 2,
            "linecolor": "white",
            "showbackground": true,
            "ticks": "",
            "zerolinecolor": "white"
           }
          },
          "shapedefaults": {
           "line": {
            "color": "#2a3f5f"
           }
          },
          "ternary": {
           "aaxis": {
            "gridcolor": "white",
            "linecolor": "white",
            "ticks": ""
           },
           "baxis": {
            "gridcolor": "white",
            "linecolor": "white",
            "ticks": ""
           },
           "bgcolor": "#E5ECF6",
           "caxis": {
            "gridcolor": "white",
            "linecolor": "white",
            "ticks": ""
           }
          },
          "title": {
           "x": 0.05
          },
          "xaxis": {
           "automargin": true,
           "gridcolor": "white",
           "linecolor": "white",
           "ticks": "",
           "title": {
            "standoff": 15
           },
           "zerolinecolor": "white",
           "zerolinewidth": 2
          },
          "yaxis": {
           "automargin": true,
           "gridcolor": "white",
           "linecolor": "white",
           "ticks": "",
           "title": {
            "standoff": 15
           },
           "zerolinecolor": "white",
           "zerolinewidth": 2
          }
         }
        },
        "title": {
         "font": {
          "color": "#4D5663"
         }
        },
        "xaxis": {
         "gridcolor": "#E1E5ED",
         "showgrid": true,
         "tickfont": {
          "color": "#4D5663"
         },
         "title": {
          "font": {
           "color": "#4D5663"
          },
          "text": ""
         },
         "zerolinecolor": "#E1E5ED"
        },
        "yaxis": {
         "gridcolor": "#E1E5ED",
         "showgrid": true,
         "tickfont": {
          "color": "#4D5663"
         },
         "title": {
          "font": {
           "color": "#4D5663"
          },
          "text": ""
         },
         "zerolinecolor": "#E1E5ED"
        }
       }
      },
      "text/html": [
       "<div>\n",
       "        \n",
       "        \n",
       "            <div id=\"c52af69d-28d6-42b7-af72-4978e73b3b7f\" class=\"plotly-graph-div\" style=\"height:525px; width:100%;\"></div>\n",
       "            <script type=\"text/javascript\">\n",
       "                require([\"plotly\"], function(Plotly) {\n",
       "                    window.PLOTLYENV=window.PLOTLYENV || {};\n",
       "                    window.PLOTLYENV.BASE_URL='https://plotly.com';\n",
       "                    \n",
       "                if (document.getElementById(\"c52af69d-28d6-42b7-af72-4978e73b3b7f\")) {\n",
       "                    Plotly.newPlot(\n",
       "                        'c52af69d-28d6-42b7-af72-4978e73b3b7f',\n",
       "                        [{\"marker\": {\"color\": [\"seagreen\", \"seagreen\", \"seagreen\", \"seagreen\", \"seagreen\", \"seagreen\", \"seagreen\", \"seagreen\", \"seagreen\", \"seagreen\", \"seagreen\", \"seagreen\", \"seagreen\", \"seagreen\", \"seagreen\", \"seagreen\", \"seagreen\", \"seagreen\", \"seagreen\", \"seagreen\", \"seagreen\", \"seagreen\", \"seagreen\", \"seagreen\", \"seagreen\", \"seagreen\", \"seagreen\", \"seagreen\", \"seagreen\", \"seagreen\", \"seagreen\", \"seagreen\", \"seagreen\", \"seagreen\", \"seagreen\", \"seagreen\", \"seagreen\", \"seagreen\", \"seagreen\", \"seagreen\", \"seagreen\", \"seagreen\", \"seagreen\", \"seagreen\", \"seagreen\", \"seagreen\", \"seagreen\", \"seagreen\", \"seagreen\", \"seagreen\", \"seagreen\", \"seagreen\", \"seagreen\", \"seagreen\", \"seagreen\", \"seagreen\", \"seagreen\", \"seagreen\", \"seagreen\", \"seagreen\", \"seagreen\", \"seagreen\", \"seagreen\", \"seagreen\", \"seagreen\", \"seagreen\", \"seagreen\", \"seagreen\", \"seagreen\", \"seagreen\", \"seagreen\", \"seagreen\", \"seagreen\", \"seagreen\", \"seagreen\", \"seagreen\", \"seagreen\", \"seagreen\", \"seagreen\", \"seagreen\", \"seagreen\", \"seagreen\", \"seagreen\", \"seagreen\", \"seagreen\", \"seagreen\", \"seagreen\", \"seagreen\", \"seagreen\", \"seagreen\", \"seagreen\", \"seagreen\", \"seagreen\", \"seagreen\", \"seagreen\", \"seagreen\", \"seagreen\", \"seagreen\", \"seagreen\", \"seagreen\"], \"line\": {\"width\": 1.3}, \"size\": [82, 60, 77, 81, 52, 95, 49, 41, 54, 81, 64, 12, 96, 79, 51, 41, 76, 67, 76, 64, 58, 20, 59, 59, 66, 49, 26, 67, 25, 28, 55, 68, 14, 68, 39, 43, 112, 46, 79, 54, 69, 23, 64, 42, 39, 39, 77, 60, 41, 66, 43, 60, 61, 65, 45, 46, 79, 52, 31, 36, 48, 85, 49, 14, 105, 63, 90, 47, 29, 73, 40, 77, 39, 57, 62, 41, 14, 43, 60, 55, 77, 75, 54, 61, 40, 48, 41, 42, 34, 28, 37, 59, 39, 31, 61, 73, 51, 66, 37, 55], \"symbol\": \"circle\"}, \"mode\": \"markers\", \"text\": \"\", \"type\": \"scatter\", \"x\": [-1.3915514466454946, -0.25186847805576157, 0.9579228727741338, 0.6029271487268496, 0.416448674464561, 0.34063531233394767, -0.08459004387470692, 0.713619317860425, 1.7908137198587653, -0.07774446546417446, 0.7818861612515148, -0.08045802462218049, -1.3925376997334935, -0.25889123457565444, -1.2380068464047667, -1.6796053268216884, 1.1389527186859345, -2.15319053603754, 0.24225207650860273, 0.5323379650228895, -0.2096440229785707, 0.21953657917641956, -1.0938795941576012, -0.10577547603312083, 0.6384250404551687, -0.2721945316885118, 3.265738204544427, 0.3766017189657574, 0.33886279379065204, 1.2190050065519333, 0.3104100087786091, 0.26952115201931115, -2.3923810892739246, 0.8770803830120577, 0.6561754993661268, -1.2310665672205874, -1.1856641101789074, 0.41805322561991626, -0.9247175847838351, 0.23277995300774626, 0.4067275700600627, -1.428613771269792, 1.4839020736203505, 0.7633645943548794, 2.7756705575375586, -0.46463372800975183, 0.004306649259857492, 0.9645256070376517, -0.005185290726101883, 2.6020206278107167, -0.885626602219863, 1.3517771551572877, 1.4041522296440263, -0.37747456790116, 0.15412506809685084, -1.3868854662382721, 0.6433483582256894, 0.9983683388092811, -0.12169074845217757, -2.1176310033064594, -0.06264728472444926, -1.0150462339749775, 0.7360528445825723, 0.5333439301874713, 0.35198578229550376, 0.6072697451499537, -2.124423431145739, 0.45861870101295915, 0.3901706387730426, 0.9359092339197448, -0.1480147716292342, -0.4323566165303779, 0.7653655916578783, -0.19732640194278503, -0.1465413420198137, 0.7142610412011294, 1.1418243316888386, -0.3253132381128121, 1.5515260657660772, 0.309161311286864, -0.8358998861552829, 1.3655510433969495, 0.0632015316988487, -0.016827268343440532, 0.7506720191468409, -0.5595071040238351, -0.6947205233455448, 1.142499758085739, -2.147256982261882, -1.02211137709033, 0.4065176710241965, 0.5728619428353131, -0.2066640210509487, -0.9245155918409756, 0.19822024602242874, 1.4207896192934248, -1.67439132302367, 0.8101476190574366, 1.1438891096596677, -0.24724589169943464], \"y\": [-1.8063135150409384, -0.7679513004948498, -0.8742919766403517, 0.3070143950458193, 1.1665253316654558, -0.2262683166260905, -0.4917852269151437, -0.08073729843021035, 2.8334375843659645, 1.1532207799473548, -0.03814254313590681, -0.10568906458824325, -0.31317568710161725, 0.999191108558023, 0.8385632979585733, 0.41534933039874006, 0.8797805528306242, -1.2497080083648895, -1.7911041602373101, 0.7630643074653287, 2.5892130854872626, -0.5439208326964506, -1.3750796123608928, -1.729704664812876, 0.5578288145910832, 1.0036536830512153, -0.1714020047363067, -0.19405615495300366, 0.6919399765482697, 0.9695804954012914, 1.350663420111455, -1.240062693169029, -1.348240459508053, 1.4623370752557971, -0.48168927519920546, 0.39784876136248515, -0.9024576145690437, -0.6935679814885369, -0.3761127379085823, -0.36623141625460714, -0.2451594279515256, 0.026402940006598093, -0.32046021467091446, 1.1112009255824087, 0.2187696308981625, -2.505044161953846, -0.6162072553432347, -0.015565844051689669, 1.7854810856777485, 0.3541192142490893, 0.5263691204633134, 1.3994577056620974, -1.3428712151096527, 1.1255059881410612, 0.9500501528505452, 0.23415698180013855, 0.15335525171261927, -0.052071479834325515, -1.4232941345045214, 0.7132256996685288, 0.5489697164118927, -0.5726168408446426, 0.4621316906319872, 2.0945996369123625, -0.6293460980779058, 1.0075453751062597, 0.10083326030721385, -2.2013485061886473, -0.3898105142975688, -1.0896725401553105, -1.8597732189447154, 0.3905174313184132, -0.3104515621834238, 0.8040065537583236, -1.0797745253519242, 0.8367161653986137, -1.2674111303051174, -0.6763387257899182, -1.092639906945907, 1.0449811622012086, 1.8517700485195743, -0.13757886943215655, 0.7259595503006789, -0.9096144399987279, 0.6074501093482007, -0.7191397729519661, 1.907848397028853, -0.8418897038835749, 0.06575111015677335, -2.0389882885122126, -1.53917556051178, 0.9015627864510748, 0.09360031995000555, 0.10739423129650766, 0.6419278156297985, -0.23432958246422325, 0.1178203071042369, -0.9005807904385831, 1.2181737505496018, -0.5324878800398267]}],\n",
       "                        {\"legend\": {\"bgcolor\": \"#F5F6F9\", \"font\": {\"color\": \"#4D5663\"}}, \"paper_bgcolor\": \"#F5F6F9\", \"plot_bgcolor\": \"#F5F6F9\", \"template\": {\"data\": {\"bar\": [{\"error_x\": {\"color\": \"#2a3f5f\"}, \"error_y\": {\"color\": \"#2a3f5f\"}, \"marker\": {\"line\": {\"color\": \"#E5ECF6\", \"width\": 0.5}}, \"type\": \"bar\"}], \"barpolar\": [{\"marker\": {\"line\": {\"color\": \"#E5ECF6\", \"width\": 0.5}}, \"type\": \"barpolar\"}], \"carpet\": [{\"aaxis\": {\"endlinecolor\": \"#2a3f5f\", \"gridcolor\": \"white\", \"linecolor\": \"white\", \"minorgridcolor\": \"white\", \"startlinecolor\": \"#2a3f5f\"}, \"baxis\": {\"endlinecolor\": \"#2a3f5f\", \"gridcolor\": \"white\", \"linecolor\": \"white\", \"minorgridcolor\": \"white\", \"startlinecolor\": \"#2a3f5f\"}, \"type\": \"carpet\"}], \"choropleth\": [{\"colorbar\": {\"outlinewidth\": 0, \"ticks\": \"\"}, \"type\": \"choropleth\"}], \"contour\": [{\"colorbar\": {\"outlinewidth\": 0, \"ticks\": \"\"}, \"colorscale\": [[0.0, \"#0d0887\"], [0.1111111111111111, \"#46039f\"], [0.2222222222222222, \"#7201a8\"], [0.3333333333333333, \"#9c179e\"], [0.4444444444444444, \"#bd3786\"], [0.5555555555555556, \"#d8576b\"], [0.6666666666666666, \"#ed7953\"], [0.7777777777777778, \"#fb9f3a\"], [0.8888888888888888, \"#fdca26\"], [1.0, \"#f0f921\"]], \"type\": \"contour\"}], \"contourcarpet\": [{\"colorbar\": {\"outlinewidth\": 0, \"ticks\": \"\"}, \"type\": \"contourcarpet\"}], \"heatmap\": [{\"colorbar\": {\"outlinewidth\": 0, \"ticks\": \"\"}, \"colorscale\": [[0.0, \"#0d0887\"], [0.1111111111111111, \"#46039f\"], [0.2222222222222222, \"#7201a8\"], [0.3333333333333333, \"#9c179e\"], [0.4444444444444444, \"#bd3786\"], [0.5555555555555556, \"#d8576b\"], [0.6666666666666666, \"#ed7953\"], [0.7777777777777778, \"#fb9f3a\"], [0.8888888888888888, \"#fdca26\"], [1.0, \"#f0f921\"]], \"type\": \"heatmap\"}], \"heatmapgl\": [{\"colorbar\": {\"outlinewidth\": 0, \"ticks\": \"\"}, \"colorscale\": [[0.0, \"#0d0887\"], [0.1111111111111111, \"#46039f\"], [0.2222222222222222, \"#7201a8\"], [0.3333333333333333, \"#9c179e\"], [0.4444444444444444, \"#bd3786\"], [0.5555555555555556, \"#d8576b\"], [0.6666666666666666, \"#ed7953\"], [0.7777777777777778, \"#fb9f3a\"], [0.8888888888888888, \"#fdca26\"], [1.0, \"#f0f921\"]], \"type\": \"heatmapgl\"}], \"histogram\": [{\"marker\": {\"colorbar\": {\"outlinewidth\": 0, \"ticks\": \"\"}}, \"type\": \"histogram\"}], \"histogram2d\": [{\"colorbar\": {\"outlinewidth\": 0, \"ticks\": \"\"}, \"colorscale\": [[0.0, \"#0d0887\"], [0.1111111111111111, \"#46039f\"], [0.2222222222222222, \"#7201a8\"], [0.3333333333333333, \"#9c179e\"], [0.4444444444444444, \"#bd3786\"], [0.5555555555555556, \"#d8576b\"], [0.6666666666666666, \"#ed7953\"], [0.7777777777777778, \"#fb9f3a\"], [0.8888888888888888, \"#fdca26\"], [1.0, \"#f0f921\"]], \"type\": \"histogram2d\"}], \"histogram2dcontour\": [{\"colorbar\": {\"outlinewidth\": 0, \"ticks\": \"\"}, \"colorscale\": [[0.0, \"#0d0887\"], [0.1111111111111111, \"#46039f\"], [0.2222222222222222, \"#7201a8\"], [0.3333333333333333, \"#9c179e\"], [0.4444444444444444, \"#bd3786\"], [0.5555555555555556, \"#d8576b\"], [0.6666666666666666, \"#ed7953\"], [0.7777777777777778, \"#fb9f3a\"], [0.8888888888888888, \"#fdca26\"], [1.0, \"#f0f921\"]], \"type\": \"histogram2dcontour\"}], \"mesh3d\": [{\"colorbar\": {\"outlinewidth\": 0, \"ticks\": \"\"}, \"type\": \"mesh3d\"}], \"parcoords\": [{\"line\": {\"colorbar\": {\"outlinewidth\": 0, \"ticks\": \"\"}}, \"type\": \"parcoords\"}], \"pie\": [{\"automargin\": true, \"type\": \"pie\"}], \"scatter\": [{\"marker\": {\"colorbar\": {\"outlinewidth\": 0, \"ticks\": \"\"}}, \"type\": \"scatter\"}], \"scatter3d\": [{\"line\": {\"colorbar\": {\"outlinewidth\": 0, \"ticks\": \"\"}}, \"marker\": {\"colorbar\": {\"outlinewidth\": 0, \"ticks\": \"\"}}, \"type\": \"scatter3d\"}], \"scattercarpet\": [{\"marker\": {\"colorbar\": {\"outlinewidth\": 0, \"ticks\": \"\"}}, \"type\": \"scattercarpet\"}], \"scattergeo\": [{\"marker\": {\"colorbar\": {\"outlinewidth\": 0, \"ticks\": \"\"}}, \"type\": \"scattergeo\"}], \"scattergl\": [{\"marker\": {\"colorbar\": {\"outlinewidth\": 0, \"ticks\": \"\"}}, \"type\": \"scattergl\"}], \"scattermapbox\": [{\"marker\": {\"colorbar\": {\"outlinewidth\": 0, \"ticks\": \"\"}}, \"type\": \"scattermapbox\"}], \"scatterpolar\": [{\"marker\": {\"colorbar\": {\"outlinewidth\": 0, \"ticks\": \"\"}}, \"type\": \"scatterpolar\"}], \"scatterpolargl\": [{\"marker\": {\"colorbar\": {\"outlinewidth\": 0, \"ticks\": \"\"}}, \"type\": \"scatterpolargl\"}], \"scatterternary\": [{\"marker\": {\"colorbar\": {\"outlinewidth\": 0, \"ticks\": \"\"}}, \"type\": \"scatterternary\"}], \"surface\": [{\"colorbar\": {\"outlinewidth\": 0, \"ticks\": \"\"}, \"colorscale\": [[0.0, \"#0d0887\"], [0.1111111111111111, \"#46039f\"], [0.2222222222222222, \"#7201a8\"], [0.3333333333333333, \"#9c179e\"], [0.4444444444444444, \"#bd3786\"], [0.5555555555555556, \"#d8576b\"], [0.6666666666666666, \"#ed7953\"], [0.7777777777777778, \"#fb9f3a\"], [0.8888888888888888, \"#fdca26\"], [1.0, \"#f0f921\"]], \"type\": \"surface\"}], \"table\": [{\"cells\": {\"fill\": {\"color\": \"#EBF0F8\"}, \"line\": {\"color\": \"white\"}}, \"header\": {\"fill\": {\"color\": \"#C8D4E3\"}, \"line\": {\"color\": \"white\"}}, \"type\": \"table\"}]}, \"layout\": {\"annotationdefaults\": {\"arrowcolor\": \"#2a3f5f\", \"arrowhead\": 0, \"arrowwidth\": 1}, \"coloraxis\": {\"colorbar\": {\"outlinewidth\": 0, \"ticks\": \"\"}}, \"colorscale\": {\"diverging\": [[0, \"#8e0152\"], [0.1, \"#c51b7d\"], [0.2, \"#de77ae\"], [0.3, \"#f1b6da\"], [0.4, \"#fde0ef\"], [0.5, \"#f7f7f7\"], [0.6, \"#e6f5d0\"], [0.7, \"#b8e186\"], [0.8, \"#7fbc41\"], [0.9, \"#4d9221\"], [1, \"#276419\"]], \"sequential\": [[0.0, \"#0d0887\"], [0.1111111111111111, \"#46039f\"], [0.2222222222222222, \"#7201a8\"], [0.3333333333333333, \"#9c179e\"], [0.4444444444444444, \"#bd3786\"], [0.5555555555555556, \"#d8576b\"], [0.6666666666666666, \"#ed7953\"], [0.7777777777777778, \"#fb9f3a\"], [0.8888888888888888, \"#fdca26\"], [1.0, \"#f0f921\"]], \"sequentialminus\": [[0.0, \"#0d0887\"], [0.1111111111111111, \"#46039f\"], [0.2222222222222222, \"#7201a8\"], [0.3333333333333333, \"#9c179e\"], [0.4444444444444444, \"#bd3786\"], [0.5555555555555556, \"#d8576b\"], [0.6666666666666666, \"#ed7953\"], [0.7777777777777778, \"#fb9f3a\"], [0.8888888888888888, \"#fdca26\"], [1.0, \"#f0f921\"]]}, \"colorway\": [\"#636efa\", \"#EF553B\", \"#00cc96\", \"#ab63fa\", \"#FFA15A\", \"#19d3f3\", \"#FF6692\", \"#B6E880\", \"#FF97FF\", \"#FECB52\"], \"font\": {\"color\": \"#2a3f5f\"}, \"geo\": {\"bgcolor\": \"white\", \"lakecolor\": \"white\", \"landcolor\": \"#E5ECF6\", \"showlakes\": true, \"showland\": true, \"subunitcolor\": \"white\"}, \"hoverlabel\": {\"align\": \"left\"}, \"hovermode\": \"closest\", \"mapbox\": {\"style\": \"light\"}, \"paper_bgcolor\": \"white\", \"plot_bgcolor\": \"#E5ECF6\", \"polar\": {\"angularaxis\": {\"gridcolor\": \"white\", \"linecolor\": \"white\", \"ticks\": \"\"}, \"bgcolor\": \"#E5ECF6\", \"radialaxis\": {\"gridcolor\": \"white\", \"linecolor\": \"white\", \"ticks\": \"\"}}, \"scene\": {\"xaxis\": {\"backgroundcolor\": \"#E5ECF6\", \"gridcolor\": \"white\", \"gridwidth\": 2, \"linecolor\": \"white\", \"showbackground\": true, \"ticks\": \"\", \"zerolinecolor\": \"white\"}, \"yaxis\": {\"backgroundcolor\": \"#E5ECF6\", \"gridcolor\": \"white\", \"gridwidth\": 2, \"linecolor\": \"white\", \"showbackground\": true, \"ticks\": \"\", \"zerolinecolor\": \"white\"}, \"zaxis\": {\"backgroundcolor\": \"#E5ECF6\", \"gridcolor\": \"white\", \"gridwidth\": 2, \"linecolor\": \"white\", \"showbackground\": true, \"ticks\": \"\", \"zerolinecolor\": \"white\"}}, \"shapedefaults\": {\"line\": {\"color\": \"#2a3f5f\"}}, \"ternary\": {\"aaxis\": {\"gridcolor\": \"white\", \"linecolor\": \"white\", \"ticks\": \"\"}, \"baxis\": {\"gridcolor\": \"white\", \"linecolor\": \"white\", \"ticks\": \"\"}, \"bgcolor\": \"#E5ECF6\", \"caxis\": {\"gridcolor\": \"white\", \"linecolor\": \"white\", \"ticks\": \"\"}}, \"title\": {\"x\": 0.05}, \"xaxis\": {\"automargin\": true, \"gridcolor\": \"white\", \"linecolor\": \"white\", \"ticks\": \"\", \"title\": {\"standoff\": 15}, \"zerolinecolor\": \"white\", \"zerolinewidth\": 2}, \"yaxis\": {\"automargin\": true, \"gridcolor\": \"white\", \"linecolor\": \"white\", \"ticks\": \"\", \"title\": {\"standoff\": 15}, \"zerolinecolor\": \"white\", \"zerolinewidth\": 2}}}, \"title\": {\"font\": {\"color\": \"#4D5663\"}}, \"xaxis\": {\"gridcolor\": \"#E1E5ED\", \"showgrid\": true, \"tickfont\": {\"color\": \"#4D5663\"}, \"title\": {\"font\": {\"color\": \"#4D5663\"}, \"text\": \"\"}, \"zerolinecolor\": \"#E1E5ED\"}, \"yaxis\": {\"gridcolor\": \"#E1E5ED\", \"showgrid\": true, \"tickfont\": {\"color\": \"#4D5663\"}, \"title\": {\"font\": {\"color\": \"#4D5663\"}, \"text\": \"\"}, \"zerolinecolor\": \"#E1E5ED\"}},\n",
       "                        {\"showLink\": true, \"linkText\": \"Export to plotly.com\", \"plotlyServerURL\": \"https://plotly.com\", \"responsive\": true}\n",
       "                    ).then(function(){\n",
       "                            \n",
       "var gd = document.getElementById('c52af69d-28d6-42b7-af72-4978e73b3b7f');\n",
       "var x = new MutationObserver(function (mutations, observer) {{\n",
       "        var display = window.getComputedStyle(gd).display;\n",
       "        if (!display || display === 'none') {{\n",
       "            console.log([gd, 'removed!']);\n",
       "            Plotly.purge(gd);\n",
       "            observer.disconnect();\n",
       "        }}\n",
       "}});\n",
       "\n",
       "// Listen for the removal of the full notebook cells\n",
       "var notebookContainer = gd.closest('#notebook-container');\n",
       "if (notebookContainer) {{\n",
       "    x.observe(notebookContainer, {childList: true});\n",
       "}}\n",
       "\n",
       "// Listen for the clearing of the current output cell\n",
       "var outputEl = gd.closest('.output');\n",
       "if (outputEl) {{\n",
       "    x.observe(outputEl, {childList: true});\n",
       "}}\n",
       "\n",
       "                        })\n",
       "                };\n",
       "                });\n",
       "            </script>\n",
       "        </div>"
      ]
     },
     "metadata": {},
     "output_type": "display_data"
    }
   ],
   "source": [
    "df.iplot(kind='bubble', x='A',y='B', size='C', colors='seagreen')"
   ]
  },
  {
   "cell_type": "code",
   "execution_count": 13,
   "metadata": {},
   "outputs": [
    {
     "data": {
      "application/vnd.plotly.v1+json": {
       "config": {
        "linkText": "Export to plotly.com",
        "plotlyServerURL": "https://plotly.com",
        "showLink": true
       },
       "data": [
        {
         "histfunc": "count",
         "histnorm": "",
         "marker": {
          "color": "rgba(255, 153, 51, 1.0)",
          "line": {
           "color": "#4D5663",
           "width": 1.3
          }
         },
         "name": "A",
         "nbinsx": 10,
         "opacity": 0.8,
         "orientation": "v",
         "type": "histogram",
         "x": [
          -1.3915514466454946,
          -0.25186847805576157,
          0.9579228727741338,
          0.6029271487268496,
          0.416448674464561,
          0.34063531233394767,
          -0.08459004387470692,
          0.713619317860425,
          1.7908137198587653,
          -0.07774446546417446,
          0.7818861612515148,
          -0.08045802462218049,
          -1.3925376997334935,
          -0.25889123457565444,
          -1.2380068464047667,
          -1.6796053268216884,
          1.1389527186859345,
          -2.15319053603754,
          0.24225207650860273,
          0.5323379650228895,
          -0.2096440229785707,
          0.21953657917641956,
          -1.0938795941576012,
          -0.10577547603312083,
          0.6384250404551687,
          -0.2721945316885118,
          3.265738204544427,
          0.3766017189657574,
          0.33886279379065204,
          1.2190050065519333,
          0.3104100087786091,
          0.26952115201931115,
          -2.3923810892739246,
          0.8770803830120577,
          0.6561754993661268,
          -1.2310665672205874,
          -1.1856641101789074,
          0.41805322561991626,
          -0.9247175847838351,
          0.23277995300774626,
          0.4067275700600627,
          -1.428613771269792,
          1.4839020736203505,
          0.7633645943548794,
          2.7756705575375586,
          -0.46463372800975183,
          0.004306649259857492,
          0.9645256070376517,
          -0.005185290726101883,
          2.6020206278107167,
          -0.885626602219863,
          1.3517771551572877,
          1.4041522296440263,
          -0.37747456790116,
          0.15412506809685084,
          -1.3868854662382721,
          0.6433483582256894,
          0.9983683388092811,
          -0.12169074845217757,
          -2.1176310033064594,
          -0.06264728472444926,
          -1.0150462339749775,
          0.7360528445825723,
          0.5333439301874713,
          0.35198578229550376,
          0.6072697451499537,
          -2.124423431145739,
          0.45861870101295915,
          0.3901706387730426,
          0.9359092339197448,
          -0.1480147716292342,
          -0.4323566165303779,
          0.7653655916578783,
          -0.19732640194278503,
          -0.1465413420198137,
          0.7142610412011294,
          1.1418243316888386,
          -0.3253132381128121,
          1.5515260657660772,
          0.309161311286864,
          -0.8358998861552829,
          1.3655510433969495,
          0.0632015316988487,
          -0.016827268343440532,
          0.7506720191468409,
          -0.5595071040238351,
          -0.6947205233455448,
          1.142499758085739,
          -2.147256982261882,
          -1.02211137709033,
          0.4065176710241965,
          0.5728619428353131,
          -0.2066640210509487,
          -0.9245155918409756,
          0.19822024602242874,
          1.4207896192934248,
          -1.67439132302367,
          0.8101476190574366,
          1.1438891096596677,
          -0.24724589169943464
         ],
         "xaxis": "x",
         "yaxis": "y"
        },
        {
         "line": {
          "color": "rgba(128, 128, 128, 1.0)",
          "dash": "solid",
          "shape": "linear",
          "width": 1.3
         },
         "marker": {
          "size": 2,
          "symbol": "circle"
         },
         "mode": "markers",
         "name": "A",
         "text": "",
         "type": "scatter",
         "x": [
          -1.8063135150409384,
          -0.7679513004948498,
          -0.8742919766403517,
          0.3070143950458193,
          1.1665253316654558,
          -0.2262683166260905,
          -0.4917852269151437,
          -0.08073729843021035,
          2.8334375843659645,
          1.1532207799473548,
          -0.03814254313590681,
          -0.10568906458824325,
          -0.31317568710161725,
          0.999191108558023,
          0.8385632979585733,
          0.41534933039874006,
          0.8797805528306242,
          -1.2497080083648895,
          -1.7911041602373101,
          0.7630643074653287,
          2.5892130854872626,
          -0.5439208326964506,
          -1.3750796123608928,
          -1.729704664812876,
          0.5578288145910832,
          1.0036536830512153,
          -0.1714020047363067,
          -0.19405615495300366,
          0.6919399765482697,
          0.9695804954012914,
          1.350663420111455,
          -1.240062693169029,
          -1.348240459508053,
          1.4623370752557971,
          -0.48168927519920546,
          0.39784876136248515,
          -0.9024576145690437,
          -0.6935679814885369,
          -0.3761127379085823,
          -0.36623141625460714,
          -0.2451594279515256,
          0.026402940006598093,
          -0.32046021467091446,
          1.1112009255824087,
          0.2187696308981625,
          -2.505044161953846,
          -0.6162072553432347,
          -0.015565844051689669,
          1.7854810856777485,
          0.3541192142490893,
          0.5263691204633134,
          1.3994577056620974,
          -1.3428712151096527,
          1.1255059881410612,
          0.9500501528505452,
          0.23415698180013855,
          0.15335525171261927,
          -0.052071479834325515,
          -1.4232941345045214,
          0.7132256996685288,
          0.5489697164118927,
          -0.5726168408446426,
          0.4621316906319872,
          2.0945996369123625,
          -0.6293460980779058,
          1.0075453751062597,
          0.10083326030721385,
          -2.2013485061886473,
          -0.3898105142975688,
          -1.0896725401553105,
          -1.8597732189447154,
          0.3905174313184132,
          -0.3104515621834238,
          0.8040065537583236,
          -1.0797745253519242,
          0.8367161653986137,
          -1.2674111303051174,
          -0.6763387257899182,
          -1.092639906945907,
          1.0449811622012086,
          1.8517700485195743,
          -0.13757886943215655,
          0.7259595503006789,
          -0.9096144399987279,
          0.6074501093482007,
          -0.7191397729519661,
          1.907848397028853,
          -0.8418897038835749,
          0.06575111015677335,
          -2.0389882885122126,
          -1.53917556051178,
          0.9015627864510748,
          0.09360031995000555,
          0.10739423129650766,
          0.6419278156297985,
          -0.23432958246422325,
          0.1178203071042369,
          -0.9005807904385831,
          1.2181737505496018,
          -0.5324878800398267
         ],
         "xaxis": "x2",
         "y": [
          -1.3915514466454946,
          -0.25186847805576157,
          0.9579228727741338,
          0.6029271487268496,
          0.416448674464561,
          0.34063531233394767,
          -0.08459004387470692,
          0.713619317860425,
          1.7908137198587653,
          -0.07774446546417446,
          0.7818861612515148,
          -0.08045802462218049,
          -1.3925376997334935,
          -0.25889123457565444,
          -1.2380068464047667,
          -1.6796053268216884,
          1.1389527186859345,
          -2.15319053603754,
          0.24225207650860273,
          0.5323379650228895,
          -0.2096440229785707,
          0.21953657917641956,
          -1.0938795941576012,
          -0.10577547603312083,
          0.6384250404551687,
          -0.2721945316885118,
          3.265738204544427,
          0.3766017189657574,
          0.33886279379065204,
          1.2190050065519333,
          0.3104100087786091,
          0.26952115201931115,
          -2.3923810892739246,
          0.8770803830120577,
          0.6561754993661268,
          -1.2310665672205874,
          -1.1856641101789074,
          0.41805322561991626,
          -0.9247175847838351,
          0.23277995300774626,
          0.4067275700600627,
          -1.428613771269792,
          1.4839020736203505,
          0.7633645943548794,
          2.7756705575375586,
          -0.46463372800975183,
          0.004306649259857492,
          0.9645256070376517,
          -0.005185290726101883,
          2.6020206278107167,
          -0.885626602219863,
          1.3517771551572877,
          1.4041522296440263,
          -0.37747456790116,
          0.15412506809685084,
          -1.3868854662382721,
          0.6433483582256894,
          0.9983683388092811,
          -0.12169074845217757,
          -2.1176310033064594,
          -0.06264728472444926,
          -1.0150462339749775,
          0.7360528445825723,
          0.5333439301874713,
          0.35198578229550376,
          0.6072697451499537,
          -2.124423431145739,
          0.45861870101295915,
          0.3901706387730426,
          0.9359092339197448,
          -0.1480147716292342,
          -0.4323566165303779,
          0.7653655916578783,
          -0.19732640194278503,
          -0.1465413420198137,
          0.7142610412011294,
          1.1418243316888386,
          -0.3253132381128121,
          1.5515260657660772,
          0.309161311286864,
          -0.8358998861552829,
          1.3655510433969495,
          0.0632015316988487,
          -0.016827268343440532,
          0.7506720191468409,
          -0.5595071040238351,
          -0.6947205233455448,
          1.142499758085739,
          -2.147256982261882,
          -1.02211137709033,
          0.4065176710241965,
          0.5728619428353131,
          -0.2066640210509487,
          -0.9245155918409756,
          0.19822024602242874,
          1.4207896192934248,
          -1.67439132302367,
          0.8101476190574366,
          1.1438891096596677,
          -0.24724589169943464
         ],
         "yaxis": "y2"
        },
        {
         "line": {
          "color": "rgba(128, 128, 128, 1.0)",
          "dash": "solid",
          "shape": "linear",
          "width": 1.3
         },
         "marker": {
          "size": 2,
          "symbol": "circle"
         },
         "mode": "markers",
         "name": "A",
         "text": "",
         "type": "scatter",
         "x": [
          1.2982356591642445,
          0.15427115901690341,
          1.0213467155156255,
          1.232635888537672,
          -0.22895222538532137,
          1.954511785901398,
          -0.3942545853071218,
          -0.8092251193718866,
          -0.12322104508539473,
          1.2286788093130638,
          0.3874343994934357,
          -2.2953744065269643,
          2.017388879406804,
          1.1193266759672091,
          -0.2746008943626236,
          -0.8065314918764688,
          0.972762641451173,
          0.5074579567461822,
          1.0118902717327247,
          0.401509381385972,
          0.0639114665073889,
          -1.8663631190800596,
          0.1387441893866892,
          0.1428873542876622,
          0.47682850878052335,
          -0.36571985711014215,
          -1.5460929902125424,
          0.5198596011344117,
          -1.6173676235504222,
          -1.4356016266184148,
          -0.07050502844673512,
          0.5575637873458781,
          -2.1652567182684646,
          0.5870162986735613,
          -0.8773663572243663,
          -0.6858001901123327,
          2.7969800829027123,
          -0.5458885428916942,
          1.1181997296247015,
          -0.11673408876087886,
          0.6404059497492122,
          -1.728413741794743,
          0.3983029336729583,
          -0.7246637943231838,
          -0.8739988801359196,
          -0.8953673781193359,
          1.0188898265321207,
          0.17867461627604825,
          -0.7954294822668724,
          0.4636630050156447,
          -0.6784390426197163,
          0.15119517232480975,
          0.24758404252618696,
          0.4332548808024751,
          -0.573257381134931,
          -0.543358203976377,
          1.1269166836129816,
          -0.23872781757691822,
          -1.3099931941537102,
          -1.0582198694901048,
          -0.4262076857305047,
          1.423853630818953,
          -0.36089078387376755,
          -2.154339180537667,
          2.476822997091817,
          0.32141164193151145,
          1.7050486382039032,
          -0.504611966141616,
          -1.397522139381618,
          0.8479678308837004,
          -0.8297755982819625,
          1.0577651562083943,
          -0.9101582376316869,
          -0.0029074583485230563,
          0.2608575614760658,
          -0.7803371558458617,
          -2.145391997779593,
          -0.7063161942876157,
          0.16239921321512515,
          -0.07683075830387348,
          1.0607037175653777,
          0.9544867857313885,
          -0.11793678009979827,
          0.2102582181812343,
          -0.8387898266596429,
          -0.4206283693985038,
          -0.8152428246157843,
          -0.7276697598353788,
          -1.1329929330756752,
          -1.4466041035213315,
          -0.9848748287647158,
          0.1180319292781396,
          -0.8776375086870779,
          -1.2821605470681214,
          0.24414266199380305,
          0.8141424501001563,
          -0.2765616564967207,
          0.47783868175145766,
          -0.9965387453155009,
          -0.09458406917183024
         ],
         "xaxis": "x3",
         "y": [
          -1.3915514466454946,
          -0.25186847805576157,
          0.9579228727741338,
          0.6029271487268496,
          0.416448674464561,
          0.34063531233394767,
          -0.08459004387470692,
          0.713619317860425,
          1.7908137198587653,
          -0.07774446546417446,
          0.7818861612515148,
          -0.08045802462218049,
          -1.3925376997334935,
          -0.25889123457565444,
          -1.2380068464047667,
          -1.6796053268216884,
          1.1389527186859345,
          -2.15319053603754,
          0.24225207650860273,
          0.5323379650228895,
          -0.2096440229785707,
          0.21953657917641956,
          -1.0938795941576012,
          -0.10577547603312083,
          0.6384250404551687,
          -0.2721945316885118,
          3.265738204544427,
          0.3766017189657574,
          0.33886279379065204,
          1.2190050065519333,
          0.3104100087786091,
          0.26952115201931115,
          -2.3923810892739246,
          0.8770803830120577,
          0.6561754993661268,
          -1.2310665672205874,
          -1.1856641101789074,
          0.41805322561991626,
          -0.9247175847838351,
          0.23277995300774626,
          0.4067275700600627,
          -1.428613771269792,
          1.4839020736203505,
          0.7633645943548794,
          2.7756705575375586,
          -0.46463372800975183,
          0.004306649259857492,
          0.9645256070376517,
          -0.005185290726101883,
          2.6020206278107167,
          -0.885626602219863,
          1.3517771551572877,
          1.4041522296440263,
          -0.37747456790116,
          0.15412506809685084,
          -1.3868854662382721,
          0.6433483582256894,
          0.9983683388092811,
          -0.12169074845217757,
          -2.1176310033064594,
          -0.06264728472444926,
          -1.0150462339749775,
          0.7360528445825723,
          0.5333439301874713,
          0.35198578229550376,
          0.6072697451499537,
          -2.124423431145739,
          0.45861870101295915,
          0.3901706387730426,
          0.9359092339197448,
          -0.1480147716292342,
          -0.4323566165303779,
          0.7653655916578783,
          -0.19732640194278503,
          -0.1465413420198137,
          0.7142610412011294,
          1.1418243316888386,
          -0.3253132381128121,
          1.5515260657660772,
          0.309161311286864,
          -0.8358998861552829,
          1.3655510433969495,
          0.0632015316988487,
          -0.016827268343440532,
          0.7506720191468409,
          -0.5595071040238351,
          -0.6947205233455448,
          1.142499758085739,
          -2.147256982261882,
          -1.02211137709033,
          0.4065176710241965,
          0.5728619428353131,
          -0.2066640210509487,
          -0.9245155918409756,
          0.19822024602242874,
          1.4207896192934248,
          -1.67439132302367,
          0.8101476190574366,
          1.1438891096596677,
          -0.24724589169943464
         ],
         "yaxis": "y3"
        },
        {
         "line": {
          "color": "rgba(128, 128, 128, 1.0)",
          "dash": "solid",
          "shape": "linear",
          "width": 1.3
         },
         "marker": {
          "size": 2,
          "symbol": "circle"
         },
         "mode": "markers",
         "name": "A",
         "text": "",
         "type": "scatter",
         "x": [
          -0.6833341122857621,
          -1.186518198081401,
          0.7440360616704014,
          -0.4724438209696136,
          -0.3726398238770978,
          0.04117066612790381,
          -0.12165221701464178,
          -0.3582447039742966,
          -0.9614060037617944,
          0.738115872324706,
          -0.08819366108400076,
          1.223355545014585,
          1.4230621728241735,
          -0.0713488500790235,
          -0.37552458341578615,
          1.4051767793554675,
          1.5048150109432545,
          1.1539930776722223,
          0.37183774749061793,
          1.2137171768818364,
          0.2647832955019624,
          0.08301689949870196,
          -0.08352492211042305,
          0.17603067516678184,
          1.3426263722935805,
          1.4710969763164121,
          0.3723008765493016,
          0.8302101906900898,
          0.4293110699434798,
          -1.7014499397610496,
          -0.7462107273631216,
          -0.062418203425431834,
          -0.4521898440150753,
          1.0374670134271229,
          -0.03827027493552959,
          2.627813687110325,
          0.6891056995922998,
          0.9496908564080698,
          -0.5173382461484048,
          -1.7998833834458434,
          -0.3058413154285717,
          -1.2147511852081776,
          -1.005887489678001,
          -0.30709897227715727,
          0.37256104976328275,
          0.12874701718905396,
          0.40465242152470143,
          1.1456196270354793,
          -0.9876226453689538,
          -0.32062717671141766,
          -0.4477698824738656,
          0.37035700057779575,
          -0.6728757045446571,
          0.13727837951958757,
          -0.8365857241976379,
          -0.862833170927694,
          -0.2321665491113636,
          -0.3096342804538494,
          0.8796768280896852,
          -0.1138722149396076,
          0.26259767826855795,
          -0.1723152186005268,
          0.10650986454691985,
          -0.674854272338543,
          0.607077893069324,
          1.077104763029846,
          0.306009787291824,
          1.6189631446653476,
          0.18641228222526587,
          0.1002952216652406,
          0.35384730130886494,
          -0.5592970923758837,
          1.6810924067739625,
          -0.22801226336023897,
          -0.007212983814382795,
          -0.8884243908142498,
          0.007373212437131988,
          -1.4994425212206395,
          0.2858613226319799,
          0.7723744957643544,
          0.006207666093432797,
          -0.9831130172701907,
          0.5668305156554925,
          1.6039775473847573,
          1.3707010942956015,
          0.43850866148625123,
          1.0295632712010863,
          0.4628062783971533,
          -0.09196565989581211,
          0.10106709283112156,
          -0.25825437843646293,
          1.311841406736645,
          -0.04561607748831737,
          0.9986168276634753,
          -1.1692664545784839,
          2.0607261167534308,
          -0.03489069796686348,
          -0.9817027574319807,
          -1.828275897713146,
          -0.13307937775464979
         ],
         "xaxis": "x4",
         "y": [
          -1.3915514466454946,
          -0.25186847805576157,
          0.9579228727741338,
          0.6029271487268496,
          0.416448674464561,
          0.34063531233394767,
          -0.08459004387470692,
          0.713619317860425,
          1.7908137198587653,
          -0.07774446546417446,
          0.7818861612515148,
          -0.08045802462218049,
          -1.3925376997334935,
          -0.25889123457565444,
          -1.2380068464047667,
          -1.6796053268216884,
          1.1389527186859345,
          -2.15319053603754,
          0.24225207650860273,
          0.5323379650228895,
          -0.2096440229785707,
          0.21953657917641956,
          -1.0938795941576012,
          -0.10577547603312083,
          0.6384250404551687,
          -0.2721945316885118,
          3.265738204544427,
          0.3766017189657574,
          0.33886279379065204,
          1.2190050065519333,
          0.3104100087786091,
          0.26952115201931115,
          -2.3923810892739246,
          0.8770803830120577,
          0.6561754993661268,
          -1.2310665672205874,
          -1.1856641101789074,
          0.41805322561991626,
          -0.9247175847838351,
          0.23277995300774626,
          0.4067275700600627,
          -1.428613771269792,
          1.4839020736203505,
          0.7633645943548794,
          2.7756705575375586,
          -0.46463372800975183,
          0.004306649259857492,
          0.9645256070376517,
          -0.005185290726101883,
          2.6020206278107167,
          -0.885626602219863,
          1.3517771551572877,
          1.4041522296440263,
          -0.37747456790116,
          0.15412506809685084,
          -1.3868854662382721,
          0.6433483582256894,
          0.9983683388092811,
          -0.12169074845217757,
          -2.1176310033064594,
          -0.06264728472444926,
          -1.0150462339749775,
          0.7360528445825723,
          0.5333439301874713,
          0.35198578229550376,
          0.6072697451499537,
          -2.124423431145739,
          0.45861870101295915,
          0.3901706387730426,
          0.9359092339197448,
          -0.1480147716292342,
          -0.4323566165303779,
          0.7653655916578783,
          -0.19732640194278503,
          -0.1465413420198137,
          0.7142610412011294,
          1.1418243316888386,
          -0.3253132381128121,
          1.5515260657660772,
          0.309161311286864,
          -0.8358998861552829,
          1.3655510433969495,
          0.0632015316988487,
          -0.016827268343440532,
          0.7506720191468409,
          -0.5595071040238351,
          -0.6947205233455448,
          1.142499758085739,
          -2.147256982261882,
          -1.02211137709033,
          0.4065176710241965,
          0.5728619428353131,
          -0.2066640210509487,
          -0.9245155918409756,
          0.19822024602242874,
          1.4207896192934248,
          -1.67439132302367,
          0.8101476190574366,
          1.1438891096596677,
          -0.24724589169943464
         ],
         "yaxis": "y4"
        },
        {
         "line": {
          "color": "rgba(128, 128, 128, 1.0)",
          "dash": "solid",
          "shape": "linear",
          "width": 1.3
         },
         "marker": {
          "size": 2,
          "symbol": "circle"
         },
         "mode": "markers",
         "name": "B",
         "text": "",
         "type": "scatter",
         "x": [
          -1.3915514466454946,
          -0.25186847805576157,
          0.9579228727741338,
          0.6029271487268496,
          0.416448674464561,
          0.34063531233394767,
          -0.08459004387470692,
          0.713619317860425,
          1.7908137198587653,
          -0.07774446546417446,
          0.7818861612515148,
          -0.08045802462218049,
          -1.3925376997334935,
          -0.25889123457565444,
          -1.2380068464047667,
          -1.6796053268216884,
          1.1389527186859345,
          -2.15319053603754,
          0.24225207650860273,
          0.5323379650228895,
          -0.2096440229785707,
          0.21953657917641956,
          -1.0938795941576012,
          -0.10577547603312083,
          0.6384250404551687,
          -0.2721945316885118,
          3.265738204544427,
          0.3766017189657574,
          0.33886279379065204,
          1.2190050065519333,
          0.3104100087786091,
          0.26952115201931115,
          -2.3923810892739246,
          0.8770803830120577,
          0.6561754993661268,
          -1.2310665672205874,
          -1.1856641101789074,
          0.41805322561991626,
          -0.9247175847838351,
          0.23277995300774626,
          0.4067275700600627,
          -1.428613771269792,
          1.4839020736203505,
          0.7633645943548794,
          2.7756705575375586,
          -0.46463372800975183,
          0.004306649259857492,
          0.9645256070376517,
          -0.005185290726101883,
          2.6020206278107167,
          -0.885626602219863,
          1.3517771551572877,
          1.4041522296440263,
          -0.37747456790116,
          0.15412506809685084,
          -1.3868854662382721,
          0.6433483582256894,
          0.9983683388092811,
          -0.12169074845217757,
          -2.1176310033064594,
          -0.06264728472444926,
          -1.0150462339749775,
          0.7360528445825723,
          0.5333439301874713,
          0.35198578229550376,
          0.6072697451499537,
          -2.124423431145739,
          0.45861870101295915,
          0.3901706387730426,
          0.9359092339197448,
          -0.1480147716292342,
          -0.4323566165303779,
          0.7653655916578783,
          -0.19732640194278503,
          -0.1465413420198137,
          0.7142610412011294,
          1.1418243316888386,
          -0.3253132381128121,
          1.5515260657660772,
          0.309161311286864,
          -0.8358998861552829,
          1.3655510433969495,
          0.0632015316988487,
          -0.016827268343440532,
          0.7506720191468409,
          -0.5595071040238351,
          -0.6947205233455448,
          1.142499758085739,
          -2.147256982261882,
          -1.02211137709033,
          0.4065176710241965,
          0.5728619428353131,
          -0.2066640210509487,
          -0.9245155918409756,
          0.19822024602242874,
          1.4207896192934248,
          -1.67439132302367,
          0.8101476190574366,
          1.1438891096596677,
          -0.24724589169943464
         ],
         "xaxis": "x5",
         "y": [
          -1.8063135150409384,
          -0.7679513004948498,
          -0.8742919766403517,
          0.3070143950458193,
          1.1665253316654558,
          -0.2262683166260905,
          -0.4917852269151437,
          -0.08073729843021035,
          2.8334375843659645,
          1.1532207799473548,
          -0.03814254313590681,
          -0.10568906458824325,
          -0.31317568710161725,
          0.999191108558023,
          0.8385632979585733,
          0.41534933039874006,
          0.8797805528306242,
          -1.2497080083648895,
          -1.7911041602373101,
          0.7630643074653287,
          2.5892130854872626,
          -0.5439208326964506,
          -1.3750796123608928,
          -1.729704664812876,
          0.5578288145910832,
          1.0036536830512153,
          -0.1714020047363067,
          -0.19405615495300366,
          0.6919399765482697,
          0.9695804954012914,
          1.350663420111455,
          -1.240062693169029,
          -1.348240459508053,
          1.4623370752557971,
          -0.48168927519920546,
          0.39784876136248515,
          -0.9024576145690437,
          -0.6935679814885369,
          -0.3761127379085823,
          -0.36623141625460714,
          -0.2451594279515256,
          0.026402940006598093,
          -0.32046021467091446,
          1.1112009255824087,
          0.2187696308981625,
          -2.505044161953846,
          -0.6162072553432347,
          -0.015565844051689669,
          1.7854810856777485,
          0.3541192142490893,
          0.5263691204633134,
          1.3994577056620974,
          -1.3428712151096527,
          1.1255059881410612,
          0.9500501528505452,
          0.23415698180013855,
          0.15335525171261927,
          -0.052071479834325515,
          -1.4232941345045214,
          0.7132256996685288,
          0.5489697164118927,
          -0.5726168408446426,
          0.4621316906319872,
          2.0945996369123625,
          -0.6293460980779058,
          1.0075453751062597,
          0.10083326030721385,
          -2.2013485061886473,
          -0.3898105142975688,
          -1.0896725401553105,
          -1.8597732189447154,
          0.3905174313184132,
          -0.3104515621834238,
          0.8040065537583236,
          -1.0797745253519242,
          0.8367161653986137,
          -1.2674111303051174,
          -0.6763387257899182,
          -1.092639906945907,
          1.0449811622012086,
          1.8517700485195743,
          -0.13757886943215655,
          0.7259595503006789,
          -0.9096144399987279,
          0.6074501093482007,
          -0.7191397729519661,
          1.907848397028853,
          -0.8418897038835749,
          0.06575111015677335,
          -2.0389882885122126,
          -1.53917556051178,
          0.9015627864510748,
          0.09360031995000555,
          0.10739423129650766,
          0.6419278156297985,
          -0.23432958246422325,
          0.1178203071042369,
          -0.9005807904385831,
          1.2181737505496018,
          -0.5324878800398267
         ],
         "yaxis": "y5"
        },
        {
         "histfunc": "count",
         "histnorm": "",
         "marker": {
          "color": "rgba(55, 128, 191, 1.0)",
          "line": {
           "color": "#4D5663",
           "width": 1.3
          }
         },
         "name": "B",
         "nbinsx": 10,
         "opacity": 0.8,
         "orientation": "v",
         "type": "histogram",
         "x": [
          -1.8063135150409384,
          -0.7679513004948498,
          -0.8742919766403517,
          0.3070143950458193,
          1.1665253316654558,
          -0.2262683166260905,
          -0.4917852269151437,
          -0.08073729843021035,
          2.8334375843659645,
          1.1532207799473548,
          -0.03814254313590681,
          -0.10568906458824325,
          -0.31317568710161725,
          0.999191108558023,
          0.8385632979585733,
          0.41534933039874006,
          0.8797805528306242,
          -1.2497080083648895,
          -1.7911041602373101,
          0.7630643074653287,
          2.5892130854872626,
          -0.5439208326964506,
          -1.3750796123608928,
          -1.729704664812876,
          0.5578288145910832,
          1.0036536830512153,
          -0.1714020047363067,
          -0.19405615495300366,
          0.6919399765482697,
          0.9695804954012914,
          1.350663420111455,
          -1.240062693169029,
          -1.348240459508053,
          1.4623370752557971,
          -0.48168927519920546,
          0.39784876136248515,
          -0.9024576145690437,
          -0.6935679814885369,
          -0.3761127379085823,
          -0.36623141625460714,
          -0.2451594279515256,
          0.026402940006598093,
          -0.32046021467091446,
          1.1112009255824087,
          0.2187696308981625,
          -2.505044161953846,
          -0.6162072553432347,
          -0.015565844051689669,
          1.7854810856777485,
          0.3541192142490893,
          0.5263691204633134,
          1.3994577056620974,
          -1.3428712151096527,
          1.1255059881410612,
          0.9500501528505452,
          0.23415698180013855,
          0.15335525171261927,
          -0.052071479834325515,
          -1.4232941345045214,
          0.7132256996685288,
          0.5489697164118927,
          -0.5726168408446426,
          0.4621316906319872,
          2.0945996369123625,
          -0.6293460980779058,
          1.0075453751062597,
          0.10083326030721385,
          -2.2013485061886473,
          -0.3898105142975688,
          -1.0896725401553105,
          -1.8597732189447154,
          0.3905174313184132,
          -0.3104515621834238,
          0.8040065537583236,
          -1.0797745253519242,
          0.8367161653986137,
          -1.2674111303051174,
          -0.6763387257899182,
          -1.092639906945907,
          1.0449811622012086,
          1.8517700485195743,
          -0.13757886943215655,
          0.7259595503006789,
          -0.9096144399987279,
          0.6074501093482007,
          -0.7191397729519661,
          1.907848397028853,
          -0.8418897038835749,
          0.06575111015677335,
          -2.0389882885122126,
          -1.53917556051178,
          0.9015627864510748,
          0.09360031995000555,
          0.10739423129650766,
          0.6419278156297985,
          -0.23432958246422325,
          0.1178203071042369,
          -0.9005807904385831,
          1.2181737505496018,
          -0.5324878800398267
         ],
         "xaxis": "x6",
         "yaxis": "y6"
        },
        {
         "line": {
          "color": "rgba(128, 128, 128, 1.0)",
          "dash": "solid",
          "shape": "linear",
          "width": 1.3
         },
         "marker": {
          "size": 2,
          "symbol": "circle"
         },
         "mode": "markers",
         "name": "B",
         "text": "",
         "type": "scatter",
         "x": [
          1.2982356591642445,
          0.15427115901690341,
          1.0213467155156255,
          1.232635888537672,
          -0.22895222538532137,
          1.954511785901398,
          -0.3942545853071218,
          -0.8092251193718866,
          -0.12322104508539473,
          1.2286788093130638,
          0.3874343994934357,
          -2.2953744065269643,
          2.017388879406804,
          1.1193266759672091,
          -0.2746008943626236,
          -0.8065314918764688,
          0.972762641451173,
          0.5074579567461822,
          1.0118902717327247,
          0.401509381385972,
          0.0639114665073889,
          -1.8663631190800596,
          0.1387441893866892,
          0.1428873542876622,
          0.47682850878052335,
          -0.36571985711014215,
          -1.5460929902125424,
          0.5198596011344117,
          -1.6173676235504222,
          -1.4356016266184148,
          -0.07050502844673512,
          0.5575637873458781,
          -2.1652567182684646,
          0.5870162986735613,
          -0.8773663572243663,
          -0.6858001901123327,
          2.7969800829027123,
          -0.5458885428916942,
          1.1181997296247015,
          -0.11673408876087886,
          0.6404059497492122,
          -1.728413741794743,
          0.3983029336729583,
          -0.7246637943231838,
          -0.8739988801359196,
          -0.8953673781193359,
          1.0188898265321207,
          0.17867461627604825,
          -0.7954294822668724,
          0.4636630050156447,
          -0.6784390426197163,
          0.15119517232480975,
          0.24758404252618696,
          0.4332548808024751,
          -0.573257381134931,
          -0.543358203976377,
          1.1269166836129816,
          -0.23872781757691822,
          -1.3099931941537102,
          -1.0582198694901048,
          -0.4262076857305047,
          1.423853630818953,
          -0.36089078387376755,
          -2.154339180537667,
          2.476822997091817,
          0.32141164193151145,
          1.7050486382039032,
          -0.504611966141616,
          -1.397522139381618,
          0.8479678308837004,
          -0.8297755982819625,
          1.0577651562083943,
          -0.9101582376316869,
          -0.0029074583485230563,
          0.2608575614760658,
          -0.7803371558458617,
          -2.145391997779593,
          -0.7063161942876157,
          0.16239921321512515,
          -0.07683075830387348,
          1.0607037175653777,
          0.9544867857313885,
          -0.11793678009979827,
          0.2102582181812343,
          -0.8387898266596429,
          -0.4206283693985038,
          -0.8152428246157843,
          -0.7276697598353788,
          -1.1329929330756752,
          -1.4466041035213315,
          -0.9848748287647158,
          0.1180319292781396,
          -0.8776375086870779,
          -1.2821605470681214,
          0.24414266199380305,
          0.8141424501001563,
          -0.2765616564967207,
          0.47783868175145766,
          -0.9965387453155009,
          -0.09458406917183024
         ],
         "xaxis": "x7",
         "y": [
          -1.8063135150409384,
          -0.7679513004948498,
          -0.8742919766403517,
          0.3070143950458193,
          1.1665253316654558,
          -0.2262683166260905,
          -0.4917852269151437,
          -0.08073729843021035,
          2.8334375843659645,
          1.1532207799473548,
          -0.03814254313590681,
          -0.10568906458824325,
          -0.31317568710161725,
          0.999191108558023,
          0.8385632979585733,
          0.41534933039874006,
          0.8797805528306242,
          -1.2497080083648895,
          -1.7911041602373101,
          0.7630643074653287,
          2.5892130854872626,
          -0.5439208326964506,
          -1.3750796123608928,
          -1.729704664812876,
          0.5578288145910832,
          1.0036536830512153,
          -0.1714020047363067,
          -0.19405615495300366,
          0.6919399765482697,
          0.9695804954012914,
          1.350663420111455,
          -1.240062693169029,
          -1.348240459508053,
          1.4623370752557971,
          -0.48168927519920546,
          0.39784876136248515,
          -0.9024576145690437,
          -0.6935679814885369,
          -0.3761127379085823,
          -0.36623141625460714,
          -0.2451594279515256,
          0.026402940006598093,
          -0.32046021467091446,
          1.1112009255824087,
          0.2187696308981625,
          -2.505044161953846,
          -0.6162072553432347,
          -0.015565844051689669,
          1.7854810856777485,
          0.3541192142490893,
          0.5263691204633134,
          1.3994577056620974,
          -1.3428712151096527,
          1.1255059881410612,
          0.9500501528505452,
          0.23415698180013855,
          0.15335525171261927,
          -0.052071479834325515,
          -1.4232941345045214,
          0.7132256996685288,
          0.5489697164118927,
          -0.5726168408446426,
          0.4621316906319872,
          2.0945996369123625,
          -0.6293460980779058,
          1.0075453751062597,
          0.10083326030721385,
          -2.2013485061886473,
          -0.3898105142975688,
          -1.0896725401553105,
          -1.8597732189447154,
          0.3905174313184132,
          -0.3104515621834238,
          0.8040065537583236,
          -1.0797745253519242,
          0.8367161653986137,
          -1.2674111303051174,
          -0.6763387257899182,
          -1.092639906945907,
          1.0449811622012086,
          1.8517700485195743,
          -0.13757886943215655,
          0.7259595503006789,
          -0.9096144399987279,
          0.6074501093482007,
          -0.7191397729519661,
          1.907848397028853,
          -0.8418897038835749,
          0.06575111015677335,
          -2.0389882885122126,
          -1.53917556051178,
          0.9015627864510748,
          0.09360031995000555,
          0.10739423129650766,
          0.6419278156297985,
          -0.23432958246422325,
          0.1178203071042369,
          -0.9005807904385831,
          1.2181737505496018,
          -0.5324878800398267
         ],
         "yaxis": "y7"
        },
        {
         "line": {
          "color": "rgba(128, 128, 128, 1.0)",
          "dash": "solid",
          "shape": "linear",
          "width": 1.3
         },
         "marker": {
          "size": 2,
          "symbol": "circle"
         },
         "mode": "markers",
         "name": "B",
         "text": "",
         "type": "scatter",
         "x": [
          -0.6833341122857621,
          -1.186518198081401,
          0.7440360616704014,
          -0.4724438209696136,
          -0.3726398238770978,
          0.04117066612790381,
          -0.12165221701464178,
          -0.3582447039742966,
          -0.9614060037617944,
          0.738115872324706,
          -0.08819366108400076,
          1.223355545014585,
          1.4230621728241735,
          -0.0713488500790235,
          -0.37552458341578615,
          1.4051767793554675,
          1.5048150109432545,
          1.1539930776722223,
          0.37183774749061793,
          1.2137171768818364,
          0.2647832955019624,
          0.08301689949870196,
          -0.08352492211042305,
          0.17603067516678184,
          1.3426263722935805,
          1.4710969763164121,
          0.3723008765493016,
          0.8302101906900898,
          0.4293110699434798,
          -1.7014499397610496,
          -0.7462107273631216,
          -0.062418203425431834,
          -0.4521898440150753,
          1.0374670134271229,
          -0.03827027493552959,
          2.627813687110325,
          0.6891056995922998,
          0.9496908564080698,
          -0.5173382461484048,
          -1.7998833834458434,
          -0.3058413154285717,
          -1.2147511852081776,
          -1.005887489678001,
          -0.30709897227715727,
          0.37256104976328275,
          0.12874701718905396,
          0.40465242152470143,
          1.1456196270354793,
          -0.9876226453689538,
          -0.32062717671141766,
          -0.4477698824738656,
          0.37035700057779575,
          -0.6728757045446571,
          0.13727837951958757,
          -0.8365857241976379,
          -0.862833170927694,
          -0.2321665491113636,
          -0.3096342804538494,
          0.8796768280896852,
          -0.1138722149396076,
          0.26259767826855795,
          -0.1723152186005268,
          0.10650986454691985,
          -0.674854272338543,
          0.607077893069324,
          1.077104763029846,
          0.306009787291824,
          1.6189631446653476,
          0.18641228222526587,
          0.1002952216652406,
          0.35384730130886494,
          -0.5592970923758837,
          1.6810924067739625,
          -0.22801226336023897,
          -0.007212983814382795,
          -0.8884243908142498,
          0.007373212437131988,
          -1.4994425212206395,
          0.2858613226319799,
          0.7723744957643544,
          0.006207666093432797,
          -0.9831130172701907,
          0.5668305156554925,
          1.6039775473847573,
          1.3707010942956015,
          0.43850866148625123,
          1.0295632712010863,
          0.4628062783971533,
          -0.09196565989581211,
          0.10106709283112156,
          -0.25825437843646293,
          1.311841406736645,
          -0.04561607748831737,
          0.9986168276634753,
          -1.1692664545784839,
          2.0607261167534308,
          -0.03489069796686348,
          -0.9817027574319807,
          -1.828275897713146,
          -0.13307937775464979
         ],
         "xaxis": "x8",
         "y": [
          -1.8063135150409384,
          -0.7679513004948498,
          -0.8742919766403517,
          0.3070143950458193,
          1.1665253316654558,
          -0.2262683166260905,
          -0.4917852269151437,
          -0.08073729843021035,
          2.8334375843659645,
          1.1532207799473548,
          -0.03814254313590681,
          -0.10568906458824325,
          -0.31317568710161725,
          0.999191108558023,
          0.8385632979585733,
          0.41534933039874006,
          0.8797805528306242,
          -1.2497080083648895,
          -1.7911041602373101,
          0.7630643074653287,
          2.5892130854872626,
          -0.5439208326964506,
          -1.3750796123608928,
          -1.729704664812876,
          0.5578288145910832,
          1.0036536830512153,
          -0.1714020047363067,
          -0.19405615495300366,
          0.6919399765482697,
          0.9695804954012914,
          1.350663420111455,
          -1.240062693169029,
          -1.348240459508053,
          1.4623370752557971,
          -0.48168927519920546,
          0.39784876136248515,
          -0.9024576145690437,
          -0.6935679814885369,
          -0.3761127379085823,
          -0.36623141625460714,
          -0.2451594279515256,
          0.026402940006598093,
          -0.32046021467091446,
          1.1112009255824087,
          0.2187696308981625,
          -2.505044161953846,
          -0.6162072553432347,
          -0.015565844051689669,
          1.7854810856777485,
          0.3541192142490893,
          0.5263691204633134,
          1.3994577056620974,
          -1.3428712151096527,
          1.1255059881410612,
          0.9500501528505452,
          0.23415698180013855,
          0.15335525171261927,
          -0.052071479834325515,
          -1.4232941345045214,
          0.7132256996685288,
          0.5489697164118927,
          -0.5726168408446426,
          0.4621316906319872,
          2.0945996369123625,
          -0.6293460980779058,
          1.0075453751062597,
          0.10083326030721385,
          -2.2013485061886473,
          -0.3898105142975688,
          -1.0896725401553105,
          -1.8597732189447154,
          0.3905174313184132,
          -0.3104515621834238,
          0.8040065537583236,
          -1.0797745253519242,
          0.8367161653986137,
          -1.2674111303051174,
          -0.6763387257899182,
          -1.092639906945907,
          1.0449811622012086,
          1.8517700485195743,
          -0.13757886943215655,
          0.7259595503006789,
          -0.9096144399987279,
          0.6074501093482007,
          -0.7191397729519661,
          1.907848397028853,
          -0.8418897038835749,
          0.06575111015677335,
          -2.0389882885122126,
          -1.53917556051178,
          0.9015627864510748,
          0.09360031995000555,
          0.10739423129650766,
          0.6419278156297985,
          -0.23432958246422325,
          0.1178203071042369,
          -0.9005807904385831,
          1.2181737505496018,
          -0.5324878800398267
         ],
         "yaxis": "y8"
        },
        {
         "line": {
          "color": "rgba(128, 128, 128, 1.0)",
          "dash": "solid",
          "shape": "linear",
          "width": 1.3
         },
         "marker": {
          "size": 2,
          "symbol": "circle"
         },
         "mode": "markers",
         "name": "C",
         "text": "",
         "type": "scatter",
         "x": [
          -1.3915514466454946,
          -0.25186847805576157,
          0.9579228727741338,
          0.6029271487268496,
          0.416448674464561,
          0.34063531233394767,
          -0.08459004387470692,
          0.713619317860425,
          1.7908137198587653,
          -0.07774446546417446,
          0.7818861612515148,
          -0.08045802462218049,
          -1.3925376997334935,
          -0.25889123457565444,
          -1.2380068464047667,
          -1.6796053268216884,
          1.1389527186859345,
          -2.15319053603754,
          0.24225207650860273,
          0.5323379650228895,
          -0.2096440229785707,
          0.21953657917641956,
          -1.0938795941576012,
          -0.10577547603312083,
          0.6384250404551687,
          -0.2721945316885118,
          3.265738204544427,
          0.3766017189657574,
          0.33886279379065204,
          1.2190050065519333,
          0.3104100087786091,
          0.26952115201931115,
          -2.3923810892739246,
          0.8770803830120577,
          0.6561754993661268,
          -1.2310665672205874,
          -1.1856641101789074,
          0.41805322561991626,
          -0.9247175847838351,
          0.23277995300774626,
          0.4067275700600627,
          -1.428613771269792,
          1.4839020736203505,
          0.7633645943548794,
          2.7756705575375586,
          -0.46463372800975183,
          0.004306649259857492,
          0.9645256070376517,
          -0.005185290726101883,
          2.6020206278107167,
          -0.885626602219863,
          1.3517771551572877,
          1.4041522296440263,
          -0.37747456790116,
          0.15412506809685084,
          -1.3868854662382721,
          0.6433483582256894,
          0.9983683388092811,
          -0.12169074845217757,
          -2.1176310033064594,
          -0.06264728472444926,
          -1.0150462339749775,
          0.7360528445825723,
          0.5333439301874713,
          0.35198578229550376,
          0.6072697451499537,
          -2.124423431145739,
          0.45861870101295915,
          0.3901706387730426,
          0.9359092339197448,
          -0.1480147716292342,
          -0.4323566165303779,
          0.7653655916578783,
          -0.19732640194278503,
          -0.1465413420198137,
          0.7142610412011294,
          1.1418243316888386,
          -0.3253132381128121,
          1.5515260657660772,
          0.309161311286864,
          -0.8358998861552829,
          1.3655510433969495,
          0.0632015316988487,
          -0.016827268343440532,
          0.7506720191468409,
          -0.5595071040238351,
          -0.6947205233455448,
          1.142499758085739,
          -2.147256982261882,
          -1.02211137709033,
          0.4065176710241965,
          0.5728619428353131,
          -0.2066640210509487,
          -0.9245155918409756,
          0.19822024602242874,
          1.4207896192934248,
          -1.67439132302367,
          0.8101476190574366,
          1.1438891096596677,
          -0.24724589169943464
         ],
         "xaxis": "x9",
         "y": [
          1.2982356591642445,
          0.15427115901690341,
          1.0213467155156255,
          1.232635888537672,
          -0.22895222538532137,
          1.954511785901398,
          -0.3942545853071218,
          -0.8092251193718866,
          -0.12322104508539473,
          1.2286788093130638,
          0.3874343994934357,
          -2.2953744065269643,
          2.017388879406804,
          1.1193266759672091,
          -0.2746008943626236,
          -0.8065314918764688,
          0.972762641451173,
          0.5074579567461822,
          1.0118902717327247,
          0.401509381385972,
          0.0639114665073889,
          -1.8663631190800596,
          0.1387441893866892,
          0.1428873542876622,
          0.47682850878052335,
          -0.36571985711014215,
          -1.5460929902125424,
          0.5198596011344117,
          -1.6173676235504222,
          -1.4356016266184148,
          -0.07050502844673512,
          0.5575637873458781,
          -2.1652567182684646,
          0.5870162986735613,
          -0.8773663572243663,
          -0.6858001901123327,
          2.7969800829027123,
          -0.5458885428916942,
          1.1181997296247015,
          -0.11673408876087886,
          0.6404059497492122,
          -1.728413741794743,
          0.3983029336729583,
          -0.7246637943231838,
          -0.8739988801359196,
          -0.8953673781193359,
          1.0188898265321207,
          0.17867461627604825,
          -0.7954294822668724,
          0.4636630050156447,
          -0.6784390426197163,
          0.15119517232480975,
          0.24758404252618696,
          0.4332548808024751,
          -0.573257381134931,
          -0.543358203976377,
          1.1269166836129816,
          -0.23872781757691822,
          -1.3099931941537102,
          -1.0582198694901048,
          -0.4262076857305047,
          1.423853630818953,
          -0.36089078387376755,
          -2.154339180537667,
          2.476822997091817,
          0.32141164193151145,
          1.7050486382039032,
          -0.504611966141616,
          -1.397522139381618,
          0.8479678308837004,
          -0.8297755982819625,
          1.0577651562083943,
          -0.9101582376316869,
          -0.0029074583485230563,
          0.2608575614760658,
          -0.7803371558458617,
          -2.145391997779593,
          -0.7063161942876157,
          0.16239921321512515,
          -0.07683075830387348,
          1.0607037175653777,
          0.9544867857313885,
          -0.11793678009979827,
          0.2102582181812343,
          -0.8387898266596429,
          -0.4206283693985038,
          -0.8152428246157843,
          -0.7276697598353788,
          -1.1329929330756752,
          -1.4466041035213315,
          -0.9848748287647158,
          0.1180319292781396,
          -0.8776375086870779,
          -1.2821605470681214,
          0.24414266199380305,
          0.8141424501001563,
          -0.2765616564967207,
          0.47783868175145766,
          -0.9965387453155009,
          -0.09458406917183024
         ],
         "yaxis": "y9"
        },
        {
         "line": {
          "color": "rgba(128, 128, 128, 1.0)",
          "dash": "solid",
          "shape": "linear",
          "width": 1.3
         },
         "marker": {
          "size": 2,
          "symbol": "circle"
         },
         "mode": "markers",
         "name": "C",
         "text": "",
         "type": "scatter",
         "x": [
          -1.8063135150409384,
          -0.7679513004948498,
          -0.8742919766403517,
          0.3070143950458193,
          1.1665253316654558,
          -0.2262683166260905,
          -0.4917852269151437,
          -0.08073729843021035,
          2.8334375843659645,
          1.1532207799473548,
          -0.03814254313590681,
          -0.10568906458824325,
          -0.31317568710161725,
          0.999191108558023,
          0.8385632979585733,
          0.41534933039874006,
          0.8797805528306242,
          -1.2497080083648895,
          -1.7911041602373101,
          0.7630643074653287,
          2.5892130854872626,
          -0.5439208326964506,
          -1.3750796123608928,
          -1.729704664812876,
          0.5578288145910832,
          1.0036536830512153,
          -0.1714020047363067,
          -0.19405615495300366,
          0.6919399765482697,
          0.9695804954012914,
          1.350663420111455,
          -1.240062693169029,
          -1.348240459508053,
          1.4623370752557971,
          -0.48168927519920546,
          0.39784876136248515,
          -0.9024576145690437,
          -0.6935679814885369,
          -0.3761127379085823,
          -0.36623141625460714,
          -0.2451594279515256,
          0.026402940006598093,
          -0.32046021467091446,
          1.1112009255824087,
          0.2187696308981625,
          -2.505044161953846,
          -0.6162072553432347,
          -0.015565844051689669,
          1.7854810856777485,
          0.3541192142490893,
          0.5263691204633134,
          1.3994577056620974,
          -1.3428712151096527,
          1.1255059881410612,
          0.9500501528505452,
          0.23415698180013855,
          0.15335525171261927,
          -0.052071479834325515,
          -1.4232941345045214,
          0.7132256996685288,
          0.5489697164118927,
          -0.5726168408446426,
          0.4621316906319872,
          2.0945996369123625,
          -0.6293460980779058,
          1.0075453751062597,
          0.10083326030721385,
          -2.2013485061886473,
          -0.3898105142975688,
          -1.0896725401553105,
          -1.8597732189447154,
          0.3905174313184132,
          -0.3104515621834238,
          0.8040065537583236,
          -1.0797745253519242,
          0.8367161653986137,
          -1.2674111303051174,
          -0.6763387257899182,
          -1.092639906945907,
          1.0449811622012086,
          1.8517700485195743,
          -0.13757886943215655,
          0.7259595503006789,
          -0.9096144399987279,
          0.6074501093482007,
          -0.7191397729519661,
          1.907848397028853,
          -0.8418897038835749,
          0.06575111015677335,
          -2.0389882885122126,
          -1.53917556051178,
          0.9015627864510748,
          0.09360031995000555,
          0.10739423129650766,
          0.6419278156297985,
          -0.23432958246422325,
          0.1178203071042369,
          -0.9005807904385831,
          1.2181737505496018,
          -0.5324878800398267
         ],
         "xaxis": "x10",
         "y": [
          1.2982356591642445,
          0.15427115901690341,
          1.0213467155156255,
          1.232635888537672,
          -0.22895222538532137,
          1.954511785901398,
          -0.3942545853071218,
          -0.8092251193718866,
          -0.12322104508539473,
          1.2286788093130638,
          0.3874343994934357,
          -2.2953744065269643,
          2.017388879406804,
          1.1193266759672091,
          -0.2746008943626236,
          -0.8065314918764688,
          0.972762641451173,
          0.5074579567461822,
          1.0118902717327247,
          0.401509381385972,
          0.0639114665073889,
          -1.8663631190800596,
          0.1387441893866892,
          0.1428873542876622,
          0.47682850878052335,
          -0.36571985711014215,
          -1.5460929902125424,
          0.5198596011344117,
          -1.6173676235504222,
          -1.4356016266184148,
          -0.07050502844673512,
          0.5575637873458781,
          -2.1652567182684646,
          0.5870162986735613,
          -0.8773663572243663,
          -0.6858001901123327,
          2.7969800829027123,
          -0.5458885428916942,
          1.1181997296247015,
          -0.11673408876087886,
          0.6404059497492122,
          -1.728413741794743,
          0.3983029336729583,
          -0.7246637943231838,
          -0.8739988801359196,
          -0.8953673781193359,
          1.0188898265321207,
          0.17867461627604825,
          -0.7954294822668724,
          0.4636630050156447,
          -0.6784390426197163,
          0.15119517232480975,
          0.24758404252618696,
          0.4332548808024751,
          -0.573257381134931,
          -0.543358203976377,
          1.1269166836129816,
          -0.23872781757691822,
          -1.3099931941537102,
          -1.0582198694901048,
          -0.4262076857305047,
          1.423853630818953,
          -0.36089078387376755,
          -2.154339180537667,
          2.476822997091817,
          0.32141164193151145,
          1.7050486382039032,
          -0.504611966141616,
          -1.397522139381618,
          0.8479678308837004,
          -0.8297755982819625,
          1.0577651562083943,
          -0.9101582376316869,
          -0.0029074583485230563,
          0.2608575614760658,
          -0.7803371558458617,
          -2.145391997779593,
          -0.7063161942876157,
          0.16239921321512515,
          -0.07683075830387348,
          1.0607037175653777,
          0.9544867857313885,
          -0.11793678009979827,
          0.2102582181812343,
          -0.8387898266596429,
          -0.4206283693985038,
          -0.8152428246157843,
          -0.7276697598353788,
          -1.1329929330756752,
          -1.4466041035213315,
          -0.9848748287647158,
          0.1180319292781396,
          -0.8776375086870779,
          -1.2821605470681214,
          0.24414266199380305,
          0.8141424501001563,
          -0.2765616564967207,
          0.47783868175145766,
          -0.9965387453155009,
          -0.09458406917183024
         ],
         "yaxis": "y10"
        },
        {
         "histfunc": "count",
         "histnorm": "",
         "marker": {
          "color": "rgba(50, 171, 96, 1.0)",
          "line": {
           "color": "#4D5663",
           "width": 1.3
          }
         },
         "name": "C",
         "nbinsx": 10,
         "opacity": 0.8,
         "orientation": "v",
         "type": "histogram",
         "x": [
          1.2982356591642445,
          0.15427115901690341,
          1.0213467155156255,
          1.232635888537672,
          -0.22895222538532137,
          1.954511785901398,
          -0.3942545853071218,
          -0.8092251193718866,
          -0.12322104508539473,
          1.2286788093130638,
          0.3874343994934357,
          -2.2953744065269643,
          2.017388879406804,
          1.1193266759672091,
          -0.2746008943626236,
          -0.8065314918764688,
          0.972762641451173,
          0.5074579567461822,
          1.0118902717327247,
          0.401509381385972,
          0.0639114665073889,
          -1.8663631190800596,
          0.1387441893866892,
          0.1428873542876622,
          0.47682850878052335,
          -0.36571985711014215,
          -1.5460929902125424,
          0.5198596011344117,
          -1.6173676235504222,
          -1.4356016266184148,
          -0.07050502844673512,
          0.5575637873458781,
          -2.1652567182684646,
          0.5870162986735613,
          -0.8773663572243663,
          -0.6858001901123327,
          2.7969800829027123,
          -0.5458885428916942,
          1.1181997296247015,
          -0.11673408876087886,
          0.6404059497492122,
          -1.728413741794743,
          0.3983029336729583,
          -0.7246637943231838,
          -0.8739988801359196,
          -0.8953673781193359,
          1.0188898265321207,
          0.17867461627604825,
          -0.7954294822668724,
          0.4636630050156447,
          -0.6784390426197163,
          0.15119517232480975,
          0.24758404252618696,
          0.4332548808024751,
          -0.573257381134931,
          -0.543358203976377,
          1.1269166836129816,
          -0.23872781757691822,
          -1.3099931941537102,
          -1.0582198694901048,
          -0.4262076857305047,
          1.423853630818953,
          -0.36089078387376755,
          -2.154339180537667,
          2.476822997091817,
          0.32141164193151145,
          1.7050486382039032,
          -0.504611966141616,
          -1.397522139381618,
          0.8479678308837004,
          -0.8297755982819625,
          1.0577651562083943,
          -0.9101582376316869,
          -0.0029074583485230563,
          0.2608575614760658,
          -0.7803371558458617,
          -2.145391997779593,
          -0.7063161942876157,
          0.16239921321512515,
          -0.07683075830387348,
          1.0607037175653777,
          0.9544867857313885,
          -0.11793678009979827,
          0.2102582181812343,
          -0.8387898266596429,
          -0.4206283693985038,
          -0.8152428246157843,
          -0.7276697598353788,
          -1.1329929330756752,
          -1.4466041035213315,
          -0.9848748287647158,
          0.1180319292781396,
          -0.8776375086870779,
          -1.2821605470681214,
          0.24414266199380305,
          0.8141424501001563,
          -0.2765616564967207,
          0.47783868175145766,
          -0.9965387453155009,
          -0.09458406917183024
         ],
         "xaxis": "x11",
         "yaxis": "y11"
        },
        {
         "line": {
          "color": "rgba(128, 128, 128, 1.0)",
          "dash": "solid",
          "shape": "linear",
          "width": 1.3
         },
         "marker": {
          "size": 2,
          "symbol": "circle"
         },
         "mode": "markers",
         "name": "C",
         "text": "",
         "type": "scatter",
         "x": [
          -0.6833341122857621,
          -1.186518198081401,
          0.7440360616704014,
          -0.4724438209696136,
          -0.3726398238770978,
          0.04117066612790381,
          -0.12165221701464178,
          -0.3582447039742966,
          -0.9614060037617944,
          0.738115872324706,
          -0.08819366108400076,
          1.223355545014585,
          1.4230621728241735,
          -0.0713488500790235,
          -0.37552458341578615,
          1.4051767793554675,
          1.5048150109432545,
          1.1539930776722223,
          0.37183774749061793,
          1.2137171768818364,
          0.2647832955019624,
          0.08301689949870196,
          -0.08352492211042305,
          0.17603067516678184,
          1.3426263722935805,
          1.4710969763164121,
          0.3723008765493016,
          0.8302101906900898,
          0.4293110699434798,
          -1.7014499397610496,
          -0.7462107273631216,
          -0.062418203425431834,
          -0.4521898440150753,
          1.0374670134271229,
          -0.03827027493552959,
          2.627813687110325,
          0.6891056995922998,
          0.9496908564080698,
          -0.5173382461484048,
          -1.7998833834458434,
          -0.3058413154285717,
          -1.2147511852081776,
          -1.005887489678001,
          -0.30709897227715727,
          0.37256104976328275,
          0.12874701718905396,
          0.40465242152470143,
          1.1456196270354793,
          -0.9876226453689538,
          -0.32062717671141766,
          -0.4477698824738656,
          0.37035700057779575,
          -0.6728757045446571,
          0.13727837951958757,
          -0.8365857241976379,
          -0.862833170927694,
          -0.2321665491113636,
          -0.3096342804538494,
          0.8796768280896852,
          -0.1138722149396076,
          0.26259767826855795,
          -0.1723152186005268,
          0.10650986454691985,
          -0.674854272338543,
          0.607077893069324,
          1.077104763029846,
          0.306009787291824,
          1.6189631446653476,
          0.18641228222526587,
          0.1002952216652406,
          0.35384730130886494,
          -0.5592970923758837,
          1.6810924067739625,
          -0.22801226336023897,
          -0.007212983814382795,
          -0.8884243908142498,
          0.007373212437131988,
          -1.4994425212206395,
          0.2858613226319799,
          0.7723744957643544,
          0.006207666093432797,
          -0.9831130172701907,
          0.5668305156554925,
          1.6039775473847573,
          1.3707010942956015,
          0.43850866148625123,
          1.0295632712010863,
          0.4628062783971533,
          -0.09196565989581211,
          0.10106709283112156,
          -0.25825437843646293,
          1.311841406736645,
          -0.04561607748831737,
          0.9986168276634753,
          -1.1692664545784839,
          2.0607261167534308,
          -0.03489069796686348,
          -0.9817027574319807,
          -1.828275897713146,
          -0.13307937775464979
         ],
         "xaxis": "x12",
         "y": [
          1.2982356591642445,
          0.15427115901690341,
          1.0213467155156255,
          1.232635888537672,
          -0.22895222538532137,
          1.954511785901398,
          -0.3942545853071218,
          -0.8092251193718866,
          -0.12322104508539473,
          1.2286788093130638,
          0.3874343994934357,
          -2.2953744065269643,
          2.017388879406804,
          1.1193266759672091,
          -0.2746008943626236,
          -0.8065314918764688,
          0.972762641451173,
          0.5074579567461822,
          1.0118902717327247,
          0.401509381385972,
          0.0639114665073889,
          -1.8663631190800596,
          0.1387441893866892,
          0.1428873542876622,
          0.47682850878052335,
          -0.36571985711014215,
          -1.5460929902125424,
          0.5198596011344117,
          -1.6173676235504222,
          -1.4356016266184148,
          -0.07050502844673512,
          0.5575637873458781,
          -2.1652567182684646,
          0.5870162986735613,
          -0.8773663572243663,
          -0.6858001901123327,
          2.7969800829027123,
          -0.5458885428916942,
          1.1181997296247015,
          -0.11673408876087886,
          0.6404059497492122,
          -1.728413741794743,
          0.3983029336729583,
          -0.7246637943231838,
          -0.8739988801359196,
          -0.8953673781193359,
          1.0188898265321207,
          0.17867461627604825,
          -0.7954294822668724,
          0.4636630050156447,
          -0.6784390426197163,
          0.15119517232480975,
          0.24758404252618696,
          0.4332548808024751,
          -0.573257381134931,
          -0.543358203976377,
          1.1269166836129816,
          -0.23872781757691822,
          -1.3099931941537102,
          -1.0582198694901048,
          -0.4262076857305047,
          1.423853630818953,
          -0.36089078387376755,
          -2.154339180537667,
          2.476822997091817,
          0.32141164193151145,
          1.7050486382039032,
          -0.504611966141616,
          -1.397522139381618,
          0.8479678308837004,
          -0.8297755982819625,
          1.0577651562083943,
          -0.9101582376316869,
          -0.0029074583485230563,
          0.2608575614760658,
          -0.7803371558458617,
          -2.145391997779593,
          -0.7063161942876157,
          0.16239921321512515,
          -0.07683075830387348,
          1.0607037175653777,
          0.9544867857313885,
          -0.11793678009979827,
          0.2102582181812343,
          -0.8387898266596429,
          -0.4206283693985038,
          -0.8152428246157843,
          -0.7276697598353788,
          -1.1329929330756752,
          -1.4466041035213315,
          -0.9848748287647158,
          0.1180319292781396,
          -0.8776375086870779,
          -1.2821605470681214,
          0.24414266199380305,
          0.8141424501001563,
          -0.2765616564967207,
          0.47783868175145766,
          -0.9965387453155009,
          -0.09458406917183024
         ],
         "yaxis": "y12"
        },
        {
         "line": {
          "color": "rgba(128, 128, 128, 1.0)",
          "dash": "solid",
          "shape": "linear",
          "width": 1.3
         },
         "marker": {
          "size": 2,
          "symbol": "circle"
         },
         "mode": "markers",
         "name": "D",
         "text": "",
         "type": "scatter",
         "x": [
          -1.3915514466454946,
          -0.25186847805576157,
          0.9579228727741338,
          0.6029271487268496,
          0.416448674464561,
          0.34063531233394767,
          -0.08459004387470692,
          0.713619317860425,
          1.7908137198587653,
          -0.07774446546417446,
          0.7818861612515148,
          -0.08045802462218049,
          -1.3925376997334935,
          -0.25889123457565444,
          -1.2380068464047667,
          -1.6796053268216884,
          1.1389527186859345,
          -2.15319053603754,
          0.24225207650860273,
          0.5323379650228895,
          -0.2096440229785707,
          0.21953657917641956,
          -1.0938795941576012,
          -0.10577547603312083,
          0.6384250404551687,
          -0.2721945316885118,
          3.265738204544427,
          0.3766017189657574,
          0.33886279379065204,
          1.2190050065519333,
          0.3104100087786091,
          0.26952115201931115,
          -2.3923810892739246,
          0.8770803830120577,
          0.6561754993661268,
          -1.2310665672205874,
          -1.1856641101789074,
          0.41805322561991626,
          -0.9247175847838351,
          0.23277995300774626,
          0.4067275700600627,
          -1.428613771269792,
          1.4839020736203505,
          0.7633645943548794,
          2.7756705575375586,
          -0.46463372800975183,
          0.004306649259857492,
          0.9645256070376517,
          -0.005185290726101883,
          2.6020206278107167,
          -0.885626602219863,
          1.3517771551572877,
          1.4041522296440263,
          -0.37747456790116,
          0.15412506809685084,
          -1.3868854662382721,
          0.6433483582256894,
          0.9983683388092811,
          -0.12169074845217757,
          -2.1176310033064594,
          -0.06264728472444926,
          -1.0150462339749775,
          0.7360528445825723,
          0.5333439301874713,
          0.35198578229550376,
          0.6072697451499537,
          -2.124423431145739,
          0.45861870101295915,
          0.3901706387730426,
          0.9359092339197448,
          -0.1480147716292342,
          -0.4323566165303779,
          0.7653655916578783,
          -0.19732640194278503,
          -0.1465413420198137,
          0.7142610412011294,
          1.1418243316888386,
          -0.3253132381128121,
          1.5515260657660772,
          0.309161311286864,
          -0.8358998861552829,
          1.3655510433969495,
          0.0632015316988487,
          -0.016827268343440532,
          0.7506720191468409,
          -0.5595071040238351,
          -0.6947205233455448,
          1.142499758085739,
          -2.147256982261882,
          -1.02211137709033,
          0.4065176710241965,
          0.5728619428353131,
          -0.2066640210509487,
          -0.9245155918409756,
          0.19822024602242874,
          1.4207896192934248,
          -1.67439132302367,
          0.8101476190574366,
          1.1438891096596677,
          -0.24724589169943464
         ],
         "xaxis": "x13",
         "y": [
          -0.6833341122857621,
          -1.186518198081401,
          0.7440360616704014,
          -0.4724438209696136,
          -0.3726398238770978,
          0.04117066612790381,
          -0.12165221701464178,
          -0.3582447039742966,
          -0.9614060037617944,
          0.738115872324706,
          -0.08819366108400076,
          1.223355545014585,
          1.4230621728241735,
          -0.0713488500790235,
          -0.37552458341578615,
          1.4051767793554675,
          1.5048150109432545,
          1.1539930776722223,
          0.37183774749061793,
          1.2137171768818364,
          0.2647832955019624,
          0.08301689949870196,
          -0.08352492211042305,
          0.17603067516678184,
          1.3426263722935805,
          1.4710969763164121,
          0.3723008765493016,
          0.8302101906900898,
          0.4293110699434798,
          -1.7014499397610496,
          -0.7462107273631216,
          -0.062418203425431834,
          -0.4521898440150753,
          1.0374670134271229,
          -0.03827027493552959,
          2.627813687110325,
          0.6891056995922998,
          0.9496908564080698,
          -0.5173382461484048,
          -1.7998833834458434,
          -0.3058413154285717,
          -1.2147511852081776,
          -1.005887489678001,
          -0.30709897227715727,
          0.37256104976328275,
          0.12874701718905396,
          0.40465242152470143,
          1.1456196270354793,
          -0.9876226453689538,
          -0.32062717671141766,
          -0.4477698824738656,
          0.37035700057779575,
          -0.6728757045446571,
          0.13727837951958757,
          -0.8365857241976379,
          -0.862833170927694,
          -0.2321665491113636,
          -0.3096342804538494,
          0.8796768280896852,
          -0.1138722149396076,
          0.26259767826855795,
          -0.1723152186005268,
          0.10650986454691985,
          -0.674854272338543,
          0.607077893069324,
          1.077104763029846,
          0.306009787291824,
          1.6189631446653476,
          0.18641228222526587,
          0.1002952216652406,
          0.35384730130886494,
          -0.5592970923758837,
          1.6810924067739625,
          -0.22801226336023897,
          -0.007212983814382795,
          -0.8884243908142498,
          0.007373212437131988,
          -1.4994425212206395,
          0.2858613226319799,
          0.7723744957643544,
          0.006207666093432797,
          -0.9831130172701907,
          0.5668305156554925,
          1.6039775473847573,
          1.3707010942956015,
          0.43850866148625123,
          1.0295632712010863,
          0.4628062783971533,
          -0.09196565989581211,
          0.10106709283112156,
          -0.25825437843646293,
          1.311841406736645,
          -0.04561607748831737,
          0.9986168276634753,
          -1.1692664545784839,
          2.0607261167534308,
          -0.03489069796686348,
          -0.9817027574319807,
          -1.828275897713146,
          -0.13307937775464979
         ],
         "yaxis": "y13"
        },
        {
         "line": {
          "color": "rgba(128, 128, 128, 1.0)",
          "dash": "solid",
          "shape": "linear",
          "width": 1.3
         },
         "marker": {
          "size": 2,
          "symbol": "circle"
         },
         "mode": "markers",
         "name": "D",
         "text": "",
         "type": "scatter",
         "x": [
          -1.8063135150409384,
          -0.7679513004948498,
          -0.8742919766403517,
          0.3070143950458193,
          1.1665253316654558,
          -0.2262683166260905,
          -0.4917852269151437,
          -0.08073729843021035,
          2.8334375843659645,
          1.1532207799473548,
          -0.03814254313590681,
          -0.10568906458824325,
          -0.31317568710161725,
          0.999191108558023,
          0.8385632979585733,
          0.41534933039874006,
          0.8797805528306242,
          -1.2497080083648895,
          -1.7911041602373101,
          0.7630643074653287,
          2.5892130854872626,
          -0.5439208326964506,
          -1.3750796123608928,
          -1.729704664812876,
          0.5578288145910832,
          1.0036536830512153,
          -0.1714020047363067,
          -0.19405615495300366,
          0.6919399765482697,
          0.9695804954012914,
          1.350663420111455,
          -1.240062693169029,
          -1.348240459508053,
          1.4623370752557971,
          -0.48168927519920546,
          0.39784876136248515,
          -0.9024576145690437,
          -0.6935679814885369,
          -0.3761127379085823,
          -0.36623141625460714,
          -0.2451594279515256,
          0.026402940006598093,
          -0.32046021467091446,
          1.1112009255824087,
          0.2187696308981625,
          -2.505044161953846,
          -0.6162072553432347,
          -0.015565844051689669,
          1.7854810856777485,
          0.3541192142490893,
          0.5263691204633134,
          1.3994577056620974,
          -1.3428712151096527,
          1.1255059881410612,
          0.9500501528505452,
          0.23415698180013855,
          0.15335525171261927,
          -0.052071479834325515,
          -1.4232941345045214,
          0.7132256996685288,
          0.5489697164118927,
          -0.5726168408446426,
          0.4621316906319872,
          2.0945996369123625,
          -0.6293460980779058,
          1.0075453751062597,
          0.10083326030721385,
          -2.2013485061886473,
          -0.3898105142975688,
          -1.0896725401553105,
          -1.8597732189447154,
          0.3905174313184132,
          -0.3104515621834238,
          0.8040065537583236,
          -1.0797745253519242,
          0.8367161653986137,
          -1.2674111303051174,
          -0.6763387257899182,
          -1.092639906945907,
          1.0449811622012086,
          1.8517700485195743,
          -0.13757886943215655,
          0.7259595503006789,
          -0.9096144399987279,
          0.6074501093482007,
          -0.7191397729519661,
          1.907848397028853,
          -0.8418897038835749,
          0.06575111015677335,
          -2.0389882885122126,
          -1.53917556051178,
          0.9015627864510748,
          0.09360031995000555,
          0.10739423129650766,
          0.6419278156297985,
          -0.23432958246422325,
          0.1178203071042369,
          -0.9005807904385831,
          1.2181737505496018,
          -0.5324878800398267
         ],
         "xaxis": "x14",
         "y": [
          -0.6833341122857621,
          -1.186518198081401,
          0.7440360616704014,
          -0.4724438209696136,
          -0.3726398238770978,
          0.04117066612790381,
          -0.12165221701464178,
          -0.3582447039742966,
          -0.9614060037617944,
          0.738115872324706,
          -0.08819366108400076,
          1.223355545014585,
          1.4230621728241735,
          -0.0713488500790235,
          -0.37552458341578615,
          1.4051767793554675,
          1.5048150109432545,
          1.1539930776722223,
          0.37183774749061793,
          1.2137171768818364,
          0.2647832955019624,
          0.08301689949870196,
          -0.08352492211042305,
          0.17603067516678184,
          1.3426263722935805,
          1.4710969763164121,
          0.3723008765493016,
          0.8302101906900898,
          0.4293110699434798,
          -1.7014499397610496,
          -0.7462107273631216,
          -0.062418203425431834,
          -0.4521898440150753,
          1.0374670134271229,
          -0.03827027493552959,
          2.627813687110325,
          0.6891056995922998,
          0.9496908564080698,
          -0.5173382461484048,
          -1.7998833834458434,
          -0.3058413154285717,
          -1.2147511852081776,
          -1.005887489678001,
          -0.30709897227715727,
          0.37256104976328275,
          0.12874701718905396,
          0.40465242152470143,
          1.1456196270354793,
          -0.9876226453689538,
          -0.32062717671141766,
          -0.4477698824738656,
          0.37035700057779575,
          -0.6728757045446571,
          0.13727837951958757,
          -0.8365857241976379,
          -0.862833170927694,
          -0.2321665491113636,
          -0.3096342804538494,
          0.8796768280896852,
          -0.1138722149396076,
          0.26259767826855795,
          -0.1723152186005268,
          0.10650986454691985,
          -0.674854272338543,
          0.607077893069324,
          1.077104763029846,
          0.306009787291824,
          1.6189631446653476,
          0.18641228222526587,
          0.1002952216652406,
          0.35384730130886494,
          -0.5592970923758837,
          1.6810924067739625,
          -0.22801226336023897,
          -0.007212983814382795,
          -0.8884243908142498,
          0.007373212437131988,
          -1.4994425212206395,
          0.2858613226319799,
          0.7723744957643544,
          0.006207666093432797,
          -0.9831130172701907,
          0.5668305156554925,
          1.6039775473847573,
          1.3707010942956015,
          0.43850866148625123,
          1.0295632712010863,
          0.4628062783971533,
          -0.09196565989581211,
          0.10106709283112156,
          -0.25825437843646293,
          1.311841406736645,
          -0.04561607748831737,
          0.9986168276634753,
          -1.1692664545784839,
          2.0607261167534308,
          -0.03489069796686348,
          -0.9817027574319807,
          -1.828275897713146,
          -0.13307937775464979
         ],
         "yaxis": "y14"
        },
        {
         "line": {
          "color": "rgba(128, 128, 128, 1.0)",
          "dash": "solid",
          "shape": "linear",
          "width": 1.3
         },
         "marker": {
          "size": 2,
          "symbol": "circle"
         },
         "mode": "markers",
         "name": "D",
         "text": "",
         "type": "scatter",
         "x": [
          1.2982356591642445,
          0.15427115901690341,
          1.0213467155156255,
          1.232635888537672,
          -0.22895222538532137,
          1.954511785901398,
          -0.3942545853071218,
          -0.8092251193718866,
          -0.12322104508539473,
          1.2286788093130638,
          0.3874343994934357,
          -2.2953744065269643,
          2.017388879406804,
          1.1193266759672091,
          -0.2746008943626236,
          -0.8065314918764688,
          0.972762641451173,
          0.5074579567461822,
          1.0118902717327247,
          0.401509381385972,
          0.0639114665073889,
          -1.8663631190800596,
          0.1387441893866892,
          0.1428873542876622,
          0.47682850878052335,
          -0.36571985711014215,
          -1.5460929902125424,
          0.5198596011344117,
          -1.6173676235504222,
          -1.4356016266184148,
          -0.07050502844673512,
          0.5575637873458781,
          -2.1652567182684646,
          0.5870162986735613,
          -0.8773663572243663,
          -0.6858001901123327,
          2.7969800829027123,
          -0.5458885428916942,
          1.1181997296247015,
          -0.11673408876087886,
          0.6404059497492122,
          -1.728413741794743,
          0.3983029336729583,
          -0.7246637943231838,
          -0.8739988801359196,
          -0.8953673781193359,
          1.0188898265321207,
          0.17867461627604825,
          -0.7954294822668724,
          0.4636630050156447,
          -0.6784390426197163,
          0.15119517232480975,
          0.24758404252618696,
          0.4332548808024751,
          -0.573257381134931,
          -0.543358203976377,
          1.1269166836129816,
          -0.23872781757691822,
          -1.3099931941537102,
          -1.0582198694901048,
          -0.4262076857305047,
          1.423853630818953,
          -0.36089078387376755,
          -2.154339180537667,
          2.476822997091817,
          0.32141164193151145,
          1.7050486382039032,
          -0.504611966141616,
          -1.397522139381618,
          0.8479678308837004,
          -0.8297755982819625,
          1.0577651562083943,
          -0.9101582376316869,
          -0.0029074583485230563,
          0.2608575614760658,
          -0.7803371558458617,
          -2.145391997779593,
          -0.7063161942876157,
          0.16239921321512515,
          -0.07683075830387348,
          1.0607037175653777,
          0.9544867857313885,
          -0.11793678009979827,
          0.2102582181812343,
          -0.8387898266596429,
          -0.4206283693985038,
          -0.8152428246157843,
          -0.7276697598353788,
          -1.1329929330756752,
          -1.4466041035213315,
          -0.9848748287647158,
          0.1180319292781396,
          -0.8776375086870779,
          -1.2821605470681214,
          0.24414266199380305,
          0.8141424501001563,
          -0.2765616564967207,
          0.47783868175145766,
          -0.9965387453155009,
          -0.09458406917183024
         ],
         "xaxis": "x15",
         "y": [
          -0.6833341122857621,
          -1.186518198081401,
          0.7440360616704014,
          -0.4724438209696136,
          -0.3726398238770978,
          0.04117066612790381,
          -0.12165221701464178,
          -0.3582447039742966,
          -0.9614060037617944,
          0.738115872324706,
          -0.08819366108400076,
          1.223355545014585,
          1.4230621728241735,
          -0.0713488500790235,
          -0.37552458341578615,
          1.4051767793554675,
          1.5048150109432545,
          1.1539930776722223,
          0.37183774749061793,
          1.2137171768818364,
          0.2647832955019624,
          0.08301689949870196,
          -0.08352492211042305,
          0.17603067516678184,
          1.3426263722935805,
          1.4710969763164121,
          0.3723008765493016,
          0.8302101906900898,
          0.4293110699434798,
          -1.7014499397610496,
          -0.7462107273631216,
          -0.062418203425431834,
          -0.4521898440150753,
          1.0374670134271229,
          -0.03827027493552959,
          2.627813687110325,
          0.6891056995922998,
          0.9496908564080698,
          -0.5173382461484048,
          -1.7998833834458434,
          -0.3058413154285717,
          -1.2147511852081776,
          -1.005887489678001,
          -0.30709897227715727,
          0.37256104976328275,
          0.12874701718905396,
          0.40465242152470143,
          1.1456196270354793,
          -0.9876226453689538,
          -0.32062717671141766,
          -0.4477698824738656,
          0.37035700057779575,
          -0.6728757045446571,
          0.13727837951958757,
          -0.8365857241976379,
          -0.862833170927694,
          -0.2321665491113636,
          -0.3096342804538494,
          0.8796768280896852,
          -0.1138722149396076,
          0.26259767826855795,
          -0.1723152186005268,
          0.10650986454691985,
          -0.674854272338543,
          0.607077893069324,
          1.077104763029846,
          0.306009787291824,
          1.6189631446653476,
          0.18641228222526587,
          0.1002952216652406,
          0.35384730130886494,
          -0.5592970923758837,
          1.6810924067739625,
          -0.22801226336023897,
          -0.007212983814382795,
          -0.8884243908142498,
          0.007373212437131988,
          -1.4994425212206395,
          0.2858613226319799,
          0.7723744957643544,
          0.006207666093432797,
          -0.9831130172701907,
          0.5668305156554925,
          1.6039775473847573,
          1.3707010942956015,
          0.43850866148625123,
          1.0295632712010863,
          0.4628062783971533,
          -0.09196565989581211,
          0.10106709283112156,
          -0.25825437843646293,
          1.311841406736645,
          -0.04561607748831737,
          0.9986168276634753,
          -1.1692664545784839,
          2.0607261167534308,
          -0.03489069796686348,
          -0.9817027574319807,
          -1.828275897713146,
          -0.13307937775464979
         ],
         "yaxis": "y15"
        },
        {
         "histfunc": "count",
         "histnorm": "",
         "marker": {
          "color": "rgba(128, 0, 128, 1.0)",
          "line": {
           "color": "#4D5663",
           "width": 1.3
          }
         },
         "name": "D",
         "nbinsx": 10,
         "opacity": 0.8,
         "orientation": "v",
         "type": "histogram",
         "x": [
          -0.6833341122857621,
          -1.186518198081401,
          0.7440360616704014,
          -0.4724438209696136,
          -0.3726398238770978,
          0.04117066612790381,
          -0.12165221701464178,
          -0.3582447039742966,
          -0.9614060037617944,
          0.738115872324706,
          -0.08819366108400076,
          1.223355545014585,
          1.4230621728241735,
          -0.0713488500790235,
          -0.37552458341578615,
          1.4051767793554675,
          1.5048150109432545,
          1.1539930776722223,
          0.37183774749061793,
          1.2137171768818364,
          0.2647832955019624,
          0.08301689949870196,
          -0.08352492211042305,
          0.17603067516678184,
          1.3426263722935805,
          1.4710969763164121,
          0.3723008765493016,
          0.8302101906900898,
          0.4293110699434798,
          -1.7014499397610496,
          -0.7462107273631216,
          -0.062418203425431834,
          -0.4521898440150753,
          1.0374670134271229,
          -0.03827027493552959,
          2.627813687110325,
          0.6891056995922998,
          0.9496908564080698,
          -0.5173382461484048,
          -1.7998833834458434,
          -0.3058413154285717,
          -1.2147511852081776,
          -1.005887489678001,
          -0.30709897227715727,
          0.37256104976328275,
          0.12874701718905396,
          0.40465242152470143,
          1.1456196270354793,
          -0.9876226453689538,
          -0.32062717671141766,
          -0.4477698824738656,
          0.37035700057779575,
          -0.6728757045446571,
          0.13727837951958757,
          -0.8365857241976379,
          -0.862833170927694,
          -0.2321665491113636,
          -0.3096342804538494,
          0.8796768280896852,
          -0.1138722149396076,
          0.26259767826855795,
          -0.1723152186005268,
          0.10650986454691985,
          -0.674854272338543,
          0.607077893069324,
          1.077104763029846,
          0.306009787291824,
          1.6189631446653476,
          0.18641228222526587,
          0.1002952216652406,
          0.35384730130886494,
          -0.5592970923758837,
          1.6810924067739625,
          -0.22801226336023897,
          -0.007212983814382795,
          -0.8884243908142498,
          0.007373212437131988,
          -1.4994425212206395,
          0.2858613226319799,
          0.7723744957643544,
          0.006207666093432797,
          -0.9831130172701907,
          0.5668305156554925,
          1.6039775473847573,
          1.3707010942956015,
          0.43850866148625123,
          1.0295632712010863,
          0.4628062783971533,
          -0.09196565989581211,
          0.10106709283112156,
          -0.25825437843646293,
          1.311841406736645,
          -0.04561607748831737,
          0.9986168276634753,
          -1.1692664545784839,
          2.0607261167534308,
          -0.03489069796686348,
          -0.9817027574319807,
          -1.828275897713146,
          -0.13307937775464979
         ],
         "xaxis": "x16",
         "yaxis": "y16"
        }
       ],
       "layout": {
        "bargap": 0.02,
        "legend": {
         "bgcolor": "#F5F6F9",
         "font": {
          "color": "#4D5663"
         }
        },
        "paper_bgcolor": "#F5F6F9",
        "plot_bgcolor": "#F5F6F9",
        "showlegend": false,
        "template": {
         "data": {
          "bar": [
           {
            "error_x": {
             "color": "#2a3f5f"
            },
            "error_y": {
             "color": "#2a3f5f"
            },
            "marker": {
             "line": {
              "color": "#E5ECF6",
              "width": 0.5
             }
            },
            "type": "bar"
           }
          ],
          "barpolar": [
           {
            "marker": {
             "line": {
              "color": "#E5ECF6",
              "width": 0.5
             }
            },
            "type": "barpolar"
           }
          ],
          "carpet": [
           {
            "aaxis": {
             "endlinecolor": "#2a3f5f",
             "gridcolor": "white",
             "linecolor": "white",
             "minorgridcolor": "white",
             "startlinecolor": "#2a3f5f"
            },
            "baxis": {
             "endlinecolor": "#2a3f5f",
             "gridcolor": "white",
             "linecolor": "white",
             "minorgridcolor": "white",
             "startlinecolor": "#2a3f5f"
            },
            "type": "carpet"
           }
          ],
          "choropleth": [
           {
            "colorbar": {
             "outlinewidth": 0,
             "ticks": ""
            },
            "type": "choropleth"
           }
          ],
          "contour": [
           {
            "colorbar": {
             "outlinewidth": 0,
             "ticks": ""
            },
            "colorscale": [
             [
              0,
              "#0d0887"
             ],
             [
              0.1111111111111111,
              "#46039f"
             ],
             [
              0.2222222222222222,
              "#7201a8"
             ],
             [
              0.3333333333333333,
              "#9c179e"
             ],
             [
              0.4444444444444444,
              "#bd3786"
             ],
             [
              0.5555555555555556,
              "#d8576b"
             ],
             [
              0.6666666666666666,
              "#ed7953"
             ],
             [
              0.7777777777777778,
              "#fb9f3a"
             ],
             [
              0.8888888888888888,
              "#fdca26"
             ],
             [
              1,
              "#f0f921"
             ]
            ],
            "type": "contour"
           }
          ],
          "contourcarpet": [
           {
            "colorbar": {
             "outlinewidth": 0,
             "ticks": ""
            },
            "type": "contourcarpet"
           }
          ],
          "heatmap": [
           {
            "colorbar": {
             "outlinewidth": 0,
             "ticks": ""
            },
            "colorscale": [
             [
              0,
              "#0d0887"
             ],
             [
              0.1111111111111111,
              "#46039f"
             ],
             [
              0.2222222222222222,
              "#7201a8"
             ],
             [
              0.3333333333333333,
              "#9c179e"
             ],
             [
              0.4444444444444444,
              "#bd3786"
             ],
             [
              0.5555555555555556,
              "#d8576b"
             ],
             [
              0.6666666666666666,
              "#ed7953"
             ],
             [
              0.7777777777777778,
              "#fb9f3a"
             ],
             [
              0.8888888888888888,
              "#fdca26"
             ],
             [
              1,
              "#f0f921"
             ]
            ],
            "type": "heatmap"
           }
          ],
          "heatmapgl": [
           {
            "colorbar": {
             "outlinewidth": 0,
             "ticks": ""
            },
            "colorscale": [
             [
              0,
              "#0d0887"
             ],
             [
              0.1111111111111111,
              "#46039f"
             ],
             [
              0.2222222222222222,
              "#7201a8"
             ],
             [
              0.3333333333333333,
              "#9c179e"
             ],
             [
              0.4444444444444444,
              "#bd3786"
             ],
             [
              0.5555555555555556,
              "#d8576b"
             ],
             [
              0.6666666666666666,
              "#ed7953"
             ],
             [
              0.7777777777777778,
              "#fb9f3a"
             ],
             [
              0.8888888888888888,
              "#fdca26"
             ],
             [
              1,
              "#f0f921"
             ]
            ],
            "type": "heatmapgl"
           }
          ],
          "histogram": [
           {
            "marker": {
             "colorbar": {
              "outlinewidth": 0,
              "ticks": ""
             }
            },
            "type": "histogram"
           }
          ],
          "histogram2d": [
           {
            "colorbar": {
             "outlinewidth": 0,
             "ticks": ""
            },
            "colorscale": [
             [
              0,
              "#0d0887"
             ],
             [
              0.1111111111111111,
              "#46039f"
             ],
             [
              0.2222222222222222,
              "#7201a8"
             ],
             [
              0.3333333333333333,
              "#9c179e"
             ],
             [
              0.4444444444444444,
              "#bd3786"
             ],
             [
              0.5555555555555556,
              "#d8576b"
             ],
             [
              0.6666666666666666,
              "#ed7953"
             ],
             [
              0.7777777777777778,
              "#fb9f3a"
             ],
             [
              0.8888888888888888,
              "#fdca26"
             ],
             [
              1,
              "#f0f921"
             ]
            ],
            "type": "histogram2d"
           }
          ],
          "histogram2dcontour": [
           {
            "colorbar": {
             "outlinewidth": 0,
             "ticks": ""
            },
            "colorscale": [
             [
              0,
              "#0d0887"
             ],
             [
              0.1111111111111111,
              "#46039f"
             ],
             [
              0.2222222222222222,
              "#7201a8"
             ],
             [
              0.3333333333333333,
              "#9c179e"
             ],
             [
              0.4444444444444444,
              "#bd3786"
             ],
             [
              0.5555555555555556,
              "#d8576b"
             ],
             [
              0.6666666666666666,
              "#ed7953"
             ],
             [
              0.7777777777777778,
              "#fb9f3a"
             ],
             [
              0.8888888888888888,
              "#fdca26"
             ],
             [
              1,
              "#f0f921"
             ]
            ],
            "type": "histogram2dcontour"
           }
          ],
          "mesh3d": [
           {
            "colorbar": {
             "outlinewidth": 0,
             "ticks": ""
            },
            "type": "mesh3d"
           }
          ],
          "parcoords": [
           {
            "line": {
             "colorbar": {
              "outlinewidth": 0,
              "ticks": ""
             }
            },
            "type": "parcoords"
           }
          ],
          "pie": [
           {
            "automargin": true,
            "type": "pie"
           }
          ],
          "scatter": [
           {
            "marker": {
             "colorbar": {
              "outlinewidth": 0,
              "ticks": ""
             }
            },
            "type": "scatter"
           }
          ],
          "scatter3d": [
           {
            "line": {
             "colorbar": {
              "outlinewidth": 0,
              "ticks": ""
             }
            },
            "marker": {
             "colorbar": {
              "outlinewidth": 0,
              "ticks": ""
             }
            },
            "type": "scatter3d"
           }
          ],
          "scattercarpet": [
           {
            "marker": {
             "colorbar": {
              "outlinewidth": 0,
              "ticks": ""
             }
            },
            "type": "scattercarpet"
           }
          ],
          "scattergeo": [
           {
            "marker": {
             "colorbar": {
              "outlinewidth": 0,
              "ticks": ""
             }
            },
            "type": "scattergeo"
           }
          ],
          "scattergl": [
           {
            "marker": {
             "colorbar": {
              "outlinewidth": 0,
              "ticks": ""
             }
            },
            "type": "scattergl"
           }
          ],
          "scattermapbox": [
           {
            "marker": {
             "colorbar": {
              "outlinewidth": 0,
              "ticks": ""
             }
            },
            "type": "scattermapbox"
           }
          ],
          "scatterpolar": [
           {
            "marker": {
             "colorbar": {
              "outlinewidth": 0,
              "ticks": ""
             }
            },
            "type": "scatterpolar"
           }
          ],
          "scatterpolargl": [
           {
            "marker": {
             "colorbar": {
              "outlinewidth": 0,
              "ticks": ""
             }
            },
            "type": "scatterpolargl"
           }
          ],
          "scatterternary": [
           {
            "marker": {
             "colorbar": {
              "outlinewidth": 0,
              "ticks": ""
             }
            },
            "type": "scatterternary"
           }
          ],
          "surface": [
           {
            "colorbar": {
             "outlinewidth": 0,
             "ticks": ""
            },
            "colorscale": [
             [
              0,
              "#0d0887"
             ],
             [
              0.1111111111111111,
              "#46039f"
             ],
             [
              0.2222222222222222,
              "#7201a8"
             ],
             [
              0.3333333333333333,
              "#9c179e"
             ],
             [
              0.4444444444444444,
              "#bd3786"
             ],
             [
              0.5555555555555556,
              "#d8576b"
             ],
             [
              0.6666666666666666,
              "#ed7953"
             ],
             [
              0.7777777777777778,
              "#fb9f3a"
             ],
             [
              0.8888888888888888,
              "#fdca26"
             ],
             [
              1,
              "#f0f921"
             ]
            ],
            "type": "surface"
           }
          ],
          "table": [
           {
            "cells": {
             "fill": {
              "color": "#EBF0F8"
             },
             "line": {
              "color": "white"
             }
            },
            "header": {
             "fill": {
              "color": "#C8D4E3"
             },
             "line": {
              "color": "white"
             }
            },
            "type": "table"
           }
          ]
         },
         "layout": {
          "annotationdefaults": {
           "arrowcolor": "#2a3f5f",
           "arrowhead": 0,
           "arrowwidth": 1
          },
          "coloraxis": {
           "colorbar": {
            "outlinewidth": 0,
            "ticks": ""
           }
          },
          "colorscale": {
           "diverging": [
            [
             0,
             "#8e0152"
            ],
            [
             0.1,
             "#c51b7d"
            ],
            [
             0.2,
             "#de77ae"
            ],
            [
             0.3,
             "#f1b6da"
            ],
            [
             0.4,
             "#fde0ef"
            ],
            [
             0.5,
             "#f7f7f7"
            ],
            [
             0.6,
             "#e6f5d0"
            ],
            [
             0.7,
             "#b8e186"
            ],
            [
             0.8,
             "#7fbc41"
            ],
            [
             0.9,
             "#4d9221"
            ],
            [
             1,
             "#276419"
            ]
           ],
           "sequential": [
            [
             0,
             "#0d0887"
            ],
            [
             0.1111111111111111,
             "#46039f"
            ],
            [
             0.2222222222222222,
             "#7201a8"
            ],
            [
             0.3333333333333333,
             "#9c179e"
            ],
            [
             0.4444444444444444,
             "#bd3786"
            ],
            [
             0.5555555555555556,
             "#d8576b"
            ],
            [
             0.6666666666666666,
             "#ed7953"
            ],
            [
             0.7777777777777778,
             "#fb9f3a"
            ],
            [
             0.8888888888888888,
             "#fdca26"
            ],
            [
             1,
             "#f0f921"
            ]
           ],
           "sequentialminus": [
            [
             0,
             "#0d0887"
            ],
            [
             0.1111111111111111,
             "#46039f"
            ],
            [
             0.2222222222222222,
             "#7201a8"
            ],
            [
             0.3333333333333333,
             "#9c179e"
            ],
            [
             0.4444444444444444,
             "#bd3786"
            ],
            [
             0.5555555555555556,
             "#d8576b"
            ],
            [
             0.6666666666666666,
             "#ed7953"
            ],
            [
             0.7777777777777778,
             "#fb9f3a"
            ],
            [
             0.8888888888888888,
             "#fdca26"
            ],
            [
             1,
             "#f0f921"
            ]
           ]
          },
          "colorway": [
           "#636efa",
           "#EF553B",
           "#00cc96",
           "#ab63fa",
           "#FFA15A",
           "#19d3f3",
           "#FF6692",
           "#B6E880",
           "#FF97FF",
           "#FECB52"
          ],
          "font": {
           "color": "#2a3f5f"
          },
          "geo": {
           "bgcolor": "white",
           "lakecolor": "white",
           "landcolor": "#E5ECF6",
           "showlakes": true,
           "showland": true,
           "subunitcolor": "white"
          },
          "hoverlabel": {
           "align": "left"
          },
          "hovermode": "closest",
          "mapbox": {
           "style": "light"
          },
          "paper_bgcolor": "white",
          "plot_bgcolor": "#E5ECF6",
          "polar": {
           "angularaxis": {
            "gridcolor": "white",
            "linecolor": "white",
            "ticks": ""
           },
           "bgcolor": "#E5ECF6",
           "radialaxis": {
            "gridcolor": "white",
            "linecolor": "white",
            "ticks": ""
           }
          },
          "scene": {
           "xaxis": {
            "backgroundcolor": "#E5ECF6",
            "gridcolor": "white",
            "gridwidth": 2,
            "linecolor": "white",
            "showbackground": true,
            "ticks": "",
            "zerolinecolor": "white"
           },
           "yaxis": {
            "backgroundcolor": "#E5ECF6",
            "gridcolor": "white",
            "gridwidth": 2,
            "linecolor": "white",
            "showbackground": true,
            "ticks": "",
            "zerolinecolor": "white"
           },
           "zaxis": {
            "backgroundcolor": "#E5ECF6",
            "gridcolor": "white",
            "gridwidth": 2,
            "linecolor": "white",
            "showbackground": true,
            "ticks": "",
            "zerolinecolor": "white"
           }
          },
          "shapedefaults": {
           "line": {
            "color": "#2a3f5f"
           }
          },
          "ternary": {
           "aaxis": {
            "gridcolor": "white",
            "linecolor": "white",
            "ticks": ""
           },
           "baxis": {
            "gridcolor": "white",
            "linecolor": "white",
            "ticks": ""
           },
           "bgcolor": "#E5ECF6",
           "caxis": {
            "gridcolor": "white",
            "linecolor": "white",
            "ticks": ""
           }
          },
          "title": {
           "x": 0.05
          },
          "xaxis": {
           "automargin": true,
           "gridcolor": "white",
           "linecolor": "white",
           "ticks": "",
           "title": {
            "standoff": 15
           },
           "zerolinecolor": "white",
           "zerolinewidth": 2
          },
          "yaxis": {
           "automargin": true,
           "gridcolor": "white",
           "linecolor": "white",
           "ticks": "",
           "title": {
            "standoff": 15
           },
           "zerolinecolor": "white",
           "zerolinewidth": 2
          }
         }
        },
        "title": {
         "font": {
          "color": "#4D5663"
         }
        },
        "xaxis": {
         "anchor": "y",
         "domain": [
          0,
          0.2125
         ],
         "gridcolor": "#E1E5ED",
         "showgrid": false,
         "tickfont": {
          "color": "#4D5663"
         },
         "title": {
          "font": {
           "color": "#4D5663"
          },
          "text": ""
         },
         "zerolinecolor": "#E1E5ED"
        },
        "xaxis10": {
         "anchor": "y10",
         "domain": [
          0.2625,
          0.475
         ],
         "gridcolor": "#E1E5ED",
         "showgrid": false,
         "tickfont": {
          "color": "#4D5663"
         },
         "title": {
          "font": {
           "color": "#4D5663"
          },
          "text": ""
         },
         "zerolinecolor": "#E1E5ED"
        },
        "xaxis11": {
         "anchor": "y11",
         "domain": [
          0.525,
          0.7375
         ],
         "gridcolor": "#E1E5ED",
         "showgrid": false,
         "tickfont": {
          "color": "#4D5663"
         },
         "title": {
          "font": {
           "color": "#4D5663"
          },
          "text": ""
         },
         "zerolinecolor": "#E1E5ED"
        },
        "xaxis12": {
         "anchor": "y12",
         "domain": [
          0.7875,
          1
         ],
         "gridcolor": "#E1E5ED",
         "showgrid": false,
         "tickfont": {
          "color": "#4D5663"
         },
         "title": {
          "font": {
           "color": "#4D5663"
          },
          "text": ""
         },
         "zerolinecolor": "#E1E5ED"
        },
        "xaxis13": {
         "anchor": "y13",
         "domain": [
          0,
          0.2125
         ],
         "gridcolor": "#E1E5ED",
         "showgrid": false,
         "tickfont": {
          "color": "#4D5663"
         },
         "title": {
          "font": {
           "color": "#4D5663"
          },
          "text": ""
         },
         "zerolinecolor": "#E1E5ED"
        },
        "xaxis14": {
         "anchor": "y14",
         "domain": [
          0.2625,
          0.475
         ],
         "gridcolor": "#E1E5ED",
         "showgrid": false,
         "tickfont": {
          "color": "#4D5663"
         },
         "title": {
          "font": {
           "color": "#4D5663"
          },
          "text": ""
         },
         "zerolinecolor": "#E1E5ED"
        },
        "xaxis15": {
         "anchor": "y15",
         "domain": [
          0.525,
          0.7375
         ],
         "gridcolor": "#E1E5ED",
         "showgrid": false,
         "tickfont": {
          "color": "#4D5663"
         },
         "title": {
          "font": {
           "color": "#4D5663"
          },
          "text": ""
         },
         "zerolinecolor": "#E1E5ED"
        },
        "xaxis16": {
         "anchor": "y16",
         "domain": [
          0.7875,
          1
         ],
         "gridcolor": "#E1E5ED",
         "showgrid": false,
         "tickfont": {
          "color": "#4D5663"
         },
         "title": {
          "font": {
           "color": "#4D5663"
          },
          "text": ""
         },
         "zerolinecolor": "#E1E5ED"
        },
        "xaxis2": {
         "anchor": "y2",
         "domain": [
          0.2625,
          0.475
         ],
         "gridcolor": "#E1E5ED",
         "showgrid": false,
         "tickfont": {
          "color": "#4D5663"
         },
         "title": {
          "font": {
           "color": "#4D5663"
          },
          "text": ""
         },
         "zerolinecolor": "#E1E5ED"
        },
        "xaxis3": {
         "anchor": "y3",
         "domain": [
          0.525,
          0.7375
         ],
         "gridcolor": "#E1E5ED",
         "showgrid": false,
         "tickfont": {
          "color": "#4D5663"
         },
         "title": {
          "font": {
           "color": "#4D5663"
          },
          "text": ""
         },
         "zerolinecolor": "#E1E5ED"
        },
        "xaxis4": {
         "anchor": "y4",
         "domain": [
          0.7875,
          1
         ],
         "gridcolor": "#E1E5ED",
         "showgrid": false,
         "tickfont": {
          "color": "#4D5663"
         },
         "title": {
          "font": {
           "color": "#4D5663"
          },
          "text": ""
         },
         "zerolinecolor": "#E1E5ED"
        },
        "xaxis5": {
         "anchor": "y5",
         "domain": [
          0,
          0.2125
         ],
         "gridcolor": "#E1E5ED",
         "showgrid": false,
         "tickfont": {
          "color": "#4D5663"
         },
         "title": {
          "font": {
           "color": "#4D5663"
          },
          "text": ""
         },
         "zerolinecolor": "#E1E5ED"
        },
        "xaxis6": {
         "anchor": "y6",
         "domain": [
          0.2625,
          0.475
         ],
         "gridcolor": "#E1E5ED",
         "showgrid": false,
         "tickfont": {
          "color": "#4D5663"
         },
         "title": {
          "font": {
           "color": "#4D5663"
          },
          "text": ""
         },
         "zerolinecolor": "#E1E5ED"
        },
        "xaxis7": {
         "anchor": "y7",
         "domain": [
          0.525,
          0.7375
         ],
         "gridcolor": "#E1E5ED",
         "showgrid": false,
         "tickfont": {
          "color": "#4D5663"
         },
         "title": {
          "font": {
           "color": "#4D5663"
          },
          "text": ""
         },
         "zerolinecolor": "#E1E5ED"
        },
        "xaxis8": {
         "anchor": "y8",
         "domain": [
          0.7875,
          1
         ],
         "gridcolor": "#E1E5ED",
         "showgrid": false,
         "tickfont": {
          "color": "#4D5663"
         },
         "title": {
          "font": {
           "color": "#4D5663"
          },
          "text": ""
         },
         "zerolinecolor": "#E1E5ED"
        },
        "xaxis9": {
         "anchor": "y9",
         "domain": [
          0,
          0.2125
         ],
         "gridcolor": "#E1E5ED",
         "showgrid": false,
         "tickfont": {
          "color": "#4D5663"
         },
         "title": {
          "font": {
           "color": "#4D5663"
          },
          "text": ""
         },
         "zerolinecolor": "#E1E5ED"
        },
        "yaxis": {
         "anchor": "x",
         "domain": [
          0.8025,
          1
         ],
         "gridcolor": "#E1E5ED",
         "showgrid": false,
         "tickfont": {
          "color": "#4D5663"
         },
         "title": {
          "font": {
           "color": "#4D5663"
          },
          "text": ""
         },
         "zerolinecolor": "#E1E5ED"
        },
        "yaxis10": {
         "anchor": "x10",
         "domain": [
          0.2675,
          0.465
         ],
         "gridcolor": "#E1E5ED",
         "showgrid": false,
         "tickfont": {
          "color": "#4D5663"
         },
         "title": {
          "font": {
           "color": "#4D5663"
          },
          "text": ""
         },
         "zerolinecolor": "#E1E5ED"
        },
        "yaxis11": {
         "anchor": "x11",
         "domain": [
          0.2675,
          0.465
         ],
         "gridcolor": "#E1E5ED",
         "showgrid": false,
         "tickfont": {
          "color": "#4D5663"
         },
         "title": {
          "font": {
           "color": "#4D5663"
          },
          "text": ""
         },
         "zerolinecolor": "#E1E5ED"
        },
        "yaxis12": {
         "anchor": "x12",
         "domain": [
          0.2675,
          0.465
         ],
         "gridcolor": "#E1E5ED",
         "showgrid": false,
         "tickfont": {
          "color": "#4D5663"
         },
         "title": {
          "font": {
           "color": "#4D5663"
          },
          "text": ""
         },
         "zerolinecolor": "#E1E5ED"
        },
        "yaxis13": {
         "anchor": "x13",
         "domain": [
          0,
          0.1975
         ],
         "gridcolor": "#E1E5ED",
         "showgrid": false,
         "tickfont": {
          "color": "#4D5663"
         },
         "title": {
          "font": {
           "color": "#4D5663"
          },
          "text": ""
         },
         "zerolinecolor": "#E1E5ED"
        },
        "yaxis14": {
         "anchor": "x14",
         "domain": [
          0,
          0.1975
         ],
         "gridcolor": "#E1E5ED",
         "showgrid": false,
         "tickfont": {
          "color": "#4D5663"
         },
         "title": {
          "font": {
           "color": "#4D5663"
          },
          "text": ""
         },
         "zerolinecolor": "#E1E5ED"
        },
        "yaxis15": {
         "anchor": "x15",
         "domain": [
          0,
          0.1975
         ],
         "gridcolor": "#E1E5ED",
         "showgrid": false,
         "tickfont": {
          "color": "#4D5663"
         },
         "title": {
          "font": {
           "color": "#4D5663"
          },
          "text": ""
         },
         "zerolinecolor": "#E1E5ED"
        },
        "yaxis16": {
         "anchor": "x16",
         "domain": [
          0,
          0.1975
         ],
         "gridcolor": "#E1E5ED",
         "showgrid": false,
         "tickfont": {
          "color": "#4D5663"
         },
         "title": {
          "font": {
           "color": "#4D5663"
          },
          "text": ""
         },
         "zerolinecolor": "#E1E5ED"
        },
        "yaxis2": {
         "anchor": "x2",
         "domain": [
          0.8025,
          1
         ],
         "gridcolor": "#E1E5ED",
         "showgrid": false,
         "tickfont": {
          "color": "#4D5663"
         },
         "title": {
          "font": {
           "color": "#4D5663"
          },
          "text": ""
         },
         "zerolinecolor": "#E1E5ED"
        },
        "yaxis3": {
         "anchor": "x3",
         "domain": [
          0.8025,
          1
         ],
         "gridcolor": "#E1E5ED",
         "showgrid": false,
         "tickfont": {
          "color": "#4D5663"
         },
         "title": {
          "font": {
           "color": "#4D5663"
          },
          "text": ""
         },
         "zerolinecolor": "#E1E5ED"
        },
        "yaxis4": {
         "anchor": "x4",
         "domain": [
          0.8025,
          1
         ],
         "gridcolor": "#E1E5ED",
         "showgrid": false,
         "tickfont": {
          "color": "#4D5663"
         },
         "title": {
          "font": {
           "color": "#4D5663"
          },
          "text": ""
         },
         "zerolinecolor": "#E1E5ED"
        },
        "yaxis5": {
         "anchor": "x5",
         "domain": [
          0.535,
          0.7325
         ],
         "gridcolor": "#E1E5ED",
         "showgrid": false,
         "tickfont": {
          "color": "#4D5663"
         },
         "title": {
          "font": {
           "color": "#4D5663"
          },
          "text": ""
         },
         "zerolinecolor": "#E1E5ED"
        },
        "yaxis6": {
         "anchor": "x6",
         "domain": [
          0.535,
          0.7325
         ],
         "gridcolor": "#E1E5ED",
         "showgrid": false,
         "tickfont": {
          "color": "#4D5663"
         },
         "title": {
          "font": {
           "color": "#4D5663"
          },
          "text": ""
         },
         "zerolinecolor": "#E1E5ED"
        },
        "yaxis7": {
         "anchor": "x7",
         "domain": [
          0.535,
          0.7325
         ],
         "gridcolor": "#E1E5ED",
         "showgrid": false,
         "tickfont": {
          "color": "#4D5663"
         },
         "title": {
          "font": {
           "color": "#4D5663"
          },
          "text": ""
         },
         "zerolinecolor": "#E1E5ED"
        },
        "yaxis8": {
         "anchor": "x8",
         "domain": [
          0.535,
          0.7325
         ],
         "gridcolor": "#E1E5ED",
         "showgrid": false,
         "tickfont": {
          "color": "#4D5663"
         },
         "title": {
          "font": {
           "color": "#4D5663"
          },
          "text": ""
         },
         "zerolinecolor": "#E1E5ED"
        },
        "yaxis9": {
         "anchor": "x9",
         "domain": [
          0.2675,
          0.465
         ],
         "gridcolor": "#E1E5ED",
         "showgrid": false,
         "tickfont": {
          "color": "#4D5663"
         },
         "title": {
          "font": {
           "color": "#4D5663"
          },
          "text": ""
         },
         "zerolinecolor": "#E1E5ED"
        }
       }
      },
      "text/html": [
       "<div>\n",
       "        \n",
       "        \n",
       "            <div id=\"8354c0e4-b1d7-48cc-b1d8-fb5fe5eb8d94\" class=\"plotly-graph-div\" style=\"height:525px; width:100%;\"></div>\n",
       "            <script type=\"text/javascript\">\n",
       "                require([\"plotly\"], function(Plotly) {\n",
       "                    window.PLOTLYENV=window.PLOTLYENV || {};\n",
       "                    window.PLOTLYENV.BASE_URL='https://plotly.com';\n",
       "                    \n",
       "                if (document.getElementById(\"8354c0e4-b1d7-48cc-b1d8-fb5fe5eb8d94\")) {\n",
       "                    Plotly.newPlot(\n",
       "                        '8354c0e4-b1d7-48cc-b1d8-fb5fe5eb8d94',\n",
       "                        [{\"histfunc\": \"count\", \"histnorm\": \"\", \"marker\": {\"color\": \"rgba(255, 153, 51, 1.0)\", \"line\": {\"color\": \"#4D5663\", \"width\": 1.3}}, \"name\": \"A\", \"nbinsx\": 10, \"opacity\": 0.8, \"orientation\": \"v\", \"type\": \"histogram\", \"x\": [-1.3915514466454946, -0.25186847805576157, 0.9579228727741338, 0.6029271487268496, 0.416448674464561, 0.34063531233394767, -0.08459004387470692, 0.713619317860425, 1.7908137198587653, -0.07774446546417446, 0.7818861612515148, -0.08045802462218049, -1.3925376997334935, -0.25889123457565444, -1.2380068464047667, -1.6796053268216884, 1.1389527186859345, -2.15319053603754, 0.24225207650860273, 0.5323379650228895, -0.2096440229785707, 0.21953657917641956, -1.0938795941576012, -0.10577547603312083, 0.6384250404551687, -0.2721945316885118, 3.265738204544427, 0.3766017189657574, 0.33886279379065204, 1.2190050065519333, 0.3104100087786091, 0.26952115201931115, -2.3923810892739246, 0.8770803830120577, 0.6561754993661268, -1.2310665672205874, -1.1856641101789074, 0.41805322561991626, -0.9247175847838351, 0.23277995300774626, 0.4067275700600627, -1.428613771269792, 1.4839020736203505, 0.7633645943548794, 2.7756705575375586, -0.46463372800975183, 0.004306649259857492, 0.9645256070376517, -0.005185290726101883, 2.6020206278107167, -0.885626602219863, 1.3517771551572877, 1.4041522296440263, -0.37747456790116, 0.15412506809685084, -1.3868854662382721, 0.6433483582256894, 0.9983683388092811, -0.12169074845217757, -2.1176310033064594, -0.06264728472444926, -1.0150462339749775, 0.7360528445825723, 0.5333439301874713, 0.35198578229550376, 0.6072697451499537, -2.124423431145739, 0.45861870101295915, 0.3901706387730426, 0.9359092339197448, -0.1480147716292342, -0.4323566165303779, 0.7653655916578783, -0.19732640194278503, -0.1465413420198137, 0.7142610412011294, 1.1418243316888386, -0.3253132381128121, 1.5515260657660772, 0.309161311286864, -0.8358998861552829, 1.3655510433969495, 0.0632015316988487, -0.016827268343440532, 0.7506720191468409, -0.5595071040238351, -0.6947205233455448, 1.142499758085739, -2.147256982261882, -1.02211137709033, 0.4065176710241965, 0.5728619428353131, -0.2066640210509487, -0.9245155918409756, 0.19822024602242874, 1.4207896192934248, -1.67439132302367, 0.8101476190574366, 1.1438891096596677, -0.24724589169943464], \"xaxis\": \"x\", \"yaxis\": \"y\"}, {\"line\": {\"color\": \"rgba(128, 128, 128, 1.0)\", \"dash\": \"solid\", \"shape\": \"linear\", \"width\": 1.3}, \"marker\": {\"size\": 2, \"symbol\": \"circle\"}, \"mode\": \"markers\", \"name\": \"A\", \"text\": \"\", \"type\": \"scatter\", \"x\": [-1.8063135150409384, -0.7679513004948498, -0.8742919766403517, 0.3070143950458193, 1.1665253316654558, -0.2262683166260905, -0.4917852269151437, -0.08073729843021035, 2.8334375843659645, 1.1532207799473548, -0.03814254313590681, -0.10568906458824325, -0.31317568710161725, 0.999191108558023, 0.8385632979585733, 0.41534933039874006, 0.8797805528306242, -1.2497080083648895, -1.7911041602373101, 0.7630643074653287, 2.5892130854872626, -0.5439208326964506, -1.3750796123608928, -1.729704664812876, 0.5578288145910832, 1.0036536830512153, -0.1714020047363067, -0.19405615495300366, 0.6919399765482697, 0.9695804954012914, 1.350663420111455, -1.240062693169029, -1.348240459508053, 1.4623370752557971, -0.48168927519920546, 0.39784876136248515, -0.9024576145690437, -0.6935679814885369, -0.3761127379085823, -0.36623141625460714, -0.2451594279515256, 0.026402940006598093, -0.32046021467091446, 1.1112009255824087, 0.2187696308981625, -2.505044161953846, -0.6162072553432347, -0.015565844051689669, 1.7854810856777485, 0.3541192142490893, 0.5263691204633134, 1.3994577056620974, -1.3428712151096527, 1.1255059881410612, 0.9500501528505452, 0.23415698180013855, 0.15335525171261927, -0.052071479834325515, -1.4232941345045214, 0.7132256996685288, 0.5489697164118927, -0.5726168408446426, 0.4621316906319872, 2.0945996369123625, -0.6293460980779058, 1.0075453751062597, 0.10083326030721385, -2.2013485061886473, -0.3898105142975688, -1.0896725401553105, -1.8597732189447154, 0.3905174313184132, -0.3104515621834238, 0.8040065537583236, -1.0797745253519242, 0.8367161653986137, -1.2674111303051174, -0.6763387257899182, -1.092639906945907, 1.0449811622012086, 1.8517700485195743, -0.13757886943215655, 0.7259595503006789, -0.9096144399987279, 0.6074501093482007, -0.7191397729519661, 1.907848397028853, -0.8418897038835749, 0.06575111015677335, -2.0389882885122126, -1.53917556051178, 0.9015627864510748, 0.09360031995000555, 0.10739423129650766, 0.6419278156297985, -0.23432958246422325, 0.1178203071042369, -0.9005807904385831, 1.2181737505496018, -0.5324878800398267], \"xaxis\": \"x2\", \"y\": [-1.3915514466454946, -0.25186847805576157, 0.9579228727741338, 0.6029271487268496, 0.416448674464561, 0.34063531233394767, -0.08459004387470692, 0.713619317860425, 1.7908137198587653, -0.07774446546417446, 0.7818861612515148, -0.08045802462218049, -1.3925376997334935, -0.25889123457565444, -1.2380068464047667, -1.6796053268216884, 1.1389527186859345, -2.15319053603754, 0.24225207650860273, 0.5323379650228895, -0.2096440229785707, 0.21953657917641956, -1.0938795941576012, -0.10577547603312083, 0.6384250404551687, -0.2721945316885118, 3.265738204544427, 0.3766017189657574, 0.33886279379065204, 1.2190050065519333, 0.3104100087786091, 0.26952115201931115, -2.3923810892739246, 0.8770803830120577, 0.6561754993661268, -1.2310665672205874, -1.1856641101789074, 0.41805322561991626, -0.9247175847838351, 0.23277995300774626, 0.4067275700600627, -1.428613771269792, 1.4839020736203505, 0.7633645943548794, 2.7756705575375586, -0.46463372800975183, 0.004306649259857492, 0.9645256070376517, -0.005185290726101883, 2.6020206278107167, -0.885626602219863, 1.3517771551572877, 1.4041522296440263, -0.37747456790116, 0.15412506809685084, -1.3868854662382721, 0.6433483582256894, 0.9983683388092811, -0.12169074845217757, -2.1176310033064594, -0.06264728472444926, -1.0150462339749775, 0.7360528445825723, 0.5333439301874713, 0.35198578229550376, 0.6072697451499537, -2.124423431145739, 0.45861870101295915, 0.3901706387730426, 0.9359092339197448, -0.1480147716292342, -0.4323566165303779, 0.7653655916578783, -0.19732640194278503, -0.1465413420198137, 0.7142610412011294, 1.1418243316888386, -0.3253132381128121, 1.5515260657660772, 0.309161311286864, -0.8358998861552829, 1.3655510433969495, 0.0632015316988487, -0.016827268343440532, 0.7506720191468409, -0.5595071040238351, -0.6947205233455448, 1.142499758085739, -2.147256982261882, -1.02211137709033, 0.4065176710241965, 0.5728619428353131, -0.2066640210509487, -0.9245155918409756, 0.19822024602242874, 1.4207896192934248, -1.67439132302367, 0.8101476190574366, 1.1438891096596677, -0.24724589169943464], \"yaxis\": \"y2\"}, {\"line\": {\"color\": \"rgba(128, 128, 128, 1.0)\", \"dash\": \"solid\", \"shape\": \"linear\", \"width\": 1.3}, \"marker\": {\"size\": 2, \"symbol\": \"circle\"}, \"mode\": \"markers\", \"name\": \"A\", \"text\": \"\", \"type\": \"scatter\", \"x\": [1.2982356591642445, 0.15427115901690341, 1.0213467155156255, 1.232635888537672, -0.22895222538532137, 1.954511785901398, -0.3942545853071218, -0.8092251193718866, -0.12322104508539473, 1.2286788093130638, 0.3874343994934357, -2.2953744065269643, 2.017388879406804, 1.1193266759672091, -0.2746008943626236, -0.8065314918764688, 0.972762641451173, 0.5074579567461822, 1.0118902717327247, 0.401509381385972, 0.0639114665073889, -1.8663631190800596, 0.1387441893866892, 0.1428873542876622, 0.47682850878052335, -0.36571985711014215, -1.5460929902125424, 0.5198596011344117, -1.6173676235504222, -1.4356016266184148, -0.07050502844673512, 0.5575637873458781, -2.1652567182684646, 0.5870162986735613, -0.8773663572243663, -0.6858001901123327, 2.7969800829027123, -0.5458885428916942, 1.1181997296247015, -0.11673408876087886, 0.6404059497492122, -1.728413741794743, 0.3983029336729583, -0.7246637943231838, -0.8739988801359196, -0.8953673781193359, 1.0188898265321207, 0.17867461627604825, -0.7954294822668724, 0.4636630050156447, -0.6784390426197163, 0.15119517232480975, 0.24758404252618696, 0.4332548808024751, -0.573257381134931, -0.543358203976377, 1.1269166836129816, -0.23872781757691822, -1.3099931941537102, -1.0582198694901048, -0.4262076857305047, 1.423853630818953, -0.36089078387376755, -2.154339180537667, 2.476822997091817, 0.32141164193151145, 1.7050486382039032, -0.504611966141616, -1.397522139381618, 0.8479678308837004, -0.8297755982819625, 1.0577651562083943, -0.9101582376316869, -0.0029074583485230563, 0.2608575614760658, -0.7803371558458617, -2.145391997779593, -0.7063161942876157, 0.16239921321512515, -0.07683075830387348, 1.0607037175653777, 0.9544867857313885, -0.11793678009979827, 0.2102582181812343, -0.8387898266596429, -0.4206283693985038, -0.8152428246157843, -0.7276697598353788, -1.1329929330756752, -1.4466041035213315, -0.9848748287647158, 0.1180319292781396, -0.8776375086870779, -1.2821605470681214, 0.24414266199380305, 0.8141424501001563, -0.2765616564967207, 0.47783868175145766, -0.9965387453155009, -0.09458406917183024], \"xaxis\": \"x3\", \"y\": [-1.3915514466454946, -0.25186847805576157, 0.9579228727741338, 0.6029271487268496, 0.416448674464561, 0.34063531233394767, -0.08459004387470692, 0.713619317860425, 1.7908137198587653, -0.07774446546417446, 0.7818861612515148, -0.08045802462218049, -1.3925376997334935, -0.25889123457565444, -1.2380068464047667, -1.6796053268216884, 1.1389527186859345, -2.15319053603754, 0.24225207650860273, 0.5323379650228895, -0.2096440229785707, 0.21953657917641956, -1.0938795941576012, -0.10577547603312083, 0.6384250404551687, -0.2721945316885118, 3.265738204544427, 0.3766017189657574, 0.33886279379065204, 1.2190050065519333, 0.3104100087786091, 0.26952115201931115, -2.3923810892739246, 0.8770803830120577, 0.6561754993661268, -1.2310665672205874, -1.1856641101789074, 0.41805322561991626, -0.9247175847838351, 0.23277995300774626, 0.4067275700600627, -1.428613771269792, 1.4839020736203505, 0.7633645943548794, 2.7756705575375586, -0.46463372800975183, 0.004306649259857492, 0.9645256070376517, -0.005185290726101883, 2.6020206278107167, -0.885626602219863, 1.3517771551572877, 1.4041522296440263, -0.37747456790116, 0.15412506809685084, -1.3868854662382721, 0.6433483582256894, 0.9983683388092811, -0.12169074845217757, -2.1176310033064594, -0.06264728472444926, -1.0150462339749775, 0.7360528445825723, 0.5333439301874713, 0.35198578229550376, 0.6072697451499537, -2.124423431145739, 0.45861870101295915, 0.3901706387730426, 0.9359092339197448, -0.1480147716292342, -0.4323566165303779, 0.7653655916578783, -0.19732640194278503, -0.1465413420198137, 0.7142610412011294, 1.1418243316888386, -0.3253132381128121, 1.5515260657660772, 0.309161311286864, -0.8358998861552829, 1.3655510433969495, 0.0632015316988487, -0.016827268343440532, 0.7506720191468409, -0.5595071040238351, -0.6947205233455448, 1.142499758085739, -2.147256982261882, -1.02211137709033, 0.4065176710241965, 0.5728619428353131, -0.2066640210509487, -0.9245155918409756, 0.19822024602242874, 1.4207896192934248, -1.67439132302367, 0.8101476190574366, 1.1438891096596677, -0.24724589169943464], \"yaxis\": \"y3\"}, {\"line\": {\"color\": \"rgba(128, 128, 128, 1.0)\", \"dash\": \"solid\", \"shape\": \"linear\", \"width\": 1.3}, \"marker\": {\"size\": 2, \"symbol\": \"circle\"}, \"mode\": \"markers\", \"name\": \"A\", \"text\": \"\", \"type\": \"scatter\", \"x\": [-0.6833341122857621, -1.186518198081401, 0.7440360616704014, -0.4724438209696136, -0.3726398238770978, 0.04117066612790381, -0.12165221701464178, -0.3582447039742966, -0.9614060037617944, 0.738115872324706, -0.08819366108400076, 1.223355545014585, 1.4230621728241735, -0.0713488500790235, -0.37552458341578615, 1.4051767793554675, 1.5048150109432545, 1.1539930776722223, 0.37183774749061793, 1.2137171768818364, 0.2647832955019624, 0.08301689949870196, -0.08352492211042305, 0.17603067516678184, 1.3426263722935805, 1.4710969763164121, 0.3723008765493016, 0.8302101906900898, 0.4293110699434798, -1.7014499397610496, -0.7462107273631216, -0.062418203425431834, -0.4521898440150753, 1.0374670134271229, -0.03827027493552959, 2.627813687110325, 0.6891056995922998, 0.9496908564080698, -0.5173382461484048, -1.7998833834458434, -0.3058413154285717, -1.2147511852081776, -1.005887489678001, -0.30709897227715727, 0.37256104976328275, 0.12874701718905396, 0.40465242152470143, 1.1456196270354793, -0.9876226453689538, -0.32062717671141766, -0.4477698824738656, 0.37035700057779575, -0.6728757045446571, 0.13727837951958757, -0.8365857241976379, -0.862833170927694, -0.2321665491113636, -0.3096342804538494, 0.8796768280896852, -0.1138722149396076, 0.26259767826855795, -0.1723152186005268, 0.10650986454691985, -0.674854272338543, 0.607077893069324, 1.077104763029846, 0.306009787291824, 1.6189631446653476, 0.18641228222526587, 0.1002952216652406, 0.35384730130886494, -0.5592970923758837, 1.6810924067739625, -0.22801226336023897, -0.007212983814382795, -0.8884243908142498, 0.007373212437131988, -1.4994425212206395, 0.2858613226319799, 0.7723744957643544, 0.006207666093432797, -0.9831130172701907, 0.5668305156554925, 1.6039775473847573, 1.3707010942956015, 0.43850866148625123, 1.0295632712010863, 0.4628062783971533, -0.09196565989581211, 0.10106709283112156, -0.25825437843646293, 1.311841406736645, -0.04561607748831737, 0.9986168276634753, -1.1692664545784839, 2.0607261167534308, -0.03489069796686348, -0.9817027574319807, -1.828275897713146, -0.13307937775464979], \"xaxis\": \"x4\", \"y\": [-1.3915514466454946, -0.25186847805576157, 0.9579228727741338, 0.6029271487268496, 0.416448674464561, 0.34063531233394767, -0.08459004387470692, 0.713619317860425, 1.7908137198587653, -0.07774446546417446, 0.7818861612515148, -0.08045802462218049, -1.3925376997334935, -0.25889123457565444, -1.2380068464047667, -1.6796053268216884, 1.1389527186859345, -2.15319053603754, 0.24225207650860273, 0.5323379650228895, -0.2096440229785707, 0.21953657917641956, -1.0938795941576012, -0.10577547603312083, 0.6384250404551687, -0.2721945316885118, 3.265738204544427, 0.3766017189657574, 0.33886279379065204, 1.2190050065519333, 0.3104100087786091, 0.26952115201931115, -2.3923810892739246, 0.8770803830120577, 0.6561754993661268, -1.2310665672205874, -1.1856641101789074, 0.41805322561991626, -0.9247175847838351, 0.23277995300774626, 0.4067275700600627, -1.428613771269792, 1.4839020736203505, 0.7633645943548794, 2.7756705575375586, -0.46463372800975183, 0.004306649259857492, 0.9645256070376517, -0.005185290726101883, 2.6020206278107167, -0.885626602219863, 1.3517771551572877, 1.4041522296440263, -0.37747456790116, 0.15412506809685084, -1.3868854662382721, 0.6433483582256894, 0.9983683388092811, -0.12169074845217757, -2.1176310033064594, -0.06264728472444926, -1.0150462339749775, 0.7360528445825723, 0.5333439301874713, 0.35198578229550376, 0.6072697451499537, -2.124423431145739, 0.45861870101295915, 0.3901706387730426, 0.9359092339197448, -0.1480147716292342, -0.4323566165303779, 0.7653655916578783, -0.19732640194278503, -0.1465413420198137, 0.7142610412011294, 1.1418243316888386, -0.3253132381128121, 1.5515260657660772, 0.309161311286864, -0.8358998861552829, 1.3655510433969495, 0.0632015316988487, -0.016827268343440532, 0.7506720191468409, -0.5595071040238351, -0.6947205233455448, 1.142499758085739, -2.147256982261882, -1.02211137709033, 0.4065176710241965, 0.5728619428353131, -0.2066640210509487, -0.9245155918409756, 0.19822024602242874, 1.4207896192934248, -1.67439132302367, 0.8101476190574366, 1.1438891096596677, -0.24724589169943464], \"yaxis\": \"y4\"}, {\"line\": {\"color\": \"rgba(128, 128, 128, 1.0)\", \"dash\": \"solid\", \"shape\": \"linear\", \"width\": 1.3}, \"marker\": {\"size\": 2, \"symbol\": \"circle\"}, \"mode\": \"markers\", \"name\": \"B\", \"text\": \"\", \"type\": \"scatter\", \"x\": [-1.3915514466454946, -0.25186847805576157, 0.9579228727741338, 0.6029271487268496, 0.416448674464561, 0.34063531233394767, -0.08459004387470692, 0.713619317860425, 1.7908137198587653, -0.07774446546417446, 0.7818861612515148, -0.08045802462218049, -1.3925376997334935, -0.25889123457565444, -1.2380068464047667, -1.6796053268216884, 1.1389527186859345, -2.15319053603754, 0.24225207650860273, 0.5323379650228895, -0.2096440229785707, 0.21953657917641956, -1.0938795941576012, -0.10577547603312083, 0.6384250404551687, -0.2721945316885118, 3.265738204544427, 0.3766017189657574, 0.33886279379065204, 1.2190050065519333, 0.3104100087786091, 0.26952115201931115, -2.3923810892739246, 0.8770803830120577, 0.6561754993661268, -1.2310665672205874, -1.1856641101789074, 0.41805322561991626, -0.9247175847838351, 0.23277995300774626, 0.4067275700600627, -1.428613771269792, 1.4839020736203505, 0.7633645943548794, 2.7756705575375586, -0.46463372800975183, 0.004306649259857492, 0.9645256070376517, -0.005185290726101883, 2.6020206278107167, -0.885626602219863, 1.3517771551572877, 1.4041522296440263, -0.37747456790116, 0.15412506809685084, -1.3868854662382721, 0.6433483582256894, 0.9983683388092811, -0.12169074845217757, -2.1176310033064594, -0.06264728472444926, -1.0150462339749775, 0.7360528445825723, 0.5333439301874713, 0.35198578229550376, 0.6072697451499537, -2.124423431145739, 0.45861870101295915, 0.3901706387730426, 0.9359092339197448, -0.1480147716292342, -0.4323566165303779, 0.7653655916578783, -0.19732640194278503, -0.1465413420198137, 0.7142610412011294, 1.1418243316888386, -0.3253132381128121, 1.5515260657660772, 0.309161311286864, -0.8358998861552829, 1.3655510433969495, 0.0632015316988487, -0.016827268343440532, 0.7506720191468409, -0.5595071040238351, -0.6947205233455448, 1.142499758085739, -2.147256982261882, -1.02211137709033, 0.4065176710241965, 0.5728619428353131, -0.2066640210509487, -0.9245155918409756, 0.19822024602242874, 1.4207896192934248, -1.67439132302367, 0.8101476190574366, 1.1438891096596677, -0.24724589169943464], \"xaxis\": \"x5\", \"y\": [-1.8063135150409384, -0.7679513004948498, -0.8742919766403517, 0.3070143950458193, 1.1665253316654558, -0.2262683166260905, -0.4917852269151437, -0.08073729843021035, 2.8334375843659645, 1.1532207799473548, -0.03814254313590681, -0.10568906458824325, -0.31317568710161725, 0.999191108558023, 0.8385632979585733, 0.41534933039874006, 0.8797805528306242, -1.2497080083648895, -1.7911041602373101, 0.7630643074653287, 2.5892130854872626, -0.5439208326964506, -1.3750796123608928, -1.729704664812876, 0.5578288145910832, 1.0036536830512153, -0.1714020047363067, -0.19405615495300366, 0.6919399765482697, 0.9695804954012914, 1.350663420111455, -1.240062693169029, -1.348240459508053, 1.4623370752557971, -0.48168927519920546, 0.39784876136248515, -0.9024576145690437, -0.6935679814885369, -0.3761127379085823, -0.36623141625460714, -0.2451594279515256, 0.026402940006598093, -0.32046021467091446, 1.1112009255824087, 0.2187696308981625, -2.505044161953846, -0.6162072553432347, -0.015565844051689669, 1.7854810856777485, 0.3541192142490893, 0.5263691204633134, 1.3994577056620974, -1.3428712151096527, 1.1255059881410612, 0.9500501528505452, 0.23415698180013855, 0.15335525171261927, -0.052071479834325515, -1.4232941345045214, 0.7132256996685288, 0.5489697164118927, -0.5726168408446426, 0.4621316906319872, 2.0945996369123625, -0.6293460980779058, 1.0075453751062597, 0.10083326030721385, -2.2013485061886473, -0.3898105142975688, -1.0896725401553105, -1.8597732189447154, 0.3905174313184132, -0.3104515621834238, 0.8040065537583236, -1.0797745253519242, 0.8367161653986137, -1.2674111303051174, -0.6763387257899182, -1.092639906945907, 1.0449811622012086, 1.8517700485195743, -0.13757886943215655, 0.7259595503006789, -0.9096144399987279, 0.6074501093482007, -0.7191397729519661, 1.907848397028853, -0.8418897038835749, 0.06575111015677335, -2.0389882885122126, -1.53917556051178, 0.9015627864510748, 0.09360031995000555, 0.10739423129650766, 0.6419278156297985, -0.23432958246422325, 0.1178203071042369, -0.9005807904385831, 1.2181737505496018, -0.5324878800398267], \"yaxis\": \"y5\"}, {\"histfunc\": \"count\", \"histnorm\": \"\", \"marker\": {\"color\": \"rgba(55, 128, 191, 1.0)\", \"line\": {\"color\": \"#4D5663\", \"width\": 1.3}}, \"name\": \"B\", \"nbinsx\": 10, \"opacity\": 0.8, \"orientation\": \"v\", \"type\": \"histogram\", \"x\": [-1.8063135150409384, -0.7679513004948498, -0.8742919766403517, 0.3070143950458193, 1.1665253316654558, -0.2262683166260905, -0.4917852269151437, -0.08073729843021035, 2.8334375843659645, 1.1532207799473548, -0.03814254313590681, -0.10568906458824325, -0.31317568710161725, 0.999191108558023, 0.8385632979585733, 0.41534933039874006, 0.8797805528306242, -1.2497080083648895, -1.7911041602373101, 0.7630643074653287, 2.5892130854872626, -0.5439208326964506, -1.3750796123608928, -1.729704664812876, 0.5578288145910832, 1.0036536830512153, -0.1714020047363067, -0.19405615495300366, 0.6919399765482697, 0.9695804954012914, 1.350663420111455, -1.240062693169029, -1.348240459508053, 1.4623370752557971, -0.48168927519920546, 0.39784876136248515, -0.9024576145690437, -0.6935679814885369, -0.3761127379085823, -0.36623141625460714, -0.2451594279515256, 0.026402940006598093, -0.32046021467091446, 1.1112009255824087, 0.2187696308981625, -2.505044161953846, -0.6162072553432347, -0.015565844051689669, 1.7854810856777485, 0.3541192142490893, 0.5263691204633134, 1.3994577056620974, -1.3428712151096527, 1.1255059881410612, 0.9500501528505452, 0.23415698180013855, 0.15335525171261927, -0.052071479834325515, -1.4232941345045214, 0.7132256996685288, 0.5489697164118927, -0.5726168408446426, 0.4621316906319872, 2.0945996369123625, -0.6293460980779058, 1.0075453751062597, 0.10083326030721385, -2.2013485061886473, -0.3898105142975688, -1.0896725401553105, -1.8597732189447154, 0.3905174313184132, -0.3104515621834238, 0.8040065537583236, -1.0797745253519242, 0.8367161653986137, -1.2674111303051174, -0.6763387257899182, -1.092639906945907, 1.0449811622012086, 1.8517700485195743, -0.13757886943215655, 0.7259595503006789, -0.9096144399987279, 0.6074501093482007, -0.7191397729519661, 1.907848397028853, -0.8418897038835749, 0.06575111015677335, -2.0389882885122126, -1.53917556051178, 0.9015627864510748, 0.09360031995000555, 0.10739423129650766, 0.6419278156297985, -0.23432958246422325, 0.1178203071042369, -0.9005807904385831, 1.2181737505496018, -0.5324878800398267], \"xaxis\": \"x6\", \"yaxis\": \"y6\"}, {\"line\": {\"color\": \"rgba(128, 128, 128, 1.0)\", \"dash\": \"solid\", \"shape\": \"linear\", \"width\": 1.3}, \"marker\": {\"size\": 2, \"symbol\": \"circle\"}, \"mode\": \"markers\", \"name\": \"B\", \"text\": \"\", \"type\": \"scatter\", \"x\": [1.2982356591642445, 0.15427115901690341, 1.0213467155156255, 1.232635888537672, -0.22895222538532137, 1.954511785901398, -0.3942545853071218, -0.8092251193718866, -0.12322104508539473, 1.2286788093130638, 0.3874343994934357, -2.2953744065269643, 2.017388879406804, 1.1193266759672091, -0.2746008943626236, -0.8065314918764688, 0.972762641451173, 0.5074579567461822, 1.0118902717327247, 0.401509381385972, 0.0639114665073889, -1.8663631190800596, 0.1387441893866892, 0.1428873542876622, 0.47682850878052335, -0.36571985711014215, -1.5460929902125424, 0.5198596011344117, -1.6173676235504222, -1.4356016266184148, -0.07050502844673512, 0.5575637873458781, -2.1652567182684646, 0.5870162986735613, -0.8773663572243663, -0.6858001901123327, 2.7969800829027123, -0.5458885428916942, 1.1181997296247015, -0.11673408876087886, 0.6404059497492122, -1.728413741794743, 0.3983029336729583, -0.7246637943231838, -0.8739988801359196, -0.8953673781193359, 1.0188898265321207, 0.17867461627604825, -0.7954294822668724, 0.4636630050156447, -0.6784390426197163, 0.15119517232480975, 0.24758404252618696, 0.4332548808024751, -0.573257381134931, -0.543358203976377, 1.1269166836129816, -0.23872781757691822, -1.3099931941537102, -1.0582198694901048, -0.4262076857305047, 1.423853630818953, -0.36089078387376755, -2.154339180537667, 2.476822997091817, 0.32141164193151145, 1.7050486382039032, -0.504611966141616, -1.397522139381618, 0.8479678308837004, -0.8297755982819625, 1.0577651562083943, -0.9101582376316869, -0.0029074583485230563, 0.2608575614760658, -0.7803371558458617, -2.145391997779593, -0.7063161942876157, 0.16239921321512515, -0.07683075830387348, 1.0607037175653777, 0.9544867857313885, -0.11793678009979827, 0.2102582181812343, -0.8387898266596429, -0.4206283693985038, -0.8152428246157843, -0.7276697598353788, -1.1329929330756752, -1.4466041035213315, -0.9848748287647158, 0.1180319292781396, -0.8776375086870779, -1.2821605470681214, 0.24414266199380305, 0.8141424501001563, -0.2765616564967207, 0.47783868175145766, -0.9965387453155009, -0.09458406917183024], \"xaxis\": \"x7\", \"y\": [-1.8063135150409384, -0.7679513004948498, -0.8742919766403517, 0.3070143950458193, 1.1665253316654558, -0.2262683166260905, -0.4917852269151437, -0.08073729843021035, 2.8334375843659645, 1.1532207799473548, -0.03814254313590681, -0.10568906458824325, -0.31317568710161725, 0.999191108558023, 0.8385632979585733, 0.41534933039874006, 0.8797805528306242, -1.2497080083648895, -1.7911041602373101, 0.7630643074653287, 2.5892130854872626, -0.5439208326964506, -1.3750796123608928, -1.729704664812876, 0.5578288145910832, 1.0036536830512153, -0.1714020047363067, -0.19405615495300366, 0.6919399765482697, 0.9695804954012914, 1.350663420111455, -1.240062693169029, -1.348240459508053, 1.4623370752557971, -0.48168927519920546, 0.39784876136248515, -0.9024576145690437, -0.6935679814885369, -0.3761127379085823, -0.36623141625460714, -0.2451594279515256, 0.026402940006598093, -0.32046021467091446, 1.1112009255824087, 0.2187696308981625, -2.505044161953846, -0.6162072553432347, -0.015565844051689669, 1.7854810856777485, 0.3541192142490893, 0.5263691204633134, 1.3994577056620974, -1.3428712151096527, 1.1255059881410612, 0.9500501528505452, 0.23415698180013855, 0.15335525171261927, -0.052071479834325515, -1.4232941345045214, 0.7132256996685288, 0.5489697164118927, -0.5726168408446426, 0.4621316906319872, 2.0945996369123625, -0.6293460980779058, 1.0075453751062597, 0.10083326030721385, -2.2013485061886473, -0.3898105142975688, -1.0896725401553105, -1.8597732189447154, 0.3905174313184132, -0.3104515621834238, 0.8040065537583236, -1.0797745253519242, 0.8367161653986137, -1.2674111303051174, -0.6763387257899182, -1.092639906945907, 1.0449811622012086, 1.8517700485195743, -0.13757886943215655, 0.7259595503006789, -0.9096144399987279, 0.6074501093482007, -0.7191397729519661, 1.907848397028853, -0.8418897038835749, 0.06575111015677335, -2.0389882885122126, -1.53917556051178, 0.9015627864510748, 0.09360031995000555, 0.10739423129650766, 0.6419278156297985, -0.23432958246422325, 0.1178203071042369, -0.9005807904385831, 1.2181737505496018, -0.5324878800398267], \"yaxis\": \"y7\"}, {\"line\": {\"color\": \"rgba(128, 128, 128, 1.0)\", \"dash\": \"solid\", \"shape\": \"linear\", \"width\": 1.3}, \"marker\": {\"size\": 2, \"symbol\": \"circle\"}, \"mode\": \"markers\", \"name\": \"B\", \"text\": \"\", \"type\": \"scatter\", \"x\": [-0.6833341122857621, -1.186518198081401, 0.7440360616704014, -0.4724438209696136, -0.3726398238770978, 0.04117066612790381, -0.12165221701464178, -0.3582447039742966, -0.9614060037617944, 0.738115872324706, -0.08819366108400076, 1.223355545014585, 1.4230621728241735, -0.0713488500790235, -0.37552458341578615, 1.4051767793554675, 1.5048150109432545, 1.1539930776722223, 0.37183774749061793, 1.2137171768818364, 0.2647832955019624, 0.08301689949870196, -0.08352492211042305, 0.17603067516678184, 1.3426263722935805, 1.4710969763164121, 0.3723008765493016, 0.8302101906900898, 0.4293110699434798, -1.7014499397610496, -0.7462107273631216, -0.062418203425431834, -0.4521898440150753, 1.0374670134271229, -0.03827027493552959, 2.627813687110325, 0.6891056995922998, 0.9496908564080698, -0.5173382461484048, -1.7998833834458434, -0.3058413154285717, -1.2147511852081776, -1.005887489678001, -0.30709897227715727, 0.37256104976328275, 0.12874701718905396, 0.40465242152470143, 1.1456196270354793, -0.9876226453689538, -0.32062717671141766, -0.4477698824738656, 0.37035700057779575, -0.6728757045446571, 0.13727837951958757, -0.8365857241976379, -0.862833170927694, -0.2321665491113636, -0.3096342804538494, 0.8796768280896852, -0.1138722149396076, 0.26259767826855795, -0.1723152186005268, 0.10650986454691985, -0.674854272338543, 0.607077893069324, 1.077104763029846, 0.306009787291824, 1.6189631446653476, 0.18641228222526587, 0.1002952216652406, 0.35384730130886494, -0.5592970923758837, 1.6810924067739625, -0.22801226336023897, -0.007212983814382795, -0.8884243908142498, 0.007373212437131988, -1.4994425212206395, 0.2858613226319799, 0.7723744957643544, 0.006207666093432797, -0.9831130172701907, 0.5668305156554925, 1.6039775473847573, 1.3707010942956015, 0.43850866148625123, 1.0295632712010863, 0.4628062783971533, -0.09196565989581211, 0.10106709283112156, -0.25825437843646293, 1.311841406736645, -0.04561607748831737, 0.9986168276634753, -1.1692664545784839, 2.0607261167534308, -0.03489069796686348, -0.9817027574319807, -1.828275897713146, -0.13307937775464979], \"xaxis\": \"x8\", \"y\": [-1.8063135150409384, -0.7679513004948498, -0.8742919766403517, 0.3070143950458193, 1.1665253316654558, -0.2262683166260905, -0.4917852269151437, -0.08073729843021035, 2.8334375843659645, 1.1532207799473548, -0.03814254313590681, -0.10568906458824325, -0.31317568710161725, 0.999191108558023, 0.8385632979585733, 0.41534933039874006, 0.8797805528306242, -1.2497080083648895, -1.7911041602373101, 0.7630643074653287, 2.5892130854872626, -0.5439208326964506, -1.3750796123608928, -1.729704664812876, 0.5578288145910832, 1.0036536830512153, -0.1714020047363067, -0.19405615495300366, 0.6919399765482697, 0.9695804954012914, 1.350663420111455, -1.240062693169029, -1.348240459508053, 1.4623370752557971, -0.48168927519920546, 0.39784876136248515, -0.9024576145690437, -0.6935679814885369, -0.3761127379085823, -0.36623141625460714, -0.2451594279515256, 0.026402940006598093, -0.32046021467091446, 1.1112009255824087, 0.2187696308981625, -2.505044161953846, -0.6162072553432347, -0.015565844051689669, 1.7854810856777485, 0.3541192142490893, 0.5263691204633134, 1.3994577056620974, -1.3428712151096527, 1.1255059881410612, 0.9500501528505452, 0.23415698180013855, 0.15335525171261927, -0.052071479834325515, -1.4232941345045214, 0.7132256996685288, 0.5489697164118927, -0.5726168408446426, 0.4621316906319872, 2.0945996369123625, -0.6293460980779058, 1.0075453751062597, 0.10083326030721385, -2.2013485061886473, -0.3898105142975688, -1.0896725401553105, -1.8597732189447154, 0.3905174313184132, -0.3104515621834238, 0.8040065537583236, -1.0797745253519242, 0.8367161653986137, -1.2674111303051174, -0.6763387257899182, -1.092639906945907, 1.0449811622012086, 1.8517700485195743, -0.13757886943215655, 0.7259595503006789, -0.9096144399987279, 0.6074501093482007, -0.7191397729519661, 1.907848397028853, -0.8418897038835749, 0.06575111015677335, -2.0389882885122126, -1.53917556051178, 0.9015627864510748, 0.09360031995000555, 0.10739423129650766, 0.6419278156297985, -0.23432958246422325, 0.1178203071042369, -0.9005807904385831, 1.2181737505496018, -0.5324878800398267], \"yaxis\": \"y8\"}, {\"line\": {\"color\": \"rgba(128, 128, 128, 1.0)\", \"dash\": \"solid\", \"shape\": \"linear\", \"width\": 1.3}, \"marker\": {\"size\": 2, \"symbol\": \"circle\"}, \"mode\": \"markers\", \"name\": \"C\", \"text\": \"\", \"type\": \"scatter\", \"x\": [-1.3915514466454946, -0.25186847805576157, 0.9579228727741338, 0.6029271487268496, 0.416448674464561, 0.34063531233394767, -0.08459004387470692, 0.713619317860425, 1.7908137198587653, -0.07774446546417446, 0.7818861612515148, -0.08045802462218049, -1.3925376997334935, -0.25889123457565444, -1.2380068464047667, -1.6796053268216884, 1.1389527186859345, -2.15319053603754, 0.24225207650860273, 0.5323379650228895, -0.2096440229785707, 0.21953657917641956, -1.0938795941576012, -0.10577547603312083, 0.6384250404551687, -0.2721945316885118, 3.265738204544427, 0.3766017189657574, 0.33886279379065204, 1.2190050065519333, 0.3104100087786091, 0.26952115201931115, -2.3923810892739246, 0.8770803830120577, 0.6561754993661268, -1.2310665672205874, -1.1856641101789074, 0.41805322561991626, -0.9247175847838351, 0.23277995300774626, 0.4067275700600627, -1.428613771269792, 1.4839020736203505, 0.7633645943548794, 2.7756705575375586, -0.46463372800975183, 0.004306649259857492, 0.9645256070376517, -0.005185290726101883, 2.6020206278107167, -0.885626602219863, 1.3517771551572877, 1.4041522296440263, -0.37747456790116, 0.15412506809685084, -1.3868854662382721, 0.6433483582256894, 0.9983683388092811, -0.12169074845217757, -2.1176310033064594, -0.06264728472444926, -1.0150462339749775, 0.7360528445825723, 0.5333439301874713, 0.35198578229550376, 0.6072697451499537, -2.124423431145739, 0.45861870101295915, 0.3901706387730426, 0.9359092339197448, -0.1480147716292342, -0.4323566165303779, 0.7653655916578783, -0.19732640194278503, -0.1465413420198137, 0.7142610412011294, 1.1418243316888386, -0.3253132381128121, 1.5515260657660772, 0.309161311286864, -0.8358998861552829, 1.3655510433969495, 0.0632015316988487, -0.016827268343440532, 0.7506720191468409, -0.5595071040238351, -0.6947205233455448, 1.142499758085739, -2.147256982261882, -1.02211137709033, 0.4065176710241965, 0.5728619428353131, -0.2066640210509487, -0.9245155918409756, 0.19822024602242874, 1.4207896192934248, -1.67439132302367, 0.8101476190574366, 1.1438891096596677, -0.24724589169943464], \"xaxis\": \"x9\", \"y\": [1.2982356591642445, 0.15427115901690341, 1.0213467155156255, 1.232635888537672, -0.22895222538532137, 1.954511785901398, -0.3942545853071218, -0.8092251193718866, -0.12322104508539473, 1.2286788093130638, 0.3874343994934357, -2.2953744065269643, 2.017388879406804, 1.1193266759672091, -0.2746008943626236, -0.8065314918764688, 0.972762641451173, 0.5074579567461822, 1.0118902717327247, 0.401509381385972, 0.0639114665073889, -1.8663631190800596, 0.1387441893866892, 0.1428873542876622, 0.47682850878052335, -0.36571985711014215, -1.5460929902125424, 0.5198596011344117, -1.6173676235504222, -1.4356016266184148, -0.07050502844673512, 0.5575637873458781, -2.1652567182684646, 0.5870162986735613, -0.8773663572243663, -0.6858001901123327, 2.7969800829027123, -0.5458885428916942, 1.1181997296247015, -0.11673408876087886, 0.6404059497492122, -1.728413741794743, 0.3983029336729583, -0.7246637943231838, -0.8739988801359196, -0.8953673781193359, 1.0188898265321207, 0.17867461627604825, -0.7954294822668724, 0.4636630050156447, -0.6784390426197163, 0.15119517232480975, 0.24758404252618696, 0.4332548808024751, -0.573257381134931, -0.543358203976377, 1.1269166836129816, -0.23872781757691822, -1.3099931941537102, -1.0582198694901048, -0.4262076857305047, 1.423853630818953, -0.36089078387376755, -2.154339180537667, 2.476822997091817, 0.32141164193151145, 1.7050486382039032, -0.504611966141616, -1.397522139381618, 0.8479678308837004, -0.8297755982819625, 1.0577651562083943, -0.9101582376316869, -0.0029074583485230563, 0.2608575614760658, -0.7803371558458617, -2.145391997779593, -0.7063161942876157, 0.16239921321512515, -0.07683075830387348, 1.0607037175653777, 0.9544867857313885, -0.11793678009979827, 0.2102582181812343, -0.8387898266596429, -0.4206283693985038, -0.8152428246157843, -0.7276697598353788, -1.1329929330756752, -1.4466041035213315, -0.9848748287647158, 0.1180319292781396, -0.8776375086870779, -1.2821605470681214, 0.24414266199380305, 0.8141424501001563, -0.2765616564967207, 0.47783868175145766, -0.9965387453155009, -0.09458406917183024], \"yaxis\": \"y9\"}, {\"line\": {\"color\": \"rgba(128, 128, 128, 1.0)\", \"dash\": \"solid\", \"shape\": \"linear\", \"width\": 1.3}, \"marker\": {\"size\": 2, \"symbol\": \"circle\"}, \"mode\": \"markers\", \"name\": \"C\", \"text\": \"\", \"type\": \"scatter\", \"x\": [-1.8063135150409384, -0.7679513004948498, -0.8742919766403517, 0.3070143950458193, 1.1665253316654558, -0.2262683166260905, -0.4917852269151437, -0.08073729843021035, 2.8334375843659645, 1.1532207799473548, -0.03814254313590681, -0.10568906458824325, -0.31317568710161725, 0.999191108558023, 0.8385632979585733, 0.41534933039874006, 0.8797805528306242, -1.2497080083648895, -1.7911041602373101, 0.7630643074653287, 2.5892130854872626, -0.5439208326964506, -1.3750796123608928, -1.729704664812876, 0.5578288145910832, 1.0036536830512153, -0.1714020047363067, -0.19405615495300366, 0.6919399765482697, 0.9695804954012914, 1.350663420111455, -1.240062693169029, -1.348240459508053, 1.4623370752557971, -0.48168927519920546, 0.39784876136248515, -0.9024576145690437, -0.6935679814885369, -0.3761127379085823, -0.36623141625460714, -0.2451594279515256, 0.026402940006598093, -0.32046021467091446, 1.1112009255824087, 0.2187696308981625, -2.505044161953846, -0.6162072553432347, -0.015565844051689669, 1.7854810856777485, 0.3541192142490893, 0.5263691204633134, 1.3994577056620974, -1.3428712151096527, 1.1255059881410612, 0.9500501528505452, 0.23415698180013855, 0.15335525171261927, -0.052071479834325515, -1.4232941345045214, 0.7132256996685288, 0.5489697164118927, -0.5726168408446426, 0.4621316906319872, 2.0945996369123625, -0.6293460980779058, 1.0075453751062597, 0.10083326030721385, -2.2013485061886473, -0.3898105142975688, -1.0896725401553105, -1.8597732189447154, 0.3905174313184132, -0.3104515621834238, 0.8040065537583236, -1.0797745253519242, 0.8367161653986137, -1.2674111303051174, -0.6763387257899182, -1.092639906945907, 1.0449811622012086, 1.8517700485195743, -0.13757886943215655, 0.7259595503006789, -0.9096144399987279, 0.6074501093482007, -0.7191397729519661, 1.907848397028853, -0.8418897038835749, 0.06575111015677335, -2.0389882885122126, -1.53917556051178, 0.9015627864510748, 0.09360031995000555, 0.10739423129650766, 0.6419278156297985, -0.23432958246422325, 0.1178203071042369, -0.9005807904385831, 1.2181737505496018, -0.5324878800398267], \"xaxis\": \"x10\", \"y\": [1.2982356591642445, 0.15427115901690341, 1.0213467155156255, 1.232635888537672, -0.22895222538532137, 1.954511785901398, -0.3942545853071218, -0.8092251193718866, -0.12322104508539473, 1.2286788093130638, 0.3874343994934357, -2.2953744065269643, 2.017388879406804, 1.1193266759672091, -0.2746008943626236, -0.8065314918764688, 0.972762641451173, 0.5074579567461822, 1.0118902717327247, 0.401509381385972, 0.0639114665073889, -1.8663631190800596, 0.1387441893866892, 0.1428873542876622, 0.47682850878052335, -0.36571985711014215, -1.5460929902125424, 0.5198596011344117, -1.6173676235504222, -1.4356016266184148, -0.07050502844673512, 0.5575637873458781, -2.1652567182684646, 0.5870162986735613, -0.8773663572243663, -0.6858001901123327, 2.7969800829027123, -0.5458885428916942, 1.1181997296247015, -0.11673408876087886, 0.6404059497492122, -1.728413741794743, 0.3983029336729583, -0.7246637943231838, -0.8739988801359196, -0.8953673781193359, 1.0188898265321207, 0.17867461627604825, -0.7954294822668724, 0.4636630050156447, -0.6784390426197163, 0.15119517232480975, 0.24758404252618696, 0.4332548808024751, -0.573257381134931, -0.543358203976377, 1.1269166836129816, -0.23872781757691822, -1.3099931941537102, -1.0582198694901048, -0.4262076857305047, 1.423853630818953, -0.36089078387376755, -2.154339180537667, 2.476822997091817, 0.32141164193151145, 1.7050486382039032, -0.504611966141616, -1.397522139381618, 0.8479678308837004, -0.8297755982819625, 1.0577651562083943, -0.9101582376316869, -0.0029074583485230563, 0.2608575614760658, -0.7803371558458617, -2.145391997779593, -0.7063161942876157, 0.16239921321512515, -0.07683075830387348, 1.0607037175653777, 0.9544867857313885, -0.11793678009979827, 0.2102582181812343, -0.8387898266596429, -0.4206283693985038, -0.8152428246157843, -0.7276697598353788, -1.1329929330756752, -1.4466041035213315, -0.9848748287647158, 0.1180319292781396, -0.8776375086870779, -1.2821605470681214, 0.24414266199380305, 0.8141424501001563, -0.2765616564967207, 0.47783868175145766, -0.9965387453155009, -0.09458406917183024], \"yaxis\": \"y10\"}, {\"histfunc\": \"count\", \"histnorm\": \"\", \"marker\": {\"color\": \"rgba(50, 171, 96, 1.0)\", \"line\": {\"color\": \"#4D5663\", \"width\": 1.3}}, \"name\": \"C\", \"nbinsx\": 10, \"opacity\": 0.8, \"orientation\": \"v\", \"type\": \"histogram\", \"x\": [1.2982356591642445, 0.15427115901690341, 1.0213467155156255, 1.232635888537672, -0.22895222538532137, 1.954511785901398, -0.3942545853071218, -0.8092251193718866, -0.12322104508539473, 1.2286788093130638, 0.3874343994934357, -2.2953744065269643, 2.017388879406804, 1.1193266759672091, -0.2746008943626236, -0.8065314918764688, 0.972762641451173, 0.5074579567461822, 1.0118902717327247, 0.401509381385972, 0.0639114665073889, -1.8663631190800596, 0.1387441893866892, 0.1428873542876622, 0.47682850878052335, -0.36571985711014215, -1.5460929902125424, 0.5198596011344117, -1.6173676235504222, -1.4356016266184148, -0.07050502844673512, 0.5575637873458781, -2.1652567182684646, 0.5870162986735613, -0.8773663572243663, -0.6858001901123327, 2.7969800829027123, -0.5458885428916942, 1.1181997296247015, -0.11673408876087886, 0.6404059497492122, -1.728413741794743, 0.3983029336729583, -0.7246637943231838, -0.8739988801359196, -0.8953673781193359, 1.0188898265321207, 0.17867461627604825, -0.7954294822668724, 0.4636630050156447, -0.6784390426197163, 0.15119517232480975, 0.24758404252618696, 0.4332548808024751, -0.573257381134931, -0.543358203976377, 1.1269166836129816, -0.23872781757691822, -1.3099931941537102, -1.0582198694901048, -0.4262076857305047, 1.423853630818953, -0.36089078387376755, -2.154339180537667, 2.476822997091817, 0.32141164193151145, 1.7050486382039032, -0.504611966141616, -1.397522139381618, 0.8479678308837004, -0.8297755982819625, 1.0577651562083943, -0.9101582376316869, -0.0029074583485230563, 0.2608575614760658, -0.7803371558458617, -2.145391997779593, -0.7063161942876157, 0.16239921321512515, -0.07683075830387348, 1.0607037175653777, 0.9544867857313885, -0.11793678009979827, 0.2102582181812343, -0.8387898266596429, -0.4206283693985038, -0.8152428246157843, -0.7276697598353788, -1.1329929330756752, -1.4466041035213315, -0.9848748287647158, 0.1180319292781396, -0.8776375086870779, -1.2821605470681214, 0.24414266199380305, 0.8141424501001563, -0.2765616564967207, 0.47783868175145766, -0.9965387453155009, -0.09458406917183024], \"xaxis\": \"x11\", \"yaxis\": \"y11\"}, {\"line\": {\"color\": \"rgba(128, 128, 128, 1.0)\", \"dash\": \"solid\", \"shape\": \"linear\", \"width\": 1.3}, \"marker\": {\"size\": 2, \"symbol\": \"circle\"}, \"mode\": \"markers\", \"name\": \"C\", \"text\": \"\", \"type\": \"scatter\", \"x\": [-0.6833341122857621, -1.186518198081401, 0.7440360616704014, -0.4724438209696136, -0.3726398238770978, 0.04117066612790381, -0.12165221701464178, -0.3582447039742966, -0.9614060037617944, 0.738115872324706, -0.08819366108400076, 1.223355545014585, 1.4230621728241735, -0.0713488500790235, -0.37552458341578615, 1.4051767793554675, 1.5048150109432545, 1.1539930776722223, 0.37183774749061793, 1.2137171768818364, 0.2647832955019624, 0.08301689949870196, -0.08352492211042305, 0.17603067516678184, 1.3426263722935805, 1.4710969763164121, 0.3723008765493016, 0.8302101906900898, 0.4293110699434798, -1.7014499397610496, -0.7462107273631216, -0.062418203425431834, -0.4521898440150753, 1.0374670134271229, -0.03827027493552959, 2.627813687110325, 0.6891056995922998, 0.9496908564080698, -0.5173382461484048, -1.7998833834458434, -0.3058413154285717, -1.2147511852081776, -1.005887489678001, -0.30709897227715727, 0.37256104976328275, 0.12874701718905396, 0.40465242152470143, 1.1456196270354793, -0.9876226453689538, -0.32062717671141766, -0.4477698824738656, 0.37035700057779575, -0.6728757045446571, 0.13727837951958757, -0.8365857241976379, -0.862833170927694, -0.2321665491113636, -0.3096342804538494, 0.8796768280896852, -0.1138722149396076, 0.26259767826855795, -0.1723152186005268, 0.10650986454691985, -0.674854272338543, 0.607077893069324, 1.077104763029846, 0.306009787291824, 1.6189631446653476, 0.18641228222526587, 0.1002952216652406, 0.35384730130886494, -0.5592970923758837, 1.6810924067739625, -0.22801226336023897, -0.007212983814382795, -0.8884243908142498, 0.007373212437131988, -1.4994425212206395, 0.2858613226319799, 0.7723744957643544, 0.006207666093432797, -0.9831130172701907, 0.5668305156554925, 1.6039775473847573, 1.3707010942956015, 0.43850866148625123, 1.0295632712010863, 0.4628062783971533, -0.09196565989581211, 0.10106709283112156, -0.25825437843646293, 1.311841406736645, -0.04561607748831737, 0.9986168276634753, -1.1692664545784839, 2.0607261167534308, -0.03489069796686348, -0.9817027574319807, -1.828275897713146, -0.13307937775464979], \"xaxis\": \"x12\", \"y\": [1.2982356591642445, 0.15427115901690341, 1.0213467155156255, 1.232635888537672, -0.22895222538532137, 1.954511785901398, -0.3942545853071218, -0.8092251193718866, -0.12322104508539473, 1.2286788093130638, 0.3874343994934357, -2.2953744065269643, 2.017388879406804, 1.1193266759672091, -0.2746008943626236, -0.8065314918764688, 0.972762641451173, 0.5074579567461822, 1.0118902717327247, 0.401509381385972, 0.0639114665073889, -1.8663631190800596, 0.1387441893866892, 0.1428873542876622, 0.47682850878052335, -0.36571985711014215, -1.5460929902125424, 0.5198596011344117, -1.6173676235504222, -1.4356016266184148, -0.07050502844673512, 0.5575637873458781, -2.1652567182684646, 0.5870162986735613, -0.8773663572243663, -0.6858001901123327, 2.7969800829027123, -0.5458885428916942, 1.1181997296247015, -0.11673408876087886, 0.6404059497492122, -1.728413741794743, 0.3983029336729583, -0.7246637943231838, -0.8739988801359196, -0.8953673781193359, 1.0188898265321207, 0.17867461627604825, -0.7954294822668724, 0.4636630050156447, -0.6784390426197163, 0.15119517232480975, 0.24758404252618696, 0.4332548808024751, -0.573257381134931, -0.543358203976377, 1.1269166836129816, -0.23872781757691822, -1.3099931941537102, -1.0582198694901048, -0.4262076857305047, 1.423853630818953, -0.36089078387376755, -2.154339180537667, 2.476822997091817, 0.32141164193151145, 1.7050486382039032, -0.504611966141616, -1.397522139381618, 0.8479678308837004, -0.8297755982819625, 1.0577651562083943, -0.9101582376316869, -0.0029074583485230563, 0.2608575614760658, -0.7803371558458617, -2.145391997779593, -0.7063161942876157, 0.16239921321512515, -0.07683075830387348, 1.0607037175653777, 0.9544867857313885, -0.11793678009979827, 0.2102582181812343, -0.8387898266596429, -0.4206283693985038, -0.8152428246157843, -0.7276697598353788, -1.1329929330756752, -1.4466041035213315, -0.9848748287647158, 0.1180319292781396, -0.8776375086870779, -1.2821605470681214, 0.24414266199380305, 0.8141424501001563, -0.2765616564967207, 0.47783868175145766, -0.9965387453155009, -0.09458406917183024], \"yaxis\": \"y12\"}, {\"line\": {\"color\": \"rgba(128, 128, 128, 1.0)\", \"dash\": \"solid\", \"shape\": \"linear\", \"width\": 1.3}, \"marker\": {\"size\": 2, \"symbol\": \"circle\"}, \"mode\": \"markers\", \"name\": \"D\", \"text\": \"\", \"type\": \"scatter\", \"x\": [-1.3915514466454946, -0.25186847805576157, 0.9579228727741338, 0.6029271487268496, 0.416448674464561, 0.34063531233394767, -0.08459004387470692, 0.713619317860425, 1.7908137198587653, -0.07774446546417446, 0.7818861612515148, -0.08045802462218049, -1.3925376997334935, -0.25889123457565444, -1.2380068464047667, -1.6796053268216884, 1.1389527186859345, -2.15319053603754, 0.24225207650860273, 0.5323379650228895, -0.2096440229785707, 0.21953657917641956, -1.0938795941576012, -0.10577547603312083, 0.6384250404551687, -0.2721945316885118, 3.265738204544427, 0.3766017189657574, 0.33886279379065204, 1.2190050065519333, 0.3104100087786091, 0.26952115201931115, -2.3923810892739246, 0.8770803830120577, 0.6561754993661268, -1.2310665672205874, -1.1856641101789074, 0.41805322561991626, -0.9247175847838351, 0.23277995300774626, 0.4067275700600627, -1.428613771269792, 1.4839020736203505, 0.7633645943548794, 2.7756705575375586, -0.46463372800975183, 0.004306649259857492, 0.9645256070376517, -0.005185290726101883, 2.6020206278107167, -0.885626602219863, 1.3517771551572877, 1.4041522296440263, -0.37747456790116, 0.15412506809685084, -1.3868854662382721, 0.6433483582256894, 0.9983683388092811, -0.12169074845217757, -2.1176310033064594, -0.06264728472444926, -1.0150462339749775, 0.7360528445825723, 0.5333439301874713, 0.35198578229550376, 0.6072697451499537, -2.124423431145739, 0.45861870101295915, 0.3901706387730426, 0.9359092339197448, -0.1480147716292342, -0.4323566165303779, 0.7653655916578783, -0.19732640194278503, -0.1465413420198137, 0.7142610412011294, 1.1418243316888386, -0.3253132381128121, 1.5515260657660772, 0.309161311286864, -0.8358998861552829, 1.3655510433969495, 0.0632015316988487, -0.016827268343440532, 0.7506720191468409, -0.5595071040238351, -0.6947205233455448, 1.142499758085739, -2.147256982261882, -1.02211137709033, 0.4065176710241965, 0.5728619428353131, -0.2066640210509487, -0.9245155918409756, 0.19822024602242874, 1.4207896192934248, -1.67439132302367, 0.8101476190574366, 1.1438891096596677, -0.24724589169943464], \"xaxis\": \"x13\", \"y\": [-0.6833341122857621, -1.186518198081401, 0.7440360616704014, -0.4724438209696136, -0.3726398238770978, 0.04117066612790381, -0.12165221701464178, -0.3582447039742966, -0.9614060037617944, 0.738115872324706, -0.08819366108400076, 1.223355545014585, 1.4230621728241735, -0.0713488500790235, -0.37552458341578615, 1.4051767793554675, 1.5048150109432545, 1.1539930776722223, 0.37183774749061793, 1.2137171768818364, 0.2647832955019624, 0.08301689949870196, -0.08352492211042305, 0.17603067516678184, 1.3426263722935805, 1.4710969763164121, 0.3723008765493016, 0.8302101906900898, 0.4293110699434798, -1.7014499397610496, -0.7462107273631216, -0.062418203425431834, -0.4521898440150753, 1.0374670134271229, -0.03827027493552959, 2.627813687110325, 0.6891056995922998, 0.9496908564080698, -0.5173382461484048, -1.7998833834458434, -0.3058413154285717, -1.2147511852081776, -1.005887489678001, -0.30709897227715727, 0.37256104976328275, 0.12874701718905396, 0.40465242152470143, 1.1456196270354793, -0.9876226453689538, -0.32062717671141766, -0.4477698824738656, 0.37035700057779575, -0.6728757045446571, 0.13727837951958757, -0.8365857241976379, -0.862833170927694, -0.2321665491113636, -0.3096342804538494, 0.8796768280896852, -0.1138722149396076, 0.26259767826855795, -0.1723152186005268, 0.10650986454691985, -0.674854272338543, 0.607077893069324, 1.077104763029846, 0.306009787291824, 1.6189631446653476, 0.18641228222526587, 0.1002952216652406, 0.35384730130886494, -0.5592970923758837, 1.6810924067739625, -0.22801226336023897, -0.007212983814382795, -0.8884243908142498, 0.007373212437131988, -1.4994425212206395, 0.2858613226319799, 0.7723744957643544, 0.006207666093432797, -0.9831130172701907, 0.5668305156554925, 1.6039775473847573, 1.3707010942956015, 0.43850866148625123, 1.0295632712010863, 0.4628062783971533, -0.09196565989581211, 0.10106709283112156, -0.25825437843646293, 1.311841406736645, -0.04561607748831737, 0.9986168276634753, -1.1692664545784839, 2.0607261167534308, -0.03489069796686348, -0.9817027574319807, -1.828275897713146, -0.13307937775464979], \"yaxis\": \"y13\"}, {\"line\": {\"color\": \"rgba(128, 128, 128, 1.0)\", \"dash\": \"solid\", \"shape\": \"linear\", \"width\": 1.3}, \"marker\": {\"size\": 2, \"symbol\": \"circle\"}, \"mode\": \"markers\", \"name\": \"D\", \"text\": \"\", \"type\": \"scatter\", \"x\": [-1.8063135150409384, -0.7679513004948498, -0.8742919766403517, 0.3070143950458193, 1.1665253316654558, -0.2262683166260905, -0.4917852269151437, -0.08073729843021035, 2.8334375843659645, 1.1532207799473548, -0.03814254313590681, -0.10568906458824325, -0.31317568710161725, 0.999191108558023, 0.8385632979585733, 0.41534933039874006, 0.8797805528306242, -1.2497080083648895, -1.7911041602373101, 0.7630643074653287, 2.5892130854872626, -0.5439208326964506, -1.3750796123608928, -1.729704664812876, 0.5578288145910832, 1.0036536830512153, -0.1714020047363067, -0.19405615495300366, 0.6919399765482697, 0.9695804954012914, 1.350663420111455, -1.240062693169029, -1.348240459508053, 1.4623370752557971, -0.48168927519920546, 0.39784876136248515, -0.9024576145690437, -0.6935679814885369, -0.3761127379085823, -0.36623141625460714, -0.2451594279515256, 0.026402940006598093, -0.32046021467091446, 1.1112009255824087, 0.2187696308981625, -2.505044161953846, -0.6162072553432347, -0.015565844051689669, 1.7854810856777485, 0.3541192142490893, 0.5263691204633134, 1.3994577056620974, -1.3428712151096527, 1.1255059881410612, 0.9500501528505452, 0.23415698180013855, 0.15335525171261927, -0.052071479834325515, -1.4232941345045214, 0.7132256996685288, 0.5489697164118927, -0.5726168408446426, 0.4621316906319872, 2.0945996369123625, -0.6293460980779058, 1.0075453751062597, 0.10083326030721385, -2.2013485061886473, -0.3898105142975688, -1.0896725401553105, -1.8597732189447154, 0.3905174313184132, -0.3104515621834238, 0.8040065537583236, -1.0797745253519242, 0.8367161653986137, -1.2674111303051174, -0.6763387257899182, -1.092639906945907, 1.0449811622012086, 1.8517700485195743, -0.13757886943215655, 0.7259595503006789, -0.9096144399987279, 0.6074501093482007, -0.7191397729519661, 1.907848397028853, -0.8418897038835749, 0.06575111015677335, -2.0389882885122126, -1.53917556051178, 0.9015627864510748, 0.09360031995000555, 0.10739423129650766, 0.6419278156297985, -0.23432958246422325, 0.1178203071042369, -0.9005807904385831, 1.2181737505496018, -0.5324878800398267], \"xaxis\": \"x14\", \"y\": [-0.6833341122857621, -1.186518198081401, 0.7440360616704014, -0.4724438209696136, -0.3726398238770978, 0.04117066612790381, -0.12165221701464178, -0.3582447039742966, -0.9614060037617944, 0.738115872324706, -0.08819366108400076, 1.223355545014585, 1.4230621728241735, -0.0713488500790235, -0.37552458341578615, 1.4051767793554675, 1.5048150109432545, 1.1539930776722223, 0.37183774749061793, 1.2137171768818364, 0.2647832955019624, 0.08301689949870196, -0.08352492211042305, 0.17603067516678184, 1.3426263722935805, 1.4710969763164121, 0.3723008765493016, 0.8302101906900898, 0.4293110699434798, -1.7014499397610496, -0.7462107273631216, -0.062418203425431834, -0.4521898440150753, 1.0374670134271229, -0.03827027493552959, 2.627813687110325, 0.6891056995922998, 0.9496908564080698, -0.5173382461484048, -1.7998833834458434, -0.3058413154285717, -1.2147511852081776, -1.005887489678001, -0.30709897227715727, 0.37256104976328275, 0.12874701718905396, 0.40465242152470143, 1.1456196270354793, -0.9876226453689538, -0.32062717671141766, -0.4477698824738656, 0.37035700057779575, -0.6728757045446571, 0.13727837951958757, -0.8365857241976379, -0.862833170927694, -0.2321665491113636, -0.3096342804538494, 0.8796768280896852, -0.1138722149396076, 0.26259767826855795, -0.1723152186005268, 0.10650986454691985, -0.674854272338543, 0.607077893069324, 1.077104763029846, 0.306009787291824, 1.6189631446653476, 0.18641228222526587, 0.1002952216652406, 0.35384730130886494, -0.5592970923758837, 1.6810924067739625, -0.22801226336023897, -0.007212983814382795, -0.8884243908142498, 0.007373212437131988, -1.4994425212206395, 0.2858613226319799, 0.7723744957643544, 0.006207666093432797, -0.9831130172701907, 0.5668305156554925, 1.6039775473847573, 1.3707010942956015, 0.43850866148625123, 1.0295632712010863, 0.4628062783971533, -0.09196565989581211, 0.10106709283112156, -0.25825437843646293, 1.311841406736645, -0.04561607748831737, 0.9986168276634753, -1.1692664545784839, 2.0607261167534308, -0.03489069796686348, -0.9817027574319807, -1.828275897713146, -0.13307937775464979], \"yaxis\": \"y14\"}, {\"line\": {\"color\": \"rgba(128, 128, 128, 1.0)\", \"dash\": \"solid\", \"shape\": \"linear\", \"width\": 1.3}, \"marker\": {\"size\": 2, \"symbol\": \"circle\"}, \"mode\": \"markers\", \"name\": \"D\", \"text\": \"\", \"type\": \"scatter\", \"x\": [1.2982356591642445, 0.15427115901690341, 1.0213467155156255, 1.232635888537672, -0.22895222538532137, 1.954511785901398, -0.3942545853071218, -0.8092251193718866, -0.12322104508539473, 1.2286788093130638, 0.3874343994934357, -2.2953744065269643, 2.017388879406804, 1.1193266759672091, -0.2746008943626236, -0.8065314918764688, 0.972762641451173, 0.5074579567461822, 1.0118902717327247, 0.401509381385972, 0.0639114665073889, -1.8663631190800596, 0.1387441893866892, 0.1428873542876622, 0.47682850878052335, -0.36571985711014215, -1.5460929902125424, 0.5198596011344117, -1.6173676235504222, -1.4356016266184148, -0.07050502844673512, 0.5575637873458781, -2.1652567182684646, 0.5870162986735613, -0.8773663572243663, -0.6858001901123327, 2.7969800829027123, -0.5458885428916942, 1.1181997296247015, -0.11673408876087886, 0.6404059497492122, -1.728413741794743, 0.3983029336729583, -0.7246637943231838, -0.8739988801359196, -0.8953673781193359, 1.0188898265321207, 0.17867461627604825, -0.7954294822668724, 0.4636630050156447, -0.6784390426197163, 0.15119517232480975, 0.24758404252618696, 0.4332548808024751, -0.573257381134931, -0.543358203976377, 1.1269166836129816, -0.23872781757691822, -1.3099931941537102, -1.0582198694901048, -0.4262076857305047, 1.423853630818953, -0.36089078387376755, -2.154339180537667, 2.476822997091817, 0.32141164193151145, 1.7050486382039032, -0.504611966141616, -1.397522139381618, 0.8479678308837004, -0.8297755982819625, 1.0577651562083943, -0.9101582376316869, -0.0029074583485230563, 0.2608575614760658, -0.7803371558458617, -2.145391997779593, -0.7063161942876157, 0.16239921321512515, -0.07683075830387348, 1.0607037175653777, 0.9544867857313885, -0.11793678009979827, 0.2102582181812343, -0.8387898266596429, -0.4206283693985038, -0.8152428246157843, -0.7276697598353788, -1.1329929330756752, -1.4466041035213315, -0.9848748287647158, 0.1180319292781396, -0.8776375086870779, -1.2821605470681214, 0.24414266199380305, 0.8141424501001563, -0.2765616564967207, 0.47783868175145766, -0.9965387453155009, -0.09458406917183024], \"xaxis\": \"x15\", \"y\": [-0.6833341122857621, -1.186518198081401, 0.7440360616704014, -0.4724438209696136, -0.3726398238770978, 0.04117066612790381, -0.12165221701464178, -0.3582447039742966, -0.9614060037617944, 0.738115872324706, -0.08819366108400076, 1.223355545014585, 1.4230621728241735, -0.0713488500790235, -0.37552458341578615, 1.4051767793554675, 1.5048150109432545, 1.1539930776722223, 0.37183774749061793, 1.2137171768818364, 0.2647832955019624, 0.08301689949870196, -0.08352492211042305, 0.17603067516678184, 1.3426263722935805, 1.4710969763164121, 0.3723008765493016, 0.8302101906900898, 0.4293110699434798, -1.7014499397610496, -0.7462107273631216, -0.062418203425431834, -0.4521898440150753, 1.0374670134271229, -0.03827027493552959, 2.627813687110325, 0.6891056995922998, 0.9496908564080698, -0.5173382461484048, -1.7998833834458434, -0.3058413154285717, -1.2147511852081776, -1.005887489678001, -0.30709897227715727, 0.37256104976328275, 0.12874701718905396, 0.40465242152470143, 1.1456196270354793, -0.9876226453689538, -0.32062717671141766, -0.4477698824738656, 0.37035700057779575, -0.6728757045446571, 0.13727837951958757, -0.8365857241976379, -0.862833170927694, -0.2321665491113636, -0.3096342804538494, 0.8796768280896852, -0.1138722149396076, 0.26259767826855795, -0.1723152186005268, 0.10650986454691985, -0.674854272338543, 0.607077893069324, 1.077104763029846, 0.306009787291824, 1.6189631446653476, 0.18641228222526587, 0.1002952216652406, 0.35384730130886494, -0.5592970923758837, 1.6810924067739625, -0.22801226336023897, -0.007212983814382795, -0.8884243908142498, 0.007373212437131988, -1.4994425212206395, 0.2858613226319799, 0.7723744957643544, 0.006207666093432797, -0.9831130172701907, 0.5668305156554925, 1.6039775473847573, 1.3707010942956015, 0.43850866148625123, 1.0295632712010863, 0.4628062783971533, -0.09196565989581211, 0.10106709283112156, -0.25825437843646293, 1.311841406736645, -0.04561607748831737, 0.9986168276634753, -1.1692664545784839, 2.0607261167534308, -0.03489069796686348, -0.9817027574319807, -1.828275897713146, -0.13307937775464979], \"yaxis\": \"y15\"}, {\"histfunc\": \"count\", \"histnorm\": \"\", \"marker\": {\"color\": \"rgba(128, 0, 128, 1.0)\", \"line\": {\"color\": \"#4D5663\", \"width\": 1.3}}, \"name\": \"D\", \"nbinsx\": 10, \"opacity\": 0.8, \"orientation\": \"v\", \"type\": \"histogram\", \"x\": [-0.6833341122857621, -1.186518198081401, 0.7440360616704014, -0.4724438209696136, -0.3726398238770978, 0.04117066612790381, -0.12165221701464178, -0.3582447039742966, -0.9614060037617944, 0.738115872324706, -0.08819366108400076, 1.223355545014585, 1.4230621728241735, -0.0713488500790235, -0.37552458341578615, 1.4051767793554675, 1.5048150109432545, 1.1539930776722223, 0.37183774749061793, 1.2137171768818364, 0.2647832955019624, 0.08301689949870196, -0.08352492211042305, 0.17603067516678184, 1.3426263722935805, 1.4710969763164121, 0.3723008765493016, 0.8302101906900898, 0.4293110699434798, -1.7014499397610496, -0.7462107273631216, -0.062418203425431834, -0.4521898440150753, 1.0374670134271229, -0.03827027493552959, 2.627813687110325, 0.6891056995922998, 0.9496908564080698, -0.5173382461484048, -1.7998833834458434, -0.3058413154285717, -1.2147511852081776, -1.005887489678001, -0.30709897227715727, 0.37256104976328275, 0.12874701718905396, 0.40465242152470143, 1.1456196270354793, -0.9876226453689538, -0.32062717671141766, -0.4477698824738656, 0.37035700057779575, -0.6728757045446571, 0.13727837951958757, -0.8365857241976379, -0.862833170927694, -0.2321665491113636, -0.3096342804538494, 0.8796768280896852, -0.1138722149396076, 0.26259767826855795, -0.1723152186005268, 0.10650986454691985, -0.674854272338543, 0.607077893069324, 1.077104763029846, 0.306009787291824, 1.6189631446653476, 0.18641228222526587, 0.1002952216652406, 0.35384730130886494, -0.5592970923758837, 1.6810924067739625, -0.22801226336023897, -0.007212983814382795, -0.8884243908142498, 0.007373212437131988, -1.4994425212206395, 0.2858613226319799, 0.7723744957643544, 0.006207666093432797, -0.9831130172701907, 0.5668305156554925, 1.6039775473847573, 1.3707010942956015, 0.43850866148625123, 1.0295632712010863, 0.4628062783971533, -0.09196565989581211, 0.10106709283112156, -0.25825437843646293, 1.311841406736645, -0.04561607748831737, 0.9986168276634753, -1.1692664545784839, 2.0607261167534308, -0.03489069796686348, -0.9817027574319807, -1.828275897713146, -0.13307937775464979], \"xaxis\": \"x16\", \"yaxis\": \"y16\"}],\n",
       "                        {\"bargap\": 0.02, \"legend\": {\"bgcolor\": \"#F5F6F9\", \"font\": {\"color\": \"#4D5663\"}}, \"paper_bgcolor\": \"#F5F6F9\", \"plot_bgcolor\": \"#F5F6F9\", \"showlegend\": false, \"template\": {\"data\": {\"bar\": [{\"error_x\": {\"color\": \"#2a3f5f\"}, \"error_y\": {\"color\": \"#2a3f5f\"}, \"marker\": {\"line\": {\"color\": \"#E5ECF6\", \"width\": 0.5}}, \"type\": \"bar\"}], \"barpolar\": [{\"marker\": {\"line\": {\"color\": \"#E5ECF6\", \"width\": 0.5}}, \"type\": \"barpolar\"}], \"carpet\": [{\"aaxis\": {\"endlinecolor\": \"#2a3f5f\", \"gridcolor\": \"white\", \"linecolor\": \"white\", \"minorgridcolor\": \"white\", \"startlinecolor\": \"#2a3f5f\"}, \"baxis\": {\"endlinecolor\": \"#2a3f5f\", \"gridcolor\": \"white\", \"linecolor\": \"white\", \"minorgridcolor\": \"white\", \"startlinecolor\": \"#2a3f5f\"}, \"type\": \"carpet\"}], \"choropleth\": [{\"colorbar\": {\"outlinewidth\": 0, \"ticks\": \"\"}, \"type\": \"choropleth\"}], \"contour\": [{\"colorbar\": {\"outlinewidth\": 0, \"ticks\": \"\"}, \"colorscale\": [[0.0, \"#0d0887\"], [0.1111111111111111, \"#46039f\"], [0.2222222222222222, \"#7201a8\"], [0.3333333333333333, \"#9c179e\"], [0.4444444444444444, \"#bd3786\"], [0.5555555555555556, \"#d8576b\"], [0.6666666666666666, \"#ed7953\"], [0.7777777777777778, \"#fb9f3a\"], [0.8888888888888888, \"#fdca26\"], [1.0, \"#f0f921\"]], \"type\": \"contour\"}], \"contourcarpet\": [{\"colorbar\": {\"outlinewidth\": 0, \"ticks\": \"\"}, \"type\": \"contourcarpet\"}], \"heatmap\": [{\"colorbar\": {\"outlinewidth\": 0, \"ticks\": \"\"}, \"colorscale\": [[0.0, \"#0d0887\"], [0.1111111111111111, \"#46039f\"], [0.2222222222222222, \"#7201a8\"], [0.3333333333333333, \"#9c179e\"], [0.4444444444444444, \"#bd3786\"], [0.5555555555555556, \"#d8576b\"], [0.6666666666666666, \"#ed7953\"], [0.7777777777777778, \"#fb9f3a\"], [0.8888888888888888, \"#fdca26\"], [1.0, \"#f0f921\"]], \"type\": \"heatmap\"}], \"heatmapgl\": [{\"colorbar\": {\"outlinewidth\": 0, \"ticks\": \"\"}, \"colorscale\": [[0.0, \"#0d0887\"], [0.1111111111111111, \"#46039f\"], [0.2222222222222222, \"#7201a8\"], [0.3333333333333333, \"#9c179e\"], [0.4444444444444444, \"#bd3786\"], [0.5555555555555556, \"#d8576b\"], [0.6666666666666666, \"#ed7953\"], [0.7777777777777778, \"#fb9f3a\"], [0.8888888888888888, \"#fdca26\"], [1.0, \"#f0f921\"]], \"type\": \"heatmapgl\"}], \"histogram\": [{\"marker\": {\"colorbar\": {\"outlinewidth\": 0, \"ticks\": \"\"}}, \"type\": \"histogram\"}], \"histogram2d\": [{\"colorbar\": {\"outlinewidth\": 0, \"ticks\": \"\"}, \"colorscale\": [[0.0, \"#0d0887\"], [0.1111111111111111, \"#46039f\"], [0.2222222222222222, \"#7201a8\"], [0.3333333333333333, \"#9c179e\"], [0.4444444444444444, \"#bd3786\"], [0.5555555555555556, \"#d8576b\"], [0.6666666666666666, \"#ed7953\"], [0.7777777777777778, \"#fb9f3a\"], [0.8888888888888888, \"#fdca26\"], [1.0, \"#f0f921\"]], \"type\": \"histogram2d\"}], \"histogram2dcontour\": [{\"colorbar\": {\"outlinewidth\": 0, \"ticks\": \"\"}, \"colorscale\": [[0.0, \"#0d0887\"], [0.1111111111111111, \"#46039f\"], [0.2222222222222222, \"#7201a8\"], [0.3333333333333333, \"#9c179e\"], [0.4444444444444444, \"#bd3786\"], [0.5555555555555556, \"#d8576b\"], [0.6666666666666666, \"#ed7953\"], [0.7777777777777778, \"#fb9f3a\"], [0.8888888888888888, \"#fdca26\"], [1.0, \"#f0f921\"]], \"type\": \"histogram2dcontour\"}], \"mesh3d\": [{\"colorbar\": {\"outlinewidth\": 0, \"ticks\": \"\"}, \"type\": \"mesh3d\"}], \"parcoords\": [{\"line\": {\"colorbar\": {\"outlinewidth\": 0, \"ticks\": \"\"}}, \"type\": \"parcoords\"}], \"pie\": [{\"automargin\": true, \"type\": \"pie\"}], \"scatter\": [{\"marker\": {\"colorbar\": {\"outlinewidth\": 0, \"ticks\": \"\"}}, \"type\": \"scatter\"}], \"scatter3d\": [{\"line\": {\"colorbar\": {\"outlinewidth\": 0, \"ticks\": \"\"}}, \"marker\": {\"colorbar\": {\"outlinewidth\": 0, \"ticks\": \"\"}}, \"type\": \"scatter3d\"}], \"scattercarpet\": [{\"marker\": {\"colorbar\": {\"outlinewidth\": 0, \"ticks\": \"\"}}, \"type\": \"scattercarpet\"}], \"scattergeo\": [{\"marker\": {\"colorbar\": {\"outlinewidth\": 0, \"ticks\": \"\"}}, \"type\": \"scattergeo\"}], \"scattergl\": [{\"marker\": {\"colorbar\": {\"outlinewidth\": 0, \"ticks\": \"\"}}, \"type\": \"scattergl\"}], \"scattermapbox\": [{\"marker\": {\"colorbar\": {\"outlinewidth\": 0, \"ticks\": \"\"}}, \"type\": \"scattermapbox\"}], \"scatterpolar\": [{\"marker\": {\"colorbar\": {\"outlinewidth\": 0, \"ticks\": \"\"}}, \"type\": \"scatterpolar\"}], \"scatterpolargl\": [{\"marker\": {\"colorbar\": {\"outlinewidth\": 0, \"ticks\": \"\"}}, \"type\": \"scatterpolargl\"}], \"scatterternary\": [{\"marker\": {\"colorbar\": {\"outlinewidth\": 0, \"ticks\": \"\"}}, \"type\": \"scatterternary\"}], \"surface\": [{\"colorbar\": {\"outlinewidth\": 0, \"ticks\": \"\"}, \"colorscale\": [[0.0, \"#0d0887\"], [0.1111111111111111, \"#46039f\"], [0.2222222222222222, \"#7201a8\"], [0.3333333333333333, \"#9c179e\"], [0.4444444444444444, \"#bd3786\"], [0.5555555555555556, \"#d8576b\"], [0.6666666666666666, \"#ed7953\"], [0.7777777777777778, \"#fb9f3a\"], [0.8888888888888888, \"#fdca26\"], [1.0, \"#f0f921\"]], \"type\": \"surface\"}], \"table\": [{\"cells\": {\"fill\": {\"color\": \"#EBF0F8\"}, \"line\": {\"color\": \"white\"}}, \"header\": {\"fill\": {\"color\": \"#C8D4E3\"}, \"line\": {\"color\": \"white\"}}, \"type\": \"table\"}]}, \"layout\": {\"annotationdefaults\": {\"arrowcolor\": \"#2a3f5f\", \"arrowhead\": 0, \"arrowwidth\": 1}, \"coloraxis\": {\"colorbar\": {\"outlinewidth\": 0, \"ticks\": \"\"}}, \"colorscale\": {\"diverging\": [[0, \"#8e0152\"], [0.1, \"#c51b7d\"], [0.2, \"#de77ae\"], [0.3, \"#f1b6da\"], [0.4, \"#fde0ef\"], [0.5, \"#f7f7f7\"], [0.6, \"#e6f5d0\"], [0.7, \"#b8e186\"], [0.8, \"#7fbc41\"], [0.9, \"#4d9221\"], [1, \"#276419\"]], \"sequential\": [[0.0, \"#0d0887\"], [0.1111111111111111, \"#46039f\"], [0.2222222222222222, \"#7201a8\"], [0.3333333333333333, \"#9c179e\"], [0.4444444444444444, \"#bd3786\"], [0.5555555555555556, \"#d8576b\"], [0.6666666666666666, \"#ed7953\"], [0.7777777777777778, \"#fb9f3a\"], [0.8888888888888888, \"#fdca26\"], [1.0, \"#f0f921\"]], \"sequentialminus\": [[0.0, \"#0d0887\"], [0.1111111111111111, \"#46039f\"], [0.2222222222222222, \"#7201a8\"], [0.3333333333333333, \"#9c179e\"], [0.4444444444444444, \"#bd3786\"], [0.5555555555555556, \"#d8576b\"], [0.6666666666666666, \"#ed7953\"], [0.7777777777777778, \"#fb9f3a\"], [0.8888888888888888, \"#fdca26\"], [1.0, \"#f0f921\"]]}, \"colorway\": [\"#636efa\", \"#EF553B\", \"#00cc96\", \"#ab63fa\", \"#FFA15A\", \"#19d3f3\", \"#FF6692\", \"#B6E880\", \"#FF97FF\", \"#FECB52\"], \"font\": {\"color\": \"#2a3f5f\"}, \"geo\": {\"bgcolor\": \"white\", \"lakecolor\": \"white\", \"landcolor\": \"#E5ECF6\", \"showlakes\": true, \"showland\": true, \"subunitcolor\": \"white\"}, \"hoverlabel\": {\"align\": \"left\"}, \"hovermode\": \"closest\", \"mapbox\": {\"style\": \"light\"}, \"paper_bgcolor\": \"white\", \"plot_bgcolor\": \"#E5ECF6\", \"polar\": {\"angularaxis\": {\"gridcolor\": \"white\", \"linecolor\": \"white\", \"ticks\": \"\"}, \"bgcolor\": \"#E5ECF6\", \"radialaxis\": {\"gridcolor\": \"white\", \"linecolor\": \"white\", \"ticks\": \"\"}}, \"scene\": {\"xaxis\": {\"backgroundcolor\": \"#E5ECF6\", \"gridcolor\": \"white\", \"gridwidth\": 2, \"linecolor\": \"white\", \"showbackground\": true, \"ticks\": \"\", \"zerolinecolor\": \"white\"}, \"yaxis\": {\"backgroundcolor\": \"#E5ECF6\", \"gridcolor\": \"white\", \"gridwidth\": 2, \"linecolor\": \"white\", \"showbackground\": true, \"ticks\": \"\", \"zerolinecolor\": \"white\"}, \"zaxis\": {\"backgroundcolor\": \"#E5ECF6\", \"gridcolor\": \"white\", \"gridwidth\": 2, \"linecolor\": \"white\", \"showbackground\": true, \"ticks\": \"\", \"zerolinecolor\": \"white\"}}, \"shapedefaults\": {\"line\": {\"color\": \"#2a3f5f\"}}, \"ternary\": {\"aaxis\": {\"gridcolor\": \"white\", \"linecolor\": \"white\", \"ticks\": \"\"}, \"baxis\": {\"gridcolor\": \"white\", \"linecolor\": \"white\", \"ticks\": \"\"}, \"bgcolor\": \"#E5ECF6\", \"caxis\": {\"gridcolor\": \"white\", \"linecolor\": \"white\", \"ticks\": \"\"}}, \"title\": {\"x\": 0.05}, \"xaxis\": {\"automargin\": true, \"gridcolor\": \"white\", \"linecolor\": \"white\", \"ticks\": \"\", \"title\": {\"standoff\": 15}, \"zerolinecolor\": \"white\", \"zerolinewidth\": 2}, \"yaxis\": {\"automargin\": true, \"gridcolor\": \"white\", \"linecolor\": \"white\", \"ticks\": \"\", \"title\": {\"standoff\": 15}, \"zerolinecolor\": \"white\", \"zerolinewidth\": 2}}}, \"title\": {\"font\": {\"color\": \"#4D5663\"}}, \"xaxis\": {\"anchor\": \"y\", \"domain\": [0.0, 0.2125], \"gridcolor\": \"#E1E5ED\", \"showgrid\": false, \"tickfont\": {\"color\": \"#4D5663\"}, \"title\": {\"font\": {\"color\": \"#4D5663\"}, \"text\": \"\"}, \"zerolinecolor\": \"#E1E5ED\"}, \"xaxis10\": {\"anchor\": \"y10\", \"domain\": [0.2625, 0.475], \"gridcolor\": \"#E1E5ED\", \"showgrid\": false, \"tickfont\": {\"color\": \"#4D5663\"}, \"title\": {\"font\": {\"color\": \"#4D5663\"}, \"text\": \"\"}, \"zerolinecolor\": \"#E1E5ED\"}, \"xaxis11\": {\"anchor\": \"y11\", \"domain\": [0.525, 0.7375], \"gridcolor\": \"#E1E5ED\", \"showgrid\": false, \"tickfont\": {\"color\": \"#4D5663\"}, \"title\": {\"font\": {\"color\": \"#4D5663\"}, \"text\": \"\"}, \"zerolinecolor\": \"#E1E5ED\"}, \"xaxis12\": {\"anchor\": \"y12\", \"domain\": [0.7875, 1.0], \"gridcolor\": \"#E1E5ED\", \"showgrid\": false, \"tickfont\": {\"color\": \"#4D5663\"}, \"title\": {\"font\": {\"color\": \"#4D5663\"}, \"text\": \"\"}, \"zerolinecolor\": \"#E1E5ED\"}, \"xaxis13\": {\"anchor\": \"y13\", \"domain\": [0.0, 0.2125], \"gridcolor\": \"#E1E5ED\", \"showgrid\": false, \"tickfont\": {\"color\": \"#4D5663\"}, \"title\": {\"font\": {\"color\": \"#4D5663\"}, \"text\": \"\"}, \"zerolinecolor\": \"#E1E5ED\"}, \"xaxis14\": {\"anchor\": \"y14\", \"domain\": [0.2625, 0.475], \"gridcolor\": \"#E1E5ED\", \"showgrid\": false, \"tickfont\": {\"color\": \"#4D5663\"}, \"title\": {\"font\": {\"color\": \"#4D5663\"}, \"text\": \"\"}, \"zerolinecolor\": \"#E1E5ED\"}, \"xaxis15\": {\"anchor\": \"y15\", \"domain\": [0.525, 0.7375], \"gridcolor\": \"#E1E5ED\", \"showgrid\": false, \"tickfont\": {\"color\": \"#4D5663\"}, \"title\": {\"font\": {\"color\": \"#4D5663\"}, \"text\": \"\"}, \"zerolinecolor\": \"#E1E5ED\"}, \"xaxis16\": {\"anchor\": \"y16\", \"domain\": [0.7875, 1.0], \"gridcolor\": \"#E1E5ED\", \"showgrid\": false, \"tickfont\": {\"color\": \"#4D5663\"}, \"title\": {\"font\": {\"color\": \"#4D5663\"}, \"text\": \"\"}, \"zerolinecolor\": \"#E1E5ED\"}, \"xaxis2\": {\"anchor\": \"y2\", \"domain\": [0.2625, 0.475], \"gridcolor\": \"#E1E5ED\", \"showgrid\": false, \"tickfont\": {\"color\": \"#4D5663\"}, \"title\": {\"font\": {\"color\": \"#4D5663\"}, \"text\": \"\"}, \"zerolinecolor\": \"#E1E5ED\"}, \"xaxis3\": {\"anchor\": \"y3\", \"domain\": [0.525, 0.7375], \"gridcolor\": \"#E1E5ED\", \"showgrid\": false, \"tickfont\": {\"color\": \"#4D5663\"}, \"title\": {\"font\": {\"color\": \"#4D5663\"}, \"text\": \"\"}, \"zerolinecolor\": \"#E1E5ED\"}, \"xaxis4\": {\"anchor\": \"y4\", \"domain\": [0.7875, 1.0], \"gridcolor\": \"#E1E5ED\", \"showgrid\": false, \"tickfont\": {\"color\": \"#4D5663\"}, \"title\": {\"font\": {\"color\": \"#4D5663\"}, \"text\": \"\"}, \"zerolinecolor\": \"#E1E5ED\"}, \"xaxis5\": {\"anchor\": \"y5\", \"domain\": [0.0, 0.2125], \"gridcolor\": \"#E1E5ED\", \"showgrid\": false, \"tickfont\": {\"color\": \"#4D5663\"}, \"title\": {\"font\": {\"color\": \"#4D5663\"}, \"text\": \"\"}, \"zerolinecolor\": \"#E1E5ED\"}, \"xaxis6\": {\"anchor\": \"y6\", \"domain\": [0.2625, 0.475], \"gridcolor\": \"#E1E5ED\", \"showgrid\": false, \"tickfont\": {\"color\": \"#4D5663\"}, \"title\": {\"font\": {\"color\": \"#4D5663\"}, \"text\": \"\"}, \"zerolinecolor\": \"#E1E5ED\"}, \"xaxis7\": {\"anchor\": \"y7\", \"domain\": [0.525, 0.7375], \"gridcolor\": \"#E1E5ED\", \"showgrid\": false, \"tickfont\": {\"color\": \"#4D5663\"}, \"title\": {\"font\": {\"color\": \"#4D5663\"}, \"text\": \"\"}, \"zerolinecolor\": \"#E1E5ED\"}, \"xaxis8\": {\"anchor\": \"y8\", \"domain\": [0.7875, 1.0], \"gridcolor\": \"#E1E5ED\", \"showgrid\": false, \"tickfont\": {\"color\": \"#4D5663\"}, \"title\": {\"font\": {\"color\": \"#4D5663\"}, \"text\": \"\"}, \"zerolinecolor\": \"#E1E5ED\"}, \"xaxis9\": {\"anchor\": \"y9\", \"domain\": [0.0, 0.2125], \"gridcolor\": \"#E1E5ED\", \"showgrid\": false, \"tickfont\": {\"color\": \"#4D5663\"}, \"title\": {\"font\": {\"color\": \"#4D5663\"}, \"text\": \"\"}, \"zerolinecolor\": \"#E1E5ED\"}, \"yaxis\": {\"anchor\": \"x\", \"domain\": [0.8025, 1.0], \"gridcolor\": \"#E1E5ED\", \"showgrid\": false, \"tickfont\": {\"color\": \"#4D5663\"}, \"title\": {\"font\": {\"color\": \"#4D5663\"}, \"text\": \"\"}, \"zerolinecolor\": \"#E1E5ED\"}, \"yaxis10\": {\"anchor\": \"x10\", \"domain\": [0.2675, 0.465], \"gridcolor\": \"#E1E5ED\", \"showgrid\": false, \"tickfont\": {\"color\": \"#4D5663\"}, \"title\": {\"font\": {\"color\": \"#4D5663\"}, \"text\": \"\"}, \"zerolinecolor\": \"#E1E5ED\"}, \"yaxis11\": {\"anchor\": \"x11\", \"domain\": [0.2675, 0.465], \"gridcolor\": \"#E1E5ED\", \"showgrid\": false, \"tickfont\": {\"color\": \"#4D5663\"}, \"title\": {\"font\": {\"color\": \"#4D5663\"}, \"text\": \"\"}, \"zerolinecolor\": \"#E1E5ED\"}, \"yaxis12\": {\"anchor\": \"x12\", \"domain\": [0.2675, 0.465], \"gridcolor\": \"#E1E5ED\", \"showgrid\": false, \"tickfont\": {\"color\": \"#4D5663\"}, \"title\": {\"font\": {\"color\": \"#4D5663\"}, \"text\": \"\"}, \"zerolinecolor\": \"#E1E5ED\"}, \"yaxis13\": {\"anchor\": \"x13\", \"domain\": [0.0, 0.1975], \"gridcolor\": \"#E1E5ED\", \"showgrid\": false, \"tickfont\": {\"color\": \"#4D5663\"}, \"title\": {\"font\": {\"color\": \"#4D5663\"}, \"text\": \"\"}, \"zerolinecolor\": \"#E1E5ED\"}, \"yaxis14\": {\"anchor\": \"x14\", \"domain\": [0.0, 0.1975], \"gridcolor\": \"#E1E5ED\", \"showgrid\": false, \"tickfont\": {\"color\": \"#4D5663\"}, \"title\": {\"font\": {\"color\": \"#4D5663\"}, \"text\": \"\"}, \"zerolinecolor\": \"#E1E5ED\"}, \"yaxis15\": {\"anchor\": \"x15\", \"domain\": [0.0, 0.1975], \"gridcolor\": \"#E1E5ED\", \"showgrid\": false, \"tickfont\": {\"color\": \"#4D5663\"}, \"title\": {\"font\": {\"color\": \"#4D5663\"}, \"text\": \"\"}, \"zerolinecolor\": \"#E1E5ED\"}, \"yaxis16\": {\"anchor\": \"x16\", \"domain\": [0.0, 0.1975], \"gridcolor\": \"#E1E5ED\", \"showgrid\": false, \"tickfont\": {\"color\": \"#4D5663\"}, \"title\": {\"font\": {\"color\": \"#4D5663\"}, \"text\": \"\"}, \"zerolinecolor\": \"#E1E5ED\"}, \"yaxis2\": {\"anchor\": \"x2\", \"domain\": [0.8025, 1.0], \"gridcolor\": \"#E1E5ED\", \"showgrid\": false, \"tickfont\": {\"color\": \"#4D5663\"}, \"title\": {\"font\": {\"color\": \"#4D5663\"}, \"text\": \"\"}, \"zerolinecolor\": \"#E1E5ED\"}, \"yaxis3\": {\"anchor\": \"x3\", \"domain\": [0.8025, 1.0], \"gridcolor\": \"#E1E5ED\", \"showgrid\": false, \"tickfont\": {\"color\": \"#4D5663\"}, \"title\": {\"font\": {\"color\": \"#4D5663\"}, \"text\": \"\"}, \"zerolinecolor\": \"#E1E5ED\"}, \"yaxis4\": {\"anchor\": \"x4\", \"domain\": [0.8025, 1.0], \"gridcolor\": \"#E1E5ED\", \"showgrid\": false, \"tickfont\": {\"color\": \"#4D5663\"}, \"title\": {\"font\": {\"color\": \"#4D5663\"}, \"text\": \"\"}, \"zerolinecolor\": \"#E1E5ED\"}, \"yaxis5\": {\"anchor\": \"x5\", \"domain\": [0.535, 0.7325], \"gridcolor\": \"#E1E5ED\", \"showgrid\": false, \"tickfont\": {\"color\": \"#4D5663\"}, \"title\": {\"font\": {\"color\": \"#4D5663\"}, \"text\": \"\"}, \"zerolinecolor\": \"#E1E5ED\"}, \"yaxis6\": {\"anchor\": \"x6\", \"domain\": [0.535, 0.7325], \"gridcolor\": \"#E1E5ED\", \"showgrid\": false, \"tickfont\": {\"color\": \"#4D5663\"}, \"title\": {\"font\": {\"color\": \"#4D5663\"}, \"text\": \"\"}, \"zerolinecolor\": \"#E1E5ED\"}, \"yaxis7\": {\"anchor\": \"x7\", \"domain\": [0.535, 0.7325], \"gridcolor\": \"#E1E5ED\", \"showgrid\": false, \"tickfont\": {\"color\": \"#4D5663\"}, \"title\": {\"font\": {\"color\": \"#4D5663\"}, \"text\": \"\"}, \"zerolinecolor\": \"#E1E5ED\"}, \"yaxis8\": {\"anchor\": \"x8\", \"domain\": [0.535, 0.7325], \"gridcolor\": \"#E1E5ED\", \"showgrid\": false, \"tickfont\": {\"color\": \"#4D5663\"}, \"title\": {\"font\": {\"color\": \"#4D5663\"}, \"text\": \"\"}, \"zerolinecolor\": \"#E1E5ED\"}, \"yaxis9\": {\"anchor\": \"x9\", \"domain\": [0.2675, 0.465], \"gridcolor\": \"#E1E5ED\", \"showgrid\": false, \"tickfont\": {\"color\": \"#4D5663\"}, \"title\": {\"font\": {\"color\": \"#4D5663\"}, \"text\": \"\"}, \"zerolinecolor\": \"#E1E5ED\"}},\n",
       "                        {\"showLink\": true, \"linkText\": \"Export to plotly.com\", \"plotlyServerURL\": \"https://plotly.com\", \"responsive\": true}\n",
       "                    ).then(function(){\n",
       "                            \n",
       "var gd = document.getElementById('8354c0e4-b1d7-48cc-b1d8-fb5fe5eb8d94');\n",
       "var x = new MutationObserver(function (mutations, observer) {{\n",
       "        var display = window.getComputedStyle(gd).display;\n",
       "        if (!display || display === 'none') {{\n",
       "            console.log([gd, 'removed!']);\n",
       "            Plotly.purge(gd);\n",
       "            observer.disconnect();\n",
       "        }}\n",
       "}});\n",
       "\n",
       "// Listen for the removal of the full notebook cells\n",
       "var notebookContainer = gd.closest('#notebook-container');\n",
       "if (notebookContainer) {{\n",
       "    x.observe(notebookContainer, {childList: true});\n",
       "}}\n",
       "\n",
       "// Listen for the clearing of the current output cell\n",
       "var outputEl = gd.closest('.output');\n",
       "if (outputEl) {{\n",
       "    x.observe(outputEl, {childList: true});\n",
       "}}\n",
       "\n",
       "                        })\n",
       "                };\n",
       "                });\n",
       "            </script>\n",
       "        </div>"
      ]
     },
     "metadata": {},
     "output_type": "display_data"
    }
   ],
   "source": [
    "df.scatter_matrix()"
   ]
  },
  {
   "cell_type": "code",
   "execution_count": null,
   "metadata": {},
   "outputs": [],
   "source": [
    "user: rborges11\n",
    "key: LCc9fJX3YQttlCTmYVHR"
   ]
  }
 ],
 "metadata": {
  "kernelspec": {
   "display_name": "Python 3",
   "language": "python",
   "name": "python3"
  },
  "language_info": {
   "codemirror_mode": {
    "name": "ipython",
    "version": 3
   },
   "file_extension": ".py",
   "mimetype": "text/x-python",
   "name": "python",
   "nbconvert_exporter": "python",
   "pygments_lexer": "ipython3",
   "version": "3.7.6"
  }
 },
 "nbformat": 4,
 "nbformat_minor": 2
}
